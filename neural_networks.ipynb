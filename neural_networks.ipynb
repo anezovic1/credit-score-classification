{
  "nbformat": 4,
  "nbformat_minor": 0,
  "metadata": {
    "colab": {
      "provenance": [],
      "toc_visible": true,
      "include_colab_link": true
    },
    "kernelspec": {
      "name": "python3",
      "display_name": "Python 3"
    },
    "language_info": {
      "name": "python"
    },
    "accelerator": "TPU"
  },
  "cells": [
    {
      "cell_type": "markdown",
      "metadata": {
        "id": "view-in-github",
        "colab_type": "text"
      },
      "source": [
        "<a href=\"https://colab.research.google.com/github/anezovic1/credit-score-classification/blob/main/neural_networks.ipynb\" target=\"_parent\"><img src=\"https://colab.research.google.com/assets/colab-badge.svg\" alt=\"Open In Colab\"/></a>"
      ]
    },
    {
      "cell_type": "markdown",
      "source": [
        "# Mašinsko učenje 2023/24\n",
        "\n",
        "## Projektni zadatak - Individualni zadatak"
      ],
      "metadata": {
        "id": "gMZNDRmZ54Pn"
      }
    },
    {
      "cell_type": "markdown",
      "source": [
        "# Zadatak 2"
      ],
      "metadata": {
        "id": "RFUTsXHL58lC"
      }
    },
    {
      "cell_type": "code",
      "execution_count": null,
      "metadata": {
        "id": "ZnL7cqdq4xxp"
      },
      "outputs": [],
      "source": [
        "import numpy as np\n",
        "import matplotlib.pyplot as plt\n",
        "import math\n",
        "import pandas as pd\n",
        "\n",
        "from sklearn.model_selection import train_test_split\n",
        "import tensorflow as tf\n",
        "from keras import layers\n",
        "from keras import models\n",
        "from keras.utils import to_categorical\n",
        "import keras\n",
        "\n",
        "from sklearn.metrics import confusion_matrix\n",
        "import seaborn as sns\n",
        "from sklearn.metrics import cohen_kappa_score\n",
        "\n",
        "from sklearn.model_selection import StratifiedKFold\n",
        "from sklearn.preprocessing import StandardScaler, LabelEncoder\n",
        "from sklearn.metrics import accuracy_score\n",
        "\n",
        "from sklearn.datasets import make_classification\n",
        "from imblearn.over_sampling import RandomOverSampler\n",
        "from imblearn.under_sampling import RandomUnderSampler\n",
        "from imblearn.metrics import classification_report_imbalanced\n",
        "from imblearn.over_sampling import SMOTE\n",
        "\n",
        "from sklearn.model_selection import RandomizedSearchCV"
      ]
    },
    {
      "cell_type": "code",
      "source": [
        "from google.colab import drive\n",
        "drive.mount('/content/drive')"
      ],
      "metadata": {
        "id": "XLJbQTMn44q1",
        "colab": {
          "base_uri": "https://localhost:8080/"
        },
        "outputId": "531f2471-d3c2-4074-d29c-a5370dcbc187"
      },
      "execution_count": null,
      "outputs": [
        {
          "output_type": "stream",
          "name": "stdout",
          "text": [
            "Mounted at /content/drive\n"
          ]
        }
      ]
    },
    {
      "cell_type": "code",
      "source": [
        "data = pd.read_csv('/content/drive/MyDrive/MU Projekat/NeuralNetworks/cleaned_anida.csv')"
      ],
      "metadata": {
        "id": "55BnY1mp46W8"
      },
      "execution_count": null,
      "outputs": []
    },
    {
      "cell_type": "markdown",
      "source": [
        "# Proces izrade zadatka\n",
        "\n",
        "* Priprema podataka\n",
        "* Izbor modela\n",
        "* Treniranje modela\n",
        "* Validacija modela\n",
        "* Optimizacija hiperparametara\n",
        "* Testiranje modela"
      ],
      "metadata": {
        "id": "otWB6rzH8rr6"
      }
    },
    {
      "cell_type": "markdown",
      "source": [
        "## Priprema podataka\n",
        "\n",
        "U ovoj fazi se radi dodatna analiza dobijenog skupa podataka. Kako su u prethodnom projektnom zadatku sve vrijednosti pretvorene u numeričke vrijednosti, dodatna modifikacija nije potrebna. Međutim, da bi se poboljšala numerička stabilnost prilikom učenja neuronskih mreža, urađena je normalizacija nekih kolona.\n",
        "\n"
      ],
      "metadata": {
        "id": "ALrF7WfA9FSN"
      }
    },
    {
      "cell_type": "code",
      "source": [
        "from sklearn.preprocessing import MinMaxScaler\n",
        "\n",
        "mm = MinMaxScaler()\n",
        "data['Amount_invested_monthly'] = mm.fit_transform(data['Amount_invested_monthly'].values.reshape(-1,1))\n",
        "data['Annual_Income'] = mm.fit_transform(data['Annual_Income'].values.reshape(-1,1))\n",
        "data['Monthly_Inhand_Salary'] = mm.fit_transform(data['Monthly_Inhand_Salary'].values.reshape(-1,1))\n",
        "data['Outstanding_Debt'] = mm.fit_transform(data['Outstanding_Debt'].values.reshape(-1,1))\n",
        "data['Credit_Utilization_Ratio'] = mm.fit_transform(data['Credit_Utilization_Ratio'].values.reshape(-1,1))\n",
        "data['Amount_invested_monthly'] = mm.fit_transform(data['Amount_invested_monthly'].values.reshape(-1,1))\n",
        "data['Monthly_Balance'] = mm.fit_transform(data['Monthly_Balance'].values.reshape(-1,1))\n",
        "data['Amount_invested_monthly'] = mm.fit_transform(data['Amount_invested_monthly'].values.reshape(-1,1))"
      ],
      "metadata": {
        "id": "qa7mZhW8Ios2"
      },
      "execution_count": null,
      "outputs": []
    },
    {
      "cell_type": "code",
      "source": [
        "data.to_csv('/content/drive/MyDrive/MU Projekat/NeuralNetworks/cleaned_novi_anida.csv', index=False)"
      ],
      "metadata": {
        "id": "B0Y4fYWhKyl-"
      },
      "execution_count": null,
      "outputs": []
    },
    {
      "cell_type": "code",
      "source": [
        "data = pd.read_csv('/content/drive/MyDrive/MU Projekat/NeuralNetworks/cleaned_novi_anida.csv')"
      ],
      "metadata": {
        "id": "v14cMSzgJNwE"
      },
      "execution_count": null,
      "outputs": []
    },
    {
      "cell_type": "code",
      "source": [
        "data['Amount_invested_monthly']"
      ],
      "metadata": {
        "id": "nZUJpvYFJEBS",
        "colab": {
          "base_uri": "https://localhost:8080/"
        },
        "outputId": "5352bf79-9fb0-4695-c9c1-6d6e76a2d37e"
      },
      "execution_count": null,
      "outputs": [
        {
          "output_type": "execute_result",
          "data": {
            "text/plain": [
              "0         0.014889\n",
              "1         0.014889\n",
              "2         0.014889\n",
              "3         0.014889\n",
              "4         0.021899\n",
              "            ...   \n",
              "364781    0.004449\n",
              "364782    0.046596\n",
              "364783    0.046596\n",
              "364784    0.030950\n",
              "364785    0.030950\n",
              "Name: Amount_invested_monthly, Length: 364786, dtype: float64"
            ]
          },
          "metadata": {},
          "execution_count": 7
        }
      ]
    },
    {
      "cell_type": "code",
      "source": [
        "data.head(10)"
      ],
      "metadata": {
        "id": "CyRg2SWi9BI7",
        "colab": {
          "base_uri": "https://localhost:8080/",
          "height": 412
        },
        "outputId": "6ea4539f-4fa8-40f6-a61c-df6d728a4672"
      },
      "execution_count": null,
      "outputs": [
        {
          "output_type": "execute_result",
          "data": {
            "text/plain": [
              "   Customer_ID  Month  Occupation  Annual_Income  Monthly_Inhand_Salary  \\\n",
              "0        12320      1          13       0.000501               0.120019   \n",
              "1        12320      1          13       0.000501               0.120019   \n",
              "2        12320      1          13       0.000501               0.120019   \n",
              "3        12320      1          13       0.000501               0.120019   \n",
              "4        12320      2          13       0.000501               0.060009   \n",
              "5        12320      2          13       0.000501               0.060009   \n",
              "6        12320      2          13       0.000501               0.060009   \n",
              "7        12320      2          13       0.000501               0.060009   \n",
              "8        12320      3          13       0.000501               0.060009   \n",
              "9        12320      3          13       0.000501               0.060009   \n",
              "\n",
              "   Num_Bank_Accounts  Num_Credit_Card  Interest_Rate  Num_of_Loan  \\\n",
              "0                  3                4              3            4   \n",
              "1                  3                4              3            4   \n",
              "2                  3                4              3            4   \n",
              "3                  3                4              3            4   \n",
              "4                  3                4              3            4   \n",
              "5                  3                4              3            4   \n",
              "6                  3                4              3            4   \n",
              "7                  3                4              3            4   \n",
              "8                  3                4              3            4   \n",
              "9                  3                4              3            4   \n",
              "\n",
              "   Type_of_Loan  ...  Credit_Utilization_Ratio  Payment_of_Min_Amount  \\\n",
              "0             1  ...                  0.221329                      0   \n",
              "1             2  ...                  0.221329                      0   \n",
              "2             3  ...                  0.221329                      0   \n",
              "3             4  ...                  0.221329                      0   \n",
              "4             1  ...                  0.456615                      0   \n",
              "5             2  ...                  0.456615                      0   \n",
              "6             3  ...                  0.456615                      0   \n",
              "7             4  ...                  0.456615                      0   \n",
              "8             1  ...                  0.303400                      0   \n",
              "9             2  ...                  0.303400                      0   \n",
              "\n",
              "   Total_EMI_per_month  Amount_invested_monthly  Payment_Behaviour  \\\n",
              "0            49.574949                 0.014889                  4   \n",
              "1            49.574949                 0.014889                  4   \n",
              "2            49.574949                 0.014889                  4   \n",
              "3            49.574949                 0.014889                  4   \n",
              "4            49.574949                 0.021899                  3   \n",
              "5            49.574949                 0.021899                  3   \n",
              "6            49.574949                 0.021899                  3   \n",
              "7            49.574949                 0.021899                  3   \n",
              "8            49.574949                 0.015126                  2   \n",
              "9            49.574949                 0.015126                  2   \n",
              "\n",
              "   Monthly_Balance  Credit_Score  Age  Credit_History_Age_Years  \\\n",
              "0         0.218864             0   23                        22   \n",
              "1         0.218864             0   23                        22   \n",
              "2         0.218864             0   23                        22   \n",
              "3         0.218864             0   23                        22   \n",
              "4         0.199348             0   23                        22   \n",
              "5         0.199348             0   23                        22   \n",
              "6         0.199348             0   23                        22   \n",
              "7         0.199348             0   23                        22   \n",
              "8         0.231973             0   23                        22   \n",
              "9         0.231973             0   23                        22   \n",
              "\n",
              "   Credit_History_Age_Months  \n",
              "0                          1  \n",
              "1                          1  \n",
              "2                          1  \n",
              "3                          1  \n",
              "4                          0  \n",
              "5                          0  \n",
              "6                          0  \n",
              "7                          0  \n",
              "8                          3  \n",
              "9                          3  \n",
              "\n",
              "[10 rows x 26 columns]"
            ],
            "text/html": [
              "\n",
              "  <div id=\"df-d04a5eb6-ba01-49c4-a3ec-d6c8af2d9ae6\" class=\"colab-df-container\">\n",
              "    <div>\n",
              "<style scoped>\n",
              "    .dataframe tbody tr th:only-of-type {\n",
              "        vertical-align: middle;\n",
              "    }\n",
              "\n",
              "    .dataframe tbody tr th {\n",
              "        vertical-align: top;\n",
              "    }\n",
              "\n",
              "    .dataframe thead th {\n",
              "        text-align: right;\n",
              "    }\n",
              "</style>\n",
              "<table border=\"1\" class=\"dataframe\">\n",
              "  <thead>\n",
              "    <tr style=\"text-align: right;\">\n",
              "      <th></th>\n",
              "      <th>Customer_ID</th>\n",
              "      <th>Month</th>\n",
              "      <th>Occupation</th>\n",
              "      <th>Annual_Income</th>\n",
              "      <th>Monthly_Inhand_Salary</th>\n",
              "      <th>Num_Bank_Accounts</th>\n",
              "      <th>Num_Credit_Card</th>\n",
              "      <th>Interest_Rate</th>\n",
              "      <th>Num_of_Loan</th>\n",
              "      <th>Type_of_Loan</th>\n",
              "      <th>...</th>\n",
              "      <th>Credit_Utilization_Ratio</th>\n",
              "      <th>Payment_of_Min_Amount</th>\n",
              "      <th>Total_EMI_per_month</th>\n",
              "      <th>Amount_invested_monthly</th>\n",
              "      <th>Payment_Behaviour</th>\n",
              "      <th>Monthly_Balance</th>\n",
              "      <th>Credit_Score</th>\n",
              "      <th>Age</th>\n",
              "      <th>Credit_History_Age_Years</th>\n",
              "      <th>Credit_History_Age_Months</th>\n",
              "    </tr>\n",
              "  </thead>\n",
              "  <tbody>\n",
              "    <tr>\n",
              "      <th>0</th>\n",
              "      <td>12320</td>\n",
              "      <td>1</td>\n",
              "      <td>13</td>\n",
              "      <td>0.000501</td>\n",
              "      <td>0.120019</td>\n",
              "      <td>3</td>\n",
              "      <td>4</td>\n",
              "      <td>3</td>\n",
              "      <td>4</td>\n",
              "      <td>1</td>\n",
              "      <td>...</td>\n",
              "      <td>0.221329</td>\n",
              "      <td>0</td>\n",
              "      <td>49.574949</td>\n",
              "      <td>0.014889</td>\n",
              "      <td>4</td>\n",
              "      <td>0.218864</td>\n",
              "      <td>0</td>\n",
              "      <td>23</td>\n",
              "      <td>22</td>\n",
              "      <td>1</td>\n",
              "    </tr>\n",
              "    <tr>\n",
              "      <th>1</th>\n",
              "      <td>12320</td>\n",
              "      <td>1</td>\n",
              "      <td>13</td>\n",
              "      <td>0.000501</td>\n",
              "      <td>0.120019</td>\n",
              "      <td>3</td>\n",
              "      <td>4</td>\n",
              "      <td>3</td>\n",
              "      <td>4</td>\n",
              "      <td>2</td>\n",
              "      <td>...</td>\n",
              "      <td>0.221329</td>\n",
              "      <td>0</td>\n",
              "      <td>49.574949</td>\n",
              "      <td>0.014889</td>\n",
              "      <td>4</td>\n",
              "      <td>0.218864</td>\n",
              "      <td>0</td>\n",
              "      <td>23</td>\n",
              "      <td>22</td>\n",
              "      <td>1</td>\n",
              "    </tr>\n",
              "    <tr>\n",
              "      <th>2</th>\n",
              "      <td>12320</td>\n",
              "      <td>1</td>\n",
              "      <td>13</td>\n",
              "      <td>0.000501</td>\n",
              "      <td>0.120019</td>\n",
              "      <td>3</td>\n",
              "      <td>4</td>\n",
              "      <td>3</td>\n",
              "      <td>4</td>\n",
              "      <td>3</td>\n",
              "      <td>...</td>\n",
              "      <td>0.221329</td>\n",
              "      <td>0</td>\n",
              "      <td>49.574949</td>\n",
              "      <td>0.014889</td>\n",
              "      <td>4</td>\n",
              "      <td>0.218864</td>\n",
              "      <td>0</td>\n",
              "      <td>23</td>\n",
              "      <td>22</td>\n",
              "      <td>1</td>\n",
              "    </tr>\n",
              "    <tr>\n",
              "      <th>3</th>\n",
              "      <td>12320</td>\n",
              "      <td>1</td>\n",
              "      <td>13</td>\n",
              "      <td>0.000501</td>\n",
              "      <td>0.120019</td>\n",
              "      <td>3</td>\n",
              "      <td>4</td>\n",
              "      <td>3</td>\n",
              "      <td>4</td>\n",
              "      <td>4</td>\n",
              "      <td>...</td>\n",
              "      <td>0.221329</td>\n",
              "      <td>0</td>\n",
              "      <td>49.574949</td>\n",
              "      <td>0.014889</td>\n",
              "      <td>4</td>\n",
              "      <td>0.218864</td>\n",
              "      <td>0</td>\n",
              "      <td>23</td>\n",
              "      <td>22</td>\n",
              "      <td>1</td>\n",
              "    </tr>\n",
              "    <tr>\n",
              "      <th>4</th>\n",
              "      <td>12320</td>\n",
              "      <td>2</td>\n",
              "      <td>13</td>\n",
              "      <td>0.000501</td>\n",
              "      <td>0.060009</td>\n",
              "      <td>3</td>\n",
              "      <td>4</td>\n",
              "      <td>3</td>\n",
              "      <td>4</td>\n",
              "      <td>1</td>\n",
              "      <td>...</td>\n",
              "      <td>0.456615</td>\n",
              "      <td>0</td>\n",
              "      <td>49.574949</td>\n",
              "      <td>0.021899</td>\n",
              "      <td>3</td>\n",
              "      <td>0.199348</td>\n",
              "      <td>0</td>\n",
              "      <td>23</td>\n",
              "      <td>22</td>\n",
              "      <td>0</td>\n",
              "    </tr>\n",
              "    <tr>\n",
              "      <th>5</th>\n",
              "      <td>12320</td>\n",
              "      <td>2</td>\n",
              "      <td>13</td>\n",
              "      <td>0.000501</td>\n",
              "      <td>0.060009</td>\n",
              "      <td>3</td>\n",
              "      <td>4</td>\n",
              "      <td>3</td>\n",
              "      <td>4</td>\n",
              "      <td>2</td>\n",
              "      <td>...</td>\n",
              "      <td>0.456615</td>\n",
              "      <td>0</td>\n",
              "      <td>49.574949</td>\n",
              "      <td>0.021899</td>\n",
              "      <td>3</td>\n",
              "      <td>0.199348</td>\n",
              "      <td>0</td>\n",
              "      <td>23</td>\n",
              "      <td>22</td>\n",
              "      <td>0</td>\n",
              "    </tr>\n",
              "    <tr>\n",
              "      <th>6</th>\n",
              "      <td>12320</td>\n",
              "      <td>2</td>\n",
              "      <td>13</td>\n",
              "      <td>0.000501</td>\n",
              "      <td>0.060009</td>\n",
              "      <td>3</td>\n",
              "      <td>4</td>\n",
              "      <td>3</td>\n",
              "      <td>4</td>\n",
              "      <td>3</td>\n",
              "      <td>...</td>\n",
              "      <td>0.456615</td>\n",
              "      <td>0</td>\n",
              "      <td>49.574949</td>\n",
              "      <td>0.021899</td>\n",
              "      <td>3</td>\n",
              "      <td>0.199348</td>\n",
              "      <td>0</td>\n",
              "      <td>23</td>\n",
              "      <td>22</td>\n",
              "      <td>0</td>\n",
              "    </tr>\n",
              "    <tr>\n",
              "      <th>7</th>\n",
              "      <td>12320</td>\n",
              "      <td>2</td>\n",
              "      <td>13</td>\n",
              "      <td>0.000501</td>\n",
              "      <td>0.060009</td>\n",
              "      <td>3</td>\n",
              "      <td>4</td>\n",
              "      <td>3</td>\n",
              "      <td>4</td>\n",
              "      <td>4</td>\n",
              "      <td>...</td>\n",
              "      <td>0.456615</td>\n",
              "      <td>0</td>\n",
              "      <td>49.574949</td>\n",
              "      <td>0.021899</td>\n",
              "      <td>3</td>\n",
              "      <td>0.199348</td>\n",
              "      <td>0</td>\n",
              "      <td>23</td>\n",
              "      <td>22</td>\n",
              "      <td>0</td>\n",
              "    </tr>\n",
              "    <tr>\n",
              "      <th>8</th>\n",
              "      <td>12320</td>\n",
              "      <td>3</td>\n",
              "      <td>13</td>\n",
              "      <td>0.000501</td>\n",
              "      <td>0.060009</td>\n",
              "      <td>3</td>\n",
              "      <td>4</td>\n",
              "      <td>3</td>\n",
              "      <td>4</td>\n",
              "      <td>1</td>\n",
              "      <td>...</td>\n",
              "      <td>0.303400</td>\n",
              "      <td>0</td>\n",
              "      <td>49.574949</td>\n",
              "      <td>0.015126</td>\n",
              "      <td>2</td>\n",
              "      <td>0.231973</td>\n",
              "      <td>0</td>\n",
              "      <td>23</td>\n",
              "      <td>22</td>\n",
              "      <td>3</td>\n",
              "    </tr>\n",
              "    <tr>\n",
              "      <th>9</th>\n",
              "      <td>12320</td>\n",
              "      <td>3</td>\n",
              "      <td>13</td>\n",
              "      <td>0.000501</td>\n",
              "      <td>0.060009</td>\n",
              "      <td>3</td>\n",
              "      <td>4</td>\n",
              "      <td>3</td>\n",
              "      <td>4</td>\n",
              "      <td>2</td>\n",
              "      <td>...</td>\n",
              "      <td>0.303400</td>\n",
              "      <td>0</td>\n",
              "      <td>49.574949</td>\n",
              "      <td>0.015126</td>\n",
              "      <td>2</td>\n",
              "      <td>0.231973</td>\n",
              "      <td>0</td>\n",
              "      <td>23</td>\n",
              "      <td>22</td>\n",
              "      <td>3</td>\n",
              "    </tr>\n",
              "  </tbody>\n",
              "</table>\n",
              "<p>10 rows × 26 columns</p>\n",
              "</div>\n",
              "    <div class=\"colab-df-buttons\">\n",
              "\n",
              "  <div class=\"colab-df-container\">\n",
              "    <button class=\"colab-df-convert\" onclick=\"convertToInteractive('df-d04a5eb6-ba01-49c4-a3ec-d6c8af2d9ae6')\"\n",
              "            title=\"Convert this dataframe to an interactive table.\"\n",
              "            style=\"display:none;\">\n",
              "\n",
              "  <svg xmlns=\"http://www.w3.org/2000/svg\" height=\"24px\" viewBox=\"0 -960 960 960\">\n",
              "    <path d=\"M120-120v-720h720v720H120Zm60-500h600v-160H180v160Zm220 220h160v-160H400v160Zm0 220h160v-160H400v160ZM180-400h160v-160H180v160Zm440 0h160v-160H620v160ZM180-180h160v-160H180v160Zm440 0h160v-160H620v160Z\"/>\n",
              "  </svg>\n",
              "    </button>\n",
              "\n",
              "  <style>\n",
              "    .colab-df-container {\n",
              "      display:flex;\n",
              "      gap: 12px;\n",
              "    }\n",
              "\n",
              "    .colab-df-convert {\n",
              "      background-color: #E8F0FE;\n",
              "      border: none;\n",
              "      border-radius: 50%;\n",
              "      cursor: pointer;\n",
              "      display: none;\n",
              "      fill: #1967D2;\n",
              "      height: 32px;\n",
              "      padding: 0 0 0 0;\n",
              "      width: 32px;\n",
              "    }\n",
              "\n",
              "    .colab-df-convert:hover {\n",
              "      background-color: #E2EBFA;\n",
              "      box-shadow: 0px 1px 2px rgba(60, 64, 67, 0.3), 0px 1px 3px 1px rgba(60, 64, 67, 0.15);\n",
              "      fill: #174EA6;\n",
              "    }\n",
              "\n",
              "    .colab-df-buttons div {\n",
              "      margin-bottom: 4px;\n",
              "    }\n",
              "\n",
              "    [theme=dark] .colab-df-convert {\n",
              "      background-color: #3B4455;\n",
              "      fill: #D2E3FC;\n",
              "    }\n",
              "\n",
              "    [theme=dark] .colab-df-convert:hover {\n",
              "      background-color: #434B5C;\n",
              "      box-shadow: 0px 1px 3px 1px rgba(0, 0, 0, 0.15);\n",
              "      filter: drop-shadow(0px 1px 2px rgba(0, 0, 0, 0.3));\n",
              "      fill: #FFFFFF;\n",
              "    }\n",
              "  </style>\n",
              "\n",
              "    <script>\n",
              "      const buttonEl =\n",
              "        document.querySelector('#df-d04a5eb6-ba01-49c4-a3ec-d6c8af2d9ae6 button.colab-df-convert');\n",
              "      buttonEl.style.display =\n",
              "        google.colab.kernel.accessAllowed ? 'block' : 'none';\n",
              "\n",
              "      async function convertToInteractive(key) {\n",
              "        const element = document.querySelector('#df-d04a5eb6-ba01-49c4-a3ec-d6c8af2d9ae6');\n",
              "        const dataTable =\n",
              "          await google.colab.kernel.invokeFunction('convertToInteractive',\n",
              "                                                    [key], {});\n",
              "        if (!dataTable) return;\n",
              "\n",
              "        const docLinkHtml = 'Like what you see? Visit the ' +\n",
              "          '<a target=\"_blank\" href=https://colab.research.google.com/notebooks/data_table.ipynb>data table notebook</a>'\n",
              "          + ' to learn more about interactive tables.';\n",
              "        element.innerHTML = '';\n",
              "        dataTable['output_type'] = 'display_data';\n",
              "        await google.colab.output.renderOutput(dataTable, element);\n",
              "        const docLink = document.createElement('div');\n",
              "        docLink.innerHTML = docLinkHtml;\n",
              "        element.appendChild(docLink);\n",
              "      }\n",
              "    </script>\n",
              "  </div>\n",
              "\n",
              "\n",
              "<div id=\"df-df692201-a6c3-414f-94ad-5a426a7bb849\">\n",
              "  <button class=\"colab-df-quickchart\" onclick=\"quickchart('df-df692201-a6c3-414f-94ad-5a426a7bb849')\"\n",
              "            title=\"Suggest charts\"\n",
              "            style=\"display:none;\">\n",
              "\n",
              "<svg xmlns=\"http://www.w3.org/2000/svg\" height=\"24px\"viewBox=\"0 0 24 24\"\n",
              "     width=\"24px\">\n",
              "    <g>\n",
              "        <path d=\"M19 3H5c-1.1 0-2 .9-2 2v14c0 1.1.9 2 2 2h14c1.1 0 2-.9 2-2V5c0-1.1-.9-2-2-2zM9 17H7v-7h2v7zm4 0h-2V7h2v10zm4 0h-2v-4h2v4z\"/>\n",
              "    </g>\n",
              "</svg>\n",
              "  </button>\n",
              "\n",
              "<style>\n",
              "  .colab-df-quickchart {\n",
              "      --bg-color: #E8F0FE;\n",
              "      --fill-color: #1967D2;\n",
              "      --hover-bg-color: #E2EBFA;\n",
              "      --hover-fill-color: #174EA6;\n",
              "      --disabled-fill-color: #AAA;\n",
              "      --disabled-bg-color: #DDD;\n",
              "  }\n",
              "\n",
              "  [theme=dark] .colab-df-quickchart {\n",
              "      --bg-color: #3B4455;\n",
              "      --fill-color: #D2E3FC;\n",
              "      --hover-bg-color: #434B5C;\n",
              "      --hover-fill-color: #FFFFFF;\n",
              "      --disabled-bg-color: #3B4455;\n",
              "      --disabled-fill-color: #666;\n",
              "  }\n",
              "\n",
              "  .colab-df-quickchart {\n",
              "    background-color: var(--bg-color);\n",
              "    border: none;\n",
              "    border-radius: 50%;\n",
              "    cursor: pointer;\n",
              "    display: none;\n",
              "    fill: var(--fill-color);\n",
              "    height: 32px;\n",
              "    padding: 0;\n",
              "    width: 32px;\n",
              "  }\n",
              "\n",
              "  .colab-df-quickchart:hover {\n",
              "    background-color: var(--hover-bg-color);\n",
              "    box-shadow: 0 1px 2px rgba(60, 64, 67, 0.3), 0 1px 3px 1px rgba(60, 64, 67, 0.15);\n",
              "    fill: var(--button-hover-fill-color);\n",
              "  }\n",
              "\n",
              "  .colab-df-quickchart-complete:disabled,\n",
              "  .colab-df-quickchart-complete:disabled:hover {\n",
              "    background-color: var(--disabled-bg-color);\n",
              "    fill: var(--disabled-fill-color);\n",
              "    box-shadow: none;\n",
              "  }\n",
              "\n",
              "  .colab-df-spinner {\n",
              "    border: 2px solid var(--fill-color);\n",
              "    border-color: transparent;\n",
              "    border-bottom-color: var(--fill-color);\n",
              "    animation:\n",
              "      spin 1s steps(1) infinite;\n",
              "  }\n",
              "\n",
              "  @keyframes spin {\n",
              "    0% {\n",
              "      border-color: transparent;\n",
              "      border-bottom-color: var(--fill-color);\n",
              "      border-left-color: var(--fill-color);\n",
              "    }\n",
              "    20% {\n",
              "      border-color: transparent;\n",
              "      border-left-color: var(--fill-color);\n",
              "      border-top-color: var(--fill-color);\n",
              "    }\n",
              "    30% {\n",
              "      border-color: transparent;\n",
              "      border-left-color: var(--fill-color);\n",
              "      border-top-color: var(--fill-color);\n",
              "      border-right-color: var(--fill-color);\n",
              "    }\n",
              "    40% {\n",
              "      border-color: transparent;\n",
              "      border-right-color: var(--fill-color);\n",
              "      border-top-color: var(--fill-color);\n",
              "    }\n",
              "    60% {\n",
              "      border-color: transparent;\n",
              "      border-right-color: var(--fill-color);\n",
              "    }\n",
              "    80% {\n",
              "      border-color: transparent;\n",
              "      border-right-color: var(--fill-color);\n",
              "      border-bottom-color: var(--fill-color);\n",
              "    }\n",
              "    90% {\n",
              "      border-color: transparent;\n",
              "      border-bottom-color: var(--fill-color);\n",
              "    }\n",
              "  }\n",
              "</style>\n",
              "\n",
              "  <script>\n",
              "    async function quickchart(key) {\n",
              "      const quickchartButtonEl =\n",
              "        document.querySelector('#' + key + ' button');\n",
              "      quickchartButtonEl.disabled = true;  // To prevent multiple clicks.\n",
              "      quickchartButtonEl.classList.add('colab-df-spinner');\n",
              "      try {\n",
              "        const charts = await google.colab.kernel.invokeFunction(\n",
              "            'suggestCharts', [key], {});\n",
              "      } catch (error) {\n",
              "        console.error('Error during call to suggestCharts:', error);\n",
              "      }\n",
              "      quickchartButtonEl.classList.remove('colab-df-spinner');\n",
              "      quickchartButtonEl.classList.add('colab-df-quickchart-complete');\n",
              "    }\n",
              "    (() => {\n",
              "      let quickchartButtonEl =\n",
              "        document.querySelector('#df-df692201-a6c3-414f-94ad-5a426a7bb849 button');\n",
              "      quickchartButtonEl.style.display =\n",
              "        google.colab.kernel.accessAllowed ? 'block' : 'none';\n",
              "    })();\n",
              "  </script>\n",
              "</div>\n",
              "    </div>\n",
              "  </div>\n"
            ]
          },
          "metadata": {},
          "execution_count": 8
        }
      ]
    },
    {
      "cell_type": "code",
      "source": [
        "data.dtypes"
      ],
      "metadata": {
        "id": "iGZ7Jy-iEay4",
        "colab": {
          "base_uri": "https://localhost:8080/"
        },
        "outputId": "3d250dc4-39a3-44e8-8535-b47cb2f34d71"
      },
      "execution_count": null,
      "outputs": [
        {
          "output_type": "execute_result",
          "data": {
            "text/plain": [
              "Customer_ID                    int64\n",
              "Month                          int64\n",
              "Occupation                     int64\n",
              "Annual_Income                float64\n",
              "Monthly_Inhand_Salary        float64\n",
              "Num_Bank_Accounts              int64\n",
              "Num_Credit_Card                int64\n",
              "Interest_Rate                  int64\n",
              "Num_of_Loan                    int64\n",
              "Type_of_Loan                   int64\n",
              "Delay_from_due_date            int64\n",
              "Num_of_Delayed_Payment         int64\n",
              "Changed_Credit_Limit         float64\n",
              "Num_Credit_Inquiries         float64\n",
              "Credit_Mix                     int64\n",
              "Outstanding_Debt             float64\n",
              "Credit_Utilization_Ratio     float64\n",
              "Payment_of_Min_Amount          int64\n",
              "Total_EMI_per_month          float64\n",
              "Amount_invested_monthly      float64\n",
              "Payment_Behaviour              int64\n",
              "Monthly_Balance              float64\n",
              "Credit_Score                   int64\n",
              "Age                            int64\n",
              "Credit_History_Age_Years       int64\n",
              "Credit_History_Age_Months      int64\n",
              "dtype: object"
            ]
          },
          "metadata": {},
          "execution_count": 9
        }
      ]
    },
    {
      "cell_type": "markdown",
      "source": [
        "## Izgradnja modela\n"
      ],
      "metadata": {
        "id": "VlC-2YXO-QoA"
      }
    },
    {
      "cell_type": "markdown",
      "source": [
        "### Podjela podataka"
      ],
      "metadata": {
        "id": "bG8-BKE0Daa1"
      }
    },
    {
      "cell_type": "markdown",
      "source": [
        "Za podjelu podataka na skup za treniranje, skup za validaciju i skup za testiranje, koristi se **holdout metoda**. Za trening skup se alocira 80% podataka, a za testni skup 20%. Dodatno, u skupu za treniranje izvršena je podjela na dva skupa, 75% podataka za treniranje i 25% podataka za validaciju.\n",
        "\n"
      ],
      "metadata": {
        "id": "fkRG3CMUBqyc"
      }
    },
    {
      "cell_type": "code",
      "source": [
        "X = data.drop('Credit_Score', axis=1)\n",
        "y = data['Credit_Score']\n",
        "\n",
        "X_train, X_test, y_train, y_test = train_test_split(X, y, test_size=0.2, random_state=42)\n",
        "X_train, X_val, y_train, y_val = train_test_split(X_train, y_train, test_size=0.25, random_state=42)"
      ],
      "metadata": {
        "id": "IbBMKVzf-SU1"
      },
      "execution_count": null,
      "outputs": []
    },
    {
      "cell_type": "markdown",
      "source": [
        "Sljedeći korak jeste konvertovati podatke u određeni tip, tačnije **float32**. Ovo je potrebno uraditi, jer mnoge biblioteke za mašinsko učenje, uključujući TensorFlow koji je i korišten, podrazumijevaju rad s ovim tipom podataka.\n"
      ],
      "metadata": {
        "id": "4E_BF_6AEsLE"
      }
    },
    {
      "cell_type": "code",
      "source": [
        "X_train = X_train.astype('float32')\n",
        "X_test = X_test.astype('float32')\n",
        "\n",
        "y_train = y_train.astype('float32')\n",
        "y_test = y_test.astype('float32')\n",
        "\n",
        "X_val = X_val.astype('float32')\n",
        "y_val = y_val.astype('float32')"
      ],
      "metadata": {
        "id": "bWI2EoyMEs6x"
      },
      "execution_count": null,
      "outputs": []
    },
    {
      "cell_type": "markdown",
      "source": [
        "U nastavku će se koristiti i metoda unakrsne validacije kao dodatna evaluacija modela."
      ],
      "metadata": {
        "id": "HqkVsWYiC4ZB"
      }
    },
    {
      "cell_type": "markdown",
      "source": [
        "### Arhitektura mreže"
      ],
      "metadata": {
        "id": "uBV9LM2RDdq9"
      }
    },
    {
      "cell_type": "markdown",
      "source": [
        "Sloj koji se koristi je **Dense sloj** odnosno potpuno povezani sloj, gdje su svi ulazi spojeni sa svim izlazima prethodnog sloja. Ne uključujući ulazni sloj, mreža se sastoji od sedam gusto povezanih slojeva, gdje je posljednji sloj izlazni sloj.\n",
        "\n",
        "Funkcija aktivacije koja se koristi je **relu (Rectified Linear Unit)**. Ona je izabrana, jer se najčešće koristi u neuronskim mrežama, posebno u dubokom učenju. Za aktivacijsku funkciju izlaznog sloja, koristi se **softmax**, jer se radi o višeklasnoj klasifikaciji.\n",
        "\n"
      ],
      "metadata": {
        "id": "2M1oxDUOd7RX"
      }
    },
    {
      "cell_type": "markdown",
      "source": [
        "### Konfiguracija optimizatora i hiperparametara"
      ],
      "metadata": {
        "id": "-Tq4BZ6wgCdU"
      }
    },
    {
      "cell_type": "markdown",
      "source": [
        "Za optimizator je uzet **adam**, kod kojeg je podrazumijevana stopa učenja 0.001.\n",
        "\n",
        "Funkcija gubitka je **categorical crossentropy** jer se radi o višeklasnoj klasifikaciji.\n",
        "\n",
        "Metrika koja se koristi u gotovo svim primjenama je **tačnost**, pa je iz tog razloga upravo ona korištena u našem slučaju.\n",
        "\n",
        "Hiperparametar **batch size** je postavljen na 64 i on nam govori koliko instanci se obradi prije nego što se ažuriraju težine modela.\n",
        "\n",
        "Broj epoha je 100."
      ],
      "metadata": {
        "id": "sskX07ymgWbT"
      }
    },
    {
      "cell_type": "code",
      "source": [
        "model = models.Sequential()\n",
        "model.add(layers.Dense(256, activation='relu', input_shape=(25,)))\n",
        "model.add(layers.Dense(128, activation='relu'))\n",
        "model.add(layers.Dense(128, activation='relu'))\n",
        "model.add(layers.Dense(64, activation='relu'))\n",
        "model.add(layers.Dense(64, activation='relu'))\n",
        "model.add(layers.Dense(32, activation='relu'))\n",
        "model.add(layers.Dense(32, activation='relu'))\n",
        "model.add(layers.Dense(3, activation='softmax'))\n",
        "\n",
        "model.compile(optimizer='adam', loss='categorical_crossentropy', metrics=['accuracy'])\n",
        "\n",
        "history = model.fit(X_train, to_categorical(y_train), epochs=100, batch_size=64, validation_data=(X_val, to_categorical(y_val)))"
      ],
      "metadata": {
        "id": "7mCzyItR43eK",
        "colab": {
          "base_uri": "https://localhost:8080/"
        },
        "outputId": "0844d7d3-d714-4002-b6ee-2bf897a5aa7a"
      },
      "execution_count": null,
      "outputs": [
        {
          "output_type": "stream",
          "name": "stdout",
          "text": [
            "Epoch 1/100\n",
            "3420/3420 [==============================] - 23s 6ms/step - loss: 1.1087 - accuracy: 0.5569 - val_loss: 0.8169 - val_accuracy: 0.6034\n",
            "Epoch 2/100\n",
            "3420/3420 [==============================] - 22s 6ms/step - loss: 0.8028 - accuracy: 0.6070 - val_loss: 0.8249 - val_accuracy: 0.6265\n",
            "Epoch 3/100\n",
            "3420/3420 [==============================] - 20s 6ms/step - loss: 0.7783 - accuracy: 0.6214 - val_loss: 0.7471 - val_accuracy: 0.6388\n",
            "Epoch 4/100\n",
            "3420/3420 [==============================] - 25s 7ms/step - loss: 0.7561 - accuracy: 0.6329 - val_loss: 0.7357 - val_accuracy: 0.6505\n",
            "Epoch 5/100\n",
            "3420/3420 [==============================] - 23s 7ms/step - loss: 0.7419 - accuracy: 0.6459 - val_loss: 0.7317 - val_accuracy: 0.6525\n",
            "Epoch 6/100\n",
            "3420/3420 [==============================] - 24s 7ms/step - loss: 0.7352 - accuracy: 0.6507 - val_loss: 0.7344 - val_accuracy: 0.6505\n",
            "Epoch 7/100\n",
            "3420/3420 [==============================] - 20s 6ms/step - loss: 0.7293 - accuracy: 0.6543 - val_loss: 0.7283 - val_accuracy: 0.6588\n",
            "Epoch 8/100\n",
            "3420/3420 [==============================] - 20s 6ms/step - loss: 0.7250 - accuracy: 0.6566 - val_loss: 0.7119 - val_accuracy: 0.6624\n",
            "Epoch 9/100\n",
            "3420/3420 [==============================] - 24s 7ms/step - loss: 0.7211 - accuracy: 0.6585 - val_loss: 0.7172 - val_accuracy: 0.6642\n",
            "Epoch 10/100\n",
            "3420/3420 [==============================] - 19s 6ms/step - loss: 0.7188 - accuracy: 0.6607 - val_loss: 0.7119 - val_accuracy: 0.6710\n",
            "Epoch 11/100\n",
            "3420/3420 [==============================] - 20s 6ms/step - loss: 0.7145 - accuracy: 0.6620 - val_loss: 0.7141 - val_accuracy: 0.6595\n",
            "Epoch 12/100\n",
            "3420/3420 [==============================] - 24s 7ms/step - loss: 0.7108 - accuracy: 0.6646 - val_loss: 0.6990 - val_accuracy: 0.6698\n",
            "Epoch 13/100\n",
            "3420/3420 [==============================] - 21s 6ms/step - loss: 0.7110 - accuracy: 0.6656 - val_loss: 0.7027 - val_accuracy: 0.6718\n",
            "Epoch 14/100\n",
            "3420/3420 [==============================] - 21s 6ms/step - loss: 0.7048 - accuracy: 0.6683 - val_loss: 0.7006 - val_accuracy: 0.6720\n",
            "Epoch 15/100\n",
            "3420/3420 [==============================] - 22s 6ms/step - loss: 0.7021 - accuracy: 0.6700 - val_loss: 0.7009 - val_accuracy: 0.6745\n",
            "Epoch 16/100\n",
            "3420/3420 [==============================] - 21s 6ms/step - loss: 0.7011 - accuracy: 0.6694 - val_loss: 0.6942 - val_accuracy: 0.6791\n",
            "Epoch 17/100\n",
            "3420/3420 [==============================] - 20s 6ms/step - loss: 0.6964 - accuracy: 0.6723 - val_loss: 0.6902 - val_accuracy: 0.6773\n",
            "Epoch 18/100\n",
            "3420/3420 [==============================] - 24s 7ms/step - loss: 0.6961 - accuracy: 0.6714 - val_loss: 0.6914 - val_accuracy: 0.6772\n",
            "Epoch 19/100\n",
            "3420/3420 [==============================] - 20s 6ms/step - loss: 0.6928 - accuracy: 0.6734 - val_loss: 0.6926 - val_accuracy: 0.6714\n",
            "Epoch 20/100\n",
            "3420/3420 [==============================] - 24s 7ms/step - loss: 0.6914 - accuracy: 0.6742 - val_loss: 0.6879 - val_accuracy: 0.6781\n",
            "Epoch 21/100\n",
            "3420/3420 [==============================] - 20s 6ms/step - loss: 0.6904 - accuracy: 0.6756 - val_loss: 0.7108 - val_accuracy: 0.6632\n",
            "Epoch 22/100\n",
            "3420/3420 [==============================] - 21s 6ms/step - loss: 0.6881 - accuracy: 0.6760 - val_loss: 0.6871 - val_accuracy: 0.6744\n",
            "Epoch 23/100\n",
            "3420/3420 [==============================] - 22s 7ms/step - loss: 0.6874 - accuracy: 0.6770 - val_loss: 0.7404 - val_accuracy: 0.6419\n",
            "Epoch 24/100\n",
            "3420/3420 [==============================] - 20s 6ms/step - loss: 0.6841 - accuracy: 0.6780 - val_loss: 0.6984 - val_accuracy: 0.6773\n",
            "Epoch 25/100\n",
            "3420/3420 [==============================] - 20s 6ms/step - loss: 0.6804 - accuracy: 0.6806 - val_loss: 0.6802 - val_accuracy: 0.6797\n",
            "Epoch 26/100\n",
            "3420/3420 [==============================] - 25s 7ms/step - loss: 0.6810 - accuracy: 0.6794 - val_loss: 0.6868 - val_accuracy: 0.6714\n",
            "Epoch 27/100\n",
            "3420/3420 [==============================] - 19s 6ms/step - loss: 0.6787 - accuracy: 0.6808 - val_loss: 0.6802 - val_accuracy: 0.6847\n",
            "Epoch 28/100\n",
            "3420/3420 [==============================] - 20s 6ms/step - loss: 0.6776 - accuracy: 0.6815 - val_loss: 0.6779 - val_accuracy: 0.6804\n",
            "Epoch 29/100\n",
            "3420/3420 [==============================] - 22s 6ms/step - loss: 0.6788 - accuracy: 0.6821 - val_loss: 0.6754 - val_accuracy: 0.6892\n",
            "Epoch 30/100\n",
            "3420/3420 [==============================] - 20s 6ms/step - loss: 0.6754 - accuracy: 0.6837 - val_loss: 0.6854 - val_accuracy: 0.6764\n",
            "Epoch 31/100\n",
            "3420/3420 [==============================] - 20s 6ms/step - loss: 0.6758 - accuracy: 0.6842 - val_loss: 0.6846 - val_accuracy: 0.6845\n",
            "Epoch 32/100\n",
            "3420/3420 [==============================] - 22s 6ms/step - loss: 0.6731 - accuracy: 0.6848 - val_loss: 0.6757 - val_accuracy: 0.6809\n",
            "Epoch 33/100\n",
            "3420/3420 [==============================] - 21s 6ms/step - loss: 0.6719 - accuracy: 0.6856 - val_loss: 0.6948 - val_accuracy: 0.6668\n",
            "Epoch 34/100\n",
            "3420/3420 [==============================] - 23s 7ms/step - loss: 0.6734 - accuracy: 0.6855 - val_loss: 0.6687 - val_accuracy: 0.6880\n",
            "Epoch 35/100\n",
            "3420/3420 [==============================] - 21s 6ms/step - loss: 0.6694 - accuracy: 0.6871 - val_loss: 0.6807 - val_accuracy: 0.6778\n",
            "Epoch 36/100\n",
            "3420/3420 [==============================] - 22s 6ms/step - loss: 0.6703 - accuracy: 0.6855 - val_loss: 0.6675 - val_accuracy: 0.6916\n",
            "Epoch 37/100\n",
            "3420/3420 [==============================] - 20s 6ms/step - loss: 0.6671 - accuracy: 0.6878 - val_loss: 0.6644 - val_accuracy: 0.6914\n",
            "Epoch 38/100\n",
            "3420/3420 [==============================] - 20s 6ms/step - loss: 0.6664 - accuracy: 0.6882 - val_loss: 0.6724 - val_accuracy: 0.6904\n",
            "Epoch 39/100\n",
            "3420/3420 [==============================] - 25s 7ms/step - loss: 0.6678 - accuracy: 0.6871 - val_loss: 0.6709 - val_accuracy: 0.6843\n",
            "Epoch 40/100\n",
            "3420/3420 [==============================] - 20s 6ms/step - loss: 0.6648 - accuracy: 0.6889 - val_loss: 0.6705 - val_accuracy: 0.6846\n",
            "Epoch 41/100\n",
            "3420/3420 [==============================] - 23s 7ms/step - loss: 0.6637 - accuracy: 0.6906 - val_loss: 0.6623 - val_accuracy: 0.6930\n",
            "Epoch 42/100\n",
            "3420/3420 [==============================] - 21s 6ms/step - loss: 0.6649 - accuracy: 0.6897 - val_loss: 0.6814 - val_accuracy: 0.6786\n",
            "Epoch 43/100\n",
            "3420/3420 [==============================] - 20s 6ms/step - loss: 0.6663 - accuracy: 0.6880 - val_loss: 0.6556 - val_accuracy: 0.7000\n",
            "Epoch 44/100\n",
            "3420/3420 [==============================] - 23s 7ms/step - loss: 0.6622 - accuracy: 0.6893 - val_loss: 0.6766 - val_accuracy: 0.6836\n",
            "Epoch 45/100\n",
            "3420/3420 [==============================] - 21s 6ms/step - loss: 0.6616 - accuracy: 0.6906 - val_loss: 0.6704 - val_accuracy: 0.6890\n",
            "Epoch 46/100\n",
            "3420/3420 [==============================] - 21s 6ms/step - loss: 0.6640 - accuracy: 0.6906 - val_loss: 0.6668 - val_accuracy: 0.6914\n",
            "Epoch 47/100\n",
            "3420/3420 [==============================] - 22s 7ms/step - loss: 0.6575 - accuracy: 0.6928 - val_loss: 0.6733 - val_accuracy: 0.6841\n",
            "Epoch 48/100\n",
            "3420/3420 [==============================] - 21s 6ms/step - loss: 0.6585 - accuracy: 0.6925 - val_loss: 0.6581 - val_accuracy: 0.6931\n",
            "Epoch 49/100\n",
            "3420/3420 [==============================] - 23s 7ms/step - loss: 0.6595 - accuracy: 0.6908 - val_loss: 0.6743 - val_accuracy: 0.6794\n",
            "Epoch 50/100\n",
            "3420/3420 [==============================] - 20s 6ms/step - loss: 0.6570 - accuracy: 0.6923 - val_loss: 0.6887 - val_accuracy: 0.6812\n",
            "Epoch 51/100\n",
            "3420/3420 [==============================] - 22s 6ms/step - loss: 0.6555 - accuracy: 0.6933 - val_loss: 0.6802 - val_accuracy: 0.6884\n",
            "Epoch 52/100\n",
            "3420/3420 [==============================] - 25s 7ms/step - loss: 0.6556 - accuracy: 0.6936 - val_loss: 0.6667 - val_accuracy: 0.6953\n",
            "Epoch 53/100\n",
            "3420/3420 [==============================] - 20s 6ms/step - loss: 0.6535 - accuracy: 0.6944 - val_loss: 0.6547 - val_accuracy: 0.6981\n",
            "Epoch 54/100\n",
            "3420/3420 [==============================] - 24s 7ms/step - loss: 0.6526 - accuracy: 0.6947 - val_loss: 0.6651 - val_accuracy: 0.6930\n",
            "Epoch 55/100\n",
            "3420/3420 [==============================] - 21s 6ms/step - loss: 0.6506 - accuracy: 0.6959 - val_loss: 0.6794 - val_accuracy: 0.6939\n",
            "Epoch 56/100\n",
            "3420/3420 [==============================] - 21s 6ms/step - loss: 0.6547 - accuracy: 0.6938 - val_loss: 0.6530 - val_accuracy: 0.6982\n",
            "Epoch 57/100\n",
            "3420/3420 [==============================] - 22s 6ms/step - loss: 0.6518 - accuracy: 0.6954 - val_loss: 0.6492 - val_accuracy: 0.7010\n",
            "Epoch 58/100\n",
            "3420/3420 [==============================] - 21s 6ms/step - loss: 0.6553 - accuracy: 0.6958 - val_loss: 0.6488 - val_accuracy: 0.7001\n",
            "Epoch 59/100\n",
            "3420/3420 [==============================] - 21s 6ms/step - loss: 0.6500 - accuracy: 0.6967 - val_loss: 0.6606 - val_accuracy: 0.6894\n",
            "Epoch 60/100\n",
            "3420/3420 [==============================] - 22s 6ms/step - loss: 0.6536 - accuracy: 0.6960 - val_loss: 0.6547 - val_accuracy: 0.6988\n",
            "Epoch 61/100\n",
            "3420/3420 [==============================] - 21s 6ms/step - loss: 0.6491 - accuracy: 0.6973 - val_loss: 0.6525 - val_accuracy: 0.6962\n",
            "Epoch 62/100\n",
            "3420/3420 [==============================] - 26s 8ms/step - loss: 0.6481 - accuracy: 0.6975 - val_loss: 0.6657 - val_accuracy: 0.6886\n",
            "Epoch 63/100\n",
            "3420/3420 [==============================] - 21s 6ms/step - loss: 0.6512 - accuracy: 0.6987 - val_loss: 0.6581 - val_accuracy: 0.6971\n",
            "Epoch 64/100\n",
            "3420/3420 [==============================] - 21s 6ms/step - loss: 0.6465 - accuracy: 0.6985 - val_loss: 0.6508 - val_accuracy: 0.6995\n",
            "Epoch 65/100\n",
            "3420/3420 [==============================] - 22s 6ms/step - loss: 0.6462 - accuracy: 0.6984 - val_loss: 0.6688 - val_accuracy: 0.6924\n",
            "Epoch 66/100\n",
            "3420/3420 [==============================] - 21s 6ms/step - loss: 0.6468 - accuracy: 0.6986 - val_loss: 0.6462 - val_accuracy: 0.7006\n",
            "Epoch 67/100\n",
            "3420/3420 [==============================] - 21s 6ms/step - loss: 0.6450 - accuracy: 0.6996 - val_loss: 0.6727 - val_accuracy: 0.6907\n",
            "Epoch 68/100\n",
            "3420/3420 [==============================] - 22s 6ms/step - loss: 0.6463 - accuracy: 0.6986 - val_loss: 0.6499 - val_accuracy: 0.6996\n",
            "Epoch 69/100\n",
            "3420/3420 [==============================] - 21s 6ms/step - loss: 0.6440 - accuracy: 0.7008 - val_loss: 0.6797 - val_accuracy: 0.6769\n",
            "Epoch 70/100\n",
            "3420/3420 [==============================] - 20s 6ms/step - loss: 0.6481 - accuracy: 0.6972 - val_loss: 0.6467 - val_accuracy: 0.7032\n",
            "Epoch 71/100\n",
            "3420/3420 [==============================] - 22s 6ms/step - loss: 0.6441 - accuracy: 0.7003 - val_loss: 0.6477 - val_accuracy: 0.7034\n",
            "Epoch 72/100\n",
            "3420/3420 [==============================] - 20s 6ms/step - loss: 0.6438 - accuracy: 0.7003 - val_loss: 0.6436 - val_accuracy: 0.7012\n",
            "Epoch 73/100\n",
            "3420/3420 [==============================] - 21s 6ms/step - loss: 0.6422 - accuracy: 0.7010 - val_loss: 0.6470 - val_accuracy: 0.6992\n",
            "Epoch 74/100\n",
            "3420/3420 [==============================] - 22s 6ms/step - loss: 0.6450 - accuracy: 0.6993 - val_loss: 0.6599 - val_accuracy: 0.6947\n",
            "Epoch 75/100\n",
            "3420/3420 [==============================] - 21s 6ms/step - loss: 0.6431 - accuracy: 0.7008 - val_loss: 0.6489 - val_accuracy: 0.6992\n",
            "Epoch 76/100\n",
            "3420/3420 [==============================] - 20s 6ms/step - loss: 0.6634 - accuracy: 0.6929 - val_loss: 0.6811 - val_accuracy: 0.6726\n",
            "Epoch 77/100\n",
            "3420/3420 [==============================] - 24s 7ms/step - loss: 0.6421 - accuracy: 0.7009 - val_loss: 0.6357 - val_accuracy: 0.7043\n",
            "Epoch 78/100\n",
            "3420/3420 [==============================] - 21s 6ms/step - loss: 0.6380 - accuracy: 0.7025 - val_loss: 0.6549 - val_accuracy: 0.6976\n",
            "Epoch 79/100\n",
            "3420/3420 [==============================] - 21s 6ms/step - loss: 0.6380 - accuracy: 0.7022 - val_loss: 0.6521 - val_accuracy: 0.6967\n",
            "Epoch 80/100\n",
            "3420/3420 [==============================] - 22s 6ms/step - loss: 0.6381 - accuracy: 0.7028 - val_loss: 0.6453 - val_accuracy: 0.7015\n",
            "Epoch 81/100\n",
            "3420/3420 [==============================] - 21s 6ms/step - loss: 0.6386 - accuracy: 0.7040 - val_loss: 0.6516 - val_accuracy: 0.7021\n",
            "Epoch 82/100\n",
            "3420/3420 [==============================] - 21s 6ms/step - loss: 0.6376 - accuracy: 0.7029 - val_loss: 0.6429 - val_accuracy: 0.7006\n",
            "Epoch 83/100\n",
            "3420/3420 [==============================] - 22s 6ms/step - loss: 0.6385 - accuracy: 0.7031 - val_loss: 0.6571 - val_accuracy: 0.6991\n",
            "Epoch 84/100\n",
            "3420/3420 [==============================] - 20s 6ms/step - loss: 0.6346 - accuracy: 0.7042 - val_loss: 0.6389 - val_accuracy: 0.7062\n",
            "Epoch 85/100\n",
            "3420/3420 [==============================] - 21s 6ms/step - loss: 0.6348 - accuracy: 0.7044 - val_loss: 0.6385 - val_accuracy: 0.7101\n",
            "Epoch 86/100\n",
            "3420/3420 [==============================] - 23s 7ms/step - loss: 0.6341 - accuracy: 0.7046 - val_loss: 0.6548 - val_accuracy: 0.6972\n",
            "Epoch 87/100\n",
            "3420/3420 [==============================] - 21s 6ms/step - loss: 0.6352 - accuracy: 0.7041 - val_loss: 0.6413 - val_accuracy: 0.7046\n",
            "Epoch 88/100\n",
            "3420/3420 [==============================] - 24s 7ms/step - loss: 0.6416 - accuracy: 0.7046 - val_loss: 0.6504 - val_accuracy: 0.6951\n",
            "Epoch 89/100\n",
            "3420/3420 [==============================] - 22s 6ms/step - loss: 0.6321 - accuracy: 0.7055 - val_loss: 0.6528 - val_accuracy: 0.7035\n",
            "Epoch 90/100\n",
            "3420/3420 [==============================] - 24s 7ms/step - loss: 0.6345 - accuracy: 0.7044 - val_loss: 0.6459 - val_accuracy: 0.7033\n",
            "Epoch 91/100\n",
            "3420/3420 [==============================] - 21s 6ms/step - loss: 0.6304 - accuracy: 0.7069 - val_loss: 0.6386 - val_accuracy: 0.7057\n",
            "Epoch 92/100\n",
            "3420/3420 [==============================] - 21s 6ms/step - loss: 0.6317 - accuracy: 0.7059 - val_loss: 0.6395 - val_accuracy: 0.7043\n",
            "Epoch 93/100\n",
            "3420/3420 [==============================] - 23s 7ms/step - loss: 0.6322 - accuracy: 0.7074 - val_loss: 0.6576 - val_accuracy: 0.6913\n",
            "Epoch 94/100\n",
            "3420/3420 [==============================] - 21s 6ms/step - loss: 0.6332 - accuracy: 0.7063 - val_loss: 0.6368 - val_accuracy: 0.7048\n",
            "Epoch 95/100\n",
            "3420/3420 [==============================] - 24s 7ms/step - loss: 0.6338 - accuracy: 0.7053 - val_loss: 0.6472 - val_accuracy: 0.6990\n",
            "Epoch 96/100\n",
            "3420/3420 [==============================] - 21s 6ms/step - loss: 0.6293 - accuracy: 0.7076 - val_loss: 0.6410 - val_accuracy: 0.7039\n",
            "Epoch 97/100\n",
            "3420/3420 [==============================] - 21s 6ms/step - loss: 0.6344 - accuracy: 0.7059 - val_loss: 0.6590 - val_accuracy: 0.6857\n",
            "Epoch 98/100\n",
            "3420/3420 [==============================] - 26s 8ms/step - loss: 0.6317 - accuracy: 0.7056 - val_loss: 0.6426 - val_accuracy: 0.7025\n",
            "Epoch 99/100\n",
            "3420/3420 [==============================] - 21s 6ms/step - loss: 0.6312 - accuracy: 0.7066 - val_loss: 0.6560 - val_accuracy: 0.6927\n",
            "Epoch 100/100\n",
            "3420/3420 [==============================] - 23s 7ms/step - loss: 0.6278 - accuracy: 0.7079 - val_loss: 0.6412 - val_accuracy: 0.7091\n"
          ]
        }
      ]
    },
    {
      "cell_type": "markdown",
      "source": [
        "Nakon treniranja modela, moguće je vidjeti tačnost na skupu za treniranje u posljednjoj epohi i tačnost modela na skupu za validaciju.\n"
      ],
      "metadata": {
        "id": "bWWXVQWX0AFB"
      }
    },
    {
      "cell_type": "markdown",
      "source": [
        "## Evaluacija modela"
      ],
      "metadata": {
        "id": "SFqrYabUb5e-"
      }
    },
    {
      "cell_type": "markdown",
      "source": [
        "### Evaluacija na osnovu treniranja modela"
      ],
      "metadata": {
        "id": "FFgGCFvjbOWJ"
      }
    },
    {
      "cell_type": "markdown",
      "source": [
        "Pošto **history** sadrži osnovne informacije o performansama modela tokom treniranja, uz pomoć sljedećeg grafika je moguće vidjeti da li postoji overfitting. Pošto na grafiku nema značajnih razlika u funkciji gubitka, zaključujemo da nema overfittinga.\n",
        "\n",
        "Također, moguće je kreirati i grafik za praćenje tačnosti modela kroz epohe na trening podacima i podacima za validaciju.\n"
      ],
      "metadata": {
        "id": "zU1pkhKm1FsU"
      }
    },
    {
      "cell_type": "code",
      "source": [
        "train_loss = history.history['loss']\n",
        "val_loss = history.history['val_loss']\n",
        "\n",
        "plt.plot(train_loss, label='Training Loss')\n",
        "plt.plot(val_loss, label='Validation Loss')\n",
        "plt.title('Training and Validation Loss')\n",
        "plt.xlabel('Epoch')\n",
        "plt.ylabel('Loss')\n",
        "plt.legend()\n",
        "plt.show()"
      ],
      "metadata": {
        "id": "WQ9yfiyRbQnB",
        "colab": {
          "base_uri": "https://localhost:8080/",
          "height": 472
        },
        "outputId": "74a63d3b-8c1e-4f4a-cde2-74bf531e875b"
      },
      "execution_count": null,
      "outputs": [
        {
          "output_type": "display_data",
          "data": {
            "text/plain": [
              "<Figure size 640x480 with 1 Axes>"
            ],
            "image/png": "[encoded data removed]"
          },
          "metadata": {}
        }
      ]
    },
    {
      "cell_type": "code",
      "source": [
        "train_accuracy = history.history['accuracy']\n",
        "val_accuracy = history.history['val_accuracy']\n",
        "\n",
        "plt.plot(train_accuracy, label='Training Accuracy')\n",
        "plt.plot(val_accuracy, label='Validation Accuracy')\n",
        "plt.title('Training and Validation Accuracy')\n",
        "plt.xlabel('Epoch')\n",
        "plt.ylabel('Accuracy')\n",
        "plt.legend()\n",
        "plt.show()"
      ],
      "metadata": {
        "id": "PK1YRRok1r_G",
        "colab": {
          "base_uri": "https://localhost:8080/",
          "height": 472
        },
        "outputId": "c0cd21e1-24bf-442d-933e-d630f903bb62"
      },
      "execution_count": null,
      "outputs": [
        {
          "output_type": "display_data",
          "data": {
            "text/plain": [
              "<Figure size 640x480 with 1 Axes>"
            ],
            "image/png": "[encoded data removed]"
          },
          "metadata": {}
        }
      ]
    },
    {
      "cell_type": "markdown",
      "source": [
        "### Testiranje modela"
      ],
      "metadata": {
        "id": "wDADywMQbe2X"
      }
    },
    {
      "cell_type": "markdown",
      "source": [
        "Potrebno je istrenirani model iskoristiti na testnim podacima."
      ],
      "metadata": {
        "id": "J-oejbkY38td"
      }
    },
    {
      "cell_type": "code",
      "source": [
        "results = model.evaluate(X_test, to_categorical(y_test))\n",
        "loss = results[0]\n",
        "accuracy = results[1]\n",
        "print(f\"Test Loss: {loss}\")\n",
        "print(f\"Test Accuracy: {accuracy}\")"
      ],
      "metadata": {
        "id": "CnkreefIbg8R",
        "colab": {
          "base_uri": "https://localhost:8080/"
        },
        "outputId": "f9ee20dd-dd31-49d3-a3d8-73d9c60f9bb3"
      },
      "execution_count": null,
      "outputs": [
        {
          "output_type": "stream",
          "name": "stdout",
          "text": [
            "2280/2280 [==============================] - 4s 2ms/step - loss: 0.6317 - accuracy: 0.7104\n",
            "Test Loss: 0.6317060589790344\n",
            "Test Accuracy: 0.7103813290596008\n"
          ]
        }
      ]
    },
    {
      "cell_type": "markdown",
      "source": [
        "### Konfuzijska matrica"
      ],
      "metadata": {
        "id": "NCNu2SgDnLDy"
      }
    },
    {
      "cell_type": "markdown",
      "source": [
        "Uz pomoć konfuzijske matrice, potrebno je da se provjere različite mjere performansi koje se izvode na osnovu predikcija klasifikatora.\n",
        "\n",
        "Good - 0 \\\\\n",
        "Standard - 1 \\\\\n",
        "Poor - 2"
      ],
      "metadata": {
        "id": "460A3HRW7gRe"
      }
    },
    {
      "cell_type": "code",
      "source": [
        "y_predikcija = model.predict(X_test)\n",
        "\n",
        "predikcija_labela = np.argmax(y_predikcija, axis=1)\n",
        "\n",
        "konf_matrica = confusion_matrix(y_test, predikcija_labela)\n",
        "\n",
        "plt.figure(figsize=(6,4))\n",
        "sns.heatmap(konf_matrica, annot=True, fmt='d', cmap='Blues', cbar=False)\n",
        "plt.xlabel('Predicted Labels')\n",
        "plt.ylabel('True Labels')\n",
        "plt.title('Confusion Matrix')\n",
        "plt.show()\n"
      ],
      "metadata": {
        "id": "qJxlI6iuRXbD",
        "colab": {
          "base_uri": "https://localhost:8080/",
          "height": 427
        },
        "outputId": "9457a748-08c6-48a1-c333-1f5b390cf992"
      },
      "execution_count": null,
      "outputs": [
        {
          "output_type": "stream",
          "name": "stdout",
          "text": [
            "2280/2280 [==============================] - 6s 3ms/step\n"
          ]
        },
        {
          "output_type": "display_data",
          "data": {
            "text/plain": [
              "<Figure size 600x400 with 1 Axes>"
            ],
            "image/png": "[encoded data removed]"
          },
          "metadata": {}
        }
      ]
    },
    {
      "cell_type": "markdown",
      "source": [
        "#### Tačnost"
      ],
      "metadata": {
        "id": "dZfG6qTch2jI"
      }
    },
    {
      "cell_type": "code",
      "source": [
        "broj_klasa = konf_matrica.shape[0]\n",
        "\n",
        "tp = np.sum(np.diag(konf_matrica))\n",
        "tn = np.sum(konf_matrica) - np.sum(np.diag(konf_matrica))\n",
        "fp = np.sum(konf_matrica, axis=0) - np.diag(konf_matrica)\n",
        "fn = np.sum(konf_matrica, axis=1) - np.diag(konf_matrica)\n",
        "\n",
        "tacnost_modela = (tp + tn) / (tp + tn + fp + fn)\n",
        "print(f\"Ukupna tačnost modela: {tacnost_modela}\")\n"
      ],
      "metadata": {
        "id": "Abye1iqvC91Y",
        "colab": {
          "base_uri": "https://localhost:8080/"
        },
        "outputId": "750b30ec-c096-4a88-fb29-447fa318250b"
      },
      "execution_count": null,
      "outputs": [
        {
          "output_type": "stream",
          "name": "stdout",
          "text": [
            "Ukupna tačnost modela: [0.90536583 0.7845368  0.83328194]\n"
          ]
        }
      ]
    },
    {
      "cell_type": "markdown",
      "source": [
        "#### Stepen greške"
      ],
      "metadata": {
        "id": "P5DgbdSeiSMb"
      }
    },
    {
      "cell_type": "code",
      "source": [
        "fp = np.sum(konf_matrica, axis=0) - np.diag(konf_matrica)\n",
        "fn = np.sum(konf_matrica, axis=1) - np.diag(konf_matrica)\n",
        "stepen_greske = (fp.sum() + fn.sum()) / konf_matrica.sum()\n",
        "\n",
        "print(f\"Stepen greške: {stepen_greske}\")"
      ],
      "metadata": {
        "id": "HcpWax5fiT-Q",
        "colab": {
          "base_uri": "https://localhost:8080/"
        },
        "outputId": "96ba7cbe-3e65-408f-eb2e-164f5416690c"
      },
      "execution_count": null,
      "outputs": [
        {
          "output_type": "stream",
          "name": "stdout",
          "text": [
            "Stepen greške: 0.5792373694454344\n"
          ]
        }
      ]
    },
    {
      "cell_type": "markdown",
      "source": [
        "#### Specifičnost"
      ],
      "metadata": {
        "id": "gLmJZjjucFFf"
      }
    },
    {
      "cell_type": "code",
      "source": [
        "tn = np.sum(np.diag(konf_matrica))\n",
        "fp = np.sum(konf_matrica, axis=0) - np.diag(konf_matrica)\n",
        "\n",
        "specifičnost = tn / (tn + fp.sum())\n",
        "print(f\"Specifičnost: {specifičnost}\")"
      ],
      "metadata": {
        "id": "UxsdCTcnDltP",
        "colab": {
          "base_uri": "https://localhost:8080/"
        },
        "outputId": "38e73c1e-e8db-4cde-e546-3646ae3e4585"
      },
      "execution_count": null,
      "outputs": [
        {
          "output_type": "stream",
          "name": "stdout",
          "text": [
            "Specifičnost: 0.7103813152772828\n"
          ]
        }
      ]
    },
    {
      "cell_type": "markdown",
      "source": [
        "#### Osjetljivost"
      ],
      "metadata": {
        "id": "b4u8jxPYh5h_"
      }
    },
    {
      "cell_type": "code",
      "source": [
        "tp = np.sum(np.diag(konf_matrica))\n",
        "fn = np.sum(konf_matrica, axis=1) - np.diag(konf_matrica)\n",
        "\n",
        "osjetljivost = tp / (tp + fn.sum())\n",
        "print(f\"Osjetljivost modela: {osjetljivost}\")\n"
      ],
      "metadata": {
        "id": "mHMeexoah8F5",
        "colab": {
          "base_uri": "https://localhost:8080/"
        },
        "outputId": "b74e4723-ff61-4ede-b6bd-161ef5bd722e"
      },
      "execution_count": null,
      "outputs": [
        {
          "output_type": "stream",
          "name": "stdout",
          "text": [
            "Osjetljivost modela: 0.7103813152772828\n"
          ]
        }
      ]
    },
    {
      "cell_type": "code",
      "source": [
        "broj_klasa = konf_matrica.shape[0]\n",
        "osjetljivosti = []\n",
        "\n",
        "for i in range(broj_klasa):\n",
        "    tp = konf_matrica[i, i]\n",
        "    fn = np.sum(konf_matrica[i, :]) - konf_matrica[i, i]\n",
        "    osjetljivost_i = tp / (tp + fn)\n",
        "    osjetljivosti.append(osjetljivost_i)\n",
        "\n",
        "print(\"Osjetljivost po klasama:\")\n",
        "for i, sens in enumerate(osjetljivosti):\n",
        "    print(f\"Klasa {i}: {sens}\")"
      ],
      "metadata": {
        "id": "XK17ff8OTWke",
        "colab": {
          "base_uri": "https://localhost:8080/"
        },
        "outputId": "4584bda8-2bea-4040-ee67-b69b773fd961"
      },
      "execution_count": null,
      "outputs": [
        {
          "output_type": "stream",
          "name": "stdout",
          "text": [
            "Osjetljivost po klasama:\n",
            "Klasa 0: 0.655698899278021\n",
            "Klasa 1: 0.7357746941456605\n",
            "Klasa 2: 0.6937294437294438\n"
          ]
        }
      ]
    },
    {
      "cell_type": "markdown",
      "source": [
        "#### Preciznost"
      ],
      "metadata": {
        "id": "KJp25To0h_6O"
      }
    },
    {
      "cell_type": "code",
      "source": [
        "tp = np.sum(np.diag(konf_matrica))\n",
        "fp = np.sum(konf_matrica, axis=0) - np.diag(konf_matrica)\n",
        "\n",
        "preciznost = tp / (tp + fp.sum())\n",
        "print(f\"Preciznost: {preciznost}\")\n"
      ],
      "metadata": {
        "id": "P_0ChNQWiCe3",
        "colab": {
          "base_uri": "https://localhost:8080/"
        },
        "outputId": "719cf69e-d452-423d-9f82-d35a33a2fc83"
      },
      "execution_count": null,
      "outputs": [
        {
          "output_type": "stream",
          "name": "stdout",
          "text": [
            "Preciznost: 0.7103813152772828\n"
          ]
        }
      ]
    },
    {
      "cell_type": "markdown",
      "source": [
        "#### Kappa statistika"
      ],
      "metadata": {
        "id": "t_b-06DAiJ6j"
      }
    },
    {
      "cell_type": "code",
      "source": [
        "kappa = cohen_kappa_score(y_test, predikcija_labela)\n",
        "print(f\"Cohen's Kappa: {kappa}\")"
      ],
      "metadata": {
        "id": "s9oOm1ptiMm3",
        "colab": {
          "base_uri": "https://localhost:8080/"
        },
        "outputId": "4014d961-b4d3-494c-8774-7c35a0699a3a"
      },
      "execution_count": null,
      "outputs": [
        {
          "output_type": "stream",
          "name": "stdout",
          "text": [
            "Cohen's Kappa: 0.512637333122193\n"
          ]
        }
      ]
    },
    {
      "cell_type": "markdown",
      "source": [
        "### Unakrsna validacija"
      ],
      "metadata": {
        "id": "uWaptMYfnjBr"
      }
    },
    {
      "cell_type": "markdown",
      "source": [
        "Ono što nije urađeno prije, a bit će u nastavku jeste dodatno predprocesiranje podataka odnosno primjena standardizacije. Ovim se želi poboljšati performanse modela. Također, umjesto **y** koji predstavlja labelu klase, koristit će se **y_categorical**.\n",
        "\n",
        "Kao primjer, ako je **y = 1** za neku instancu, to znači da ona pripada klasi **Standard** i bit će **y_categorical = [0 1 0]**."
      ],
      "metadata": {
        "id": "PqUuMDUSKHOr"
      }
    },
    {
      "cell_type": "code",
      "source": [
        "le = LabelEncoder()\n",
        "y_categorical = to_categorical(le.fit_transform(y))\n",
        "\n",
        "scaler = StandardScaler()\n",
        "X_scaled = scaler.fit_transform(X)"
      ],
      "metadata": {
        "id": "i02L_Z7iI3MM"
      },
      "execution_count": null,
      "outputs": []
    },
    {
      "cell_type": "markdown",
      "source": [
        "Izabrano je da se za unakrsnu validaciju koristi pet grupa odnosno **k = 5**.\n",
        "\n",
        "**StratifiedKFold** predstavlja objekat za k-fold unakrsnu validaciju i pri njegovj inicijalizaciji postavljeno je **shuffle=True** što znači da će podaci prije podjele biti izmiješani.\n",
        "\n",
        "Lista **fold_accuracies** sadrži tačnosti za svaku grupu odnosno fold.\n",
        "\n",
        "U for petlji se prolazi kroz sve foldove, biraju se indeksi za trening skup i skup validacije. Također, na ista dva skupa se vrši podjela ulaznih i ciljnih podataka.  \n",
        "\n",
        "Zatim se vrši treniranje modela, gdje je postavljeno **verbose=0** da se informacije o treningu ne bi prikazivale. Ovo je urađeno samo da bi ispis bio čitljiviji.\n",
        "\n",
        "Na kraju, da bi se tačnost mogla izačunati, vrši se pretvaranje predviđenih i stvarnih vjerovatnoća u klase.\n",
        "\n"
      ],
      "metadata": {
        "id": "N2SSlK8NQUBq"
      }
    },
    {
      "cell_type": "code",
      "source": [
        "model = models.Sequential()\n",
        "model.add(layers.Dense(256, activation='relu', input_shape=(25,)))\n",
        "model.add(layers.Dense(128, activation='relu'))\n",
        "model.add(layers.Dense(128, activation='relu'))\n",
        "model.add(layers.Dense(64, activation='relu'))\n",
        "model.add(layers.Dense(64, activation='relu'))\n",
        "model.add(layers.Dense(32, activation='relu'))\n",
        "model.add(layers.Dense(32, activation='relu'))\n",
        "model.add(layers.Dense(3, activation='softmax'))\n",
        "\n",
        "model.compile(optimizer='adam', loss='categorical_crossentropy', metrics=['accuracy'])"
      ],
      "metadata": {
        "id": "AoNSsA9HDsBw"
      },
      "execution_count": null,
      "outputs": []
    },
    {
      "cell_type": "code",
      "source": [
        "k_folds = 5\n",
        "skf = StratifiedKFold(n_splits=k_folds, shuffle=True, random_state=42)\n",
        "\n",
        "fold_accuracies = []\n",
        "\n",
        "for train_index, val_index in skf.split(X_scaled, y):\n",
        "    X_train, X_val = X_scaled[train_index], X_scaled[val_index]\n",
        "    y_train, y_val = y_categorical[train_index], y_categorical[val_index]\n",
        "\n",
        "    history = model.fit(X_train, y_train, epochs=30, batch_size=64, validation_data=(X_val, y_val), verbose=0)\n",
        "\n",
        "    y_val_pred = model.predict(X_val)\n",
        "    y_val_pred_classes = np.argmax(y_val_pred, axis=1)\n",
        "    y_val_true_classes = np.argmax(y_val, axis=1)\n",
        "    fold_accuracy = accuracy_score(y_val_true_classes, y_val_pred_classes)\n",
        "    fold_accuracies.append(fold_accuracy)\n",
        "\n",
        "prosjecna_tacnost = np.mean(fold_accuracies)\n",
        "print(f'K-fold unakrsna validacija (k={k_folds}):')\n",
        "print(f'Prosječna tačnost: {prosjecna_tacnost}')\n"
      ],
      "metadata": {
        "id": "3ywzhxWinm1B",
        "colab": {
          "base_uri": "https://localhost:8080/"
        },
        "outputId": "56ddb4f0-b104-4543-bdfe-3a89355f0bb1"
      },
      "execution_count": null,
      "outputs": [
        {
          "output_type": "stream",
          "name": "stdout",
          "text": [
            "2280/2280 [==============================] - 4s 2ms/step\n",
            "2280/2280 [==============================] - 5s 2ms/step\n",
            "2280/2280 [==============================] - 4s 2ms/step\n",
            "2280/2280 [==============================] - 4s 2ms/step\n",
            "2280/2280 [==============================] - 4s 2ms/step\n",
            "K-fold unakrsna validacija (k=5):\n",
            "Prosječna tačnost: 0.943161291436305\n"
          ]
        }
      ]
    },
    {
      "cell_type": "markdown",
      "source": [
        "## Utjecaj nebalansiranosti podataka"
      ],
      "metadata": {
        "id": "WN_lu_6cnQSr"
      }
    },
    {
      "cell_type": "markdown",
      "source": [
        "Za provjeru nebalansiranosti podataka potrebno je prikazati distribuciju podataka unutar skupa."
      ],
      "metadata": {
        "id": "mb70rFH0IzQY"
      }
    },
    {
      "cell_type": "code",
      "source": [
        "print(\"Originalna distribucija klasa:\")\n",
        "print(np.bincount(y))"
      ],
      "metadata": {
        "id": "A8nBDD0nfxfO",
        "colab": {
          "base_uri": "https://localhost:8080/"
        },
        "outputId": "3a1618ca-a646-48e4-cba2-b803df8713a1"
      },
      "execution_count": null,
      "outputs": [
        {
          "output_type": "stream",
          "name": "stdout",
          "text": [
            "Originalna distribucija klasa:\n",
            "[ 42717 182770 139299]\n"
          ]
        }
      ]
    },
    {
      "cell_type": "code",
      "source": [
        "plt.figure(figsize=(6,4))\n",
        "sns.countplot(x=y, palette='coolwarm')\n",
        "plt.title('Class Distribution')\n",
        "plt.xlabel('Class')\n",
        "plt.ylabel('Count')\n",
        "plt.show()"
      ],
      "metadata": {
        "id": "wizNgfRrnZl5",
        "colab": {
          "base_uri": "https://localhost:8080/",
          "height": 410
        },
        "outputId": "0ca3fdb9-7c50-432e-842b-3b9b033faf31"
      },
      "execution_count": null,
      "outputs": [
        {
          "output_type": "display_data",
          "data": {
            "text/plain": [
              "<Figure size 600x400 with 1 Axes>"
            ],
            "image/png": "[encoded data removed]"
          },
          "metadata": {}
        }
      ]
    },
    {
      "cell_type": "markdown",
      "source": [
        "Može se primijetiti da je klasa 1 (Standard) najviše zastupljena i da klasa 0 (Good) predstavlja manjinsku klasu u odnosu na klasu 1 i klasu 2. Zbog toga je dobra ideja pokušati popraviti tu nebalansiranost."
      ],
      "metadata": {
        "id": "fGSX-Iikav8n"
      }
    },
    {
      "cell_type": "markdown",
      "source": [
        "### Undersampling"
      ],
      "metadata": {
        "id": "Pn2E-OkDbRNU"
      }
    },
    {
      "cell_type": "markdown",
      "source": [
        "Prvo će se pokušati proces reduciranja broj instanci iz većinske klase."
      ],
      "metadata": {
        "id": "AeyNYCJee9j2"
      }
    },
    {
      "cell_type": "code",
      "source": [
        "undersample = RandomUnderSampler(sampling_strategy='auto', random_state=42)\n",
        "\n",
        "X_train_resampled, y_train_resampled = undersample.fit_resample(X_train, y_train)\n",
        "y_train_resampled = y_train_resampled.astype('float32')\n",
        "y_train_1D = np.argmax(y_train_resampled, axis=1)\n",
        "print(\"Nakon undersamplinga:\")\n",
        "print(np.bincount(y_train_1D))"
      ],
      "metadata": {
        "id": "mnLffefGmvke",
        "colab": {
          "base_uri": "https://localhost:8080/"
        },
        "outputId": "43775a88-f56b-4dd3-beec-ba27aec3f5c7"
      },
      "execution_count": null,
      "outputs": [
        {
          "output_type": "stream",
          "name": "stdout",
          "text": [
            "Nakon undersamplinga:\n",
            "[34174 34174 34174]\n"
          ]
        }
      ]
    },
    {
      "cell_type": "code",
      "source": [
        "model = models.Sequential()\n",
        "model.add(layers.Dense(256, activation='relu', input_shape=(25,)))\n",
        "model.add(layers.Dense(128, activation='relu'))\n",
        "model.add(layers.Dense(128, activation='relu'))\n",
        "model.add(layers.Dense(64, activation='relu'))\n",
        "model.add(layers.Dense(64, activation='relu'))\n",
        "model.add(layers.Dense(32, activation='relu'))\n",
        "model.add(layers.Dense(32, activation='relu'))\n",
        "model.add(layers.Dense(3, activation='softmax'))\n",
        "\n",
        "model.compile(optimizer='adam', loss='categorical_crossentropy', metrics=['accuracy'])"
      ],
      "metadata": {
        "id": "5M2P0jrxDwMJ"
      },
      "execution_count": null,
      "outputs": []
    },
    {
      "cell_type": "code",
      "source": [
        "history_undersample = model.fit(X_train_resampled, y_train_resampled, epochs=100, batch_size=64, validation_data=(X_val, y_val))"
      ],
      "metadata": {
        "id": "yejEyWEMbaFf",
        "colab": {
          "base_uri": "https://localhost:8080/"
        },
        "outputId": "fd8490ad-090c-4163-ca16-2df285917340"
      },
      "execution_count": null,
      "outputs": [
        {
          "output_type": "stream",
          "name": "stdout",
          "text": [
            "Epoch 1/100\n",
            "1602/1602 [==============================] - 14s 8ms/step - loss: 0.6945 - accuracy: 0.6945 - val_loss: 0.7449 - val_accuracy: 0.6613\n",
            "Epoch 2/100\n",
            "1602/1602 [==============================] - 13s 8ms/step - loss: 0.6434 - accuracy: 0.7163 - val_loss: 0.7598 - val_accuracy: 0.6662\n",
            "Epoch 3/100\n",
            "1602/1602 [==============================] - 10s 6ms/step - loss: 0.6164 - accuracy: 0.7316 - val_loss: 0.6932 - val_accuracy: 0.6702\n",
            "Epoch 4/100\n",
            "1602/1602 [==============================] - 11s 7ms/step - loss: 0.5895 - accuracy: 0.7451 - val_loss: 0.6586 - val_accuracy: 0.6911\n",
            "Epoch 5/100\n",
            "1602/1602 [==============================] - 12s 7ms/step - loss: 0.5629 - accuracy: 0.7594 - val_loss: 0.6652 - val_accuracy: 0.6853\n",
            "Epoch 6/100\n",
            "1602/1602 [==============================] - 13s 8ms/step - loss: 0.5396 - accuracy: 0.7715 - val_loss: 0.6591 - val_accuracy: 0.6951\n",
            "Epoch 7/100\n",
            "1602/1602 [==============================] - 9s 6ms/step - loss: 0.5189 - accuracy: 0.7850 - val_loss: 0.6346 - val_accuracy: 0.7041\n",
            "Epoch 8/100\n",
            "1602/1602 [==============================] - 11s 7ms/step - loss: 0.4941 - accuracy: 0.7978 - val_loss: 0.6288 - val_accuracy: 0.7272\n",
            "Epoch 9/100\n",
            "1602/1602 [==============================] - 12s 7ms/step - loss: 0.4730 - accuracy: 0.8083 - val_loss: 0.6103 - val_accuracy: 0.7295\n",
            "Epoch 10/100\n",
            "1602/1602 [==============================] - 10s 6ms/step - loss: 0.4533 - accuracy: 0.8181 - val_loss: 0.5988 - val_accuracy: 0.7379\n",
            "Epoch 11/100\n",
            "1602/1602 [==============================] - 12s 7ms/step - loss: 0.4313 - accuracy: 0.8291 - val_loss: 0.5766 - val_accuracy: 0.7553\n",
            "Epoch 12/100\n",
            "1602/1602 [==============================] - 12s 8ms/step - loss: 0.4137 - accuracy: 0.8383 - val_loss: 0.5758 - val_accuracy: 0.7521\n",
            "Epoch 13/100\n",
            "1602/1602 [==============================] - 14s 9ms/step - loss: 0.3963 - accuracy: 0.8459 - val_loss: 0.5643 - val_accuracy: 0.7661\n",
            "Epoch 14/100\n",
            "1602/1602 [==============================] - 13s 8ms/step - loss: 0.3822 - accuracy: 0.8538 - val_loss: 0.5766 - val_accuracy: 0.7579\n",
            "Epoch 15/100\n",
            "1602/1602 [==============================] - 10s 6ms/step - loss: 0.3685 - accuracy: 0.8589 - val_loss: 0.5503 - val_accuracy: 0.7787\n",
            "Epoch 16/100\n",
            "1602/1602 [==============================] - 12s 7ms/step - loss: 0.3555 - accuracy: 0.8645 - val_loss: 0.5638 - val_accuracy: 0.7720\n",
            "Epoch 17/100\n",
            "1602/1602 [==============================] - 12s 7ms/step - loss: 0.3443 - accuracy: 0.8703 - val_loss: 0.5488 - val_accuracy: 0.7803\n",
            "Epoch 18/100\n",
            "1602/1602 [==============================] - 13s 8ms/step - loss: 0.3328 - accuracy: 0.8744 - val_loss: 0.5440 - val_accuracy: 0.7889\n",
            "Epoch 19/100\n",
            "1602/1602 [==============================] - 10s 6ms/step - loss: 0.3239 - accuracy: 0.8784 - val_loss: 0.5649 - val_accuracy: 0.7843\n",
            "Epoch 20/100\n",
            "1602/1602 [==============================] - 12s 7ms/step - loss: 0.3145 - accuracy: 0.8826 - val_loss: 0.5246 - val_accuracy: 0.7948\n",
            "Epoch 21/100\n",
            "1602/1602 [==============================] - 12s 7ms/step - loss: 0.3061 - accuracy: 0.8862 - val_loss: 0.5422 - val_accuracy: 0.7969\n",
            "Epoch 22/100\n",
            "1602/1602 [==============================] - 13s 8ms/step - loss: 0.2986 - accuracy: 0.8884 - val_loss: 0.5401 - val_accuracy: 0.7968\n",
            "Epoch 23/100\n",
            "1602/1602 [==============================] - 10s 6ms/step - loss: 0.2905 - accuracy: 0.8921 - val_loss: 0.5010 - val_accuracy: 0.8095\n",
            "Epoch 24/100\n",
            "1602/1602 [==============================] - 12s 7ms/step - loss: 0.2818 - accuracy: 0.8962 - val_loss: 0.5276 - val_accuracy: 0.8076\n",
            "Epoch 25/100\n",
            "1602/1602 [==============================] - 12s 7ms/step - loss: 0.2776 - accuracy: 0.8976 - val_loss: 0.5310 - val_accuracy: 0.8051\n",
            "Epoch 26/100\n",
            "1602/1602 [==============================] - 12s 8ms/step - loss: 0.2721 - accuracy: 0.8995 - val_loss: 0.5272 - val_accuracy: 0.8148\n",
            "Epoch 27/100\n",
            "1602/1602 [==============================] - 10s 6ms/step - loss: 0.2615 - accuracy: 0.9045 - val_loss: 0.5337 - val_accuracy: 0.8121\n",
            "Epoch 28/100\n",
            "1602/1602 [==============================] - 12s 8ms/step - loss: 0.2579 - accuracy: 0.9050 - val_loss: 0.5430 - val_accuracy: 0.8097\n",
            "Epoch 29/100\n",
            "1602/1602 [==============================] - 12s 7ms/step - loss: 0.2494 - accuracy: 0.9080 - val_loss: 0.5677 - val_accuracy: 0.8109\n",
            "Epoch 30/100\n",
            "1602/1602 [==============================] - 10s 7ms/step - loss: 0.2461 - accuracy: 0.9095 - val_loss: 0.5477 - val_accuracy: 0.8125\n",
            "Epoch 31/100\n",
            "1602/1602 [==============================] - 11s 7ms/step - loss: 0.2422 - accuracy: 0.9119 - val_loss: 0.5520 - val_accuracy: 0.8176\n",
            "Epoch 32/100\n",
            "1602/1602 [==============================] - 13s 8ms/step - loss: 0.2375 - accuracy: 0.9124 - val_loss: 0.5375 - val_accuracy: 0.8185\n",
            "Epoch 33/100\n",
            "1602/1602 [==============================] - 14s 9ms/step - loss: 0.2303 - accuracy: 0.9151 - val_loss: 0.5536 - val_accuracy: 0.8161\n",
            "Epoch 34/100\n",
            "1602/1602 [==============================] - 13s 8ms/step - loss: 0.2251 - accuracy: 0.9175 - val_loss: 0.5759 - val_accuracy: 0.8216\n",
            "Epoch 35/100\n",
            "1602/1602 [==============================] - 10s 6ms/step - loss: 0.2208 - accuracy: 0.9192 - val_loss: 0.5428 - val_accuracy: 0.8265\n",
            "Epoch 36/100\n",
            "1602/1602 [==============================] - 12s 7ms/step - loss: 0.2188 - accuracy: 0.9192 - val_loss: 0.5615 - val_accuracy: 0.8238\n",
            "Epoch 37/100\n",
            "1602/1602 [==============================] - 12s 8ms/step - loss: 0.2142 - accuracy: 0.9219 - val_loss: 0.5286 - val_accuracy: 0.8265\n",
            "Epoch 38/100\n",
            "1602/1602 [==============================] - 14s 8ms/step - loss: 0.2079 - accuracy: 0.9244 - val_loss: 0.5921 - val_accuracy: 0.8238\n",
            "Epoch 39/100\n",
            "1602/1602 [==============================] - 13s 8ms/step - loss: 0.2071 - accuracy: 0.9238 - val_loss: 0.5470 - val_accuracy: 0.8274\n",
            "Epoch 40/100\n",
            "1602/1602 [==============================] - 10s 6ms/step - loss: 0.2034 - accuracy: 0.9260 - val_loss: 0.5615 - val_accuracy: 0.8258\n",
            "Epoch 41/100\n",
            "1602/1602 [==============================] - 12s 7ms/step - loss: 0.1970 - accuracy: 0.9290 - val_loss: 0.5851 - val_accuracy: 0.8255\n",
            "Epoch 42/100\n",
            "1602/1602 [==============================] - 12s 8ms/step - loss: 0.1990 - accuracy: 0.9281 - val_loss: 0.5689 - val_accuracy: 0.8285\n",
            "Epoch 43/100\n",
            "1602/1602 [==============================] - 13s 8ms/step - loss: 0.1935 - accuracy: 0.9287 - val_loss: 0.5550 - val_accuracy: 0.8303\n",
            "Epoch 44/100\n",
            "1602/1602 [==============================] - 10s 6ms/step - loss: 0.1904 - accuracy: 0.9304 - val_loss: 0.5727 - val_accuracy: 0.8328\n",
            "Epoch 45/100\n",
            "1602/1602 [==============================] - 12s 8ms/step - loss: 0.1867 - accuracy: 0.9317 - val_loss: 0.5820 - val_accuracy: 0.8333\n",
            "Epoch 46/100\n",
            "1602/1602 [==============================] - 12s 8ms/step - loss: 0.1833 - accuracy: 0.9330 - val_loss: 0.6007 - val_accuracy: 0.8336\n",
            "Epoch 47/100\n",
            "1602/1602 [==============================] - 13s 8ms/step - loss: 0.1803 - accuracy: 0.9344 - val_loss: 0.5952 - val_accuracy: 0.8373\n",
            "Epoch 48/100\n",
            "1602/1602 [==============================] - 12s 8ms/step - loss: 0.1761 - accuracy: 0.9361 - val_loss: 0.5600 - val_accuracy: 0.8375\n",
            "Epoch 49/100\n",
            "1602/1602 [==============================] - 10s 7ms/step - loss: 0.1758 - accuracy: 0.9366 - val_loss: 0.5738 - val_accuracy: 0.8386\n",
            "Epoch 50/100\n",
            "1602/1602 [==============================] - 12s 7ms/step - loss: 0.1720 - accuracy: 0.9374 - val_loss: 0.6029 - val_accuracy: 0.8378\n",
            "Epoch 51/100\n",
            "1602/1602 [==============================] - 12s 7ms/step - loss: 0.1716 - accuracy: 0.9381 - val_loss: 0.6263 - val_accuracy: 0.8297\n",
            "Epoch 52/100\n",
            "1602/1602 [==============================] - 10s 6ms/step - loss: 0.1707 - accuracy: 0.9383 - val_loss: 0.5956 - val_accuracy: 0.8353\n",
            "Epoch 53/100\n",
            "1602/1602 [==============================] - 11s 7ms/step - loss: 0.1670 - accuracy: 0.9393 - val_loss: 0.6216 - val_accuracy: 0.8397\n",
            "Epoch 54/100\n",
            "1602/1602 [==============================] - 12s 8ms/step - loss: 0.1610 - accuracy: 0.9417 - val_loss: 0.6594 - val_accuracy: 0.8378\n",
            "Epoch 55/100\n",
            "1602/1602 [==============================] - 11s 7ms/step - loss: 0.1631 - accuracy: 0.9408 - val_loss: 0.6206 - val_accuracy: 0.8375\n",
            "Epoch 56/100\n",
            "1602/1602 [==============================] - 10s 6ms/step - loss: 0.1590 - accuracy: 0.9424 - val_loss: 0.6213 - val_accuracy: 0.8360\n",
            "Epoch 57/100\n",
            "1602/1602 [==============================] - 12s 8ms/step - loss: 0.1558 - accuracy: 0.9434 - val_loss: 0.6337 - val_accuracy: 0.8387\n",
            "Epoch 58/100\n",
            "1602/1602 [==============================] - 12s 7ms/step - loss: 0.1558 - accuracy: 0.9429 - val_loss: 0.6004 - val_accuracy: 0.8412\n",
            "Epoch 59/100\n",
            "1602/1602 [==============================] - 10s 6ms/step - loss: 0.1511 - accuracy: 0.9455 - val_loss: 0.6902 - val_accuracy: 0.8377\n",
            "Epoch 60/100\n",
            "1602/1602 [==============================] - 12s 7ms/step - loss: 0.1514 - accuracy: 0.9459 - val_loss: 0.6558 - val_accuracy: 0.8382\n",
            "Epoch 61/100\n",
            "1602/1602 [==============================] - 12s 8ms/step - loss: 0.1493 - accuracy: 0.9460 - val_loss: 0.6726 - val_accuracy: 0.8425\n",
            "Epoch 62/100\n",
            "1602/1602 [==============================] - 13s 8ms/step - loss: 0.1493 - accuracy: 0.9461 - val_loss: 0.6324 - val_accuracy: 0.8405\n",
            "Epoch 63/100\n",
            "1602/1602 [==============================] - 13s 8ms/step - loss: 0.1458 - accuracy: 0.9479 - val_loss: 0.6561 - val_accuracy: 0.8434\n",
            "Epoch 64/100\n",
            "1602/1602 [==============================] - 11s 7ms/step - loss: 0.1422 - accuracy: 0.9485 - val_loss: 0.6483 - val_accuracy: 0.8399\n",
            "Epoch 65/100\n",
            "1602/1602 [==============================] - 12s 8ms/step - loss: 0.1391 - accuracy: 0.9493 - val_loss: 0.6807 - val_accuracy: 0.8431\n",
            "Epoch 66/100\n",
            "1602/1602 [==============================] - 12s 8ms/step - loss: 0.1421 - accuracy: 0.9489 - val_loss: 0.6381 - val_accuracy: 0.8417\n",
            "Epoch 67/100\n",
            "1602/1602 [==============================] - 12s 7ms/step - loss: 0.1388 - accuracy: 0.9502 - val_loss: 0.6794 - val_accuracy: 0.8460\n",
            "Epoch 68/100\n",
            "1602/1602 [==============================] - 10s 6ms/step - loss: 0.1366 - accuracy: 0.9506 - val_loss: 0.6724 - val_accuracy: 0.8430\n",
            "Epoch 69/100\n",
            "1602/1602 [==============================] - 12s 8ms/step - loss: 0.1370 - accuracy: 0.9500 - val_loss: 0.6589 - val_accuracy: 0.8450\n",
            "Epoch 70/100\n",
            "1602/1602 [==============================] - 12s 7ms/step - loss: 0.1317 - accuracy: 0.9529 - val_loss: 0.6919 - val_accuracy: 0.8466\n",
            "Epoch 71/100\n",
            "1602/1602 [==============================] - 10s 6ms/step - loss: 0.1332 - accuracy: 0.9512 - val_loss: 0.6683 - val_accuracy: 0.8439\n",
            "Epoch 72/100\n",
            "1602/1602 [==============================] - 11s 7ms/step - loss: 0.1317 - accuracy: 0.9526 - val_loss: 0.6711 - val_accuracy: 0.8467\n",
            "Epoch 73/100\n",
            "1602/1602 [==============================] - 12s 7ms/step - loss: 0.1309 - accuracy: 0.9528 - val_loss: 0.6679 - val_accuracy: 0.8477\n",
            "Epoch 74/100\n",
            "1602/1602 [==============================] - 11s 7ms/step - loss: 0.1330 - accuracy: 0.9524 - val_loss: 0.6750 - val_accuracy: 0.8487\n",
            "Epoch 75/100\n",
            "1602/1602 [==============================] - 10s 7ms/step - loss: 0.1282 - accuracy: 0.9542 - val_loss: 0.6819 - val_accuracy: 0.8463\n",
            "Epoch 76/100\n",
            "1602/1602 [==============================] - 12s 8ms/step - loss: 0.1262 - accuracy: 0.9541 - val_loss: 0.6669 - val_accuracy: 0.8498\n",
            "Epoch 77/100\n",
            "1602/1602 [==============================] - 12s 7ms/step - loss: 0.1232 - accuracy: 0.9552 - val_loss: 0.6857 - val_accuracy: 0.8503\n",
            "Epoch 78/100\n",
            "1602/1602 [==============================] - 10s 6ms/step - loss: 0.1224 - accuracy: 0.9556 - val_loss: 0.7195 - val_accuracy: 0.8450\n",
            "Epoch 79/100\n",
            "1602/1602 [==============================] - 12s 7ms/step - loss: 0.1212 - accuracy: 0.9563 - val_loss: 0.6626 - val_accuracy: 0.8526\n",
            "Epoch 80/100\n",
            "1602/1602 [==============================] - 11s 7ms/step - loss: 0.1264 - accuracy: 0.9554 - val_loss: 0.6832 - val_accuracy: 0.8516\n",
            "Epoch 81/100\n",
            "1602/1602 [==============================] - 10s 6ms/step - loss: 0.1210 - accuracy: 0.9572 - val_loss: 0.6871 - val_accuracy: 0.8490\n",
            "Epoch 82/100\n",
            "1602/1602 [==============================] - 11s 7ms/step - loss: 0.1213 - accuracy: 0.9568 - val_loss: 0.7551 - val_accuracy: 0.8492\n",
            "Epoch 83/100\n",
            "1602/1602 [==============================] - 12s 8ms/step - loss: 0.1188 - accuracy: 0.9579 - val_loss: 0.7229 - val_accuracy: 0.8483\n",
            "Epoch 84/100\n",
            "1602/1602 [==============================] - 12s 8ms/step - loss: 0.1151 - accuracy: 0.9585 - val_loss: 0.6761 - val_accuracy: 0.8490\n",
            "Epoch 85/100\n",
            "1602/1602 [==============================] - 13s 8ms/step - loss: 0.1155 - accuracy: 0.9595 - val_loss: 0.6587 - val_accuracy: 0.8545\n",
            "Epoch 86/100\n",
            "1602/1602 [==============================] - 10s 6ms/step - loss: 0.1151 - accuracy: 0.9589 - val_loss: 0.6840 - val_accuracy: 0.8513\n",
            "Epoch 87/100\n",
            "1602/1602 [==============================] - 12s 8ms/step - loss: 0.1141 - accuracy: 0.9599 - val_loss: 0.6459 - val_accuracy: 0.8546\n",
            "Epoch 88/100\n",
            "1602/1602 [==============================] - 12s 8ms/step - loss: 0.1147 - accuracy: 0.9587 - val_loss: 0.7219 - val_accuracy: 0.8488\n",
            "Epoch 89/100\n",
            "1602/1602 [==============================] - 12s 7ms/step - loss: 0.1104 - accuracy: 0.9609 - val_loss: 0.7217 - val_accuracy: 0.8494\n",
            "Epoch 90/100\n",
            "1602/1602 [==============================] - 11s 7ms/step - loss: 0.1094 - accuracy: 0.9603 - val_loss: 0.7360 - val_accuracy: 0.8523\n",
            "Epoch 91/100\n",
            "1602/1602 [==============================] - 12s 8ms/step - loss: 0.1092 - accuracy: 0.9614 - val_loss: 0.7275 - val_accuracy: 0.8524\n",
            "Epoch 92/100\n",
            "1602/1602 [==============================] - 12s 7ms/step - loss: 0.1056 - accuracy: 0.9629 - val_loss: 0.7422 - val_accuracy: 0.8568\n",
            "Epoch 93/100\n",
            "1602/1602 [==============================] - 10s 6ms/step - loss: 0.1099 - accuracy: 0.9610 - val_loss: 0.7059 - val_accuracy: 0.8490\n",
            "Epoch 94/100\n",
            "1602/1602 [==============================] - 11s 7ms/step - loss: 0.1062 - accuracy: 0.9620 - val_loss: 0.6952 - val_accuracy: 0.8524\n",
            "Epoch 95/100\n",
            "1602/1602 [==============================] - 13s 8ms/step - loss: 0.1052 - accuracy: 0.9623 - val_loss: 0.7106 - val_accuracy: 0.8560\n",
            "Epoch 96/100\n",
            "1602/1602 [==============================] - 14s 9ms/step - loss: 0.1038 - accuracy: 0.9628 - val_loss: 0.7085 - val_accuracy: 0.8524\n",
            "Epoch 97/100\n",
            "1602/1602 [==============================] - 11s 7ms/step - loss: 0.1024 - accuracy: 0.9636 - val_loss: 0.6761 - val_accuracy: 0.8565\n",
            "Epoch 98/100\n",
            "1602/1602 [==============================] - 11s 7ms/step - loss: 0.1021 - accuracy: 0.9636 - val_loss: 0.7799 - val_accuracy: 0.8520\n",
            "Epoch 99/100\n",
            "1602/1602 [==============================] - 12s 8ms/step - loss: 0.1007 - accuracy: 0.9638 - val_loss: 0.7427 - val_accuracy: 0.8584\n",
            "Epoch 100/100\n",
            "1602/1602 [==============================] - 12s 7ms/step - loss: 0.1005 - accuracy: 0.9637 - val_loss: 0.7143 - val_accuracy: 0.8547\n"
          ]
        }
      ]
    },
    {
      "cell_type": "code",
      "source": [
        "results_undersample = model.evaluate(X_test, to_categorical(y_test))\n",
        "loss = results_undersample[0]\n",
        "accuracy = results_undersample[1]\n",
        "print(f\"Test Loss: {loss}\")\n",
        "print(f\"Test Accuracy: {accuracy}\")"
      ],
      "metadata": {
        "id": "ZMQqc2h7qiB5",
        "colab": {
          "base_uri": "https://localhost:8080/"
        },
        "outputId": "76d76808-bb17-4543-dbd6-e75ea935afcf"
      },
      "execution_count": null,
      "outputs": [
        {
          "output_type": "stream",
          "name": "stdout",
          "text": [
            "2280/2280 [==============================] - 5s 2ms/step - loss: 5875.3276 - accuracy: 0.5060\n",
            "Test Loss: 5875.32763671875\n",
            "Test Accuracy: 0.5060308575630188\n"
          ]
        }
      ]
    },
    {
      "cell_type": "markdown",
      "source": [
        "Kroz 100 epoha, tačnost nad validacijskim podacima je 85%, a tačnost nad trening podacima je 96% što je jako dobar rezultat. Međutim, nad testnim podacima tačnost je 50%. To je očekivano, jer se undersampling radio samo nad trening podacima. Za poboljšanje ovog rezultata, trebalo bi se vratiti na same podatke i izvršiti detaljnija analiza, ali tačnost nad trening i validacijskim podacima je puno bolja nego tačnost prvobitnim treniranjem.\n"
      ],
      "metadata": {
        "id": "QSx_ENo1uWch"
      }
    },
    {
      "cell_type": "markdown",
      "source": [
        "### Oversampling"
      ],
      "metadata": {
        "id": "4xgyNHQkbWCz"
      }
    },
    {
      "cell_type": "markdown",
      "source": [
        "U ovom dijelu se primjenjuje proces povećanja broja instanci manjinske klase. Za stvaranje sintetičkih podataka koristi se metoda SMOTE."
      ],
      "metadata": {
        "id": "tZEA79b_xh0E"
      }
    },
    {
      "cell_type": "code",
      "source": [
        "smote = SMOTE(sampling_strategy='auto', random_state=42)\n",
        "X_train_resampled, y_train_resampled = smote.fit_resample(X_train, y_train)\n",
        "\n",
        "y_train_resampled = y_train_resampled.astype('float32')\n",
        "y_train_1D = np.argmax(y_train_resampled, axis=1)\n",
        "print(\"Nakon undersamplinga:\")\n",
        "print(np.bincount(y_train_1D))"
      ],
      "metadata": {
        "id": "nLhn6acgbZbD",
        "colab": {
          "base_uri": "https://localhost:8080/"
        },
        "outputId": "14685911-4d85-4166-eb3b-615eb5578177"
      },
      "execution_count": null,
      "outputs": [
        {
          "output_type": "stream",
          "name": "stdout",
          "text": [
            "Nakon undersamplinga:\n",
            "[146216 146216 146216]\n"
          ]
        }
      ]
    },
    {
      "cell_type": "code",
      "source": [
        "model = models.Sequential()\n",
        "model.add(layers.Dense(256, activation='relu', input_shape=(25,)))\n",
        "model.add(layers.Dense(128, activation='relu'))\n",
        "model.add(layers.Dense(128, activation='relu'))\n",
        "model.add(layers.Dense(64, activation='relu'))\n",
        "model.add(layers.Dense(64, activation='relu'))\n",
        "model.add(layers.Dense(32, activation='relu'))\n",
        "model.add(layers.Dense(32, activation='relu'))\n",
        "model.add(layers.Dense(3, activation='softmax'))\n",
        "\n",
        "model.compile(optimizer='adam', loss='categorical_crossentropy', metrics=['accuracy'])"
      ],
      "metadata": {
        "id": "MjE6E3I0D-eu"
      },
      "execution_count": null,
      "outputs": []
    },
    {
      "cell_type": "code",
      "source": [
        "history_smote = model.fit(X_train_resampled, y_train_resampled, epochs=25, batch_size=64, validation_data=(X_val, y_val))"
      ],
      "metadata": {
        "id": "56YAEg7G0ikc",
        "colab": {
          "base_uri": "https://localhost:8080/"
        },
        "outputId": "f34af295-386e-484c-914f-d69b10aea050"
      },
      "execution_count": null,
      "outputs": [
        {
          "output_type": "stream",
          "name": "stdout",
          "text": [
            "Epoch 1/25\n",
            "6854/6854 [==============================] - 46s 6ms/step - loss: 0.6286 - accuracy: 0.7249 - val_loss: 0.6614 - val_accuracy: 0.6947\n",
            "Epoch 2/25\n",
            "6854/6854 [==============================] - 38s 6ms/step - loss: 0.5329 - accuracy: 0.7778 - val_loss: 0.6176 - val_accuracy: 0.7260\n",
            "Epoch 3/25\n",
            "6854/6854 [==============================] - 40s 6ms/step - loss: 0.4656 - accuracy: 0.8150 - val_loss: 0.5216 - val_accuracy: 0.7749\n",
            "Epoch 4/25\n",
            "6854/6854 [==============================] - 40s 6ms/step - loss: 0.4103 - accuracy: 0.8421 - val_loss: 0.5065 - val_accuracy: 0.7907\n",
            "Epoch 5/25\n",
            "6854/6854 [==============================] - 41s 6ms/step - loss: 0.3706 - accuracy: 0.8602 - val_loss: 0.4591 - val_accuracy: 0.8140\n",
            "Epoch 6/25\n",
            "6854/6854 [==============================] - 39s 6ms/step - loss: 0.3399 - accuracy: 0.8725 - val_loss: 0.4371 - val_accuracy: 0.8249\n",
            "Epoch 7/25\n",
            "6854/6854 [==============================] - 40s 6ms/step - loss: 0.3149 - accuracy: 0.8832 - val_loss: 0.4060 - val_accuracy: 0.8363\n",
            "Epoch 8/25\n",
            "6854/6854 [==============================] - 44s 6ms/step - loss: 0.2955 - accuracy: 0.8902 - val_loss: 0.3968 - val_accuracy: 0.8437\n",
            "Epoch 9/25\n",
            "6854/6854 [==============================] - 39s 6ms/step - loss: 0.2789 - accuracy: 0.8966 - val_loss: 0.3762 - val_accuracy: 0.8504\n",
            "Epoch 10/25\n",
            "6854/6854 [==============================] - 44s 6ms/step - loss: 0.2647 - accuracy: 0.9023 - val_loss: 0.3622 - val_accuracy: 0.8572\n",
            "Epoch 11/25\n",
            "6854/6854 [==============================] - 39s 6ms/step - loss: 0.2510 - accuracy: 0.9075 - val_loss: 0.3339 - val_accuracy: 0.8662\n",
            "Epoch 12/25\n",
            "6854/6854 [==============================] - 40s 6ms/step - loss: 0.2397 - accuracy: 0.9121 - val_loss: 0.3437 - val_accuracy: 0.8664\n",
            "Epoch 13/25\n",
            "6854/6854 [==============================] - 39s 6ms/step - loss: 0.2291 - accuracy: 0.9156 - val_loss: 0.3075 - val_accuracy: 0.8809\n",
            "Epoch 14/25\n",
            "6854/6854 [==============================] - 41s 6ms/step - loss: 0.2206 - accuracy: 0.9192 - val_loss: 0.2972 - val_accuracy: 0.8848\n",
            "Epoch 15/25\n",
            "6854/6854 [==============================] - 43s 6ms/step - loss: 0.2124 - accuracy: 0.9223 - val_loss: 0.2901 - val_accuracy: 0.8864\n",
            "Epoch 16/25\n",
            "6854/6854 [==============================] - 39s 6ms/step - loss: 0.2047 - accuracy: 0.9252 - val_loss: 0.3007 - val_accuracy: 0.8897\n",
            "Epoch 17/25\n",
            "6854/6854 [==============================] - 42s 6ms/step - loss: 0.1979 - accuracy: 0.9279 - val_loss: 0.2849 - val_accuracy: 0.8881\n",
            "Epoch 18/25\n",
            "6854/6854 [==============================] - 39s 6ms/step - loss: 0.1914 - accuracy: 0.9306 - val_loss: 0.2815 - val_accuracy: 0.8906\n",
            "Epoch 19/25\n",
            "6854/6854 [==============================] - 42s 6ms/step - loss: 0.1853 - accuracy: 0.9326 - val_loss: 0.2700 - val_accuracy: 0.8987\n",
            "Epoch 20/25\n",
            "6854/6854 [==============================] - 38s 6ms/step - loss: 0.1801 - accuracy: 0.9348 - val_loss: 0.2592 - val_accuracy: 0.8992\n",
            "Epoch 21/25\n",
            "6854/6854 [==============================] - 41s 6ms/step - loss: 0.1753 - accuracy: 0.9363 - val_loss: 0.2598 - val_accuracy: 0.9006\n",
            "Epoch 22/25\n",
            "6854/6854 [==============================] - 39s 6ms/step - loss: 0.1705 - accuracy: 0.9383 - val_loss: 0.2615 - val_accuracy: 0.8997\n",
            "Epoch 23/25\n",
            "6854/6854 [==============================] - 41s 6ms/step - loss: 0.1666 - accuracy: 0.9400 - val_loss: 0.2347 - val_accuracy: 0.9076\n",
            "Epoch 24/25\n",
            "6854/6854 [==============================] - 38s 6ms/step - loss: 0.1624 - accuracy: 0.9414 - val_loss: 0.2508 - val_accuracy: 0.9083\n",
            "Epoch 25/25\n",
            "6854/6854 [==============================] - 40s 6ms/step - loss: 0.1594 - accuracy: 0.9427 - val_loss: 0.2436 - val_accuracy: 0.9077\n"
          ]
        }
      ]
    },
    {
      "cell_type": "code",
      "source": [
        "results_smote = model.evaluate(X_test, to_categorical(y_test))\n",
        "loss = results_smote[0]\n",
        "accuracy = results_smote[1]\n",
        "print(f\"Test Loss: {loss}\")\n",
        "print(f\"Test Accuracy: {accuracy}\")"
      ],
      "metadata": {
        "id": "A4XuVxnv0w4y",
        "colab": {
          "base_uri": "https://localhost:8080/"
        },
        "outputId": "073f312d-4cd1-4422-914b-de41aa9b5d13"
      },
      "execution_count": null,
      "outputs": [
        {
          "output_type": "stream",
          "name": "stdout",
          "text": [
            "2280/2280 [==============================] - 6s 3ms/step - loss: 7691.8848 - accuracy: 0.1579\n",
            "Test Loss: 7691.884765625\n",
            "Test Accuracy: 0.15791277587413788\n"
          ]
        }
      ]
    },
    {
      "cell_type": "markdown",
      "source": [
        "U ovom slučaju je dobijeno da je tačnost nad trening skupom 94%, a nad validacijskim 90% što je još bolje nego tačnost dobijena undersamplingom. Tačnost nad testnim podacima je također 50%."
      ],
      "metadata": {
        "id": "_S9v9AcYOhxM"
      }
    },
    {
      "cell_type": "markdown",
      "source": [
        "## Tuning parametara"
      ],
      "metadata": {
        "id": "kFeWWOMPncOF"
      }
    },
    {
      "cell_type": "markdown",
      "source": [
        "Jedan od načina da se poboljšaju performanse modela jeste podešavanje hiperparametara. Optimizacijska strategija koja se koristila je Random Search. Ova metoda je izabrana jer je brža od Grid Search metode."
      ],
      "metadata": {
        "id": "GGXAL82-1QCD"
      }
    },
    {
      "cell_type": "code",
      "source": [
        "pip install scikeras"
      ],
      "metadata": {
        "id": "bWekILevIpVw",
        "colab": {
          "base_uri": "https://localhost:8080/"
        },
        "outputId": "c17d38be-1e25-414d-bfd8-677f4df3194e"
      },
      "execution_count": null,
      "outputs": [
        {
          "output_type": "stream",
          "name": "stdout",
          "text": [
            "Collecting scikeras\n",
            "  Downloading scikeras-0.12.0-py3-none-any.whl (27 kB)\n",
            "Requirement already satisfied: packaging>=0.21 in /usr/local/lib/python3.10/dist-packages (from scikeras) (23.2)\n",
            "Requirement already satisfied: scikit-learn>=1.0.0 in /usr/local/lib/python3.10/dist-packages (from scikeras) (1.2.2)\n",
            "Requirement already satisfied: numpy>=1.17.3 in /usr/local/lib/python3.10/dist-packages (from scikit-learn>=1.0.0->scikeras) (1.23.5)\n",
            "Requirement already satisfied: scipy>=1.3.2 in /usr/local/lib/python3.10/dist-packages (from scikit-learn>=1.0.0->scikeras) (1.11.4)\n",
            "Requirement already satisfied: joblib>=1.1.1 in /usr/local/lib/python3.10/dist-packages (from scikit-learn>=1.0.0->scikeras) (1.3.2)\n",
            "Requirement already satisfied: threadpoolctl>=2.0.0 in /usr/local/lib/python3.10/dist-packages (from scikit-learn>=1.0.0->scikeras) (3.2.0)\n",
            "Installing collected packages: scikeras\n",
            "Successfully installed scikeras-0.12.0\n"
          ]
        }
      ]
    },
    {
      "cell_type": "code",
      "source": [
        "def kreiraj_model(hidden_layer_sizes=(256, 128, 64, 32), activation='relu', optimizer='adam'):\n",
        "    model = keras.models.Sequential()\n",
        "    model.add(layers.Dense(hidden_layer_sizes[0], activation=activation, input_shape=(25,)))\n",
        "\n",
        "    for layer_size in hidden_layer_sizes[1:]:\n",
        "        model.add(layers.Dense(layer_size, activation=activation))\n",
        "\n",
        "    model.add(layers.Dense(3, activation='softmax'))\n",
        "    model.compile(optimizer=optimizer, loss='categorical_crossentropy', metrics=['accuracy'])\n",
        "    return model\n"
      ],
      "metadata": {
        "id": "fyA4jaXz5BZA"
      },
      "execution_count": null,
      "outputs": []
    },
    {
      "cell_type": "code",
      "source": [
        "from scikeras.wrappers import KerasClassifier\n",
        "\n",
        "y_train_categorical = y_train\n",
        "y_val_categorical = y_val\n",
        "\n",
        "model_novi = KerasClassifier(build_fn=kreiraj_model, epochs=20, batch_size=64, verbose=0)\n",
        "\n",
        "param_dist = {\n",
        "    'model__hidden_layer_sizes': [(256, 128, 64, 32), (128, 64, 32), (64, 32)],\n",
        "    'model__activation': ['relu', 'softmax'],\n",
        "    'model__optimizer': ['adam', 'sgd']\n",
        "}\n",
        "\n",
        "# Definisanje RandomizedSearchCV\n",
        "random_search = RandomizedSearchCV(model_novi, param_distributions=param_dist, n_iter=5, cv=3, verbose=2, random_state=42)\n",
        "\n",
        "# Sprovođenje RandomizedSearchCV\n",
        "random_search.fit(X_train, y_train_categorical, validation_data=(X_val, y_val_categorical))\n",
        "\n",
        "# Ispis rezultata\n",
        "print(\"Najbolji parametri:\", random_search.best_params_)\n",
        "print(\"Najbolji rezultat tačnosti:\", random_search.best_score_)\n"
      ],
      "metadata": {
        "id": "VWRbLs0CiwQ2",
        "colab": {
          "base_uri": "https://localhost:8080/"
        },
        "outputId": "83f3a308-8d9b-4189-b2a4-15013556edbe"
      },
      "execution_count": null,
      "outputs": [
        {
          "output_type": "stream",
          "name": "stdout",
          "text": [
            "Fitting 3 folds for each of 5 candidates, totalling 15 fits\n"
          ]
        },
        {
          "output_type": "stream",
          "name": "stderr",
          "text": [
            "/usr/local/lib/python3.10/dist-packages/scikeras/wrappers.py:915: UserWarning: ``build_fn`` will be renamed to ``model`` in a future release, at which point use of ``build_fn`` will raise an Error instead.\n",
            "  X, y = self._initialize(X, y)\n"
          ]
        },
        {
          "output_type": "stream",
          "name": "stdout",
          "text": [
            "[CV] END model__activation=softmax, model__hidden_layer_sizes=(64, 32), model__optimizer=adam; total time= 3.5min\n"
          ]
        },
        {
          "output_type": "stream",
          "name": "stderr",
          "text": [
            "/usr/local/lib/python3.10/dist-packages/scikeras/wrappers.py:915: UserWarning: ``build_fn`` will be renamed to ``model`` in a future release, at which point use of ``build_fn`` will raise an Error instead.\n",
            "  X, y = self._initialize(X, y)\n"
          ]
        },
        {
          "output_type": "stream",
          "name": "stdout",
          "text": [
            "[CV] END model__activation=softmax, model__hidden_layer_sizes=(64, 32), model__optimizer=adam; total time= 3.4min\n"
          ]
        },
        {
          "output_type": "stream",
          "name": "stderr",
          "text": [
            "/usr/local/lib/python3.10/dist-packages/scikeras/wrappers.py:915: UserWarning: ``build_fn`` will be renamed to ``model`` in a future release, at which point use of ``build_fn`` will raise an Error instead.\n",
            "  X, y = self._initialize(X, y)\n"
          ]
        },
        {
          "output_type": "stream",
          "name": "stdout",
          "text": [
            "[CV] END model__activation=softmax, model__hidden_layer_sizes=(64, 32), model__optimizer=adam; total time= 3.4min\n"
          ]
        },
        {
          "output_type": "stream",
          "name": "stderr",
          "text": [
            "/usr/local/lib/python3.10/dist-packages/scikeras/wrappers.py:915: UserWarning: ``build_fn`` will be renamed to ``model`` in a future release, at which point use of ``build_fn`` will raise an Error instead.\n",
            "  X, y = self._initialize(X, y)\n"
          ]
        },
        {
          "output_type": "stream",
          "name": "stdout",
          "text": [
            "[CV] END model__activation=softmax, model__hidden_layer_sizes=(128, 64, 32), model__optimizer=sgd; total time= 3.4min\n"
          ]
        },
        {
          "output_type": "stream",
          "name": "stderr",
          "text": [
            "/usr/local/lib/python3.10/dist-packages/scikeras/wrappers.py:915: UserWarning: ``build_fn`` will be renamed to ``model`` in a future release, at which point use of ``build_fn`` will raise an Error instead.\n",
            "  X, y = self._initialize(X, y)\n"
          ]
        },
        {
          "output_type": "stream",
          "name": "stdout",
          "text": [
            "[CV] END model__activation=softmax, model__hidden_layer_sizes=(128, 64, 32), model__optimizer=sgd; total time= 3.4min\n"
          ]
        },
        {
          "output_type": "stream",
          "name": "stderr",
          "text": [
            "/usr/local/lib/python3.10/dist-packages/scikeras/wrappers.py:915: UserWarning: ``build_fn`` will be renamed to ``model`` in a future release, at which point use of ``build_fn`` will raise an Error instead.\n",
            "  X, y = self._initialize(X, y)\n"
          ]
        },
        {
          "output_type": "stream",
          "name": "stdout",
          "text": [
            "[CV] END model__activation=softmax, model__hidden_layer_sizes=(128, 64, 32), model__optimizer=sgd; total time= 3.5min\n"
          ]
        },
        {
          "output_type": "stream",
          "name": "stderr",
          "text": [
            "/usr/local/lib/python3.10/dist-packages/scikeras/wrappers.py:915: UserWarning: ``build_fn`` will be renamed to ``model`` in a future release, at which point use of ``build_fn`` will raise an Error instead.\n",
            "  X, y = self._initialize(X, y)\n"
          ]
        },
        {
          "output_type": "stream",
          "name": "stdout",
          "text": [
            "[CV] END model__activation=relu, model__hidden_layer_sizes=(256, 128, 64, 32), model__optimizer=adam; total time= 4.7min\n"
          ]
        },
        {
          "output_type": "stream",
          "name": "stderr",
          "text": [
            "/usr/local/lib/python3.10/dist-packages/scikeras/wrappers.py:915: UserWarning: ``build_fn`` will be renamed to ``model`` in a future release, at which point use of ``build_fn`` will raise an Error instead.\n",
            "  X, y = self._initialize(X, y)\n"
          ]
        },
        {
          "output_type": "stream",
          "name": "stdout",
          "text": [
            "[CV] END model__activation=relu, model__hidden_layer_sizes=(256, 128, 64, 32), model__optimizer=adam; total time= 5.5min\n"
          ]
        },
        {
          "output_type": "stream",
          "name": "stderr",
          "text": [
            "/usr/local/lib/python3.10/dist-packages/scikeras/wrappers.py:915: UserWarning: ``build_fn`` will be renamed to ``model`` in a future release, at which point use of ``build_fn`` will raise an Error instead.\n",
            "  X, y = self._initialize(X, y)\n"
          ]
        },
        {
          "output_type": "stream",
          "name": "stdout",
          "text": [
            "[CV] END model__activation=relu, model__hidden_layer_sizes=(256, 128, 64, 32), model__optimizer=adam; total time= 4.9min\n"
          ]
        },
        {
          "output_type": "stream",
          "name": "stderr",
          "text": [
            "/usr/local/lib/python3.10/dist-packages/scikeras/wrappers.py:915: UserWarning: ``build_fn`` will be renamed to ``model`` in a future release, at which point use of ``build_fn`` will raise an Error instead.\n",
            "  X, y = self._initialize(X, y)\n"
          ]
        },
        {
          "output_type": "stream",
          "name": "stdout",
          "text": [
            "[CV] END model__activation=softmax, model__hidden_layer_sizes=(128, 64, 32), model__optimizer=adam; total time= 3.5min\n"
          ]
        },
        {
          "output_type": "stream",
          "name": "stderr",
          "text": [
            "/usr/local/lib/python3.10/dist-packages/scikeras/wrappers.py:915: UserWarning: ``build_fn`` will be renamed to ``model`` in a future release, at which point use of ``build_fn`` will raise an Error instead.\n",
            "  X, y = self._initialize(X, y)\n"
          ]
        },
        {
          "output_type": "stream",
          "name": "stdout",
          "text": [
            "[CV] END model__activation=softmax, model__hidden_layer_sizes=(128, 64, 32), model__optimizer=adam; total time= 3.4min\n"
          ]
        },
        {
          "output_type": "stream",
          "name": "stderr",
          "text": [
            "/usr/local/lib/python3.10/dist-packages/scikeras/wrappers.py:915: UserWarning: ``build_fn`` will be renamed to ``model`` in a future release, at which point use of ``build_fn`` will raise an Error instead.\n",
            "  X, y = self._initialize(X, y)\n"
          ]
        },
        {
          "output_type": "stream",
          "name": "stdout",
          "text": [
            "[CV] END model__activation=softmax, model__hidden_layer_sizes=(128, 64, 32), model__optimizer=adam; total time= 3.3min\n"
          ]
        },
        {
          "output_type": "stream",
          "name": "stderr",
          "text": [
            "/usr/local/lib/python3.10/dist-packages/scikeras/wrappers.py:915: UserWarning: ``build_fn`` will be renamed to ``model`` in a future release, at which point use of ``build_fn`` will raise an Error instead.\n",
            "  X, y = self._initialize(X, y)\n"
          ]
        },
        {
          "output_type": "stream",
          "name": "stdout",
          "text": [
            "[CV] END model__activation=relu, model__hidden_layer_sizes=(64, 32), model__optimizer=sgd; total time= 2.6min\n"
          ]
        },
        {
          "output_type": "stream",
          "name": "stderr",
          "text": [
            "/usr/local/lib/python3.10/dist-packages/scikeras/wrappers.py:915: UserWarning: ``build_fn`` will be renamed to ``model`` in a future release, at which point use of ``build_fn`` will raise an Error instead.\n",
            "  X, y = self._initialize(X, y)\n"
          ]
        },
        {
          "output_type": "stream",
          "name": "stdout",
          "text": [
            "[CV] END model__activation=relu, model__hidden_layer_sizes=(64, 32), model__optimizer=sgd; total time= 3.4min\n"
          ]
        },
        {
          "output_type": "stream",
          "name": "stderr",
          "text": [
            "/usr/local/lib/python3.10/dist-packages/scikeras/wrappers.py:915: UserWarning: ``build_fn`` will be renamed to ``model`` in a future release, at which point use of ``build_fn`` will raise an Error instead.\n",
            "  X, y = self._initialize(X, y)\n"
          ]
        },
        {
          "output_type": "stream",
          "name": "stdout",
          "text": [
            "[CV] END model__activation=relu, model__hidden_layer_sizes=(64, 32), model__optimizer=sgd; total time= 2.5min\n"
          ]
        },
        {
          "output_type": "stream",
          "name": "stderr",
          "text": [
            "/usr/local/lib/python3.10/dist-packages/scikeras/wrappers.py:915: UserWarning: ``build_fn`` will be renamed to ``model`` in a future release, at which point use of ``build_fn`` will raise an Error instead.\n",
            "  X, y = self._initialize(X, y)\n"
          ]
        },
        {
          "output_type": "stream",
          "name": "stdout",
          "text": [
            "Najbolji parametri: {'model__optimizer': 'adam', 'model__hidden_layer_sizes': (64, 32), 'model__activation': 'softmax'}\n",
            "Najbolji rezultat tačnosti: 0.6811660456976871\n"
          ]
        }
      ]
    },
    {
      "cell_type": "markdown",
      "source": [
        "Nakon izvršavanja RandomizedSearchCV funkcije, tačnost je 68% što je blisko prvobitnoj tačnosti oko 71%. Ono što je zanimljivo, jesu izabrane vrijednosti hiperparametara. Izabrana je arhitektura sa dva skrivena sloja od 64 i 32 neurona respektivno, a za optimizator je izabran SGD.\n",
        "\n",
        "NAPOMENA: Vjerovatno se neki rezultati ne poklapaju sa opisanim. Razlog jeste taj što se kod u colabu nekoliko puta pokretao, pa bi bilo jako teško prilikom svakog novog rješenja da se tekst ispravlja."
      ],
      "metadata": {
        "id": "CisPefrVOwYY"
      }
    }
  ]
}