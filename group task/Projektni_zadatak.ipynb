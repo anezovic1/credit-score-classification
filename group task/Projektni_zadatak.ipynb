{
  "nbformat": 4,
  "nbformat_minor": 0,
  "metadata": {
    "colab": {
      "provenance": [],
      "collapsed_sections": [
        "UpL7EmtlycTy",
        "slpWtwA8EHMQ"
      ],
      "toc_visible": true,
      "include_colab_link": true
    },
    "kernelspec": {
      "name": "python3",
      "display_name": "Python 3"
    },
    "language_info": {
      "name": "python"
    }
  },
  "cells": [
    {
      "cell_type": "markdown",
      "metadata": {
        "id": "view-in-github",
        "colab_type": "text"
      },
      "source": [
        "<a href=\"https://colab.research.google.com/github/anezovic1/credit-score-classification/blob/main/Projektni_zadatak.ipynb\" target=\"_parent\"><img src=\"https://colab.research.google.com/assets/colab-badge.svg\" alt=\"Open In Colab\"/></a>"
      ]
    },
    {
      "cell_type": "markdown",
      "source": [
        "# Mašinsko učenje 2023/24\n",
        "\n",
        "## Projektni zadatak"
      ],
      "metadata": {
        "id": "cSEdPJ_6tsH5"
      }
    },
    {
      "cell_type": "markdown",
      "source": [
        "# Zadatak 1"
      ],
      "metadata": {
        "id": "xpCoI_eSwOzP"
      }
    },
    {
      "cell_type": "markdown",
      "source": [
        "Globalni dio"
      ],
      "metadata": {
        "id": "60jV3-zcchzr"
      }
    },
    {
      "cell_type": "code",
      "source": [
        "import numpy as np\n",
        "import matplotlib.pyplot as plt\n",
        "import math\n",
        "import pandas as pd"
      ],
      "metadata": {
        "id": "9xWxTHU_xDPQ"
      },
      "execution_count": null,
      "outputs": []
    },
    {
      "cell_type": "code",
      "source": [
        "from google.colab import drive\n",
        "drive.mount('/content/drive')"
      ],
      "metadata": {
        "id": "vw0QYRgjt_wu",
        "colab": {
          "base_uri": "https://localhost:8080/"
        },
        "outputId": "0193fe5c-9fad-4e54-a257-395ca4b65f59"
      },
      "execution_count": null,
      "outputs": [
        {
          "output_type": "stream",
          "name": "stdout",
          "text": [
            "Mounted at /content/drive\n"
          ]
        }
      ]
    },
    {
      "cell_type": "code",
      "source": [
        "data = pd.read_csv('/content/drive/MyDrive/MU Projekat/dataset/creditscore_dataset.csv')"
      ],
      "metadata": {
        "id": "3KVz5n4rbrrT",
        "colab": {
          "base_uri": "https://localhost:8080/"
        },
        "outputId": "ac89a5f1-da0f-449a-f05f-725a9f28cd9b"
      },
      "execution_count": null,
      "outputs": [
        {
          "output_type": "stream",
          "name": "stderr",
          "text": [
            "<ipython-input-3-7378dbaa747f>:1: DtypeWarning: Columns (28) have mixed types. Specify dtype option on import or set low_memory=False.\n",
            "  data = pd.read_csv('/content/drive/MyDrive/MU Projekat/dataset/creditscore_dataset.csv')\n"
          ]
        }
      ]
    },
    {
      "cell_type": "markdown",
      "source": [
        "## 1.1 Analiza seta podataka"
      ],
      "metadata": {
        "id": "DwfLAJEwT9FM"
      }
    },
    {
      "cell_type": "markdown",
      "source": [
        "**Provjera dimenzija datog skupa podataka**"
      ],
      "metadata": {
        "id": "BHnuwLSdWOTU"
      }
    },
    {
      "cell_type": "code",
      "source": [
        "# prvi način\n",
        "data.shape"
      ],
      "metadata": {
        "id": "XQYg_05XWSH4",
        "colab": {
          "base_uri": "https://localhost:8080/"
        },
        "outputId": "d17a26cd-8928-415f-dd37-54525d9bebdb"
      },
      "execution_count": null,
      "outputs": [
        {
          "output_type": "execute_result",
          "data": {
            "text/plain": [
              "(100022, 30)"
            ]
          },
          "metadata": {},
          "execution_count": 4
        }
      ]
    },
    {
      "cell_type": "code",
      "source": [
        "# drugi način\n",
        "print('Broj redova je: ', len(data.index))\n",
        "print('Broj kolona je: ', len(data.columns))"
      ],
      "metadata": {
        "id": "DiAgFduiWW0T",
        "colab": {
          "base_uri": "https://localhost:8080/"
        },
        "outputId": "f9487833-9dff-4935-942e-d486ebb8b262"
      },
      "execution_count": null,
      "outputs": [
        {
          "output_type": "stream",
          "name": "stdout",
          "text": [
            "Broj redova je:  100022\n",
            "Broj kolona je:  30\n"
          ]
        }
      ]
    },
    {
      "cell_type": "markdown",
      "source": [
        "**Prikaz osnovnih informacija o skupu podataka**"
      ],
      "metadata": {
        "id": "zifgDzt3W3SO"
      }
    },
    {
      "cell_type": "code",
      "source": [
        "# uvid u tipove podataka koji su prisutni u skupu podataka\n",
        "data.info()"
      ],
      "metadata": {
        "id": "DwDQQlBvW72Q",
        "colab": {
          "base_uri": "https://localhost:8080/"
        },
        "outputId": "3a5be521-79bf-422c-ba48-4b10d65e78c5"
      },
      "execution_count": null,
      "outputs": [
        {
          "output_type": "stream",
          "name": "stdout",
          "text": [
            "<class 'pandas.core.frame.DataFrame'>\n",
            "RangeIndex: 100022 entries, 0 to 100021\n",
            "Data columns (total 30 columns):\n",
            " #   Column                    Non-Null Count   Dtype  \n",
            "---  ------                    --------------   -----  \n",
            " 0   Unnamed: 0.2              100022 non-null  int64  \n",
            " 1   Unnamed: 0                100022 non-null  int64  \n",
            " 2   Unnamed: 0.1              100022 non-null  int64  \n",
            " 3   ID                        100022 non-null  object \n",
            " 4   Customer_ID               100022 non-null  object \n",
            " 5   Month                     100022 non-null  object \n",
            " 6   Name_and_Age              90034 non-null   object \n",
            " 7   SSN                       100022 non-null  object \n",
            " 8   Occupation                100022 non-null  object \n",
            " 9   Annual_Income             100022 non-null  object \n",
            " 10  Monthly_Inhand_Salary     85013 non-null   float64\n",
            " 11  Num_Bank_Accounts         100022 non-null  object \n",
            " 12  Num_Credit_Card           100022 non-null  object \n",
            " 13  Interest_Rate             100022 non-null  int64  \n",
            " 14  Num_of_Loan               100022 non-null  object \n",
            " 15  Type_of_Loan              92135 non-null   object \n",
            " 16  Delay_from_due_date       100022 non-null  int64  \n",
            " 17  Num_of_Delayed_Payment    95470 non-null   object \n",
            " 18  Changed_Credit_Limit      100022 non-null  object \n",
            " 19  Num_Credit_Inquiries      98056 non-null   float64\n",
            " 20  Credit_Mix                100022 non-null  object \n",
            " 21  Outstanding_Debt          100022 non-null  object \n",
            " 22  Credit_Utilization_Ratio  100022 non-null  float64\n",
            " 23  Credit_History_Age        90988 non-null   object \n",
            " 24  Payment_of_Min_Amount     100022 non-null  object \n",
            " 25  Total_EMI_per_month       100022 non-null  float64\n",
            " 26  Amount_invested_monthly   95541 non-null   object \n",
            " 27  Payment_Behaviour         100022 non-null  object \n",
            " 28  Monthly_Balance           98822 non-null   object \n",
            " 29  Credit_Score              100022 non-null  object \n",
            "dtypes: float64(4), int64(5), object(21)\n",
            "memory usage: 22.9+ MB\n"
          ]
        }
      ]
    },
    {
      "cell_type": "markdown",
      "source": [
        "**Iako je tipove kolona moguće vidjeti iz prethodnog poziva, drugi način provjere tipova jeste sljedeći.**"
      ],
      "metadata": {
        "id": "0d0_vlviZ_6b"
      }
    },
    {
      "cell_type": "code",
      "source": [
        "data.dtypes"
      ],
      "metadata": {
        "id": "00tn3BHPaOZK",
        "colab": {
          "base_uri": "https://localhost:8080/"
        },
        "outputId": "13c17b5b-2a0c-4179-a8c4-eb1fede738f2"
      },
      "execution_count": null,
      "outputs": [
        {
          "output_type": "execute_result",
          "data": {
            "text/plain": [
              "Unnamed: 0.2                  int64\n",
              "Unnamed: 0                    int64\n",
              "Unnamed: 0.1                  int64\n",
              "ID                           object\n",
              "Customer_ID                  object\n",
              "Month                        object\n",
              "Name_and_Age                 object\n",
              "SSN                          object\n",
              "Occupation                   object\n",
              "Annual_Income                object\n",
              "Monthly_Inhand_Salary       float64\n",
              "Num_Bank_Accounts            object\n",
              "Num_Credit_Card              object\n",
              "Interest_Rate                 int64\n",
              "Num_of_Loan                  object\n",
              "Type_of_Loan                 object\n",
              "Delay_from_due_date           int64\n",
              "Num_of_Delayed_Payment       object\n",
              "Changed_Credit_Limit         object\n",
              "Num_Credit_Inquiries        float64\n",
              "Credit_Mix                   object\n",
              "Outstanding_Debt             object\n",
              "Credit_Utilization_Ratio    float64\n",
              "Credit_History_Age           object\n",
              "Payment_of_Min_Amount        object\n",
              "Total_EMI_per_month         float64\n",
              "Amount_invested_monthly      object\n",
              "Payment_Behaviour            object\n",
              "Monthly_Balance              object\n",
              "Credit_Score                 object\n",
              "dtype: object"
            ]
          },
          "metadata": {},
          "execution_count": 7
        }
      ]
    },
    {
      "cell_type": "markdown",
      "source": [
        "**Pregled samo nekih vrijednosti**"
      ],
      "metadata": {
        "id": "v1F5bU4AYNle"
      }
    },
    {
      "cell_type": "code",
      "source": [
        "data['Name_and_Age'][0]"
      ],
      "metadata": {
        "id": "ovsF-RPmYRf3",
        "colab": {
          "base_uri": "https://localhost:8080/",
          "height": 36
        },
        "outputId": "75580253-9a19-4162-df3d-9ef98869a866"
      },
      "execution_count": null,
      "outputs": [
        {
          "output_type": "execute_result",
          "data": {
            "text/plain": [
              "'Aaron Maashoh,23'"
            ],
            "application/vnd.google.colaboratory.intrinsic+json": {
              "type": "string"
            }
          },
          "metadata": {},
          "execution_count": 8
        }
      ]
    },
    {
      "cell_type": "code",
      "source": [
        "data['Occupation'][200]"
      ],
      "metadata": {
        "id": "3d5vsKXjYlVm",
        "colab": {
          "base_uri": "https://localhost:8080/",
          "height": 36
        },
        "outputId": "7ea01894-9c6c-4693-c011-cc24eef76956"
      },
      "execution_count": null,
      "outputs": [
        {
          "output_type": "execute_result",
          "data": {
            "text/plain": [
              "'Entrepreneur'"
            ],
            "application/vnd.google.colaboratory.intrinsic+json": {
              "type": "string"
            }
          },
          "metadata": {},
          "execution_count": 9
        }
      ]
    },
    {
      "cell_type": "code",
      "source": [
        "data['Type_of_Loan'][5000]"
      ],
      "metadata": {
        "id": "AHRowSZOYo-S",
        "colab": {
          "base_uri": "https://localhost:8080/",
          "height": 36
        },
        "outputId": "6f2386a3-a18e-4968-a72a-d0231032d391"
      },
      "execution_count": null,
      "outputs": [
        {
          "output_type": "execute_result",
          "data": {
            "text/plain": [
              "'Personal Loan, Student Loan, Debt Consolidation Loan, Credit-Builder Loan, Mortgage Loan, Not Specified, and Debt Consolidation Loan'"
            ],
            "application/vnd.google.colaboratory.intrinsic+json": {
              "type": "string"
            }
          },
          "metadata": {},
          "execution_count": 10
        }
      ]
    },
    {
      "cell_type": "code",
      "source": [
        "data['Num_Credit_Inquiries']"
      ],
      "metadata": {
        "id": "bXvHI6KfYygR",
        "colab": {
          "base_uri": "https://localhost:8080/"
        },
        "outputId": "bd8adeef-c729-4a0f-d646-00930a561149"
      },
      "execution_count": null,
      "outputs": [
        {
          "output_type": "execute_result",
          "data": {
            "text/plain": [
              "0         4.0\n",
              "1         4.0\n",
              "2         4.0\n",
              "3         4.0\n",
              "4         4.0\n",
              "         ... \n",
              "100017    3.0\n",
              "100018    3.0\n",
              "100019    3.0\n",
              "100020    3.0\n",
              "100021    3.0\n",
              "Name: Num_Credit_Inquiries, Length: 100022, dtype: float64"
            ]
          },
          "metadata": {},
          "execution_count": 11
        }
      ]
    },
    {
      "cell_type": "markdown",
      "source": [
        "**Izdvajanje samo numeričkih kolona**"
      ],
      "metadata": {
        "id": "SYJU8F0pZcT4"
      }
    },
    {
      "cell_type": "code",
      "source": [
        "numericki_tipovi = ['float64', 'int64']\n",
        "data_numericki = data.select_dtypes(include=numericki_tipovi)\n",
        "data_numericki.dtypes"
      ],
      "metadata": {
        "id": "9yx65ttPZfdu",
        "colab": {
          "base_uri": "https://localhost:8080/"
        },
        "outputId": "0c8a35c4-2dc3-4a6e-e370-3fc594523343"
      },
      "execution_count": null,
      "outputs": [
        {
          "output_type": "execute_result",
          "data": {
            "text/plain": [
              "Unnamed: 0.2                  int64\n",
              "Unnamed: 0                    int64\n",
              "Unnamed: 0.1                  int64\n",
              "Monthly_Inhand_Salary       float64\n",
              "Interest_Rate                 int64\n",
              "Delay_from_due_date           int64\n",
              "Num_Credit_Inquiries        float64\n",
              "Credit_Utilization_Ratio    float64\n",
              "Total_EMI_per_month         float64\n",
              "dtype: object"
            ]
          },
          "metadata": {},
          "execution_count": 12
        }
      ]
    },
    {
      "cell_type": "markdown",
      "source": [
        "**Izdvajanje samo kategoričkih kolona**"
      ],
      "metadata": {
        "id": "bvToj8bAb1P0"
      }
    },
    {
      "cell_type": "code",
      "source": [
        "kategoricki_tipovi = ['object']\n",
        "data_kategoricki = data.select_dtypes(include=kategoricki_tipovi)\n",
        "data_kategoricki.dtypes"
      ],
      "metadata": {
        "id": "JL6vefrDa8KZ",
        "colab": {
          "base_uri": "https://localhost:8080/"
        },
        "outputId": "95dcf6e7-f605-47b5-8eda-7ea6765a31af"
      },
      "execution_count": null,
      "outputs": [
        {
          "output_type": "execute_result",
          "data": {
            "text/plain": [
              "ID                         object\n",
              "Customer_ID                object\n",
              "Month                      object\n",
              "Name_and_Age               object\n",
              "SSN                        object\n",
              "Occupation                 object\n",
              "Annual_Income              object\n",
              "Num_Bank_Accounts          object\n",
              "Num_Credit_Card            object\n",
              "Num_of_Loan                object\n",
              "Type_of_Loan               object\n",
              "Num_of_Delayed_Payment     object\n",
              "Changed_Credit_Limit       object\n",
              "Credit_Mix                 object\n",
              "Outstanding_Debt           object\n",
              "Credit_History_Age         object\n",
              "Payment_of_Min_Amount      object\n",
              "Amount_invested_monthly    object\n",
              "Payment_Behaviour          object\n",
              "Monthly_Balance            object\n",
              "Credit_Score               object\n",
              "dtype: object"
            ]
          },
          "metadata": {},
          "execution_count": 13
        }
      ]
    },
    {
      "cell_type": "markdown",
      "source": [
        "**Broj numeričkih i kategoričkih kolona**"
      ],
      "metadata": {
        "id": "GvHaN42ob7hi"
      }
    },
    {
      "cell_type": "code",
      "source": [
        "print('Broj numeričkih kolona: ', len(data_numericki.columns))\n",
        "print('Broj kategoričkih kolona: ', len(data_kategoricki.columns))"
      ],
      "metadata": {
        "id": "OxqS8OSBbKpn",
        "colab": {
          "base_uri": "https://localhost:8080/"
        },
        "outputId": "fffb4906-6163-4115-94bf-150b1e430449"
      },
      "execution_count": null,
      "outputs": [
        {
          "output_type": "stream",
          "name": "stdout",
          "text": [
            "Broj numeričkih kolona:  9\n",
            "Broj kategoričkih kolona:  21\n"
          ]
        }
      ]
    },
    {
      "cell_type": "markdown",
      "source": [
        "**Deskriptivna statistika**\n",
        "\n",
        "U nastavku se detaljnije obrađuje (Stavka 1.2)."
      ],
      "metadata": {
        "id": "atazTYXIdnU3"
      }
    },
    {
      "cell_type": "code",
      "source": [
        "# za svaku numeričku kolonu\n",
        "data.describe()"
      ],
      "metadata": {
        "id": "WYkw5KX4dp_K",
        "colab": {
          "base_uri": "https://localhost:8080/",
          "height": 337
        },
        "outputId": "8cc984d3-78f0-44e3-ca21-b7bf765b1a07"
      },
      "execution_count": null,
      "outputs": [
        {
          "output_type": "execute_result",
          "data": {
            "text/plain": [
              "       Unnamed: 0.2     Unnamed: 0   Unnamed: 0.1  Monthly_Inhand_Salary  \\\n",
              "count  100022.00000  100022.000000  100022.000000           85013.000000   \n",
              "mean    50010.50000   49998.855802   49998.855802            4193.959305   \n",
              "std     28874.00865   28867.943554   28867.943554            3183.654586   \n",
              "min         0.00000       0.000000       0.000000             303.645417   \n",
              "25%     25005.25000   24998.250000   24998.250000            1625.558333   \n",
              "50%     50010.50000   49999.500000   49999.500000            3093.153333   \n",
              "75%     75015.75000   74999.750000   74999.750000            5957.448333   \n",
              "max    100021.00000   99999.000000   99999.000000           15204.633330   \n",
              "\n",
              "       Interest_Rate  Delay_from_due_date  Num_Credit_Inquiries  \\\n",
              "count  100022.000000        100022.000000          98056.000000   \n",
              "mean       72.462958            21.069315             27.749776   \n",
              "std       466.380239            14.860541            193.156901   \n",
              "min         1.000000            -5.000000              0.000000   \n",
              "25%         8.000000            10.000000              3.000000   \n",
              "50%        13.000000            18.000000              6.000000   \n",
              "75%        20.000000            28.000000              9.000000   \n",
              "max      5797.000000            67.000000           2597.000000   \n",
              "\n",
              "       Credit_Utilization_Ratio  Total_EMI_per_month  \n",
              "count             100022.000000        100022.000000  \n",
              "mean                  32.284992          1403.551424  \n",
              "std                    5.116671          8308.208400  \n",
              "min                   20.000000             0.000000  \n",
              "25%                   28.052683            30.306660  \n",
              "50%                   32.305645            69.246684  \n",
              "75%                   36.496135           161.163199  \n",
              "max                   50.000000         82331.000000  "
            ],
            "text/html": [
              "\n",
              "  <div id=\"df-dc188377-50e0-45b4-8edd-18a176faacc6\" class=\"colab-df-container\">\n",
              "    <div>\n",
              "<style scoped>\n",
              "    .dataframe tbody tr th:only-of-type {\n",
              "        vertical-align: middle;\n",
              "    }\n",
              "\n",
              "    .dataframe tbody tr th {\n",
              "        vertical-align: top;\n",
              "    }\n",
              "\n",
              "    .dataframe thead th {\n",
              "        text-align: right;\n",
              "    }\n",
              "</style>\n",
              "<table border=\"1\" class=\"dataframe\">\n",
              "  <thead>\n",
              "    <tr style=\"text-align: right;\">\n",
              "      <th></th>\n",
              "      <th>Unnamed: 0.2</th>\n",
              "      <th>Unnamed: 0</th>\n",
              "      <th>Unnamed: 0.1</th>\n",
              "      <th>Monthly_Inhand_Salary</th>\n",
              "      <th>Interest_Rate</th>\n",
              "      <th>Delay_from_due_date</th>\n",
              "      <th>Num_Credit_Inquiries</th>\n",
              "      <th>Credit_Utilization_Ratio</th>\n",
              "      <th>Total_EMI_per_month</th>\n",
              "    </tr>\n",
              "  </thead>\n",
              "  <tbody>\n",
              "    <tr>\n",
              "      <th>count</th>\n",
              "      <td>100022.00000</td>\n",
              "      <td>100022.000000</td>\n",
              "      <td>100022.000000</td>\n",
              "      <td>85013.000000</td>\n",
              "      <td>100022.000000</td>\n",
              "      <td>100022.000000</td>\n",
              "      <td>98056.000000</td>\n",
              "      <td>100022.000000</td>\n",
              "      <td>100022.000000</td>\n",
              "    </tr>\n",
              "    <tr>\n",
              "      <th>mean</th>\n",
              "      <td>50010.50000</td>\n",
              "      <td>49998.855802</td>\n",
              "      <td>49998.855802</td>\n",
              "      <td>4193.959305</td>\n",
              "      <td>72.462958</td>\n",
              "      <td>21.069315</td>\n",
              "      <td>27.749776</td>\n",
              "      <td>32.284992</td>\n",
              "      <td>1403.551424</td>\n",
              "    </tr>\n",
              "    <tr>\n",
              "      <th>std</th>\n",
              "      <td>28874.00865</td>\n",
              "      <td>28867.943554</td>\n",
              "      <td>28867.943554</td>\n",
              "      <td>3183.654586</td>\n",
              "      <td>466.380239</td>\n",
              "      <td>14.860541</td>\n",
              "      <td>193.156901</td>\n",
              "      <td>5.116671</td>\n",
              "      <td>8308.208400</td>\n",
              "    </tr>\n",
              "    <tr>\n",
              "      <th>min</th>\n",
              "      <td>0.00000</td>\n",
              "      <td>0.000000</td>\n",
              "      <td>0.000000</td>\n",
              "      <td>303.645417</td>\n",
              "      <td>1.000000</td>\n",
              "      <td>-5.000000</td>\n",
              "      <td>0.000000</td>\n",
              "      <td>20.000000</td>\n",
              "      <td>0.000000</td>\n",
              "    </tr>\n",
              "    <tr>\n",
              "      <th>25%</th>\n",
              "      <td>25005.25000</td>\n",
              "      <td>24998.250000</td>\n",
              "      <td>24998.250000</td>\n",
              "      <td>1625.558333</td>\n",
              "      <td>8.000000</td>\n",
              "      <td>10.000000</td>\n",
              "      <td>3.000000</td>\n",
              "      <td>28.052683</td>\n",
              "      <td>30.306660</td>\n",
              "    </tr>\n",
              "    <tr>\n",
              "      <th>50%</th>\n",
              "      <td>50010.50000</td>\n",
              "      <td>49999.500000</td>\n",
              "      <td>49999.500000</td>\n",
              "      <td>3093.153333</td>\n",
              "      <td>13.000000</td>\n",
              "      <td>18.000000</td>\n",
              "      <td>6.000000</td>\n",
              "      <td>32.305645</td>\n",
              "      <td>69.246684</td>\n",
              "    </tr>\n",
              "    <tr>\n",
              "      <th>75%</th>\n",
              "      <td>75015.75000</td>\n",
              "      <td>74999.750000</td>\n",
              "      <td>74999.750000</td>\n",
              "      <td>5957.448333</td>\n",
              "      <td>20.000000</td>\n",
              "      <td>28.000000</td>\n",
              "      <td>9.000000</td>\n",
              "      <td>36.496135</td>\n",
              "      <td>161.163199</td>\n",
              "    </tr>\n",
              "    <tr>\n",
              "      <th>max</th>\n",
              "      <td>100021.00000</td>\n",
              "      <td>99999.000000</td>\n",
              "      <td>99999.000000</td>\n",
              "      <td>15204.633330</td>\n",
              "      <td>5797.000000</td>\n",
              "      <td>67.000000</td>\n",
              "      <td>2597.000000</td>\n",
              "      <td>50.000000</td>\n",
              "      <td>82331.000000</td>\n",
              "    </tr>\n",
              "  </tbody>\n",
              "</table>\n",
              "</div>\n",
              "    <div class=\"colab-df-buttons\">\n",
              "\n",
              "  <div class=\"colab-df-container\">\n",
              "    <button class=\"colab-df-convert\" onclick=\"convertToInteractive('df-dc188377-50e0-45b4-8edd-18a176faacc6')\"\n",
              "            title=\"Convert this dataframe to an interactive table.\"\n",
              "            style=\"display:none;\">\n",
              "\n",
              "  <svg xmlns=\"http://www.w3.org/2000/svg\" height=\"24px\" viewBox=\"0 -960 960 960\">\n",
              "    <path d=\"M120-120v-720h720v720H120Zm60-500h600v-160H180v160Zm220 220h160v-160H400v160Zm0 220h160v-160H400v160ZM180-400h160v-160H180v160Zm440 0h160v-160H620v160ZM180-180h160v-160H180v160Zm440 0h160v-160H620v160Z\"/>\n",
              "  </svg>\n",
              "    </button>\n",
              "\n",
              "  <style>\n",
              "    .colab-df-container {\n",
              "      display:flex;\n",
              "      gap: 12px;\n",
              "    }\n",
              "\n",
              "    .colab-df-convert {\n",
              "      background-color: #E8F0FE;\n",
              "      border: none;\n",
              "      border-radius: 50%;\n",
              "      cursor: pointer;\n",
              "      display: none;\n",
              "      fill: #1967D2;\n",
              "      height: 32px;\n",
              "      padding: 0 0 0 0;\n",
              "      width: 32px;\n",
              "    }\n",
              "\n",
              "    .colab-df-convert:hover {\n",
              "      background-color: #E2EBFA;\n",
              "      box-shadow: 0px 1px 2px rgba(60, 64, 67, 0.3), 0px 1px 3px 1px rgba(60, 64, 67, 0.15);\n",
              "      fill: #174EA6;\n",
              "    }\n",
              "\n",
              "    .colab-df-buttons div {\n",
              "      margin-bottom: 4px;\n",
              "    }\n",
              "\n",
              "    [theme=dark] .colab-df-convert {\n",
              "      background-color: #3B4455;\n",
              "      fill: #D2E3FC;\n",
              "    }\n",
              "\n",
              "    [theme=dark] .colab-df-convert:hover {\n",
              "      background-color: #434B5C;\n",
              "      box-shadow: 0px 1px 3px 1px rgba(0, 0, 0, 0.15);\n",
              "      filter: drop-shadow(0px 1px 2px rgba(0, 0, 0, 0.3));\n",
              "      fill: #FFFFFF;\n",
              "    }\n",
              "  </style>\n",
              "\n",
              "    <script>\n",
              "      const buttonEl =\n",
              "        document.querySelector('#df-dc188377-50e0-45b4-8edd-18a176faacc6 button.colab-df-convert');\n",
              "      buttonEl.style.display =\n",
              "        google.colab.kernel.accessAllowed ? 'block' : 'none';\n",
              "\n",
              "      async function convertToInteractive(key) {\n",
              "        const element = document.querySelector('#df-dc188377-50e0-45b4-8edd-18a176faacc6');\n",
              "        const dataTable =\n",
              "          await google.colab.kernel.invokeFunction('convertToInteractive',\n",
              "                                                    [key], {});\n",
              "        if (!dataTable) return;\n",
              "\n",
              "        const docLinkHtml = 'Like what you see? Visit the ' +\n",
              "          '<a target=\"_blank\" href=https://colab.research.google.com/notebooks/data_table.ipynb>data table notebook</a>'\n",
              "          + ' to learn more about interactive tables.';\n",
              "        element.innerHTML = '';\n",
              "        dataTable['output_type'] = 'display_data';\n",
              "        await google.colab.output.renderOutput(dataTable, element);\n",
              "        const docLink = document.createElement('div');\n",
              "        docLink.innerHTML = docLinkHtml;\n",
              "        element.appendChild(docLink);\n",
              "      }\n",
              "    </script>\n",
              "  </div>\n",
              "\n",
              "\n",
              "<div id=\"df-96633394-1841-4968-aea8-56ac26ab22f6\">\n",
              "  <button class=\"colab-df-quickchart\" onclick=\"quickchart('df-96633394-1841-4968-aea8-56ac26ab22f6')\"\n",
              "            title=\"Suggest charts\"\n",
              "            style=\"display:none;\">\n",
              "\n",
              "<svg xmlns=\"http://www.w3.org/2000/svg\" height=\"24px\"viewBox=\"0 0 24 24\"\n",
              "     width=\"24px\">\n",
              "    <g>\n",
              "        <path d=\"M19 3H5c-1.1 0-2 .9-2 2v14c0 1.1.9 2 2 2h14c1.1 0 2-.9 2-2V5c0-1.1-.9-2-2-2zM9 17H7v-7h2v7zm4 0h-2V7h2v10zm4 0h-2v-4h2v4z\"/>\n",
              "    </g>\n",
              "</svg>\n",
              "  </button>\n",
              "\n",
              "<style>\n",
              "  .colab-df-quickchart {\n",
              "      --bg-color: #E8F0FE;\n",
              "      --fill-color: #1967D2;\n",
              "      --hover-bg-color: #E2EBFA;\n",
              "      --hover-fill-color: #174EA6;\n",
              "      --disabled-fill-color: #AAA;\n",
              "      --disabled-bg-color: #DDD;\n",
              "  }\n",
              "\n",
              "  [theme=dark] .colab-df-quickchart {\n",
              "      --bg-color: #3B4455;\n",
              "      --fill-color: #D2E3FC;\n",
              "      --hover-bg-color: #434B5C;\n",
              "      --hover-fill-color: #FFFFFF;\n",
              "      --disabled-bg-color: #3B4455;\n",
              "      --disabled-fill-color: #666;\n",
              "  }\n",
              "\n",
              "  .colab-df-quickchart {\n",
              "    background-color: var(--bg-color);\n",
              "    border: none;\n",
              "    border-radius: 50%;\n",
              "    cursor: pointer;\n",
              "    display: none;\n",
              "    fill: var(--fill-color);\n",
              "    height: 32px;\n",
              "    padding: 0;\n",
              "    width: 32px;\n",
              "  }\n",
              "\n",
              "  .colab-df-quickchart:hover {\n",
              "    background-color: var(--hover-bg-color);\n",
              "    box-shadow: 0 1px 2px rgba(60, 64, 67, 0.3), 0 1px 3px 1px rgba(60, 64, 67, 0.15);\n",
              "    fill: var(--button-hover-fill-color);\n",
              "  }\n",
              "\n",
              "  .colab-df-quickchart-complete:disabled,\n",
              "  .colab-df-quickchart-complete:disabled:hover {\n",
              "    background-color: var(--disabled-bg-color);\n",
              "    fill: var(--disabled-fill-color);\n",
              "    box-shadow: none;\n",
              "  }\n",
              "\n",
              "  .colab-df-spinner {\n",
              "    border: 2px solid var(--fill-color);\n",
              "    border-color: transparent;\n",
              "    border-bottom-color: var(--fill-color);\n",
              "    animation:\n",
              "      spin 1s steps(1) infinite;\n",
              "  }\n",
              "\n",
              "  @keyframes spin {\n",
              "    0% {\n",
              "      border-color: transparent;\n",
              "      border-bottom-color: var(--fill-color);\n",
              "      border-left-color: var(--fill-color);\n",
              "    }\n",
              "    20% {\n",
              "      border-color: transparent;\n",
              "      border-left-color: var(--fill-color);\n",
              "      border-top-color: var(--fill-color);\n",
              "    }\n",
              "    30% {\n",
              "      border-color: transparent;\n",
              "      border-left-color: var(--fill-color);\n",
              "      border-top-color: var(--fill-color);\n",
              "      border-right-color: var(--fill-color);\n",
              "    }\n",
              "    40% {\n",
              "      border-color: transparent;\n",
              "      border-right-color: var(--fill-color);\n",
              "      border-top-color: var(--fill-color);\n",
              "    }\n",
              "    60% {\n",
              "      border-color: transparent;\n",
              "      border-right-color: var(--fill-color);\n",
              "    }\n",
              "    80% {\n",
              "      border-color: transparent;\n",
              "      border-right-color: var(--fill-color);\n",
              "      border-bottom-color: var(--fill-color);\n",
              "    }\n",
              "    90% {\n",
              "      border-color: transparent;\n",
              "      border-bottom-color: var(--fill-color);\n",
              "    }\n",
              "  }\n",
              "</style>\n",
              "\n",
              "  <script>\n",
              "    async function quickchart(key) {\n",
              "      const quickchartButtonEl =\n",
              "        document.querySelector('#' + key + ' button');\n",
              "      quickchartButtonEl.disabled = true;  // To prevent multiple clicks.\n",
              "      quickchartButtonEl.classList.add('colab-df-spinner');\n",
              "      try {\n",
              "        const charts = await google.colab.kernel.invokeFunction(\n",
              "            'suggestCharts', [key], {});\n",
              "      } catch (error) {\n",
              "        console.error('Error during call to suggestCharts:', error);\n",
              "      }\n",
              "      quickchartButtonEl.classList.remove('colab-df-spinner');\n",
              "      quickchartButtonEl.classList.add('colab-df-quickchart-complete');\n",
              "    }\n",
              "    (() => {\n",
              "      let quickchartButtonEl =\n",
              "        document.querySelector('#df-96633394-1841-4968-aea8-56ac26ab22f6 button');\n",
              "      quickchartButtonEl.style.display =\n",
              "        google.colab.kernel.accessAllowed ? 'block' : 'none';\n",
              "    })();\n",
              "  </script>\n",
              "</div>\n",
              "    </div>\n",
              "  </div>\n"
            ]
          },
          "metadata": {},
          "execution_count": 15
        }
      ]
    },
    {
      "cell_type": "code",
      "source": [
        "# za svaku kolonu (i numeričke i kategoričke)\n",
        "data.describe(include='all')"
      ],
      "metadata": {
        "id": "A4GoLPWpedTZ",
        "colab": {
          "base_uri": "https://localhost:8080/",
          "height": 478
        },
        "outputId": "c2ebc1ae-a5eb-4751-a4cb-389422462ee6"
      },
      "execution_count": null,
      "outputs": [
        {
          "output_type": "execute_result",
          "data": {
            "text/plain": [
              "        Unnamed: 0.2     Unnamed: 0   Unnamed: 0.1       ID Customer_ID  \\\n",
              "count   100022.00000  100022.000000  100022.000000   100022      100022   \n",
              "unique           NaN            NaN            NaN   100000       12500   \n",
              "top              NaN            NaN            NaN  0x14c33  CUS_0x5313   \n",
              "freq             NaN            NaN            NaN        2           9   \n",
              "mean     50010.50000   49998.855802   49998.855802      NaN         NaN   \n",
              "std      28874.00865   28867.943554   28867.943554      NaN         NaN   \n",
              "min          0.00000       0.000000       0.000000      NaN         NaN   \n",
              "25%      25005.25000   24998.250000   24998.250000      NaN         NaN   \n",
              "50%      50010.50000   49999.500000   49999.500000      NaN         NaN   \n",
              "75%      75015.75000   74999.750000   74999.750000      NaN         NaN   \n",
              "max     100021.00000   99999.000000   99999.000000      NaN         NaN   \n",
              "\n",
              "         Month Name_and_Age        SSN Occupation Annual_Income  ...  \\\n",
              "count   100022        90034     100022     100022        100022  ...   \n",
              "unique       8        25520      12501         46         18940  ...   \n",
              "top      April  Stempelj,35  #F%$D@*&8    _______      17273.83  ...   \n",
              "freq     12505           16       5576       7063            16  ...   \n",
              "mean       NaN          NaN        NaN        NaN           NaN  ...   \n",
              "std        NaN          NaN        NaN        NaN           NaN  ...   \n",
              "min        NaN          NaN        NaN        NaN           NaN  ...   \n",
              "25%        NaN          NaN        NaN        NaN           NaN  ...   \n",
              "50%        NaN          NaN        NaN        NaN           NaN  ...   \n",
              "75%        NaN          NaN        NaN        NaN           NaN  ...   \n",
              "max        NaN          NaN        NaN        NaN           NaN  ...   \n",
              "\n",
              "        Credit_Mix Outstanding_Debt Credit_Utilization_Ratio  \\\n",
              "count       100022           100022            100022.000000   \n",
              "unique           4            13178                      NaN   \n",
              "top       Standard          1360.45                      NaN   \n",
              "freq         36489               24                      NaN   \n",
              "mean           NaN              NaN                32.284992   \n",
              "std            NaN              NaN                 5.116671   \n",
              "min            NaN              NaN                20.000000   \n",
              "25%            NaN              NaN                28.052683   \n",
              "50%            NaN              NaN                32.305645   \n",
              "75%            NaN              NaN                36.496135   \n",
              "max            NaN              NaN                50.000000   \n",
              "\n",
              "            Credit_History_Age Payment_of_Min_Amount Total_EMI_per_month  \\\n",
              "count                    90988                100022       100022.000000   \n",
              "unique                     404                     4                 NaN   \n",
              "top     15 Years and 11 Months                   Yes                 NaN   \n",
              "freq                       447                 37688                 NaN   \n",
              "mean                       NaN                   NaN         1403.551424   \n",
              "std                        NaN                   NaN         8308.208400   \n",
              "min                        NaN                   NaN            0.000000   \n",
              "25%                        NaN                   NaN           30.306660   \n",
              "50%                        NaN                   NaN           69.246684   \n",
              "75%                        NaN                   NaN          161.163199   \n",
              "max                        NaN                   NaN        82331.000000   \n",
              "\n",
              "        Amount_invested_monthly               Payment_Behaviour  \\\n",
              "count                     95541                          100022   \n",
              "unique                    91049                               7   \n",
              "top                   __10000__  Low_spent_Small_value_payments   \n",
              "freq                       4305                           25521   \n",
              "mean                        NaN                             NaN   \n",
              "std                         NaN                             NaN   \n",
              "min                         NaN                             NaN   \n",
              "25%                         NaN                             NaN   \n",
              "50%                         NaN                             NaN   \n",
              "75%                         NaN                             NaN   \n",
              "max                         NaN                             NaN   \n",
              "\n",
              "                         Monthly_Balance  Credit_Score  \n",
              "count                              98822        100022  \n",
              "unique                             98790             3  \n",
              "top     __-333333333333333333333333333__      Standard  \n",
              "freq                                   9         53182  \n",
              "mean                                 NaN           NaN  \n",
              "std                                  NaN           NaN  \n",
              "min                                  NaN           NaN  \n",
              "25%                                  NaN           NaN  \n",
              "50%                                  NaN           NaN  \n",
              "75%                                  NaN           NaN  \n",
              "max                                  NaN           NaN  \n",
              "\n",
              "[11 rows x 30 columns]"
            ],
            "text/html": [
              "\n",
              "  <div id=\"df-761b2694-8836-4695-b18c-8498bab86f7b\" class=\"colab-df-container\">\n",
              "    <div>\n",
              "<style scoped>\n",
              "    .dataframe tbody tr th:only-of-type {\n",
              "        vertical-align: middle;\n",
              "    }\n",
              "\n",
              "    .dataframe tbody tr th {\n",
              "        vertical-align: top;\n",
              "    }\n",
              "\n",
              "    .dataframe thead th {\n",
              "        text-align: right;\n",
              "    }\n",
              "</style>\n",
              "<table border=\"1\" class=\"dataframe\">\n",
              "  <thead>\n",
              "    <tr style=\"text-align: right;\">\n",
              "      <th></th>\n",
              "      <th>Unnamed: 0.2</th>\n",
              "      <th>Unnamed: 0</th>\n",
              "      <th>Unnamed: 0.1</th>\n",
              "      <th>ID</th>\n",
              "      <th>Customer_ID</th>\n",
              "      <th>Month</th>\n",
              "      <th>Name_and_Age</th>\n",
              "      <th>SSN</th>\n",
              "      <th>Occupation</th>\n",
              "      <th>Annual_Income</th>\n",
              "      <th>...</th>\n",
              "      <th>Credit_Mix</th>\n",
              "      <th>Outstanding_Debt</th>\n",
              "      <th>Credit_Utilization_Ratio</th>\n",
              "      <th>Credit_History_Age</th>\n",
              "      <th>Payment_of_Min_Amount</th>\n",
              "      <th>Total_EMI_per_month</th>\n",
              "      <th>Amount_invested_monthly</th>\n",
              "      <th>Payment_Behaviour</th>\n",
              "      <th>Monthly_Balance</th>\n",
              "      <th>Credit_Score</th>\n",
              "    </tr>\n",
              "  </thead>\n",
              "  <tbody>\n",
              "    <tr>\n",
              "      <th>count</th>\n",
              "      <td>100022.00000</td>\n",
              "      <td>100022.000000</td>\n",
              "      <td>100022.000000</td>\n",
              "      <td>100022</td>\n",
              "      <td>100022</td>\n",
              "      <td>100022</td>\n",
              "      <td>90034</td>\n",
              "      <td>100022</td>\n",
              "      <td>100022</td>\n",
              "      <td>100022</td>\n",
              "      <td>...</td>\n",
              "      <td>100022</td>\n",
              "      <td>100022</td>\n",
              "      <td>100022.000000</td>\n",
              "      <td>90988</td>\n",
              "      <td>100022</td>\n",
              "      <td>100022.000000</td>\n",
              "      <td>95541</td>\n",
              "      <td>100022</td>\n",
              "      <td>98822</td>\n",
              "      <td>100022</td>\n",
              "    </tr>\n",
              "    <tr>\n",
              "      <th>unique</th>\n",
              "      <td>NaN</td>\n",
              "      <td>NaN</td>\n",
              "      <td>NaN</td>\n",
              "      <td>100000</td>\n",
              "      <td>12500</td>\n",
              "      <td>8</td>\n",
              "      <td>25520</td>\n",
              "      <td>12501</td>\n",
              "      <td>46</td>\n",
              "      <td>18940</td>\n",
              "      <td>...</td>\n",
              "      <td>4</td>\n",
              "      <td>13178</td>\n",
              "      <td>NaN</td>\n",
              "      <td>404</td>\n",
              "      <td>4</td>\n",
              "      <td>NaN</td>\n",
              "      <td>91049</td>\n",
              "      <td>7</td>\n",
              "      <td>98790</td>\n",
              "      <td>3</td>\n",
              "    </tr>\n",
              "    <tr>\n",
              "      <th>top</th>\n",
              "      <td>NaN</td>\n",
              "      <td>NaN</td>\n",
              "      <td>NaN</td>\n",
              "      <td>0x14c33</td>\n",
              "      <td>CUS_0x5313</td>\n",
              "      <td>April</td>\n",
              "      <td>Stempelj,35</td>\n",
              "      <td>#F%$D@*&amp;8</td>\n",
              "      <td>_______</td>\n",
              "      <td>17273.83</td>\n",
              "      <td>...</td>\n",
              "      <td>Standard</td>\n",
              "      <td>1360.45</td>\n",
              "      <td>NaN</td>\n",
              "      <td>15 Years and 11 Months</td>\n",
              "      <td>Yes</td>\n",
              "      <td>NaN</td>\n",
              "      <td>__10000__</td>\n",
              "      <td>Low_spent_Small_value_payments</td>\n",
              "      <td>__-333333333333333333333333333__</td>\n",
              "      <td>Standard</td>\n",
              "    </tr>\n",
              "    <tr>\n",
              "      <th>freq</th>\n",
              "      <td>NaN</td>\n",
              "      <td>NaN</td>\n",
              "      <td>NaN</td>\n",
              "      <td>2</td>\n",
              "      <td>9</td>\n",
              "      <td>12505</td>\n",
              "      <td>16</td>\n",
              "      <td>5576</td>\n",
              "      <td>7063</td>\n",
              "      <td>16</td>\n",
              "      <td>...</td>\n",
              "      <td>36489</td>\n",
              "      <td>24</td>\n",
              "      <td>NaN</td>\n",
              "      <td>447</td>\n",
              "      <td>37688</td>\n",
              "      <td>NaN</td>\n",
              "      <td>4305</td>\n",
              "      <td>25521</td>\n",
              "      <td>9</td>\n",
              "      <td>53182</td>\n",
              "    </tr>\n",
              "    <tr>\n",
              "      <th>mean</th>\n",
              "      <td>50010.50000</td>\n",
              "      <td>49998.855802</td>\n",
              "      <td>49998.855802</td>\n",
              "      <td>NaN</td>\n",
              "      <td>NaN</td>\n",
              "      <td>NaN</td>\n",
              "      <td>NaN</td>\n",
              "      <td>NaN</td>\n",
              "      <td>NaN</td>\n",
              "      <td>NaN</td>\n",
              "      <td>...</td>\n",
              "      <td>NaN</td>\n",
              "      <td>NaN</td>\n",
              "      <td>32.284992</td>\n",
              "      <td>NaN</td>\n",
              "      <td>NaN</td>\n",
              "      <td>1403.551424</td>\n",
              "      <td>NaN</td>\n",
              "      <td>NaN</td>\n",
              "      <td>NaN</td>\n",
              "      <td>NaN</td>\n",
              "    </tr>\n",
              "    <tr>\n",
              "      <th>std</th>\n",
              "      <td>28874.00865</td>\n",
              "      <td>28867.943554</td>\n",
              "      <td>28867.943554</td>\n",
              "      <td>NaN</td>\n",
              "      <td>NaN</td>\n",
              "      <td>NaN</td>\n",
              "      <td>NaN</td>\n",
              "      <td>NaN</td>\n",
              "      <td>NaN</td>\n",
              "      <td>NaN</td>\n",
              "      <td>...</td>\n",
              "      <td>NaN</td>\n",
              "      <td>NaN</td>\n",
              "      <td>5.116671</td>\n",
              "      <td>NaN</td>\n",
              "      <td>NaN</td>\n",
              "      <td>8308.208400</td>\n",
              "      <td>NaN</td>\n",
              "      <td>NaN</td>\n",
              "      <td>NaN</td>\n",
              "      <td>NaN</td>\n",
              "    </tr>\n",
              "    <tr>\n",
              "      <th>min</th>\n",
              "      <td>0.00000</td>\n",
              "      <td>0.000000</td>\n",
              "      <td>0.000000</td>\n",
              "      <td>NaN</td>\n",
              "      <td>NaN</td>\n",
              "      <td>NaN</td>\n",
              "      <td>NaN</td>\n",
              "      <td>NaN</td>\n",
              "      <td>NaN</td>\n",
              "      <td>NaN</td>\n",
              "      <td>...</td>\n",
              "      <td>NaN</td>\n",
              "      <td>NaN</td>\n",
              "      <td>20.000000</td>\n",
              "      <td>NaN</td>\n",
              "      <td>NaN</td>\n",
              "      <td>0.000000</td>\n",
              "      <td>NaN</td>\n",
              "      <td>NaN</td>\n",
              "      <td>NaN</td>\n",
              "      <td>NaN</td>\n",
              "    </tr>\n",
              "    <tr>\n",
              "      <th>25%</th>\n",
              "      <td>25005.25000</td>\n",
              "      <td>24998.250000</td>\n",
              "      <td>24998.250000</td>\n",
              "      <td>NaN</td>\n",
              "      <td>NaN</td>\n",
              "      <td>NaN</td>\n",
              "      <td>NaN</td>\n",
              "      <td>NaN</td>\n",
              "      <td>NaN</td>\n",
              "      <td>NaN</td>\n",
              "      <td>...</td>\n",
              "      <td>NaN</td>\n",
              "      <td>NaN</td>\n",
              "      <td>28.052683</td>\n",
              "      <td>NaN</td>\n",
              "      <td>NaN</td>\n",
              "      <td>30.306660</td>\n",
              "      <td>NaN</td>\n",
              "      <td>NaN</td>\n",
              "      <td>NaN</td>\n",
              "      <td>NaN</td>\n",
              "    </tr>\n",
              "    <tr>\n",
              "      <th>50%</th>\n",
              "      <td>50010.50000</td>\n",
              "      <td>49999.500000</td>\n",
              "      <td>49999.500000</td>\n",
              "      <td>NaN</td>\n",
              "      <td>NaN</td>\n",
              "      <td>NaN</td>\n",
              "      <td>NaN</td>\n",
              "      <td>NaN</td>\n",
              "      <td>NaN</td>\n",
              "      <td>NaN</td>\n",
              "      <td>...</td>\n",
              "      <td>NaN</td>\n",
              "      <td>NaN</td>\n",
              "      <td>32.305645</td>\n",
              "      <td>NaN</td>\n",
              "      <td>NaN</td>\n",
              "      <td>69.246684</td>\n",
              "      <td>NaN</td>\n",
              "      <td>NaN</td>\n",
              "      <td>NaN</td>\n",
              "      <td>NaN</td>\n",
              "    </tr>\n",
              "    <tr>\n",
              "      <th>75%</th>\n",
              "      <td>75015.75000</td>\n",
              "      <td>74999.750000</td>\n",
              "      <td>74999.750000</td>\n",
              "      <td>NaN</td>\n",
              "      <td>NaN</td>\n",
              "      <td>NaN</td>\n",
              "      <td>NaN</td>\n",
              "      <td>NaN</td>\n",
              "      <td>NaN</td>\n",
              "      <td>NaN</td>\n",
              "      <td>...</td>\n",
              "      <td>NaN</td>\n",
              "      <td>NaN</td>\n",
              "      <td>36.496135</td>\n",
              "      <td>NaN</td>\n",
              "      <td>NaN</td>\n",
              "      <td>161.163199</td>\n",
              "      <td>NaN</td>\n",
              "      <td>NaN</td>\n",
              "      <td>NaN</td>\n",
              "      <td>NaN</td>\n",
              "    </tr>\n",
              "    <tr>\n",
              "      <th>max</th>\n",
              "      <td>100021.00000</td>\n",
              "      <td>99999.000000</td>\n",
              "      <td>99999.000000</td>\n",
              "      <td>NaN</td>\n",
              "      <td>NaN</td>\n",
              "      <td>NaN</td>\n",
              "      <td>NaN</td>\n",
              "      <td>NaN</td>\n",
              "      <td>NaN</td>\n",
              "      <td>NaN</td>\n",
              "      <td>...</td>\n",
              "      <td>NaN</td>\n",
              "      <td>NaN</td>\n",
              "      <td>50.000000</td>\n",
              "      <td>NaN</td>\n",
              "      <td>NaN</td>\n",
              "      <td>82331.000000</td>\n",
              "      <td>NaN</td>\n",
              "      <td>NaN</td>\n",
              "      <td>NaN</td>\n",
              "      <td>NaN</td>\n",
              "    </tr>\n",
              "  </tbody>\n",
              "</table>\n",
              "<p>11 rows × 30 columns</p>\n",
              "</div>\n",
              "    <div class=\"colab-df-buttons\">\n",
              "\n",
              "  <div class=\"colab-df-container\">\n",
              "    <button class=\"colab-df-convert\" onclick=\"convertToInteractive('df-761b2694-8836-4695-b18c-8498bab86f7b')\"\n",
              "            title=\"Convert this dataframe to an interactive table.\"\n",
              "            style=\"display:none;\">\n",
              "\n",
              "  <svg xmlns=\"http://www.w3.org/2000/svg\" height=\"24px\" viewBox=\"0 -960 960 960\">\n",
              "    <path d=\"M120-120v-720h720v720H120Zm60-500h600v-160H180v160Zm220 220h160v-160H400v160Zm0 220h160v-160H400v160ZM180-400h160v-160H180v160Zm440 0h160v-160H620v160ZM180-180h160v-160H180v160Zm440 0h160v-160H620v160Z\"/>\n",
              "  </svg>\n",
              "    </button>\n",
              "\n",
              "  <style>\n",
              "    .colab-df-container {\n",
              "      display:flex;\n",
              "      gap: 12px;\n",
              "    }\n",
              "\n",
              "    .colab-df-convert {\n",
              "      background-color: #E8F0FE;\n",
              "      border: none;\n",
              "      border-radius: 50%;\n",
              "      cursor: pointer;\n",
              "      display: none;\n",
              "      fill: #1967D2;\n",
              "      height: 32px;\n",
              "      padding: 0 0 0 0;\n",
              "      width: 32px;\n",
              "    }\n",
              "\n",
              "    .colab-df-convert:hover {\n",
              "      background-color: #E2EBFA;\n",
              "      box-shadow: 0px 1px 2px rgba(60, 64, 67, 0.3), 0px 1px 3px 1px rgba(60, 64, 67, 0.15);\n",
              "      fill: #174EA6;\n",
              "    }\n",
              "\n",
              "    .colab-df-buttons div {\n",
              "      margin-bottom: 4px;\n",
              "    }\n",
              "\n",
              "    [theme=dark] .colab-df-convert {\n",
              "      background-color: #3B4455;\n",
              "      fill: #D2E3FC;\n",
              "    }\n",
              "\n",
              "    [theme=dark] .colab-df-convert:hover {\n",
              "      background-color: #434B5C;\n",
              "      box-shadow: 0px 1px 3px 1px rgba(0, 0, 0, 0.15);\n",
              "      filter: drop-shadow(0px 1px 2px rgba(0, 0, 0, 0.3));\n",
              "      fill: #FFFFFF;\n",
              "    }\n",
              "  </style>\n",
              "\n",
              "    <script>\n",
              "      const buttonEl =\n",
              "        document.querySelector('#df-761b2694-8836-4695-b18c-8498bab86f7b button.colab-df-convert');\n",
              "      buttonEl.style.display =\n",
              "        google.colab.kernel.accessAllowed ? 'block' : 'none';\n",
              "\n",
              "      async function convertToInteractive(key) {\n",
              "        const element = document.querySelector('#df-761b2694-8836-4695-b18c-8498bab86f7b');\n",
              "        const dataTable =\n",
              "          await google.colab.kernel.invokeFunction('convertToInteractive',\n",
              "                                                    [key], {});\n",
              "        if (!dataTable) return;\n",
              "\n",
              "        const docLinkHtml = 'Like what you see? Visit the ' +\n",
              "          '<a target=\"_blank\" href=https://colab.research.google.com/notebooks/data_table.ipynb>data table notebook</a>'\n",
              "          + ' to learn more about interactive tables.';\n",
              "        element.innerHTML = '';\n",
              "        dataTable['output_type'] = 'display_data';\n",
              "        await google.colab.output.renderOutput(dataTable, element);\n",
              "        const docLink = document.createElement('div');\n",
              "        docLink.innerHTML = docLinkHtml;\n",
              "        element.appendChild(docLink);\n",
              "      }\n",
              "    </script>\n",
              "  </div>\n",
              "\n",
              "\n",
              "<div id=\"df-00fa0a84-82ee-48e5-9bc6-09d80ec84aa3\">\n",
              "  <button class=\"colab-df-quickchart\" onclick=\"quickchart('df-00fa0a84-82ee-48e5-9bc6-09d80ec84aa3')\"\n",
              "            title=\"Suggest charts\"\n",
              "            style=\"display:none;\">\n",
              "\n",
              "<svg xmlns=\"http://www.w3.org/2000/svg\" height=\"24px\"viewBox=\"0 0 24 24\"\n",
              "     width=\"24px\">\n",
              "    <g>\n",
              "        <path d=\"M19 3H5c-1.1 0-2 .9-2 2v14c0 1.1.9 2 2 2h14c1.1 0 2-.9 2-2V5c0-1.1-.9-2-2-2zM9 17H7v-7h2v7zm4 0h-2V7h2v10zm4 0h-2v-4h2v4z\"/>\n",
              "    </g>\n",
              "</svg>\n",
              "  </button>\n",
              "\n",
              "<style>\n",
              "  .colab-df-quickchart {\n",
              "      --bg-color: #E8F0FE;\n",
              "      --fill-color: #1967D2;\n",
              "      --hover-bg-color: #E2EBFA;\n",
              "      --hover-fill-color: #174EA6;\n",
              "      --disabled-fill-color: #AAA;\n",
              "      --disabled-bg-color: #DDD;\n",
              "  }\n",
              "\n",
              "  [theme=dark] .colab-df-quickchart {\n",
              "      --bg-color: #3B4455;\n",
              "      --fill-color: #D2E3FC;\n",
              "      --hover-bg-color: #434B5C;\n",
              "      --hover-fill-color: #FFFFFF;\n",
              "      --disabled-bg-color: #3B4455;\n",
              "      --disabled-fill-color: #666;\n",
              "  }\n",
              "\n",
              "  .colab-df-quickchart {\n",
              "    background-color: var(--bg-color);\n",
              "    border: none;\n",
              "    border-radius: 50%;\n",
              "    cursor: pointer;\n",
              "    display: none;\n",
              "    fill: var(--fill-color);\n",
              "    height: 32px;\n",
              "    padding: 0;\n",
              "    width: 32px;\n",
              "  }\n",
              "\n",
              "  .colab-df-quickchart:hover {\n",
              "    background-color: var(--hover-bg-color);\n",
              "    box-shadow: 0 1px 2px rgba(60, 64, 67, 0.3), 0 1px 3px 1px rgba(60, 64, 67, 0.15);\n",
              "    fill: var(--button-hover-fill-color);\n",
              "  }\n",
              "\n",
              "  .colab-df-quickchart-complete:disabled,\n",
              "  .colab-df-quickchart-complete:disabled:hover {\n",
              "    background-color: var(--disabled-bg-color);\n",
              "    fill: var(--disabled-fill-color);\n",
              "    box-shadow: none;\n",
              "  }\n",
              "\n",
              "  .colab-df-spinner {\n",
              "    border: 2px solid var(--fill-color);\n",
              "    border-color: transparent;\n",
              "    border-bottom-color: var(--fill-color);\n",
              "    animation:\n",
              "      spin 1s steps(1) infinite;\n",
              "  }\n",
              "\n",
              "  @keyframes spin {\n",
              "    0% {\n",
              "      border-color: transparent;\n",
              "      border-bottom-color: var(--fill-color);\n",
              "      border-left-color: var(--fill-color);\n",
              "    }\n",
              "    20% {\n",
              "      border-color: transparent;\n",
              "      border-left-color: var(--fill-color);\n",
              "      border-top-color: var(--fill-color);\n",
              "    }\n",
              "    30% {\n",
              "      border-color: transparent;\n",
              "      border-left-color: var(--fill-color);\n",
              "      border-top-color: var(--fill-color);\n",
              "      border-right-color: var(--fill-color);\n",
              "    }\n",
              "    40% {\n",
              "      border-color: transparent;\n",
              "      border-right-color: var(--fill-color);\n",
              "      border-top-color: var(--fill-color);\n",
              "    }\n",
              "    60% {\n",
              "      border-color: transparent;\n",
              "      border-right-color: var(--fill-color);\n",
              "    }\n",
              "    80% {\n",
              "      border-color: transparent;\n",
              "      border-right-color: var(--fill-color);\n",
              "      border-bottom-color: var(--fill-color);\n",
              "    }\n",
              "    90% {\n",
              "      border-color: transparent;\n",
              "      border-bottom-color: var(--fill-color);\n",
              "    }\n",
              "  }\n",
              "</style>\n",
              "\n",
              "  <script>\n",
              "    async function quickchart(key) {\n",
              "      const quickchartButtonEl =\n",
              "        document.querySelector('#' + key + ' button');\n",
              "      quickchartButtonEl.disabled = true;  // To prevent multiple clicks.\n",
              "      quickchartButtonEl.classList.add('colab-df-spinner');\n",
              "      try {\n",
              "        const charts = await google.colab.kernel.invokeFunction(\n",
              "            'suggestCharts', [key], {});\n",
              "      } catch (error) {\n",
              "        console.error('Error during call to suggestCharts:', error);\n",
              "      }\n",
              "      quickchartButtonEl.classList.remove('colab-df-spinner');\n",
              "      quickchartButtonEl.classList.add('colab-df-quickchart-complete');\n",
              "    }\n",
              "    (() => {\n",
              "      let quickchartButtonEl =\n",
              "        document.querySelector('#df-00fa0a84-82ee-48e5-9bc6-09d80ec84aa3 button');\n",
              "      quickchartButtonEl.style.display =\n",
              "        google.colab.kernel.accessAllowed ? 'block' : 'none';\n",
              "    })();\n",
              "  </script>\n",
              "</div>\n",
              "    </div>\n",
              "  </div>\n"
            ]
          },
          "metadata": {},
          "execution_count": 16
        }
      ]
    },
    {
      "cell_type": "markdown",
      "source": [
        "**Prikaz nedostajućih vrijednosti**"
      ],
      "metadata": {
        "id": "nRbLVU2demYQ"
      }
    },
    {
      "cell_type": "code",
      "source": [
        "nedostajuce_vrijednosti = data.isna().sum()\n",
        "print(nedostajuce_vrijednosti)"
      ],
      "metadata": {
        "id": "brbpmibTeson",
        "colab": {
          "base_uri": "https://localhost:8080/"
        },
        "outputId": "a580ee23-8323-4de7-c655-d26bc56068d4"
      },
      "execution_count": null,
      "outputs": [
        {
          "output_type": "stream",
          "name": "stdout",
          "text": [
            "Unnamed: 0.2                    0\n",
            "Unnamed: 0                      0\n",
            "Unnamed: 0.1                    0\n",
            "ID                              0\n",
            "Customer_ID                     0\n",
            "Month                           0\n",
            "Name_and_Age                 9988\n",
            "SSN                             0\n",
            "Occupation                      0\n",
            "Annual_Income                   0\n",
            "Monthly_Inhand_Salary       15009\n",
            "Num_Bank_Accounts               0\n",
            "Num_Credit_Card                 0\n",
            "Interest_Rate                   0\n",
            "Num_of_Loan                     0\n",
            "Type_of_Loan                 7887\n",
            "Delay_from_due_date             0\n",
            "Num_of_Delayed_Payment       4552\n",
            "Changed_Credit_Limit            0\n",
            "Num_Credit_Inquiries         1966\n",
            "Credit_Mix                      0\n",
            "Outstanding_Debt                0\n",
            "Credit_Utilization_Ratio        0\n",
            "Credit_History_Age           9034\n",
            "Payment_of_Min_Amount           0\n",
            "Total_EMI_per_month             0\n",
            "Amount_invested_monthly      4481\n",
            "Payment_Behaviour               0\n",
            "Monthly_Balance              1200\n",
            "Credit_Score                    0\n",
            "dtype: int64\n"
          ]
        }
      ]
    },
    {
      "cell_type": "markdown",
      "source": [
        "**Prikaz jedinstvenih vrijednosti**\n",
        "\n",
        "Potrebno je pokazati kako su podaci u jednoj koloni raznoliki odnosno postoje različite vrijednosti koje je potrebno srediti na neki način. Zaključak jeste taj da je bolje jedinstvene vrijednosti prikazati nakon transformacije podataka.\n",
        "\n"
      ],
      "metadata": {
        "id": "fXZD4w7Of6mB"
      }
    },
    {
      "cell_type": "code",
      "source": [
        "data['Num_Credit_Card'].unique()"
      ],
      "metadata": {
        "id": "MBhd2Km6gdV3",
        "colab": {
          "base_uri": "https://localhost:8080/"
        },
        "outputId": "0dab7bf2-0a85-4171-8613-ba4689aee4b0"
      },
      "execution_count": null,
      "outputs": [
        {
          "output_type": "execute_result",
          "data": {
            "text/plain": [
              "array(['4', '4 cards', '1385', ..., '955', '1430', '679'], dtype=object)"
            ]
          },
          "metadata": {},
          "execution_count": 18
        }
      ]
    },
    {
      "cell_type": "code",
      "source": [
        "data['Payment_of_Min_Amount'].unique()"
      ],
      "metadata": {
        "id": "EVJ5zu3Ygf3s",
        "colab": {
          "base_uri": "https://localhost:8080/"
        },
        "outputId": "43bc5838-cec0-405c-9c93-cd23ec05649d"
      },
      "execution_count": null,
      "outputs": [
        {
          "output_type": "execute_result",
          "data": {
            "text/plain": [
              "array(['No', 'NM', 'True', 'Yes'], dtype=object)"
            ]
          },
          "metadata": {},
          "execution_count": 19
        }
      ]
    },
    {
      "cell_type": "code",
      "source": [
        "data['Payment_Behaviour'].unique()"
      ],
      "metadata": {
        "id": "jsE2W07vghpP",
        "colab": {
          "base_uri": "https://localhost:8080/"
        },
        "outputId": "b05bd6a7-f1dd-433f-94a5-1ede31214fcb"
      },
      "execution_count": null,
      "outputs": [
        {
          "output_type": "execute_result",
          "data": {
            "text/plain": [
              "array(['High_spent_Small_value_payments',\n",
              "       'Low_spent_Large_value_payments',\n",
              "       'Low_spent_Medium_value_payments',\n",
              "       'Low_spent_Small_value_payments',\n",
              "       'High_spent_Medium_value_payments', '!@9#%8',\n",
              "       'High_spent_Large_value_payments'], dtype=object)"
            ]
          },
          "metadata": {},
          "execution_count": 20
        }
      ]
    },
    {
      "cell_type": "markdown",
      "source": [
        "## 1.2 Analiza pojedinačnih varijabli"
      ],
      "metadata": {
        "id": "aUkpkrzxSpsF"
      }
    },
    {
      "cell_type": "markdown",
      "source": [
        "####Deskriptivna statistika numeričkih varijabli"
      ],
      "metadata": {
        "id": "AiPaAAVnyTEr"
      }
    },
    {
      "cell_type": "code",
      "source": [
        "import seaborn as sns\n",
        "import matplotlib.pyplot as plt\n",
        "\n",
        "# 1. Unnamed: 0.2\n",
        "Unnamed_02_varijabla = data['Unnamed: 0.2']\n",
        "\n",
        "# Distribucija\n",
        "distribucija_Unnamed_02 = Unnamed_02_varijabla.value_counts()\n",
        "\n",
        "# Deskriptivna statistika\n",
        "deskriptivna_statistika_Unnamed_02 = Unnamed_02_varijabla.describe()\n",
        "print('Deskriptivna statistika')\n",
        "print(deskriptivna_statistika_Unnamed_02)"
      ],
      "metadata": {
        "id": "Tm0yWno2wxHX",
        "colab": {
          "base_uri": "https://localhost:8080/"
        },
        "outputId": "20f2eccf-92a3-4213-a6ea-838d7ac5200e"
      },
      "execution_count": null,
      "outputs": [
        {
          "output_type": "stream",
          "name": "stdout",
          "text": [
            "Deskriptivna statistika\n",
            "count    100022.00000\n",
            "mean      50010.50000\n",
            "std       28874.00865\n",
            "min           0.00000\n",
            "25%       25005.25000\n",
            "50%       50010.50000\n",
            "75%       75015.75000\n",
            "max      100021.00000\n",
            "Name: Unnamed: 0.2, dtype: float64\n"
          ]
        }
      ]
    },
    {
      "cell_type": "code",
      "source": [
        "import seaborn as sns\n",
        "import matplotlib.pyplot as plt\n",
        "\n",
        "# 2. Unnamed: 0\n",
        "Unnamed_0_varijabla = data['Unnamed: 0']\n",
        "\n",
        "# Distribucija\n",
        "distribucija_Unnamed_0 = Unnamed_0_varijabla.value_counts()\n",
        "\n",
        "# Deskriptivna statistika\n",
        "deskriptivna_statistika_Unnamed_0 = Unnamed_0_varijabla.describe()\n",
        "print('Deskriptivna statistika')\n",
        "print(deskriptivna_statistika_Unnamed_0)"
      ],
      "metadata": {
        "id": "iyyMPnKHxAG3",
        "colab": {
          "base_uri": "https://localhost:8080/"
        },
        "outputId": "d10e2f0d-90ae-42b8-e0f5-e26914f6137f"
      },
      "execution_count": null,
      "outputs": [
        {
          "output_type": "stream",
          "name": "stdout",
          "text": [
            "Deskriptivna statistika\n",
            "count    100022.000000\n",
            "mean      49998.855802\n",
            "std       28867.943554\n",
            "min           0.000000\n",
            "25%       24998.250000\n",
            "50%       49999.500000\n",
            "75%       74999.750000\n",
            "max       99999.000000\n",
            "Name: Unnamed: 0, dtype: float64\n"
          ]
        }
      ]
    },
    {
      "cell_type": "code",
      "source": [
        "import seaborn as sns\n",
        "import matplotlib.pyplot as plt\n",
        "\n",
        "# 3. Unnamed: 0.1\n",
        "Unnamed_0_1_varijabla = data['Unnamed: 0.1']\n",
        "\n",
        "# Distribucija\n",
        "distribucija_Unnamed_0_1 = Unnamed_0_1_varijabla.value_counts()\n",
        "\n",
        "# Deskriptivna statistika\n",
        "deskriptivna_statistika_Unnamed_0_1 = Unnamed_0_1_varijabla.describe()\n",
        "print('Deskriptivna statistika')\n",
        "print(deskriptivna_statistika_Unnamed_0_1)"
      ],
      "metadata": {
        "id": "NR6NnZpbxWME",
        "colab": {
          "base_uri": "https://localhost:8080/"
        },
        "outputId": "98bf12b5-d545-4e20-fd89-3fc2c1e69a29"
      },
      "execution_count": null,
      "outputs": [
        {
          "output_type": "stream",
          "name": "stdout",
          "text": [
            "Deskriptivna statistika\n",
            "count    100022.000000\n",
            "mean      49998.855802\n",
            "std       28867.943554\n",
            "min           0.000000\n",
            "25%       24998.250000\n",
            "50%       49999.500000\n",
            "75%       74999.750000\n",
            "max       99999.000000\n",
            "Name: Unnamed: 0.1, dtype: float64\n"
          ]
        }
      ]
    },
    {
      "cell_type": "code",
      "source": [
        "# 4. Monthly_Inhand_Salary\n",
        "Monthly_Inhand_Salary_varijabla = data['Monthly_Inhand_Salary']\n",
        "\n",
        "# Distribucija\n",
        "distribucija_Monthly_Inhand_Salary = Monthly_Inhand_Salary_varijabla.value_counts()\n",
        "\n",
        "# Deskriptivna statistika\n",
        "deskriptivna_statistika_Monthly_Inhand_Salary = Monthly_Inhand_Salary_varijabla.describe()\n",
        "print('Deskriptivna statistika')\n",
        "print(deskriptivna_statistika_Monthly_Inhand_Salary)"
      ],
      "metadata": {
        "id": "AhdhvmsHxNWL",
        "colab": {
          "base_uri": "https://localhost:8080/"
        },
        "outputId": "233fdb84-1270-4e8c-dc07-89e74ec0c96d"
      },
      "execution_count": null,
      "outputs": [
        {
          "output_type": "stream",
          "name": "stdout",
          "text": [
            "Deskriptivna statistika\n",
            "count    85013.000000\n",
            "mean      4193.959305\n",
            "std       3183.654586\n",
            "min        303.645417\n",
            "25%       1625.558333\n",
            "50%       3093.153333\n",
            "75%       5957.448333\n",
            "max      15204.633330\n",
            "Name: Monthly_Inhand_Salary, dtype: float64\n"
          ]
        }
      ]
    },
    {
      "cell_type": "code",
      "source": [
        "# 5. Interest_Rate\n",
        "Interest_Rate_varijabla = data['Interest_Rate']\n",
        "\n",
        "# Distribucija\n",
        "distribucija_Interest_Rate = Interest_Rate_varijabla.value_counts()\n",
        "\n",
        "# Deskriptivna statistika\n",
        "deskriptivna_statistika_Interest_Rate = Interest_Rate_varijabla.describe()\n",
        "print('Deskriptivna statistika')\n",
        "print(deskriptivna_statistika_Interest_Rate)"
      ],
      "metadata": {
        "id": "dZHj8V2Ux0j4",
        "colab": {
          "base_uri": "https://localhost:8080/"
        },
        "outputId": "0da74fc3-9f98-44a5-ad84-677413252973"
      },
      "execution_count": null,
      "outputs": [
        {
          "output_type": "stream",
          "name": "stdout",
          "text": [
            "Deskriptivna statistika\n",
            "count    100022.000000\n",
            "mean         72.462958\n",
            "std         466.380239\n",
            "min           1.000000\n",
            "25%           8.000000\n",
            "50%          13.000000\n",
            "75%          20.000000\n",
            "max        5797.000000\n",
            "Name: Interest_Rate, dtype: float64\n"
          ]
        }
      ]
    },
    {
      "cell_type": "code",
      "source": [
        "# 6. Delay_from_due_date\n",
        "Delay_from_due_date_varijabla = data['Delay_from_due_date']\n",
        "\n",
        "# Distribucija\n",
        "distribucija_Delay_from_due_date = Delay_from_due_date_varijabla.value_counts()\n",
        "\n",
        "# Deskriptivna statistika\n",
        "deskriptivna_statistika_Delay_from_due_date = Delay_from_due_date_varijabla.describe()\n",
        "print('Deskriptivna statistika')\n",
        "print(deskriptivna_statistika_Delay_from_due_date)"
      ],
      "metadata": {
        "id": "whWVSQZfx86a",
        "colab": {
          "base_uri": "https://localhost:8080/"
        },
        "outputId": "74a6dbff-6f51-4ada-ee5c-e4ea286f6e97"
      },
      "execution_count": null,
      "outputs": [
        {
          "output_type": "stream",
          "name": "stdout",
          "text": [
            "Deskriptivna statistika\n",
            "count    100022.000000\n",
            "mean         21.069315\n",
            "std          14.860541\n",
            "min          -5.000000\n",
            "25%          10.000000\n",
            "50%          18.000000\n",
            "75%          28.000000\n",
            "max          67.000000\n",
            "Name: Delay_from_due_date, dtype: float64\n"
          ]
        }
      ]
    },
    {
      "cell_type": "code",
      "source": [
        "# 7. Num_Credit_Inquiries\n",
        "Num_Credit_Inquiries_varijabla = data['Num_Credit_Inquiries']\n",
        "\n",
        "# Distribucija\n",
        "distribucija_Num_Credit_Inquiries = Num_Credit_Inquiries_varijabla.value_counts()\n",
        "\n",
        "# Deskriptivna statistika\n",
        "deskriptivna_statistika_Num_Credit_Inquiries = Num_Credit_Inquiries_varijabla.describe()\n",
        "print('Deskriptivna statistika')\n",
        "print(deskriptivna_statistika_Num_Credit_Inquiries)"
      ],
      "metadata": {
        "id": "H4j7GncdyD_d",
        "colab": {
          "base_uri": "https://localhost:8080/"
        },
        "outputId": "b9973a59-c4c2-4b61-ecd7-a63a21aa4418"
      },
      "execution_count": null,
      "outputs": [
        {
          "output_type": "stream",
          "name": "stdout",
          "text": [
            "Deskriptivna statistika\n",
            "count    98056.000000\n",
            "mean        27.749776\n",
            "std        193.156901\n",
            "min          0.000000\n",
            "25%          3.000000\n",
            "50%          6.000000\n",
            "75%          9.000000\n",
            "max       2597.000000\n",
            "Name: Num_Credit_Inquiries, dtype: float64\n"
          ]
        }
      ]
    },
    {
      "cell_type": "code",
      "source": [
        "# 8. Credit_Utilization_Ratio\n",
        "Credit_Utilization_Ratio_varijabla = data['Credit_Utilization_Ratio']\n",
        "\n",
        "# Distribucija\n",
        "distribucija_Credit_Utilization_Ratio  = Credit_Utilization_Ratio_varijabla.value_counts()\n",
        "\n",
        "# Deskriptivna statistika\n",
        "deskriptivna_statistika_Credit_Utilization_Ratio = Credit_Utilization_Ratio_varijabla.describe()\n",
        "print('Deskriptivna statistika')\n",
        "print(deskriptivna_statistika_Credit_Utilization_Ratio )\n"
      ],
      "metadata": {
        "id": "YMAhqz5LyJtU",
        "colab": {
          "base_uri": "https://localhost:8080/"
        },
        "outputId": "d460cceb-2179-42b5-cac6-b10dfedfe04a"
      },
      "execution_count": null,
      "outputs": [
        {
          "output_type": "stream",
          "name": "stdout",
          "text": [
            "Deskriptivna statistika\n",
            "count    100022.000000\n",
            "mean         32.284992\n",
            "std           5.116671\n",
            "min          20.000000\n",
            "25%          28.052683\n",
            "50%          32.305645\n",
            "75%          36.496135\n",
            "max          50.000000\n",
            "Name: Credit_Utilization_Ratio, dtype: float64\n"
          ]
        }
      ]
    },
    {
      "cell_type": "code",
      "source": [
        "# 9. Total_EMI_per_month\n",
        "Total_EMI_per_month_varijabla = data['Total_EMI_per_month']\n",
        "\n",
        "# Distribucija\n",
        "distribucija_Total_EMI_per_month = Total_EMI_per_month_varijabla.value_counts()\n",
        "\n",
        "# Deskriptivna statistika\n",
        "deskriptivna_statistika_Total_EMI_per_month = Total_EMI_per_month_varijabla.describe()\n",
        "print('Deskriptivna statistika')\n",
        "print(deskriptivna_statistika_Total_EMI_per_month )"
      ],
      "metadata": {
        "id": "OKVYuM5WyNfA",
        "colab": {
          "base_uri": "https://localhost:8080/"
        },
        "outputId": "21c85dbe-9501-42b5-8fe9-2b99eebbe8e1"
      },
      "execution_count": null,
      "outputs": [
        {
          "output_type": "stream",
          "name": "stdout",
          "text": [
            "Deskriptivna statistika\n",
            "count    100022.000000\n",
            "mean       1403.551424\n",
            "std        8308.208400\n",
            "min           0.000000\n",
            "25%          30.306660\n",
            "50%          69.246684\n",
            "75%         161.163199\n",
            "max       82331.000000\n",
            "Name: Total_EMI_per_month, dtype: float64\n"
          ]
        }
      ]
    },
    {
      "cell_type": "markdown",
      "source": [
        "####Box-plotovi numeričkih varijabli"
      ],
      "metadata": {
        "id": "UpL7EmtlycTy"
      }
    },
    {
      "cell_type": "code",
      "source": [
        "import matplotlib.pyplot as plt\n",
        "numerics = ['int16', 'int32', 'int64', 'float16', 'float32', 'float64']\n",
        "df_numerics = data.select_dtypes(include=numerics)\n",
        "for col in df_numerics:\n",
        "    plt.figure()\n",
        "    data.boxplot([col])"
      ],
      "metadata": {
        "id": "5s05uaNuymDj",
        "colab": {
          "base_uri": "https://localhost:8080/"
        },
        "outputId": "39a5003e-8bc6-4924-d832-29c67a6ed681"
      },
      "execution_count": null,
      "outputs": [
        {
          "output_type": "display_data",
          "data": {
            "text/plain": [
              "<Figure size 640x480 with 1 Axes>"
            ],
            "image/png": "[encoded data removed]"
          },
          "metadata": {}
        },
        {
          "output_type": "display_data",
          "data": {
            "text/plain": [
              "<Figure size 640x480 with 1 Axes>"
            ],
            "image/png": "[encoded data removed]"
          },
          "metadata": {}
        },
        {
          "output_type": "display_data",
          "data": {
            "text/plain": [
              "<Figure size 640x480 with 1 Axes>"
            ],
            "image/png": "[encoded data removed]"
          },
          "metadata": {}
        },
        {
          "output_type": "display_data",
          "data": {
            "text/plain": [
              "<Figure size 640x480 with 1 Axes>"
            ],
            "image/png": "[encoded data removed]"
          },
          "metadata": {}
        },
        {
          "output_type": "display_data",
          "data": {
            "text/plain": [
              "<Figure size 640x480 with 1 Axes>"
            ],
            "image/png": "[encoded data removed]"
          },
          "metadata": {}
        },
        {
          "output_type": "display_data",
          "data": {
            "text/plain": [
              "<Figure size 640x480 with 1 Axes>"
            ],
            "image/png": "[encoded data removed]"
          },
          "metadata": {}
        },
        {
          "output_type": "display_data",
          "data": {
            "text/plain": [
              "<Figure size 640x480 with 1 Axes>"
            ],
            "image/png": "[encoded data removed]"
          },
          "metadata": {}
        },
        {
          "output_type": "display_data",
          "data": {
            "text/plain": [
              "<Figure size 640x480 with 1 Axes>"
            ],
            "image/png": "[encoded data removed]"
          },
          "metadata": {}
        },
        {
          "output_type": "display_data",
          "data": {
            "text/plain": [
              "<Figure size 640x480 with 1 Axes>"
            ],
            "image/png": "[encoded data removed]"
          },
          "metadata": {}
        }
      ]
    },
    {
      "cell_type": "markdown",
      "source": [
        "#### Histogram numeričkih varijabli"
      ],
      "metadata": {
        "id": "slpWtwA8EHMQ"
      }
    },
    {
      "cell_type": "code",
      "source": [
        "numerics = ['int16', 'int32', 'int64', 'float16', 'float32', 'float64']\n",
        "df_numerics = data.select_dtypes(include=numerics)\n",
        "for col in df_numerics:\n",
        "    plt.figure()\n",
        "    plt.title(col)\n",
        "    data[col].hist()"
      ],
      "metadata": {
        "id": "NqfPLv0d2R9J",
        "colab": {
          "base_uri": "https://localhost:8080/"
        },
        "outputId": "05f891da-ed9e-4a4a-9c2e-df4335a651e8"
      },
      "execution_count": null,
      "outputs": [
        {
          "output_type": "display_data",
          "data": {
            "text/plain": [
              "<Figure size 640x480 with 1 Axes>"
            ],
            "image/png": "[encoded data removed]"
          },
          "metadata": {}
        },
        {
          "output_type": "display_data",
          "data": {
            "text/plain": [
              "<Figure size 640x480 with 1 Axes>"
            ],
            "image/png": "[encoded data removed]"
          },
          "metadata": {}
        },
        {
          "output_type": "display_data",
          "data": {
            "text/plain": [
              "<Figure size 640x480 with 1 Axes>"
            ],
            "image/png": "[encoded data removed]"
          },
          "metadata": {}
        },
        {
          "output_type": "display_data",
          "data": {
            "text/plain": [
              "<Figure size 640x480 with 1 Axes>"
            ],
            "image/png": "[encoded data removed]"
          },
          "metadata": {}
        },
        {
          "output_type": "display_data",
          "data": {
            "text/plain": [
              "<Figure size 640x480 with 1 Axes>"
            ],
            "image/png": "[encoded data removed]"
          },
          "metadata": {}
        },
        {
          "output_type": "display_data",
          "data": {
            "text/plain": [
              "<Figure size 640x480 with 1 Axes>"
            ],
            "image/png": "[encoded data removed]"
          },
          "metadata": {}
        },
        {
          "output_type": "display_data",
          "data": {
            "text/plain": [
              "<Figure size 640x480 with 1 Axes>"
            ],
            "image/png": "[encoded data removed]"
          },
          "metadata": {}
        },
        {
          "output_type": "display_data",
          "data": {
            "text/plain": [
              "<Figure size 640x480 with 1 Axes>"
            ],
            "image/png": "[encoded data removed]"
          },
          "metadata": {}
        },
        {
          "output_type": "display_data",
          "data": {
            "text/plain": [
              "<Figure size 640x480 with 1 Axes>"
            ],
            "image/png": "[encoded data removed]"
          },
          "metadata": {}
        }
      ]
    },
    {
      "cell_type": "markdown",
      "source": [
        "#### Kategoričke varijable"
      ],
      "metadata": {
        "id": "ufIulWNYiJcj"
      }
    },
    {
      "cell_type": "code",
      "source": [
        "data = data.dropna(subset=['ID'])\n",
        "id_stats = data['ID'].describe()\n",
        "count_value = id_stats['count']\n",
        "unique_value = id_stats['unique']\n",
        "top_value = id_stats['top']\n",
        "frequency_value = id_stats['freq']\n",
        "\n",
        "print(f\"Count: {count_value}\")\n",
        "print(f\"Unique: {unique_value}\")\n",
        "print(f\"Top Value: {top_value}\")\n",
        "print(f\"Frequency: {frequency_value}\")"
      ],
      "metadata": {
        "id": "0pugqX4Cik0Z",
        "colab": {
          "base_uri": "https://localhost:8080/"
        },
        "outputId": "2ab8ff1b-239b-4b4a-b737-f6c05904edc9"
      },
      "execution_count": null,
      "outputs": [
        {
          "output_type": "stream",
          "name": "stdout",
          "text": [
            "Count: 100022\n",
            "Unique: 100000\n",
            "Top Value: 0x14c33\n",
            "Frequency: 2\n"
          ]
        }
      ]
    },
    {
      "cell_type": "markdown",
      "source": [
        "Ovo iznad je primjer ispisa podataka za jednu kategoričku varijablu, ali u nastavku ćemo prikazati tabelu koja je će sve ispisati skupa za svaku varijablu."
      ],
      "metadata": {
        "id": "gIOxizhxkkhn"
      }
    },
    {
      "cell_type": "code",
      "source": [
        "!pip install prettytable"
      ],
      "metadata": {
        "id": "6K3vpJX4lBls",
        "colab": {
          "base_uri": "https://localhost:8080/"
        },
        "outputId": "20278206-1432-4703-f221-300a28470b94"
      },
      "execution_count": null,
      "outputs": [
        {
          "output_type": "stream",
          "name": "stdout",
          "text": [
            "Requirement already satisfied: prettytable in /usr/local/lib/python3.10/dist-packages (3.9.0)\n",
            "Requirement already satisfied: wcwidth in /usr/local/lib/python3.10/dist-packages (from prettytable) (0.2.12)\n"
          ]
        }
      ]
    },
    {
      "cell_type": "code",
      "source": [
        "import pandas as pd\n",
        "from prettytable import PrettyTable\n",
        "\n",
        "\n",
        "object_columns = data.select_dtypes(include='object').columns\n",
        "\n",
        "summary_table = PrettyTable()\n",
        "summary_table.field_names = ['Column', 'Count', 'Unique', 'Top Value', 'Frequency']\n",
        "\n",
        "for column in object_columns:\n",
        "    column_stats = data[column].describe()\n",
        "    count_value = column_stats['count']\n",
        "    unique_value = column_stats['unique']\n",
        "    top_value = column_stats['top']\n",
        "    frequency_value = column_stats['freq']\n",
        "\n",
        "    summary_table.add_row([column, count_value, unique_value, top_value, frequency_value])\n",
        "\n",
        "\n",
        "print(summary_table)\n"
      ],
      "metadata": {
        "id": "NsyagkFnkz9t",
        "colab": {
          "base_uri": "https://localhost:8080/"
        },
        "outputId": "153d3a11-0c40-4c23-d1e6-df1d74a662e1"
      },
      "execution_count": null,
      "outputs": [
        {
          "output_type": "stream",
          "name": "stdout",
          "text": [
            "+-------------------------+--------+--------+----------------------------------+-----------+\n",
            "|          Column         | Count  | Unique |            Top Value             | Frequency |\n",
            "+-------------------------+--------+--------+----------------------------------+-----------+\n",
            "|            ID           | 100022 | 100000 |             0x14c33              |     2     |\n",
            "|       Customer_ID       | 100022 | 12500  |            CUS_0x5313            |     9     |\n",
            "|          Month          | 100022 |   8    |              April               |   12505   |\n",
            "|       Name_and_Age      | 90034  | 25520  |           Stempelj,35            |     16    |\n",
            "|           SSN           | 100022 | 12501  |            #F%$D@*&8             |    5576   |\n",
            "|        Occupation       | 100022 |   46   |             _______              |    7063   |\n",
            "|      Annual_Income      | 100022 | 18940  |             17273.83             |     16    |\n",
            "|    Num_Bank_Accounts    | 100022 |  984   |                6                 |   12357   |\n",
            "|     Num_Credit_Card     | 100022 |  1315  |                5                 |   17097   |\n",
            "|       Num_of_Loan       | 100022 |  434   |                3                 |   14391   |\n",
            "|       Type_of_Loan      | 92135  |  6261  |              uknown              |    3521   |\n",
            "|  Num_of_Delayed_Payment | 95470  |  750   |                19                |    5330   |\n",
            "|   Changed_Credit_Limit  | 100022 |  3635  |                _                 |    2091   |\n",
            "|        Credit_Mix       | 100022 |   4    |             Standard             |   36489   |\n",
            "|     Outstanding_Debt    | 100022 | 13178  |             1360.45              |     24    |\n",
            "|    Credit_History_Age   | 90988  |  404   |      15 Years and 11 Months      |    447    |\n",
            "|  Payment_of_Min_Amount  | 100022 |   4    |               Yes                |   37688   |\n",
            "| Amount_invested_monthly | 95541  | 91049  |            __10000__             |    4305   |\n",
            "|    Payment_Behaviour    | 100022 |   7    |  Low_spent_Small_value_payments  |   25521   |\n",
            "|     Monthly_Balance     | 98822  | 98790  | __-333333333333333333333333333__ |     9     |\n",
            "|       Credit_Score      | 100022 |   3    |             Standard             |   53182   |\n",
            "+-------------------------+--------+--------+----------------------------------+-----------+\n"
          ]
        }
      ]
    },
    {
      "cell_type": "code",
      "source": [
        "import seaborn as sns\n",
        "import matplotlib.pyplot as plt\n",
        "from concurrent.futures import ThreadPoolExecutor\n",
        "from collections import Counter\n",
        "import pandas as pd\n",
        "\n",
        "def count_category(category, dataframe):\n",
        "    count = dataframe[dataframe['Month'] == category].shape[0]\n",
        "    return category, count\n",
        "\n",
        "def plot_month_distribution_threads(dataframe, column_name, y_limit = 15000):\n",
        "\n",
        "    # Filter out null and empty values\n",
        "    dataframe = dataframe.dropna(subset=[column_name])\n",
        "    dataframe = dataframe[dataframe[column_name].str.strip() != '']\n",
        "\n",
        "    # Count the occurrences of each category using threads\n",
        "    categories = dataframe[column_name].unique()\n",
        "    counts = {}\n",
        "\n",
        "    with ThreadPoolExecutor() as executor:\n",
        "        results = executor.map(lambda category: count_category(category, dataframe), categories)\n",
        "\n",
        "    for result in results:\n",
        "        category, count = result\n",
        "        counts[category] = count\n",
        "\n",
        "    # Plot the bar chart\n",
        "    sns.barplot(x=list(counts.keys()), y=list(counts.values()))\n",
        "    plt.title(f'Distribution of {column_name}')\n",
        "    plt.xlabel(column_name)\n",
        "    plt.ylabel('Count')\n",
        "    plt.xticks(rotation=45, ha='right')\n",
        "    plt.ylim(0, y_limit)\n",
        "    plt.show()\n",
        "\n",
        "    month_counts = dataframe['Month'].value_counts()\n",
        "\n",
        "    for month, count in month_counts.items():\n",
        "     print(f\"{month} {count}\")\n",
        "plot_month_distribution_threads(data, 'Month',y_limit = 15000)\n",
        "\n",
        "\n"
      ],
      "metadata": {
        "id": "-T6w2Kq7izgT",
        "colab": {
          "base_uri": "https://localhost:8080/",
          "height": 650
        },
        "outputId": "642fa39e-4938-470d-d4b1-2653649dfdda"
      },
      "execution_count": null,
      "outputs": [
        {
          "output_type": "display_data",
          "data": {
            "text/plain": [
              "<Figure size 640x480 with 1 Axes>"
            ],
            "image/png": "[encoded data removed]"
          },
          "metadata": {}
        },
        {
          "output_type": "stream",
          "name": "stdout",
          "text": [
            "April 12505\n",
            "8 12504\n",
            "January 12503\n",
            "6 12503\n",
            "3 12502\n",
            "May 12502\n",
            "July 12502\n",
            "February 12501\n"
          ]
        }
      ]
    },
    {
      "cell_type": "code",
      "source": [
        "import seaborn as sns\n",
        "import matplotlib.pyplot as plt\n",
        "from concurrent.futures import ThreadPoolExecutor\n",
        "from collections import Counter\n",
        "import pandas as pd\n",
        "\n",
        "def count_category(category, dataframe):\n",
        "    count = dataframe[dataframe['Occupation'] == category].shape[0]\n",
        "    return category, count\n",
        "\n",
        "def plot_Occupation_distribution_threads(dataframe, column_name, bar_width=0.8):\n",
        "    # Filter out null and empty values\n",
        "    dataframe = dataframe.dropna(subset=[column_name])\n",
        "    dataframe = dataframe[dataframe[column_name].str.strip() != '']\n",
        "\n",
        "    # Count the occurrences of each category using threads\n",
        "    categories = dataframe[column_name].unique()\n",
        "    counts = {}\n",
        "\n",
        "    with ThreadPoolExecutor() as executor:\n",
        "        results = executor.map(lambda category: count_category(category, dataframe), categories)\n",
        "\n",
        "    for result in results:\n",
        "        category, count = result\n",
        "        counts[category] = count\n",
        "\n",
        "    # Plot the bar chart with adjusted figure size\n",
        "    fig, ax = plt.subplots(figsize=(15, 6))\n",
        "    sns.barplot(x=list(counts.keys()), y=list(counts.values()), palette=\"viridis\", dodge=False, errorbar=None, width=bar_width, ax=ax)\n",
        "    plt.title(f'Distribution of {column_name}')\n",
        "    plt.xlabel(column_name)\n",
        "    plt.ylabel('Count')\n",
        "    plt.xticks(rotation=90, ha='right')\n",
        "    plt.show()\n",
        "\n",
        "\n",
        "plot_Occupation_distribution_threads(data, 'Occupation', bar_width=0.8)\n"
      ],
      "metadata": {
        "id": "0wBqxnAqjHcy",
        "colab": {
          "base_uri": "https://localhost:8080/",
          "height": 602
        },
        "outputId": "e9b03f5b-f643-4ade-b633-95410ddd9af5"
      },
      "execution_count": null,
      "outputs": [
        {
          "output_type": "display_data",
          "data": {
            "text/plain": [
              "<Figure size 1500x600 with 1 Axes>"
            ],
            "image/png": "[encoded data removed]"
          },
          "metadata": {}
        }
      ]
    },
    {
      "cell_type": "code",
      "source": [
        "import seaborn as sns\n",
        "import matplotlib.pyplot as plt\n",
        "from concurrent.futures import ThreadPoolExecutor\n",
        "from collections import Counter\n",
        "import pandas as pd\n",
        "\n",
        "def count_category(category, dataframe):\n",
        "    count = dataframe[dataframe['Credit_Mix'] == category].shape[0]\n",
        "    return category, count\n",
        "\n",
        "def plot_Credit_Mix_distribution_threads(dataframe, column_name):\n",
        "\n",
        "    # Filter out null and empty values\n",
        "    dataframe = dataframe.dropna(subset=[column_name])\n",
        "    dataframe = dataframe[dataframe[column_name].str.strip() != '']\n",
        "\n",
        "\n",
        "    categories = dataframe[column_name].unique()\n",
        "    counts = {}\n",
        "\n",
        "    with ThreadPoolExecutor() as executor:\n",
        "        results = executor.map(lambda category: count_category(category, dataframe), categories)\n",
        "\n",
        "    for result in results:\n",
        "        category, count = result\n",
        "        counts[category] = count\n",
        "\n",
        "\n",
        "    sns.barplot(x=list(counts.keys()), y=list(counts.values()))\n",
        "    plt.title(f'Distribution of {column_name}')\n",
        "    plt.xlabel(column_name)\n",
        "    plt.ylabel('Count')\n",
        "    plt.xticks(rotation=45, ha='right')\n",
        "    plt.show()\n",
        "\n",
        "    credit_mix = dataframe['Credit_Mix'].value_counts()\n",
        "    for credit, count in credit_mix.items():\n",
        "      print(f\"{credit}: {count}\")\n",
        "\n",
        "plot_Credit_Mix_distribution_threads(data, 'Credit_Mix')\n"
      ],
      "metadata": {
        "id": "uPHr7EvTlF-V",
        "colab": {
          "base_uri": "https://localhost:8080/",
          "height": 582
        },
        "outputId": "bed9f8f0-ebe7-4743-b5af-848c262f25c4"
      },
      "execution_count": null,
      "outputs": [
        {
          "output_type": "display_data",
          "data": {
            "text/plain": [
              "<Figure size 640x480 with 1 Axes>"
            ],
            "image/png": "[encoded data removed]"
          },
          "metadata": {}
        },
        {
          "output_type": "stream",
          "name": "stdout",
          "text": [
            "Standard: 36489\n",
            "Good: 24339\n",
            "_: 20199\n",
            "Bad: 18995\n"
          ]
        }
      ]
    },
    {
      "cell_type": "code",
      "source": [
        "import seaborn as sns\n",
        "import matplotlib.pyplot as plt\n",
        "from concurrent.futures import ThreadPoolExecutor\n",
        "from collections import Counter\n",
        "import pandas as pd\n",
        "\n",
        "def count_category(category, dataframe):\n",
        "    count = dataframe[dataframe['Payment_of_Min_Amount'] == category].shape[0]\n",
        "    return category, count\n",
        "\n",
        "def plot_Payment_of_Min_Amount_distribution_threads(dataframe, column_name):\n",
        "\n",
        "    # Filter out null and empty values\n",
        "    dataframe = dataframe.dropna(subset=[column_name])\n",
        "    dataframe = dataframe[dataframe[column_name].str.strip() != '']\n",
        "\n",
        "    # Count the occurrences of each category using threads\n",
        "    categories = dataframe[column_name].unique()\n",
        "    counts = {}\n",
        "\n",
        "    with ThreadPoolExecutor() as executor:\n",
        "        results = executor.map(lambda category: count_category(category, dataframe), categories)\n",
        "\n",
        "    for result in results:\n",
        "        category, count = result\n",
        "        counts[category] = count\n",
        "\n",
        "    sns.barplot(x=list(counts.keys()), y=list(counts.values()))\n",
        "    plt.title(f'Distribution of {column_name}')\n",
        "    plt.xlabel(column_name)\n",
        "    plt.ylabel('Count')\n",
        "    plt.xticks(rotation=45, ha='right')\n",
        "    plt.show()\n",
        "\n",
        "    payment_of_Min_Amount = dataframe['Payment_of_Min_Amount'].value_counts()\n",
        "    for min, count in payment_of_Min_Amount.items():\n",
        "      print(f\"{min}: {count}\")\n",
        "\n",
        "plot_Payment_of_Min_Amount_distribution_threads(data, 'Payment_of_Min_Amount')"
      ],
      "metadata": {
        "id": "AM26gNt6lYzf",
        "colab": {
          "base_uri": "https://localhost:8080/",
          "height": 558
        },
        "outputId": "bc7154ac-f95a-46e4-c809-2829f67ff517"
      },
      "execution_count": null,
      "outputs": [
        {
          "output_type": "display_data",
          "data": {
            "text/plain": [
              "<Figure size 640x480 with 1 Axes>"
            ],
            "image/png": "[encoded data removed]"
          },
          "metadata": {}
        },
        {
          "output_type": "stream",
          "name": "stdout",
          "text": [
            "Yes: 37688\n",
            "No: 35671\n",
            "True: 14652\n",
            "NM: 12011\n"
          ]
        }
      ]
    },
    {
      "cell_type": "code",
      "source": [
        "import seaborn as sns\n",
        "import matplotlib.pyplot as plt\n",
        "from concurrent.futures import ThreadPoolExecutor\n",
        "from collections import Counter\n",
        "import pandas as pd\n",
        "\n",
        "def count_category(category, dataframe):\n",
        "    count = dataframe[dataframe['Payment_Behaviour'] == category].shape[0]\n",
        "    return category, count\n",
        "\n",
        "def plot_Payment_Behaviour_distribution_threads(dataframe, column_name):\n",
        "\n",
        "    # Filter out null and empty values\n",
        "    dataframe = dataframe.dropna(subset=[column_name])\n",
        "    dataframe = dataframe[dataframe[column_name].str.strip() != '']\n",
        "\n",
        "    # Count the occurrences of each category using threads\n",
        "    categories = dataframe[column_name].unique()\n",
        "    counts = {}\n",
        "\n",
        "    with ThreadPoolExecutor() as executor:\n",
        "        results = executor.map(lambda category: count_category(category, dataframe), categories)\n",
        "\n",
        "    for result in results:\n",
        "        category, count = result\n",
        "        counts[category] = count\n",
        "\n",
        "\n",
        "    sns.barplot(x=list(counts.keys()), y=list(counts.values()))\n",
        "    plt.title(f'Distribution of {column_name}')\n",
        "    plt.xlabel(column_name)\n",
        "    plt.ylabel('Count')\n",
        "    plt.xticks(rotation=45, ha='right')\n",
        "    plt.show()\n",
        "\n",
        "    payment_Behaviour = dataframe['Payment_Behaviour'].value_counts()\n",
        "    for p, count in payment_Behaviour.items():\n",
        "      print(f\"{p}: {count}\")\n",
        "\n",
        "plot_Payment_Behaviour_distribution_threads(data, 'Payment_Behaviour')\n"
      ],
      "metadata": {
        "id": "rFyIY_H0lkqz",
        "colab": {
          "base_uri": "https://localhost:8080/",
          "height": 774
        },
        "outputId": "877962fc-ec38-4ead-fe99-9c3e10b2c66d"
      },
      "execution_count": null,
      "outputs": [
        {
          "output_type": "display_data",
          "data": {
            "text/plain": [
              "<Figure size 640x480 with 1 Axes>"
            ],
            "image/png": "[encoded data removed]"
          },
          "metadata": {}
        },
        {
          "output_type": "stream",
          "name": "stdout",
          "text": [
            "Low_spent_Small_value_payments: 25521\n",
            "High_spent_Medium_value_payments: 17544\n",
            "Low_spent_Medium_value_payments: 13862\n",
            "High_spent_Large_value_payments: 13725\n",
            "High_spent_Small_value_payments: 11342\n",
            "Low_spent_Large_value_payments: 10427\n",
            "!@9#%8: 7601\n"
          ]
        }
      ]
    },
    {
      "cell_type": "code",
      "source": [
        "import seaborn as sns\n",
        "import matplotlib.pyplot as plt\n",
        "from concurrent.futures import ThreadPoolExecutor\n",
        "from collections import Counter\n",
        "import pandas as pd\n",
        "\n",
        "def count_category(category, dataframe):\n",
        "    count = dataframe[dataframe['Credit_Score'] == category].shape[0]\n",
        "    return category, count\n",
        "\n",
        "def plot_Credit_Score_distribution_threads(dataframe, column_name):\n",
        "\n",
        "    # Filter out null and empty values\n",
        "    dataframe = dataframe.dropna(subset=[column_name])\n",
        "    dataframe = dataframe[dataframe[column_name].str.strip() != '']\n",
        "\n",
        "    # Count the occurrences of each category using threads\n",
        "    categories = dataframe[column_name].unique()\n",
        "    counts = {}\n",
        "\n",
        "    with ThreadPoolExecutor() as executor:\n",
        "        results = executor.map(lambda category: count_category(category, dataframe), categories)\n",
        "\n",
        "    for result in results:\n",
        "        category, count = result\n",
        "        counts[category] = count\n",
        "\n",
        "    # Plot the bar chart\n",
        "    sns.barplot(x=list(counts.keys()), y=list(counts.values()))\n",
        "    plt.title(f'Distribution of {column_name}')\n",
        "    plt.xlabel(column_name)\n",
        "    plt.ylabel('Count')\n",
        "    plt.xticks(rotation=45, ha='right')\n",
        "    plt.show()\n",
        "\n",
        "    credit_Score = dataframe['Credit_Score'].value_counts()\n",
        "    for c, count in credit_Score.items():\n",
        "      print(f\"{c}: {count}\")\n",
        "\n",
        "plot_Credit_Score_distribution_threads(data, 'Credit_Score')\n"
      ],
      "metadata": {
        "id": "I5i3Majvlr9t",
        "colab": {
          "base_uri": "https://localhost:8080/",
          "height": 565
        },
        "outputId": "e1de99e0-1d82-4f48-e712-0a209d2db2c2"
      },
      "execution_count": null,
      "outputs": [
        {
          "output_type": "display_data",
          "data": {
            "text/plain": [
              "<Figure size 640x480 with 1 Axes>"
            ],
            "image/png": "[encoded data removed]"
          },
          "metadata": {}
        },
        {
          "output_type": "stream",
          "name": "stdout",
          "text": [
            "Standard: 53182\n",
            "Poor: 29008\n",
            "Good: 17832\n"
          ]
        }
      ]
    },
    {
      "cell_type": "markdown",
      "source": [
        "##1.3 Transformacija podataka\n",
        "\n",
        "$\\color{orange}{\\text{Napomena: Sve naredne transformacije direktno mijenjaju učitani dataset}}$"
      ],
      "metadata": {
        "id": "cINnXz2zg3Kg"
      }
    },
    {
      "cell_type": "markdown",
      "source": [
        "Prvi korak prije procesiranja nedostajućih vrijednosti i outliera jeste da sve vrijednosti unutar jedne kolone svedemo na isti tip. Za to će nam biti potrebne različite bibliotečne funkcije iz biblioteka pandas i numpy, kao i naša custom rješenja"
      ],
      "metadata": {
        "id": "IWrBNYFeh5oa"
      }
    },
    {
      "cell_type": "code",
      "source": [
        "def parse_decimal(value):\n",
        "    value = str(value)\n",
        "    # Remove special characters except comma and point!\n",
        "    cleaned_value = ''.join(char for char in value if char.isdigit() or char in ['.', ',', '-'])\n",
        "    if ((not cleaned_value) or (cleaned_value == '.') or (cleaned_value == ',') or (cleaned_value == '-')):\n",
        "      return float(0)\n",
        "    return float(cleaned_value.replace(',', ''))"
      ],
      "metadata": {
        "id": "C3grK5UDMQxA"
      },
      "execution_count": null,
      "outputs": []
    },
    {
      "cell_type": "markdown",
      "source": [
        "Metoda transform_float_column prima parametar key koji određuje float kolonu nad kojom ćemo vršiti transformaciju i uljepšavanje. **Ovo je urađeno zbog prisustva nekoliko kolona koje zahtijevaju ovaj dio transformacije.**"
      ],
      "metadata": {
        "id": "ofFnxbZh3jN4"
      }
    },
    {
      "cell_type": "code",
      "source": [
        "def transform_float_column(data, key):\n",
        "  data[key] = data[key].apply(parse_decimal).astype(float)\n",
        "  return data"
      ],
      "metadata": {
        "id": "jHORwr3IwItw"
      },
      "execution_count": null,
      "outputs": []
    },
    {
      "cell_type": "markdown",
      "source": [
        "Nakon što smo vrijednosti unutar jedne kolone sveli na jedan tip, potrebno je izvršiti transformaciju nedostajućih i outlier vrijednosti. Za to koristimo pomoćne funkcije prikazane ispod"
      ],
      "metadata": {
        "id": "qVDKZHEOenMC"
      }
    },
    {
      "cell_type": "markdown",
      "source": [
        "Transformacija kolone korištenjem grupne mode"
      ],
      "metadata": {
        "id": "8T10V86oj2hF"
      }
    },
    {
      "cell_type": "code",
      "source": [
        "def get_mode(x):\n",
        "  mode_result = pd.Series.mode(x)\n",
        "  return mode_result[0]"
      ],
      "metadata": {
        "id": "d8WDAuedgD_V"
      },
      "execution_count": null,
      "outputs": []
    },
    {
      "cell_type": "code",
      "source": [
        "def transform_column_outliers_group_mode(data, key, group_by, condition):\n",
        "  grouped_mode = data.groupby(group_by)[key].agg(get_mode)\n",
        "  data.loc[condition, key] = data.loc[condition, group_by].map(grouped_mode)\n",
        "  return data"
      ],
      "metadata": {
        "id": "fRzsjAupjV5y"
      },
      "execution_count": null,
      "outputs": []
    },
    {
      "cell_type": "markdown",
      "source": [
        "Transformacija kolone korištenjem grupnog medijana"
      ],
      "metadata": {
        "id": "97FbmGB1j6sC"
      }
    },
    {
      "cell_type": "code",
      "source": [
        "def transform_column_outliers_group_median(data, key, group_by, condition):\n",
        "  grouped_median = data.groupby(group_by)[key].median()\n",
        "  data.loc[condition, key] = data.loc[condition, group_by].map(grouped_median)\n",
        "  return data"
      ],
      "metadata": {
        "id": "Uf90PUYDkPyJ"
      },
      "execution_count": null,
      "outputs": []
    },
    {
      "cell_type": "markdown",
      "source": [
        "####Unnamed kolone\n",
        "\n",
        "Kako im je relacijski koeficijent 1 i nemaju ulogu u predikciji credit score, biti će obrisane"
      ],
      "metadata": {
        "id": "AfTyhXVohfR-"
      }
    },
    {
      "cell_type": "code",
      "source": [
        "def drop_unnamed_columns(data):\n",
        "  del data[\"Unnamed: 0\"]\n",
        "  del data[\"Unnamed: 0.1\"]\n",
        "  del data[\"Unnamed: 0.2\"]\n",
        "  return data"
      ],
      "metadata": {
        "id": "Q6zq0k5Ud6Ik"
      },
      "execution_count": null,
      "outputs": []
    },
    {
      "cell_type": "code",
      "source": [
        "drop_unnamed_columns(data)"
      ],
      "metadata": {
        "colab": {
          "base_uri": "https://localhost:8080/",
          "height": 790
        },
        "id": "8Ox-xrqMZvoK",
        "outputId": "baeb187c-0ca4-4fa0-c41c-9ff36f723fc2"
      },
      "execution_count": null,
      "outputs": [
        {
          "output_type": "execute_result",
          "data": {
            "text/plain": [
              "             ID Customer_ID     Month        Name_and_Age          SSN  \\\n",
              "0        0x1602   CUS_0xd40   January    Aaron Maashoh,23  821-00-0265   \n",
              "1        0x1603   CUS_0xd40  February    Aaron Maashoh,23  821-00-0265   \n",
              "2        0x1604   CUS_0xd40         3  Aaron Maashoh,-500  821-00-0265   \n",
              "3        0x1605   CUS_0xd40     April    Aaron Maashoh,23  821-00-0265   \n",
              "4        0x1606   CUS_0xd40       May    Aaron Maashoh,23  821-00-0265   \n",
              "...         ...         ...       ...                 ...          ...   \n",
              "100017  0x25fe9  CUS_0x942c     April            Nicks,25  078-73-5990   \n",
              "100018  0x25fea  CUS_0x942c       May            Nicks,25  078-73-5990   \n",
              "100019  0x25feb  CUS_0x942c         6            Nicks,25  078-73-5990   \n",
              "100020  0x25fec  CUS_0x942c      July            Nicks,25  078-73-5990   \n",
              "100021  0x25fed  CUS_0x942c         8            Nicks,25  078-73-5990   \n",
              "\n",
              "       Occupation Annual_Income  Monthly_Inhand_Salary Num_Bank_Accounts  \\\n",
              "0       Scientist      19114.12            1824.843333                 3   \n",
              "1       Scientist      19114.12                    NaN                 3   \n",
              "2       Scientist      19114.12                    NaN                 3   \n",
              "3       Scientist      19114.12                    NaN                 3   \n",
              "4       SCIENTIST      19114.12            1824.843333                 3   \n",
              "...           ...           ...                    ...               ...   \n",
              "100017   Mechanic      39628.99            3359.415833                 4   \n",
              "100018   Mechanic      39628.99            3359.415833                 4   \n",
              "100019   Mechanic      39628.99            3359.415833                 4   \n",
              "100020   Mechanic      39628.99            3359.415833                 4   \n",
              "100021   Mechanic     39628.99_            3359.415833                 4   \n",
              "\n",
              "       Num_Credit_Card  ...  Credit_Mix Outstanding_Debt  \\\n",
              "0                    4  ...           _           809.98   \n",
              "1                    4  ...        Good           809.98   \n",
              "2                    4  ...        Good           809.98   \n",
              "3                    4  ...        Good           809.98   \n",
              "4                    4  ...        Good           809.98   \n",
              "...                ...  ...         ...              ...   \n",
              "100017               6  ...           _           502.38   \n",
              "100018               6  ...           _           502.38   \n",
              "100019         6 cards  ...        Good           502.38   \n",
              "100020               6  ...        Good           502.38   \n",
              "100021               6  ...        Good           502.38   \n",
              "\n",
              "       Credit_Utilization_Ratio      Credit_History_Age Payment_of_Min_Amount  \\\n",
              "0                     26.822620   22 Years and 1 Months                    No   \n",
              "1                     31.944960                     NaN                    No   \n",
              "2                     28.609352   22 Years and 3 Months                    No   \n",
              "3                     31.377862   22 Years and 4 Months                    No   \n",
              "4                     24.797347   22 Years and 5 Months                    No   \n",
              "...                         ...                     ...                   ...   \n",
              "100017                34.663572   31 Years and 6 Months                    No   \n",
              "100018                40.565631   31 Years and 7 Months                    No   \n",
              "100019                41.255522   31 Years and 8 Months                    No   \n",
              "100020                33.638208   31 Years and 9 Months                    No   \n",
              "100021                34.192463  31 Years and 10 Months                    No   \n",
              "\n",
              "       Total_EMI_per_month  Amount_invested_monthly  \\\n",
              "0                49.574949              80.41529544   \n",
              "1                49.574949              118.2802216   \n",
              "2                49.574949              81.69952126   \n",
              "3                49.574949              199.4580744   \n",
              "4                49.574949              41.42015309   \n",
              "...                    ...                      ...   \n",
              "100017           35.104023              60.97133256   \n",
              "100018           35.104023              54.18595029   \n",
              "100019           35.104023              24.02847745   \n",
              "100020           35.104023              251.6725822   \n",
              "100021           35.104023              167.1638652   \n",
              "\n",
              "                       Payment_Behaviour Monthly_Balance  Credit_Score  \n",
              "0        High_spent_Small_value_payments     312.4940887          Good  \n",
              "1         Low_spent_Large_value_payments     284.6291625          Good  \n",
              "2        Low_spent_Medium_value_payments     331.2098629          Good  \n",
              "3         Low_spent_Small_value_payments     223.4513097          Good  \n",
              "4       High_spent_Medium_value_payments      341.489231          Good  \n",
              "...                                  ...             ...           ...  \n",
              "100017   High_spent_Large_value_payments      479.866228          Poor  \n",
              "100018  High_spent_Medium_value_payments       496.65161          Poor  \n",
              "100019   High_spent_Large_value_payments      516.809083          Poor  \n",
              "100020    Low_spent_Large_value_payments      319.164979      Standard  \n",
              "100021                            !@9#%8      393.673696          Poor  \n",
              "\n",
              "[100022 rows x 27 columns]"
            ],
            "text/html": [
              "\n",
              "  <div id=\"df-80e1705e-9fd3-4c73-ad18-edbf14848311\" class=\"colab-df-container\">\n",
              "    <div>\n",
              "<style scoped>\n",
              "    .dataframe tbody tr th:only-of-type {\n",
              "        vertical-align: middle;\n",
              "    }\n",
              "\n",
              "    .dataframe tbody tr th {\n",
              "        vertical-align: top;\n",
              "    }\n",
              "\n",
              "    .dataframe thead th {\n",
              "        text-align: right;\n",
              "    }\n",
              "</style>\n",
              "<table border=\"1\" class=\"dataframe\">\n",
              "  <thead>\n",
              "    <tr style=\"text-align: right;\">\n",
              "      <th></th>\n",
              "      <th>ID</th>\n",
              "      <th>Customer_ID</th>\n",
              "      <th>Month</th>\n",
              "      <th>Name_and_Age</th>\n",
              "      <th>SSN</th>\n",
              "      <th>Occupation</th>\n",
              "      <th>Annual_Income</th>\n",
              "      <th>Monthly_Inhand_Salary</th>\n",
              "      <th>Num_Bank_Accounts</th>\n",
              "      <th>Num_Credit_Card</th>\n",
              "      <th>...</th>\n",
              "      <th>Credit_Mix</th>\n",
              "      <th>Outstanding_Debt</th>\n",
              "      <th>Credit_Utilization_Ratio</th>\n",
              "      <th>Credit_History_Age</th>\n",
              "      <th>Payment_of_Min_Amount</th>\n",
              "      <th>Total_EMI_per_month</th>\n",
              "      <th>Amount_invested_monthly</th>\n",
              "      <th>Payment_Behaviour</th>\n",
              "      <th>Monthly_Balance</th>\n",
              "      <th>Credit_Score</th>\n",
              "    </tr>\n",
              "  </thead>\n",
              "  <tbody>\n",
              "    <tr>\n",
              "      <th>0</th>\n",
              "      <td>0x1602</td>\n",
              "      <td>CUS_0xd40</td>\n",
              "      <td>January</td>\n",
              "      <td>Aaron Maashoh,23</td>\n",
              "      <td>821-00-0265</td>\n",
              "      <td>Scientist</td>\n",
              "      <td>19114.12</td>\n",
              "      <td>1824.843333</td>\n",
              "      <td>3</td>\n",
              "      <td>4</td>\n",
              "      <td>...</td>\n",
              "      <td>_</td>\n",
              "      <td>809.98</td>\n",
              "      <td>26.822620</td>\n",
              "      <td>22 Years and 1 Months</td>\n",
              "      <td>No</td>\n",
              "      <td>49.574949</td>\n",
              "      <td>80.41529544</td>\n",
              "      <td>High_spent_Small_value_payments</td>\n",
              "      <td>312.4940887</td>\n",
              "      <td>Good</td>\n",
              "    </tr>\n",
              "    <tr>\n",
              "      <th>1</th>\n",
              "      <td>0x1603</td>\n",
              "      <td>CUS_0xd40</td>\n",
              "      <td>February</td>\n",
              "      <td>Aaron Maashoh,23</td>\n",
              "      <td>821-00-0265</td>\n",
              "      <td>Scientist</td>\n",
              "      <td>19114.12</td>\n",
              "      <td>NaN</td>\n",
              "      <td>3</td>\n",
              "      <td>4</td>\n",
              "      <td>...</td>\n",
              "      <td>Good</td>\n",
              "      <td>809.98</td>\n",
              "      <td>31.944960</td>\n",
              "      <td>NaN</td>\n",
              "      <td>No</td>\n",
              "      <td>49.574949</td>\n",
              "      <td>118.2802216</td>\n",
              "      <td>Low_spent_Large_value_payments</td>\n",
              "      <td>284.6291625</td>\n",
              "      <td>Good</td>\n",
              "    </tr>\n",
              "    <tr>\n",
              "      <th>2</th>\n",
              "      <td>0x1604</td>\n",
              "      <td>CUS_0xd40</td>\n",
              "      <td>3</td>\n",
              "      <td>Aaron Maashoh,-500</td>\n",
              "      <td>821-00-0265</td>\n",
              "      <td>Scientist</td>\n",
              "      <td>19114.12</td>\n",
              "      <td>NaN</td>\n",
              "      <td>3</td>\n",
              "      <td>4</td>\n",
              "      <td>...</td>\n",
              "      <td>Good</td>\n",
              "      <td>809.98</td>\n",
              "      <td>28.609352</td>\n",
              "      <td>22 Years and 3 Months</td>\n",
              "      <td>No</td>\n",
              "      <td>49.574949</td>\n",
              "      <td>81.69952126</td>\n",
              "      <td>Low_spent_Medium_value_payments</td>\n",
              "      <td>331.2098629</td>\n",
              "      <td>Good</td>\n",
              "    </tr>\n",
              "    <tr>\n",
              "      <th>3</th>\n",
              "      <td>0x1605</td>\n",
              "      <td>CUS_0xd40</td>\n",
              "      <td>April</td>\n",
              "      <td>Aaron Maashoh,23</td>\n",
              "      <td>821-00-0265</td>\n",
              "      <td>Scientist</td>\n",
              "      <td>19114.12</td>\n",
              "      <td>NaN</td>\n",
              "      <td>3</td>\n",
              "      <td>4</td>\n",
              "      <td>...</td>\n",
              "      <td>Good</td>\n",
              "      <td>809.98</td>\n",
              "      <td>31.377862</td>\n",
              "      <td>22 Years and 4 Months</td>\n",
              "      <td>No</td>\n",
              "      <td>49.574949</td>\n",
              "      <td>199.4580744</td>\n",
              "      <td>Low_spent_Small_value_payments</td>\n",
              "      <td>223.4513097</td>\n",
              "      <td>Good</td>\n",
              "    </tr>\n",
              "    <tr>\n",
              "      <th>4</th>\n",
              "      <td>0x1606</td>\n",
              "      <td>CUS_0xd40</td>\n",
              "      <td>May</td>\n",
              "      <td>Aaron Maashoh,23</td>\n",
              "      <td>821-00-0265</td>\n",
              "      <td>SCIENTIST</td>\n",
              "      <td>19114.12</td>\n",
              "      <td>1824.843333</td>\n",
              "      <td>3</td>\n",
              "      <td>4</td>\n",
              "      <td>...</td>\n",
              "      <td>Good</td>\n",
              "      <td>809.98</td>\n",
              "      <td>24.797347</td>\n",
              "      <td>22 Years and 5 Months</td>\n",
              "      <td>No</td>\n",
              "      <td>49.574949</td>\n",
              "      <td>41.42015309</td>\n",
              "      <td>High_spent_Medium_value_payments</td>\n",
              "      <td>341.489231</td>\n",
              "      <td>Good</td>\n",
              "    </tr>\n",
              "    <tr>\n",
              "      <th>...</th>\n",
              "      <td>...</td>\n",
              "      <td>...</td>\n",
              "      <td>...</td>\n",
              "      <td>...</td>\n",
              "      <td>...</td>\n",
              "      <td>...</td>\n",
              "      <td>...</td>\n",
              "      <td>...</td>\n",
              "      <td>...</td>\n",
              "      <td>...</td>\n",
              "      <td>...</td>\n",
              "      <td>...</td>\n",
              "      <td>...</td>\n",
              "      <td>...</td>\n",
              "      <td>...</td>\n",
              "      <td>...</td>\n",
              "      <td>...</td>\n",
              "      <td>...</td>\n",
              "      <td>...</td>\n",
              "      <td>...</td>\n",
              "      <td>...</td>\n",
              "    </tr>\n",
              "    <tr>\n",
              "      <th>100017</th>\n",
              "      <td>0x25fe9</td>\n",
              "      <td>CUS_0x942c</td>\n",
              "      <td>April</td>\n",
              "      <td>Nicks,25</td>\n",
              "      <td>078-73-5990</td>\n",
              "      <td>Mechanic</td>\n",
              "      <td>39628.99</td>\n",
              "      <td>3359.415833</td>\n",
              "      <td>4</td>\n",
              "      <td>6</td>\n",
              "      <td>...</td>\n",
              "      <td>_</td>\n",
              "      <td>502.38</td>\n",
              "      <td>34.663572</td>\n",
              "      <td>31 Years and 6 Months</td>\n",
              "      <td>No</td>\n",
              "      <td>35.104023</td>\n",
              "      <td>60.97133256</td>\n",
              "      <td>High_spent_Large_value_payments</td>\n",
              "      <td>479.866228</td>\n",
              "      <td>Poor</td>\n",
              "    </tr>\n",
              "    <tr>\n",
              "      <th>100018</th>\n",
              "      <td>0x25fea</td>\n",
              "      <td>CUS_0x942c</td>\n",
              "      <td>May</td>\n",
              "      <td>Nicks,25</td>\n",
              "      <td>078-73-5990</td>\n",
              "      <td>Mechanic</td>\n",
              "      <td>39628.99</td>\n",
              "      <td>3359.415833</td>\n",
              "      <td>4</td>\n",
              "      <td>6</td>\n",
              "      <td>...</td>\n",
              "      <td>_</td>\n",
              "      <td>502.38</td>\n",
              "      <td>40.565631</td>\n",
              "      <td>31 Years and 7 Months</td>\n",
              "      <td>No</td>\n",
              "      <td>35.104023</td>\n",
              "      <td>54.18595029</td>\n",
              "      <td>High_spent_Medium_value_payments</td>\n",
              "      <td>496.65161</td>\n",
              "      <td>Poor</td>\n",
              "    </tr>\n",
              "    <tr>\n",
              "      <th>100019</th>\n",
              "      <td>0x25feb</td>\n",
              "      <td>CUS_0x942c</td>\n",
              "      <td>6</td>\n",
              "      <td>Nicks,25</td>\n",
              "      <td>078-73-5990</td>\n",
              "      <td>Mechanic</td>\n",
              "      <td>39628.99</td>\n",
              "      <td>3359.415833</td>\n",
              "      <td>4</td>\n",
              "      <td>6 cards</td>\n",
              "      <td>...</td>\n",
              "      <td>Good</td>\n",
              "      <td>502.38</td>\n",
              "      <td>41.255522</td>\n",
              "      <td>31 Years and 8 Months</td>\n",
              "      <td>No</td>\n",
              "      <td>35.104023</td>\n",
              "      <td>24.02847745</td>\n",
              "      <td>High_spent_Large_value_payments</td>\n",
              "      <td>516.809083</td>\n",
              "      <td>Poor</td>\n",
              "    </tr>\n",
              "    <tr>\n",
              "      <th>100020</th>\n",
              "      <td>0x25fec</td>\n",
              "      <td>CUS_0x942c</td>\n",
              "      <td>July</td>\n",
              "      <td>Nicks,25</td>\n",
              "      <td>078-73-5990</td>\n",
              "      <td>Mechanic</td>\n",
              "      <td>39628.99</td>\n",
              "      <td>3359.415833</td>\n",
              "      <td>4</td>\n",
              "      <td>6</td>\n",
              "      <td>...</td>\n",
              "      <td>Good</td>\n",
              "      <td>502.38</td>\n",
              "      <td>33.638208</td>\n",
              "      <td>31 Years and 9 Months</td>\n",
              "      <td>No</td>\n",
              "      <td>35.104023</td>\n",
              "      <td>251.6725822</td>\n",
              "      <td>Low_spent_Large_value_payments</td>\n",
              "      <td>319.164979</td>\n",
              "      <td>Standard</td>\n",
              "    </tr>\n",
              "    <tr>\n",
              "      <th>100021</th>\n",
              "      <td>0x25fed</td>\n",
              "      <td>CUS_0x942c</td>\n",
              "      <td>8</td>\n",
              "      <td>Nicks,25</td>\n",
              "      <td>078-73-5990</td>\n",
              "      <td>Mechanic</td>\n",
              "      <td>39628.99_</td>\n",
              "      <td>3359.415833</td>\n",
              "      <td>4</td>\n",
              "      <td>6</td>\n",
              "      <td>...</td>\n",
              "      <td>Good</td>\n",
              "      <td>502.38</td>\n",
              "      <td>34.192463</td>\n",
              "      <td>31 Years and 10 Months</td>\n",
              "      <td>No</td>\n",
              "      <td>35.104023</td>\n",
              "      <td>167.1638652</td>\n",
              "      <td>!@9#%8</td>\n",
              "      <td>393.673696</td>\n",
              "      <td>Poor</td>\n",
              "    </tr>\n",
              "  </tbody>\n",
              "</table>\n",
              "<p>100022 rows × 27 columns</p>\n",
              "</div>\n",
              "    <div class=\"colab-df-buttons\">\n",
              "\n",
              "  <div class=\"colab-df-container\">\n",
              "    <button class=\"colab-df-convert\" onclick=\"convertToInteractive('df-80e1705e-9fd3-4c73-ad18-edbf14848311')\"\n",
              "            title=\"Convert this dataframe to an interactive table.\"\n",
              "            style=\"display:none;\">\n",
              "\n",
              "  <svg xmlns=\"http://www.w3.org/2000/svg\" height=\"24px\" viewBox=\"0 -960 960 960\">\n",
              "    <path d=\"M120-120v-720h720v720H120Zm60-500h600v-160H180v160Zm220 220h160v-160H400v160Zm0 220h160v-160H400v160ZM180-400h160v-160H180v160Zm440 0h160v-160H620v160ZM180-180h160v-160H180v160Zm440 0h160v-160H620v160Z\"/>\n",
              "  </svg>\n",
              "    </button>\n",
              "\n",
              "  <style>\n",
              "    .colab-df-container {\n",
              "      display:flex;\n",
              "      gap: 12px;\n",
              "    }\n",
              "\n",
              "    .colab-df-convert {\n",
              "      background-color: #E8F0FE;\n",
              "      border: none;\n",
              "      border-radius: 50%;\n",
              "      cursor: pointer;\n",
              "      display: none;\n",
              "      fill: #1967D2;\n",
              "      height: 32px;\n",
              "      padding: 0 0 0 0;\n",
              "      width: 32px;\n",
              "    }\n",
              "\n",
              "    .colab-df-convert:hover {\n",
              "      background-color: #E2EBFA;\n",
              "      box-shadow: 0px 1px 2px rgba(60, 64, 67, 0.3), 0px 1px 3px 1px rgba(60, 64, 67, 0.15);\n",
              "      fill: #174EA6;\n",
              "    }\n",
              "\n",
              "    .colab-df-buttons div {\n",
              "      margin-bottom: 4px;\n",
              "    }\n",
              "\n",
              "    [theme=dark] .colab-df-convert {\n",
              "      background-color: #3B4455;\n",
              "      fill: #D2E3FC;\n",
              "    }\n",
              "\n",
              "    [theme=dark] .colab-df-convert:hover {\n",
              "      background-color: #434B5C;\n",
              "      box-shadow: 0px 1px 3px 1px rgba(0, 0, 0, 0.15);\n",
              "      filter: drop-shadow(0px 1px 2px rgba(0, 0, 0, 0.3));\n",
              "      fill: #FFFFFF;\n",
              "    }\n",
              "  </style>\n",
              "\n",
              "    <script>\n",
              "      const buttonEl =\n",
              "        document.querySelector('#df-80e1705e-9fd3-4c73-ad18-edbf14848311 button.colab-df-convert');\n",
              "      buttonEl.style.display =\n",
              "        google.colab.kernel.accessAllowed ? 'block' : 'none';\n",
              "\n",
              "      async function convertToInteractive(key) {\n",
              "        const element = document.querySelector('#df-80e1705e-9fd3-4c73-ad18-edbf14848311');\n",
              "        const dataTable =\n",
              "          await google.colab.kernel.invokeFunction('convertToInteractive',\n",
              "                                                    [key], {});\n",
              "        if (!dataTable) return;\n",
              "\n",
              "        const docLinkHtml = 'Like what you see? Visit the ' +\n",
              "          '<a target=\"_blank\" href=https://colab.research.google.com/notebooks/data_table.ipynb>data table notebook</a>'\n",
              "          + ' to learn more about interactive tables.';\n",
              "        element.innerHTML = '';\n",
              "        dataTable['output_type'] = 'display_data';\n",
              "        await google.colab.output.renderOutput(dataTable, element);\n",
              "        const docLink = document.createElement('div');\n",
              "        docLink.innerHTML = docLinkHtml;\n",
              "        element.appendChild(docLink);\n",
              "      }\n",
              "    </script>\n",
              "  </div>\n",
              "\n",
              "\n",
              "<div id=\"df-6506512b-2ff0-4c32-b187-6947e06a8847\">\n",
              "  <button class=\"colab-df-quickchart\" onclick=\"quickchart('df-6506512b-2ff0-4c32-b187-6947e06a8847')\"\n",
              "            title=\"Suggest charts\"\n",
              "            style=\"display:none;\">\n",
              "\n",
              "<svg xmlns=\"http://www.w3.org/2000/svg\" height=\"24px\"viewBox=\"0 0 24 24\"\n",
              "     width=\"24px\">\n",
              "    <g>\n",
              "        <path d=\"M19 3H5c-1.1 0-2 .9-2 2v14c0 1.1.9 2 2 2h14c1.1 0 2-.9 2-2V5c0-1.1-.9-2-2-2zM9 17H7v-7h2v7zm4 0h-2V7h2v10zm4 0h-2v-4h2v4z\"/>\n",
              "    </g>\n",
              "</svg>\n",
              "  </button>\n",
              "\n",
              "<style>\n",
              "  .colab-df-quickchart {\n",
              "      --bg-color: #E8F0FE;\n",
              "      --fill-color: #1967D2;\n",
              "      --hover-bg-color: #E2EBFA;\n",
              "      --hover-fill-color: #174EA6;\n",
              "      --disabled-fill-color: #AAA;\n",
              "      --disabled-bg-color: #DDD;\n",
              "  }\n",
              "\n",
              "  [theme=dark] .colab-df-quickchart {\n",
              "      --bg-color: #3B4455;\n",
              "      --fill-color: #D2E3FC;\n",
              "      --hover-bg-color: #434B5C;\n",
              "      --hover-fill-color: #FFFFFF;\n",
              "      --disabled-bg-color: #3B4455;\n",
              "      --disabled-fill-color: #666;\n",
              "  }\n",
              "\n",
              "  .colab-df-quickchart {\n",
              "    background-color: var(--bg-color);\n",
              "    border: none;\n",
              "    border-radius: 50%;\n",
              "    cursor: pointer;\n",
              "    display: none;\n",
              "    fill: var(--fill-color);\n",
              "    height: 32px;\n",
              "    padding: 0;\n",
              "    width: 32px;\n",
              "  }\n",
              "\n",
              "  .colab-df-quickchart:hover {\n",
              "    background-color: var(--hover-bg-color);\n",
              "    box-shadow: 0 1px 2px rgba(60, 64, 67, 0.3), 0 1px 3px 1px rgba(60, 64, 67, 0.15);\n",
              "    fill: var(--button-hover-fill-color);\n",
              "  }\n",
              "\n",
              "  .colab-df-quickchart-complete:disabled,\n",
              "  .colab-df-quickchart-complete:disabled:hover {\n",
              "    background-color: var(--disabled-bg-color);\n",
              "    fill: var(--disabled-fill-color);\n",
              "    box-shadow: none;\n",
              "  }\n",
              "\n",
              "  .colab-df-spinner {\n",
              "    border: 2px solid var(--fill-color);\n",
              "    border-color: transparent;\n",
              "    border-bottom-color: var(--fill-color);\n",
              "    animation:\n",
              "      spin 1s steps(1) infinite;\n",
              "  }\n",
              "\n",
              "  @keyframes spin {\n",
              "    0% {\n",
              "      border-color: transparent;\n",
              "      border-bottom-color: var(--fill-color);\n",
              "      border-left-color: var(--fill-color);\n",
              "    }\n",
              "    20% {\n",
              "      border-color: transparent;\n",
              "      border-left-color: var(--fill-color);\n",
              "      border-top-color: var(--fill-color);\n",
              "    }\n",
              "    30% {\n",
              "      border-color: transparent;\n",
              "      border-left-color: var(--fill-color);\n",
              "      border-top-color: var(--fill-color);\n",
              "      border-right-color: var(--fill-color);\n",
              "    }\n",
              "    40% {\n",
              "      border-color: transparent;\n",
              "      border-right-color: var(--fill-color);\n",
              "      border-top-color: var(--fill-color);\n",
              "    }\n",
              "    60% {\n",
              "      border-color: transparent;\n",
              "      border-right-color: var(--fill-color);\n",
              "    }\n",
              "    80% {\n",
              "      border-color: transparent;\n",
              "      border-right-color: var(--fill-color);\n",
              "      border-bottom-color: var(--fill-color);\n",
              "    }\n",
              "    90% {\n",
              "      border-color: transparent;\n",
              "      border-bottom-color: var(--fill-color);\n",
              "    }\n",
              "  }\n",
              "</style>\n",
              "\n",
              "  <script>\n",
              "    async function quickchart(key) {\n",
              "      const quickchartButtonEl =\n",
              "        document.querySelector('#' + key + ' button');\n",
              "      quickchartButtonEl.disabled = true;  // To prevent multiple clicks.\n",
              "      quickchartButtonEl.classList.add('colab-df-spinner');\n",
              "      try {\n",
              "        const charts = await google.colab.kernel.invokeFunction(\n",
              "            'suggestCharts', [key], {});\n",
              "      } catch (error) {\n",
              "        console.error('Error during call to suggestCharts:', error);\n",
              "      }\n",
              "      quickchartButtonEl.classList.remove('colab-df-spinner');\n",
              "      quickchartButtonEl.classList.add('colab-df-quickchart-complete');\n",
              "    }\n",
              "    (() => {\n",
              "      let quickchartButtonEl =\n",
              "        document.querySelector('#df-6506512b-2ff0-4c32-b187-6947e06a8847 button');\n",
              "      quickchartButtonEl.style.display =\n",
              "        google.colab.kernel.accessAllowed ? 'block' : 'none';\n",
              "    })();\n",
              "  </script>\n",
              "</div>\n",
              "    </div>\n",
              "  </div>\n"
            ]
          },
          "metadata": {},
          "execution_count": 47
        }
      ]
    },
    {
      "cell_type": "markdown",
      "source": [
        "####Month"
      ],
      "metadata": {
        "id": "7ILXvxOuMxwu"
      }
    },
    {
      "cell_type": "code",
      "source": [
        "import calendar\n",
        "month_names = list(calendar.month_name)[1:]\n",
        "month_indexes = list(map(lambda x: month_names.index(x) + 1, month_names))\n",
        "\n",
        "all_months_values = list(map(lambda x: str(x), month_names + month_indexes))\n",
        "\n",
        "month_rows = data[\"Month\"]\n",
        "corrupted_rows_exists = ~month_rows.isin(all_months_values).any()\n",
        "print(corrupted_rows_exists)"
      ],
      "metadata": {
        "id": "8qY4GpMmMywq",
        "colab": {
          "base_uri": "https://localhost:8080/"
        },
        "outputId": "571397db-699a-415b-9c75-10faa8bfe308"
      },
      "execution_count": null,
      "outputs": [
        {
          "output_type": "stream",
          "name": "stdout",
          "text": [
            "False\n"
          ]
        }
      ]
    },
    {
      "cell_type": "markdown",
      "source": [
        "Prethodnim isječkom skripte smo dokazali da Month kolona sadrži validne vrijednosti mjeseci - naziv mjeseca ili njegov broj u godini\n",
        "\n",
        "**Transformisati ćemo je na način da naziv mjeseca konvertujemo u broj**"
      ],
      "metadata": {
        "id": "QW_aqIxfKk53"
      }
    },
    {
      "cell_type": "code",
      "source": [
        "from datetime import datetime\n",
        "\n",
        "def monthNameToNumber(month_name):\n",
        "  # Convert to number\n",
        "  return str(datetime.strptime(month_name, \"%B\").month)"
      ],
      "metadata": {
        "id": "oZjMyckFKxVK"
      },
      "execution_count": null,
      "outputs": []
    },
    {
      "cell_type": "code",
      "source": [
        "def transformMonth(data):\n",
        "  month_numbers = list(map(lambda x: str(x), range(1,13)))\n",
        "  data[\"Month\"] = data[\"Month\"].apply(lambda x: str(x))\n",
        "  data.loc[~data[\"Month\"].isin(month_numbers), \"Month\"] = data.loc[~data[\"Month\"].isin(month_numbers), \"Month\"].apply(lambda x: monthNameToNumber(x))\n",
        "  data[\"Month\"] = pd.to_numeric(data[\"Month\"]).astype(int)\n",
        "  return data"
      ],
      "metadata": {
        "id": "VZ9WOEE4MQRy"
      },
      "execution_count": null,
      "outputs": []
    },
    {
      "cell_type": "code",
      "source": [
        "data = transformMonth(data)\n",
        "data[\"Month\"].dtype"
      ],
      "metadata": {
        "id": "WzvXDcooNHDM",
        "colab": {
          "base_uri": "https://localhost:8080/"
        },
        "outputId": "c70ff648-1b46-4637-9b76-45c136e063fb"
      },
      "execution_count": null,
      "outputs": [
        {
          "output_type": "execute_result",
          "data": {
            "text/plain": [
              "dtype('int64')"
            ]
          },
          "metadata": {},
          "execution_count": 51
        }
      ]
    },
    {
      "cell_type": "markdown",
      "source": [
        "#### Name_and_Age"
      ],
      "metadata": {
        "id": "m7F4XYIQT7Z8"
      }
    },
    {
      "cell_type": "markdown",
      "source": [
        "Kolona Name_and_Age je u formatu Ime Prezime,Godine. Stoga ćemo ovu kolonu razdvojiti na dvije kolone prije analize nedostajućih ili ekstremnih vrijednosti unutar njih"
      ],
      "metadata": {
        "id": "DBZNJqEAUO5q"
      }
    },
    {
      "cell_type": "code",
      "source": [
        "def drop_name_and_age(data):\n",
        "  del data['Name_and_Age']\n",
        "  return data"
      ],
      "metadata": {
        "id": "ef5JU7PmwZ5I"
      },
      "execution_count": null,
      "outputs": []
    },
    {
      "cell_type": "code",
      "source": [
        "def split_name_and_age(data):\n",
        "  data[\"Name_and_Age\"] = data['Name_and_Age'].apply(lambda x: str(x).strip(\",\"))\n",
        "  data['Name_and_Age'] = data['Name_and_Age'].fillna(\",\")\n",
        "  data[['Name', 'Age']] = data['Name_and_Age'].str.split(',', n=1, expand=True)\n",
        "  data = drop_name_and_age(data)\n",
        "  return data"
      ],
      "metadata": {
        "id": "nUG20hws21DJ"
      },
      "execution_count": null,
      "outputs": []
    },
    {
      "cell_type": "code",
      "source": [
        "data = split_name_and_age(data)\n",
        "data[\"Age\"]"
      ],
      "metadata": {
        "id": "0_Fo9phcWEVr",
        "colab": {
          "base_uri": "https://localhost:8080/"
        },
        "outputId": "4f5b1ec8-d224-40b8-e78d-1e2c22d8a5c5"
      },
      "execution_count": null,
      "outputs": [
        {
          "output_type": "execute_result",
          "data": {
            "text/plain": [
              "0           23\n",
              "1           23\n",
              "2         -500\n",
              "3           23\n",
              "4           23\n",
              "          ... \n",
              "100017      25\n",
              "100018      25\n",
              "100019      25\n",
              "100020      25\n",
              "100021      25\n",
              "Name: Age, Length: 100022, dtype: object"
            ]
          },
          "metadata": {},
          "execution_count": 54
        }
      ]
    },
    {
      "cell_type": "markdown",
      "source": [
        "**Prethodni isječak koda nam ne garantuje da su vrijednosti u kolonama Name i Age validne, s toga je potrebna dodatna transformacija**"
      ],
      "metadata": {
        "id": "t04REoe0AMJ-"
      }
    },
    {
      "cell_type": "markdown",
      "source": [
        "#####Age"
      ],
      "metadata": {
        "id": "jf2fA64LoRp2"
      }
    },
    {
      "cell_type": "code",
      "source": [
        "def transform_age(data):\n",
        "  data = transform_float_column(data, \"Age\")\n",
        "  data[\"Age\"] = data[\"Age\"].astype('Int64')\n",
        "  return data"
      ],
      "metadata": {
        "id": "xQ0UG79J3B5T"
      },
      "execution_count": null,
      "outputs": []
    },
    {
      "cell_type": "code",
      "source": [
        "data = transform_age(data)\n",
        "data[\"Age\"].dtype"
      ],
      "metadata": {
        "id": "eWVFuUabAXVC",
        "colab": {
          "base_uri": "https://localhost:8080/"
        },
        "outputId": "4a04a395-34f9-41d4-cd4d-521094381198"
      },
      "execution_count": null,
      "outputs": [
        {
          "output_type": "execute_result",
          "data": {
            "text/plain": [
              "Int64Dtype()"
            ]
          },
          "metadata": {},
          "execution_count": 56
        }
      ]
    },
    {
      "cell_type": "markdown",
      "source": [
        "Sve vrijednosti atributa Age koje nisu u opsegu 18-120 su transformisane koristeći grupnu modu po Customer_ID"
      ],
      "metadata": {
        "id": "SVs77JX9gIYV"
      }
    },
    {
      "cell_type": "code",
      "source": [
        "def transform_age_outliers_group_mode(data):\n",
        "  condition = (data[\"Age\"] < 18) | (data[\"Age\"] > 120)\n",
        "  return transform_column_outliers_group_mode(data, \"Age\", \"Customer_ID\", condition)"
      ],
      "metadata": {
        "id": "hCaKZcD7eqNT"
      },
      "execution_count": null,
      "outputs": []
    },
    {
      "cell_type": "code",
      "source": [
        "data = transform_age_outliers_group_mode(data)"
      ],
      "metadata": {
        "id": "sSBZWd6e1rfw"
      },
      "execution_count": null,
      "outputs": []
    },
    {
      "cell_type": "markdown",
      "source": [
        "#####Name"
      ],
      "metadata": {
        "id": "_EoN1D30CFWt"
      }
    },
    {
      "cell_type": "code",
      "source": [
        "import re\n",
        "def parse_name(name):\n",
        "  pattern = r'^[A-Za-z]+(?: [A-Za-z]+)?$'\n",
        "  matched = re.match(pattern, name)\n",
        "\n",
        "  if matched:\n",
        "      return matched.group(0)\n",
        "  else:\n",
        "      return \"\""
      ],
      "metadata": {
        "id": "QXRdydjQoqAQ"
      },
      "execution_count": null,
      "outputs": []
    },
    {
      "cell_type": "code",
      "source": [
        "def transform_name(data):\n",
        "  data[\"Name\"] = data[\"Name\"].apply(parse_name)\n",
        "  return data"
      ],
      "metadata": {
        "id": "cVJ91IiboZgw"
      },
      "execution_count": null,
      "outputs": []
    },
    {
      "cell_type": "code",
      "source": [
        "# data = transform_name(data)\n",
        "data[\"Name\"][7]"
      ],
      "metadata": {
        "id": "CebOjXnrpB7n",
        "colab": {
          "base_uri": "https://localhost:8080/",
          "height": 36
        },
        "outputId": "c7c173c2-f0e8-4cde-cd9c-5a3c27cd22f1"
      },
      "execution_count": null,
      "outputs": [
        {
          "output_type": "execute_result",
          "data": {
            "text/plain": [
              "'nan'"
            ],
            "application/vnd.google.colaboratory.intrinsic+json": {
              "type": "string"
            }
          },
          "metadata": {},
          "execution_count": 61
        }
      ]
    },
    {
      "cell_type": "markdown",
      "source": [
        "Transformacija nevalidnih vrijednosti - grupna moda"
      ],
      "metadata": {
        "id": "qzRt_J9vpZG8"
      }
    },
    {
      "cell_type": "code",
      "source": [
        "def transform_name_grouped_mode(data):\n",
        "  condition = (data[\"Name\"].str.lstrip().str.rstrip() == \"\") | (data[\"Name\"].str.lower() == \"nan\") | (data[\"Name\"].str.lower() == \"none\")\n",
        "  return transform_column_outliers_group_mode(data, \"Name\", \"Customer_ID\", condition)"
      ],
      "metadata": {
        "id": "s31wpBq3pboZ"
      },
      "execution_count": null,
      "outputs": []
    },
    {
      "cell_type": "code",
      "source": [
        "data = transform_name_grouped_mode(data)"
      ],
      "metadata": {
        "id": "8boZvY0HpyOv"
      },
      "execution_count": null,
      "outputs": []
    },
    {
      "cell_type": "markdown",
      "source": [
        "$\\color{orange}{\\text{Update: }}$ Obzirom da atribut Customer_ID u potpunosti identificira jednu individualnu osobu, atribut Name nam nije od značaja pri samoj predikciji te ga s toga možemo obrisati"
      ],
      "metadata": {
        "id": "oa9IzwFSQ2N1"
      }
    },
    {
      "cell_type": "code",
      "source": [
        "def drop_name(data):\n",
        "  del data[\"Name\"]\n",
        "  return data"
      ],
      "metadata": {
        "id": "dcawR0rvRPM6"
      },
      "execution_count": null,
      "outputs": []
    },
    {
      "cell_type": "code",
      "source": [
        "data = drop_name(data)"
      ],
      "metadata": {
        "id": "Cn6bjg4BRSCT"
      },
      "execution_count": null,
      "outputs": []
    },
    {
      "cell_type": "markdown",
      "source": [
        "####SSN"
      ],
      "metadata": {
        "id": "APEdyKfrCicN"
      }
    },
    {
      "cell_type": "markdown",
      "source": [
        "Ova kolona ima specifičan format koji treba slijediti - XXX-XX-XXXX\n",
        "\n",
        "Sve ćelije koje nemaju ovaj format transformišemo za početak u NaN"
      ],
      "metadata": {
        "id": "UHBjQKQeCk03"
      }
    },
    {
      "cell_type": "code",
      "source": [
        "def transform_ssn(data):\n",
        "  # Define a regular expression pattern for SSN format\n",
        "  ssn_pattern = r'^\\d{3}-\\d{2}-\\d{4}$'\n",
        "  data[\"SSN\"] = data[\"SSN\"].astype(str)\n",
        "  # Replace values that do not match the SSN pattern with empty string\n",
        "  data['SSN'] = data['SSN'].where(data['SSN'].str.match(ssn_pattern), \"\")\n",
        "  data[\"SSN\"] = data[\"SSN\"].astype(str)\n",
        "  return data"
      ],
      "metadata": {
        "id": "Fl9VRjOZC3R-"
      },
      "execution_count": null,
      "outputs": []
    },
    {
      "cell_type": "code",
      "source": [
        "data = transform_ssn(data)\n",
        "data[\"SSN\"].dtype"
      ],
      "metadata": {
        "id": "rzL_-76t6rwO",
        "colab": {
          "base_uri": "https://localhost:8080/"
        },
        "outputId": "7bdf0d68-c17d-482d-8b30-e71924e25060"
      },
      "execution_count": null,
      "outputs": [
        {
          "output_type": "execute_result",
          "data": {
            "text/plain": [
              "dtype('O')"
            ]
          },
          "metadata": {},
          "execution_count": 67
        }
      ]
    },
    {
      "cell_type": "markdown",
      "source": [
        "Transformacija nevalidnih vrijednosti - grupna moda"
      ],
      "metadata": {
        "id": "Q6w3VlJMlwjb"
      }
    },
    {
      "cell_type": "code",
      "source": [
        "def transform_ssn_grouped_mode(data):\n",
        "  condition = data[\"SSN\"] == \"\"\n",
        "  return transform_column_outliers_group_mode(data, \"SSN\", \"Customer_ID\", condition)"
      ],
      "metadata": {
        "id": "6HCckLJkl0wA"
      },
      "execution_count": null,
      "outputs": []
    },
    {
      "cell_type": "code",
      "source": [
        "data = transform_ssn_grouped_mode(data)"
      ],
      "metadata": {
        "id": "oTS8dQcqmG3g"
      },
      "execution_count": null,
      "outputs": []
    },
    {
      "cell_type": "markdown",
      "source": [
        "$\\color{orange}{\\text{Update: }}$ Obzirom da atribut Customer_ID u potpunosti identificira jednu individualnu osobu, atribut SSN nam nije od značaja pri samoj predikciji te ga s toga možemo obrisati"
      ],
      "metadata": {
        "id": "4kwImdd9Vp13"
      }
    },
    {
      "cell_type": "code",
      "source": [
        "def drop_ssn(data):\n",
        "  del data[\"SSN\"]\n",
        "  return data"
      ],
      "metadata": {
        "id": "Oh6gZvALVud_"
      },
      "execution_count": null,
      "outputs": []
    },
    {
      "cell_type": "code",
      "source": [
        "data = drop_ssn(data)"
      ],
      "metadata": {
        "id": "0XVLPcN3VyGx"
      },
      "execution_count": null,
      "outputs": []
    },
    {
      "cell_type": "markdown",
      "source": [
        "####Occupation"
      ],
      "metadata": {
        "id": "2GYBy5WPFfUZ"
      }
    },
    {
      "cell_type": "markdown",
      "source": [
        "Occupation kolona sigurno treba da ima konačan broj vrijednosti, a listu mogućih vrijednosti ćemo izvući iz kolone"
      ],
      "metadata": {
        "id": "K3KvQE9lFn1y"
      }
    },
    {
      "cell_type": "code",
      "source": [
        "def occupation_distinct(value):\n",
        "    return value.lower()  # Consider case-insensitive uniqueness"
      ],
      "metadata": {
        "id": "B2kyqKM1FmfN"
      },
      "execution_count": null,
      "outputs": []
    },
    {
      "cell_type": "code",
      "source": [
        "def get_occupation_distinct_values(data):\n",
        "  data[\"Occupation\"] = data[\"Occupation\"].astype(str)\n",
        "  distinct_values = data['Occupation'].apply(occupation_distinct).unique().astype(str)\n",
        "  sorted = np.sort(distinct_values)\n",
        "  return sorted"
      ],
      "metadata": {
        "id": "Ge9QPLwv7XSW"
      },
      "execution_count": null,
      "outputs": []
    },
    {
      "cell_type": "code",
      "source": [
        "get_occupation_distinct_values(data)"
      ],
      "metadata": {
        "id": "3hJbo80l7kEk",
        "colab": {
          "base_uri": "https://localhost:8080/"
        },
        "outputId": "f5bcdd2c-dbd3-488d-d7d9-5dc2d3883c6a"
      },
      "execution_count": null,
      "outputs": [
        {
          "output_type": "execute_result",
          "data": {
            "text/plain": [
              "array(['_______', 'accountant', 'architect', 'developer', 'doctor',\n",
              "       'engineer', 'entrepreneur', 'journalist', 'lawyer', 'manager',\n",
              "       'mechanic', 'media_manager', 'musician', 'scientist', 'teacher',\n",
              "       'writer'], dtype='<U13')"
            ]
          },
          "metadata": {},
          "execution_count": 74
        }
      ]
    },
    {
      "cell_type": "markdown",
      "source": [
        "Kreiramo enum za Occupation"
      ],
      "metadata": {
        "id": "lRMCK-hr7rxz"
      }
    },
    {
      "cell_type": "code",
      "source": [
        "from enum import Enum\n",
        "\n",
        "class Occupation(Enum):\n",
        "  NONE = 0,\n",
        "  ACCOUNTANT = 1,\n",
        "  ARCHITECT = 2,\n",
        "  DEVELOPER = 3,\n",
        "  DOCTOR = 4,\n",
        "  ENGINEER = 5,\n",
        "  ENTERPRENEUR = 6,\n",
        "  JOURNALIST = 7,\n",
        "  LAWYER = 8,\n",
        "  MANAGER = 9,\n",
        "  MECHANIC = 10,\n",
        "  MEDIA_MANAGER = 11,\n",
        "  MUSICIAN = 12,\n",
        "  SCIENTIST = 13,\n",
        "  TEACHER = 14,\n",
        "  WRITER = 15"
      ],
      "metadata": {
        "id": "SCi6ZTkMKV8t"
      },
      "execution_count": null,
      "outputs": []
    },
    {
      "cell_type": "markdown",
      "source": [
        "Koristiti ćemo enum definisan iznad za konverziju Occupation kolone u int vrijednost umjesto string, zbog lakših operacija"
      ],
      "metadata": {
        "id": "s1CBB4uHLANN"
      }
    },
    {
      "cell_type": "code",
      "source": [
        "def map_occupation_enum(occupation_name):\n",
        "  try:\n",
        "    return Occupation[occupation_name.upper()].value[0]\n",
        "  except:\n",
        "    return Occupation.NONE.value[0]"
      ],
      "metadata": {
        "id": "423BCD1tLIsT"
      },
      "execution_count": null,
      "outputs": []
    },
    {
      "cell_type": "code",
      "source": [
        "def transform_occupation(data):\n",
        "  data['Occupation'] = data['Occupation'].astype(str)\n",
        "  data['Occupation'] = data['Occupation'].apply(map_occupation_enum)\n",
        "  data['Occupation']\n",
        "  return data"
      ],
      "metadata": {
        "id": "xK0ZzRMD76cO"
      },
      "execution_count": null,
      "outputs": []
    },
    {
      "cell_type": "code",
      "source": [
        "data = transform_occupation(data)\n",
        "data['Occupation']"
      ],
      "metadata": {
        "id": "Ck9EebqsLckw",
        "colab": {
          "base_uri": "https://localhost:8080/"
        },
        "outputId": "7b123735-9561-4e4c-bfbc-c16b97df8275"
      },
      "execution_count": null,
      "outputs": [
        {
          "output_type": "execute_result",
          "data": {
            "text/plain": [
              "0         13\n",
              "1         13\n",
              "2         13\n",
              "3         13\n",
              "4         13\n",
              "          ..\n",
              "100017    10\n",
              "100018    10\n",
              "100019    10\n",
              "100020    10\n",
              "100021    10\n",
              "Name: Occupation, Length: 100022, dtype: int64"
            ]
          },
          "metadata": {},
          "execution_count": 78
        }
      ]
    },
    {
      "cell_type": "markdown",
      "source": [
        "Moguće nedostajuće vrijednosti sada imaju int vrijednost 0, te ćemo njih transformisati korištenjem grupne mode"
      ],
      "metadata": {
        "id": "uyiti1p7kN_B"
      }
    },
    {
      "cell_type": "code",
      "source": [
        "def transform_occupation_grouped_mode(data):\n",
        "  condition = data[\"Occupation\"] == 0\n",
        "  return transform_column_outliers_group_mode(data, \"Occupation\", \"Customer_ID\", condition)"
      ],
      "metadata": {
        "id": "BYTEZYKdkbrw"
      },
      "execution_count": null,
      "outputs": []
    },
    {
      "cell_type": "code",
      "source": [
        "data = transform_occupation_grouped_mode(data)"
      ],
      "metadata": {
        "id": "ijSm8Jarksyq"
      },
      "execution_count": null,
      "outputs": []
    },
    {
      "cell_type": "markdown",
      "source": [
        "####Annual_Income"
      ],
      "metadata": {
        "id": "_6VAPVBopcpq"
      }
    },
    {
      "cell_type": "markdown",
      "source": [
        "Parsiramo decimalnu vrijednost pri čemu odbijamo sve karaktere koji nisu broj, zarez ili tačka (Tačku i zarez ostavljamo jer one mogu pripadati validnom zapisu broja)"
      ],
      "metadata": {
        "id": "HZNOPxVkNjku"
      }
    },
    {
      "cell_type": "code",
      "source": [
        "def transform_annual_income(data):\n",
        "  data = transform_float_column(data, \"Annual_Income\")\n",
        "  return data"
      ],
      "metadata": {
        "id": "WvpWueNz8Wjz"
      },
      "execution_count": null,
      "outputs": []
    },
    {
      "cell_type": "code",
      "source": [
        "data = transform_annual_income(data)\n",
        "data[\"Annual_Income\"]"
      ],
      "metadata": {
        "id": "s_P0W6IZ8gNC",
        "colab": {
          "base_uri": "https://localhost:8080/"
        },
        "outputId": "26d9baf3-4c9c-4899-eea5-07ec41384cfb"
      },
      "execution_count": null,
      "outputs": [
        {
          "output_type": "execute_result",
          "data": {
            "text/plain": [
              "0         19114.12\n",
              "1         19114.12\n",
              "2         19114.12\n",
              "3         19114.12\n",
              "4         19114.12\n",
              "            ...   \n",
              "100017    39628.99\n",
              "100018    39628.99\n",
              "100019    39628.99\n",
              "100020    39628.99\n",
              "100021    39628.99\n",
              "Name: Annual_Income, Length: 100022, dtype: float64"
            ]
          },
          "metadata": {},
          "execution_count": 82
        }
      ]
    },
    {
      "cell_type": "markdown",
      "source": [
        "Transformacija nepodobnih vrijednosti - Grupni medijan"
      ],
      "metadata": {
        "id": "MlEVnHpFhWck"
      }
    },
    {
      "cell_type": "code",
      "source": [
        "def transform_annual_income_group_median(data):\n",
        "  condition = data[\"Annual_Income\"] <= 0\n",
        "  return transform_column_outliers_group_median(data, \"Annual_Income\", \"Customer_ID\", condition)"
      ],
      "metadata": {
        "id": "fXkSLHh2jJ2p"
      },
      "execution_count": null,
      "outputs": []
    },
    {
      "cell_type": "markdown",
      "source": [
        "####Monthly_Inhand_Salary"
      ],
      "metadata": {
        "id": "ye4xKkp3Oak5"
      }
    },
    {
      "cell_type": "markdown",
      "source": [
        "Za ovu kolonu primjenjujemo istu transformaciju kao i za Annual Income"
      ],
      "metadata": {
        "id": "9lQo62h4Oloz"
      }
    },
    {
      "cell_type": "code",
      "source": [
        "# data = pd.read_csv(path)\n",
        "data = transform_float_column(data, \"Monthly_Inhand_Salary\")\n",
        "data[\"Monthly_Inhand_Salary\"]"
      ],
      "metadata": {
        "id": "jmnCUst4Orkm",
        "colab": {
          "base_uri": "https://localhost:8080/"
        },
        "outputId": "f5223c45-72d5-4c86-9260-57ea36d2cb13"
      },
      "execution_count": null,
      "outputs": [
        {
          "output_type": "execute_result",
          "data": {
            "text/plain": [
              "0         1824.843333\n",
              "1            0.000000\n",
              "2            0.000000\n",
              "3            0.000000\n",
              "4         1824.843333\n",
              "             ...     \n",
              "100017    3359.415833\n",
              "100018    3359.415833\n",
              "100019    3359.415833\n",
              "100020    3359.415833\n",
              "100021    3359.415833\n",
              "Name: Monthly_Inhand_Salary, Length: 100022, dtype: float64"
            ]
          },
          "metadata": {},
          "execution_count": 84
        }
      ]
    },
    {
      "cell_type": "markdown",
      "source": [
        "Transformacija outliers - grupni medijan"
      ],
      "metadata": {
        "id": "9jlhchKHP2-p"
      }
    },
    {
      "cell_type": "code",
      "source": [
        "def transform_monthly_inhand_salary_group_median(data):\n",
        "  condition = data[\"Monthly_Inhand_Salary\"] <= 0\n",
        "  return transform_column_outliers_group_median(data, \"Monthly_Inhand_Salary\", \"Customer_ID\", condition)"
      ],
      "metadata": {
        "id": "OHNIbWY5m_T5"
      },
      "execution_count": null,
      "outputs": []
    },
    {
      "cell_type": "code",
      "source": [
        "data = transform_monthly_inhand_salary_group_median(data)\n",
        "data[\"Monthly_Inhand_Salary\"]"
      ],
      "metadata": {
        "id": "i-v73ByRcmzc",
        "colab": {
          "base_uri": "https://localhost:8080/"
        },
        "outputId": "043f0a3b-c2fe-44b6-f7ee-0cf69c2c36e4"
      },
      "execution_count": null,
      "outputs": [
        {
          "output_type": "execute_result",
          "data": {
            "text/plain": [
              "0         1824.843333\n",
              "1          912.421667\n",
              "2          912.421667\n",
              "3          912.421667\n",
              "4         1824.843333\n",
              "             ...     \n",
              "100017    3359.415833\n",
              "100018    3359.415833\n",
              "100019    3359.415833\n",
              "100020    3359.415833\n",
              "100021    3359.415833\n",
              "Name: Monthly_Inhand_Salary, Length: 100022, dtype: float64"
            ]
          },
          "metadata": {},
          "execution_count": 86
        }
      ]
    },
    {
      "cell_type": "markdown",
      "source": [
        "####Num_Bank_Accounts"
      ],
      "metadata": {
        "id": "4pP27JxASa-B"
      }
    },
    {
      "cell_type": "markdown",
      "source": [
        "Ova kolona u osnovi treba biti numerička, iako neke ćelije sadrže i karaktere pored brojeva"
      ],
      "metadata": {
        "id": "UXaZMXB2Sl4_"
      }
    },
    {
      "cell_type": "code",
      "source": [
        "def transform_num_bank_accounts(data):\n",
        "  data = transform_float_column(data, \"Num_Bank_Accounts\")\n",
        "  data[\"Num_Bank_Accounts\"] = data[\"Num_Bank_Accounts\"].astype('Int64')\n",
        "  return data"
      ],
      "metadata": {
        "id": "yvGAwgwJStZe"
      },
      "execution_count": null,
      "outputs": []
    },
    {
      "cell_type": "code",
      "source": [
        "# data = pd.read_csv(path)\n",
        "transform_num_bank_accounts(data)"
      ],
      "metadata": {
        "id": "EdNHtBHWUSFT",
        "colab": {
          "base_uri": "https://localhost:8080/",
          "height": 600
        },
        "outputId": "daf5b382-0107-488b-9399-9f4c0cd61545"
      },
      "execution_count": null,
      "outputs": [
        {
          "output_type": "execute_result",
          "data": {
            "text/plain": [
              "             ID Customer_ID  Month  Occupation  Annual_Income  \\\n",
              "0        0x1602   CUS_0xd40      1          13       19114.12   \n",
              "1        0x1603   CUS_0xd40      2          13       19114.12   \n",
              "2        0x1604   CUS_0xd40      3          13       19114.12   \n",
              "3        0x1605   CUS_0xd40      4          13       19114.12   \n",
              "4        0x1606   CUS_0xd40      5          13       19114.12   \n",
              "...         ...         ...    ...         ...            ...   \n",
              "100017  0x25fe9  CUS_0x942c      4          10       39628.99   \n",
              "100018  0x25fea  CUS_0x942c      5          10       39628.99   \n",
              "100019  0x25feb  CUS_0x942c      6          10       39628.99   \n",
              "100020  0x25fec  CUS_0x942c      7          10       39628.99   \n",
              "100021  0x25fed  CUS_0x942c      8          10       39628.99   \n",
              "\n",
              "        Monthly_Inhand_Salary  Num_Bank_Accounts Num_Credit_Card  \\\n",
              "0                 1824.843333                  3               4   \n",
              "1                  912.421667                  3               4   \n",
              "2                  912.421667                  3               4   \n",
              "3                  912.421667                  3               4   \n",
              "4                 1824.843333                  3               4   \n",
              "...                       ...                ...             ...   \n",
              "100017            3359.415833                  4               6   \n",
              "100018            3359.415833                  4               6   \n",
              "100019            3359.415833                  4         6 cards   \n",
              "100020            3359.415833                  4               6   \n",
              "100021            3359.415833                  4               6   \n",
              "\n",
              "        Interest_Rate Num_of_Loan  ... Outstanding_Debt  \\\n",
              "0                   3           4  ...           809.98   \n",
              "1                   3           4  ...           809.98   \n",
              "2                   3           4  ...           809.98   \n",
              "3                   3           4  ...           809.98   \n",
              "4                   3           4  ...           809.98   \n",
              "...               ...         ...  ...              ...   \n",
              "100017              7           2  ...           502.38   \n",
              "100018              7           2  ...           502.38   \n",
              "100019           5729           2  ...           502.38   \n",
              "100020              7           2  ...           502.38   \n",
              "100021              7           2  ...           502.38   \n",
              "\n",
              "        Credit_Utilization_Ratio      Credit_History_Age  \\\n",
              "0                      26.822620   22 Years and 1 Months   \n",
              "1                      31.944960                     NaN   \n",
              "2                      28.609352   22 Years and 3 Months   \n",
              "3                      31.377862   22 Years and 4 Months   \n",
              "4                      24.797347   22 Years and 5 Months   \n",
              "...                          ...                     ...   \n",
              "100017                 34.663572   31 Years and 6 Months   \n",
              "100018                 40.565631   31 Years and 7 Months   \n",
              "100019                 41.255522   31 Years and 8 Months   \n",
              "100020                 33.638208   31 Years and 9 Months   \n",
              "100021                 34.192463  31 Years and 10 Months   \n",
              "\n",
              "       Payment_of_Min_Amount  Total_EMI_per_month Amount_invested_monthly  \\\n",
              "0                         No            49.574949             80.41529544   \n",
              "1                         No            49.574949             118.2802216   \n",
              "2                         No            49.574949             81.69952126   \n",
              "3                         No            49.574949             199.4580744   \n",
              "4                         No            49.574949             41.42015309   \n",
              "...                      ...                  ...                     ...   \n",
              "100017                    No            35.104023             60.97133256   \n",
              "100018                    No            35.104023             54.18595029   \n",
              "100019                    No            35.104023             24.02847745   \n",
              "100020                    No            35.104023             251.6725822   \n",
              "100021                    No            35.104023             167.1638652   \n",
              "\n",
              "                       Payment_Behaviour  Monthly_Balance Credit_Score Age  \n",
              "0        High_spent_Small_value_payments      312.4940887         Good  23  \n",
              "1         Low_spent_Large_value_payments      284.6291625         Good  23  \n",
              "2        Low_spent_Medium_value_payments      331.2098629         Good  23  \n",
              "3         Low_spent_Small_value_payments      223.4513097         Good  23  \n",
              "4       High_spent_Medium_value_payments       341.489231         Good  23  \n",
              "...                                  ...              ...          ...  ..  \n",
              "100017   High_spent_Large_value_payments       479.866228         Poor  25  \n",
              "100018  High_spent_Medium_value_payments        496.65161         Poor  25  \n",
              "100019   High_spent_Large_value_payments       516.809083         Poor  25  \n",
              "100020    Low_spent_Large_value_payments       319.164979     Standard  25  \n",
              "100021                            !@9#%8       393.673696         Poor  25  \n",
              "\n",
              "[100022 rows x 26 columns]"
            ],
            "text/html": [
              "\n",
              "  <div id=\"df-153dcfba-8ed9-4f91-9b3e-20fbd43ce153\" class=\"colab-df-container\">\n",
              "    <div>\n",
              "<style scoped>\n",
              "    .dataframe tbody tr th:only-of-type {\n",
              "        vertical-align: middle;\n",
              "    }\n",
              "\n",
              "    .dataframe tbody tr th {\n",
              "        vertical-align: top;\n",
              "    }\n",
              "\n",
              "    .dataframe thead th {\n",
              "        text-align: right;\n",
              "    }\n",
              "</style>\n",
              "<table border=\"1\" class=\"dataframe\">\n",
              "  <thead>\n",
              "    <tr style=\"text-align: right;\">\n",
              "      <th></th>\n",
              "      <th>ID</th>\n",
              "      <th>Customer_ID</th>\n",
              "      <th>Month</th>\n",
              "      <th>Occupation</th>\n",
              "      <th>Annual_Income</th>\n",
              "      <th>Monthly_Inhand_Salary</th>\n",
              "      <th>Num_Bank_Accounts</th>\n",
              "      <th>Num_Credit_Card</th>\n",
              "      <th>Interest_Rate</th>\n",
              "      <th>Num_of_Loan</th>\n",
              "      <th>...</th>\n",
              "      <th>Outstanding_Debt</th>\n",
              "      <th>Credit_Utilization_Ratio</th>\n",
              "      <th>Credit_History_Age</th>\n",
              "      <th>Payment_of_Min_Amount</th>\n",
              "      <th>Total_EMI_per_month</th>\n",
              "      <th>Amount_invested_monthly</th>\n",
              "      <th>Payment_Behaviour</th>\n",
              "      <th>Monthly_Balance</th>\n",
              "      <th>Credit_Score</th>\n",
              "      <th>Age</th>\n",
              "    </tr>\n",
              "  </thead>\n",
              "  <tbody>\n",
              "    <tr>\n",
              "      <th>0</th>\n",
              "      <td>0x1602</td>\n",
              "      <td>CUS_0xd40</td>\n",
              "      <td>1</td>\n",
              "      <td>13</td>\n",
              "      <td>19114.12</td>\n",
              "      <td>1824.843333</td>\n",
              "      <td>3</td>\n",
              "      <td>4</td>\n",
              "      <td>3</td>\n",
              "      <td>4</td>\n",
              "      <td>...</td>\n",
              "      <td>809.98</td>\n",
              "      <td>26.822620</td>\n",
              "      <td>22 Years and 1 Months</td>\n",
              "      <td>No</td>\n",
              "      <td>49.574949</td>\n",
              "      <td>80.41529544</td>\n",
              "      <td>High_spent_Small_value_payments</td>\n",
              "      <td>312.4940887</td>\n",
              "      <td>Good</td>\n",
              "      <td>23</td>\n",
              "    </tr>\n",
              "    <tr>\n",
              "      <th>1</th>\n",
              "      <td>0x1603</td>\n",
              "      <td>CUS_0xd40</td>\n",
              "      <td>2</td>\n",
              "      <td>13</td>\n",
              "      <td>19114.12</td>\n",
              "      <td>912.421667</td>\n",
              "      <td>3</td>\n",
              "      <td>4</td>\n",
              "      <td>3</td>\n",
              "      <td>4</td>\n",
              "      <td>...</td>\n",
              "      <td>809.98</td>\n",
              "      <td>31.944960</td>\n",
              "      <td>NaN</td>\n",
              "      <td>No</td>\n",
              "      <td>49.574949</td>\n",
              "      <td>118.2802216</td>\n",
              "      <td>Low_spent_Large_value_payments</td>\n",
              "      <td>284.6291625</td>\n",
              "      <td>Good</td>\n",
              "      <td>23</td>\n",
              "    </tr>\n",
              "    <tr>\n",
              "      <th>2</th>\n",
              "      <td>0x1604</td>\n",
              "      <td>CUS_0xd40</td>\n",
              "      <td>3</td>\n",
              "      <td>13</td>\n",
              "      <td>19114.12</td>\n",
              "      <td>912.421667</td>\n",
              "      <td>3</td>\n",
              "      <td>4</td>\n",
              "      <td>3</td>\n",
              "      <td>4</td>\n",
              "      <td>...</td>\n",
              "      <td>809.98</td>\n",
              "      <td>28.609352</td>\n",
              "      <td>22 Years and 3 Months</td>\n",
              "      <td>No</td>\n",
              "      <td>49.574949</td>\n",
              "      <td>81.69952126</td>\n",
              "      <td>Low_spent_Medium_value_payments</td>\n",
              "      <td>331.2098629</td>\n",
              "      <td>Good</td>\n",
              "      <td>23</td>\n",
              "    </tr>\n",
              "    <tr>\n",
              "      <th>3</th>\n",
              "      <td>0x1605</td>\n",
              "      <td>CUS_0xd40</td>\n",
              "      <td>4</td>\n",
              "      <td>13</td>\n",
              "      <td>19114.12</td>\n",
              "      <td>912.421667</td>\n",
              "      <td>3</td>\n",
              "      <td>4</td>\n",
              "      <td>3</td>\n",
              "      <td>4</td>\n",
              "      <td>...</td>\n",
              "      <td>809.98</td>\n",
              "      <td>31.377862</td>\n",
              "      <td>22 Years and 4 Months</td>\n",
              "      <td>No</td>\n",
              "      <td>49.574949</td>\n",
              "      <td>199.4580744</td>\n",
              "      <td>Low_spent_Small_value_payments</td>\n",
              "      <td>223.4513097</td>\n",
              "      <td>Good</td>\n",
              "      <td>23</td>\n",
              "    </tr>\n",
              "    <tr>\n",
              "      <th>4</th>\n",
              "      <td>0x1606</td>\n",
              "      <td>CUS_0xd40</td>\n",
              "      <td>5</td>\n",
              "      <td>13</td>\n",
              "      <td>19114.12</td>\n",
              "      <td>1824.843333</td>\n",
              "      <td>3</td>\n",
              "      <td>4</td>\n",
              "      <td>3</td>\n",
              "      <td>4</td>\n",
              "      <td>...</td>\n",
              "      <td>809.98</td>\n",
              "      <td>24.797347</td>\n",
              "      <td>22 Years and 5 Months</td>\n",
              "      <td>No</td>\n",
              "      <td>49.574949</td>\n",
              "      <td>41.42015309</td>\n",
              "      <td>High_spent_Medium_value_payments</td>\n",
              "      <td>341.489231</td>\n",
              "      <td>Good</td>\n",
              "      <td>23</td>\n",
              "    </tr>\n",
              "    <tr>\n",
              "      <th>...</th>\n",
              "      <td>...</td>\n",
              "      <td>...</td>\n",
              "      <td>...</td>\n",
              "      <td>...</td>\n",
              "      <td>...</td>\n",
              "      <td>...</td>\n",
              "      <td>...</td>\n",
              "      <td>...</td>\n",
              "      <td>...</td>\n",
              "      <td>...</td>\n",
              "      <td>...</td>\n",
              "      <td>...</td>\n",
              "      <td>...</td>\n",
              "      <td>...</td>\n",
              "      <td>...</td>\n",
              "      <td>...</td>\n",
              "      <td>...</td>\n",
              "      <td>...</td>\n",
              "      <td>...</td>\n",
              "      <td>...</td>\n",
              "      <td>...</td>\n",
              "    </tr>\n",
              "    <tr>\n",
              "      <th>100017</th>\n",
              "      <td>0x25fe9</td>\n",
              "      <td>CUS_0x942c</td>\n",
              "      <td>4</td>\n",
              "      <td>10</td>\n",
              "      <td>39628.99</td>\n",
              "      <td>3359.415833</td>\n",
              "      <td>4</td>\n",
              "      <td>6</td>\n",
              "      <td>7</td>\n",
              "      <td>2</td>\n",
              "      <td>...</td>\n",
              "      <td>502.38</td>\n",
              "      <td>34.663572</td>\n",
              "      <td>31 Years and 6 Months</td>\n",
              "      <td>No</td>\n",
              "      <td>35.104023</td>\n",
              "      <td>60.97133256</td>\n",
              "      <td>High_spent_Large_value_payments</td>\n",
              "      <td>479.866228</td>\n",
              "      <td>Poor</td>\n",
              "      <td>25</td>\n",
              "    </tr>\n",
              "    <tr>\n",
              "      <th>100018</th>\n",
              "      <td>0x25fea</td>\n",
              "      <td>CUS_0x942c</td>\n",
              "      <td>5</td>\n",
              "      <td>10</td>\n",
              "      <td>39628.99</td>\n",
              "      <td>3359.415833</td>\n",
              "      <td>4</td>\n",
              "      <td>6</td>\n",
              "      <td>7</td>\n",
              "      <td>2</td>\n",
              "      <td>...</td>\n",
              "      <td>502.38</td>\n",
              "      <td>40.565631</td>\n",
              "      <td>31 Years and 7 Months</td>\n",
              "      <td>No</td>\n",
              "      <td>35.104023</td>\n",
              "      <td>54.18595029</td>\n",
              "      <td>High_spent_Medium_value_payments</td>\n",
              "      <td>496.65161</td>\n",
              "      <td>Poor</td>\n",
              "      <td>25</td>\n",
              "    </tr>\n",
              "    <tr>\n",
              "      <th>100019</th>\n",
              "      <td>0x25feb</td>\n",
              "      <td>CUS_0x942c</td>\n",
              "      <td>6</td>\n",
              "      <td>10</td>\n",
              "      <td>39628.99</td>\n",
              "      <td>3359.415833</td>\n",
              "      <td>4</td>\n",
              "      <td>6 cards</td>\n",
              "      <td>5729</td>\n",
              "      <td>2</td>\n",
              "      <td>...</td>\n",
              "      <td>502.38</td>\n",
              "      <td>41.255522</td>\n",
              "      <td>31 Years and 8 Months</td>\n",
              "      <td>No</td>\n",
              "      <td>35.104023</td>\n",
              "      <td>24.02847745</td>\n",
              "      <td>High_spent_Large_value_payments</td>\n",
              "      <td>516.809083</td>\n",
              "      <td>Poor</td>\n",
              "      <td>25</td>\n",
              "    </tr>\n",
              "    <tr>\n",
              "      <th>100020</th>\n",
              "      <td>0x25fec</td>\n",
              "      <td>CUS_0x942c</td>\n",
              "      <td>7</td>\n",
              "      <td>10</td>\n",
              "      <td>39628.99</td>\n",
              "      <td>3359.415833</td>\n",
              "      <td>4</td>\n",
              "      <td>6</td>\n",
              "      <td>7</td>\n",
              "      <td>2</td>\n",
              "      <td>...</td>\n",
              "      <td>502.38</td>\n",
              "      <td>33.638208</td>\n",
              "      <td>31 Years and 9 Months</td>\n",
              "      <td>No</td>\n",
              "      <td>35.104023</td>\n",
              "      <td>251.6725822</td>\n",
              "      <td>Low_spent_Large_value_payments</td>\n",
              "      <td>319.164979</td>\n",
              "      <td>Standard</td>\n",
              "      <td>25</td>\n",
              "    </tr>\n",
              "    <tr>\n",
              "      <th>100021</th>\n",
              "      <td>0x25fed</td>\n",
              "      <td>CUS_0x942c</td>\n",
              "      <td>8</td>\n",
              "      <td>10</td>\n",
              "      <td>39628.99</td>\n",
              "      <td>3359.415833</td>\n",
              "      <td>4</td>\n",
              "      <td>6</td>\n",
              "      <td>7</td>\n",
              "      <td>2</td>\n",
              "      <td>...</td>\n",
              "      <td>502.38</td>\n",
              "      <td>34.192463</td>\n",
              "      <td>31 Years and 10 Months</td>\n",
              "      <td>No</td>\n",
              "      <td>35.104023</td>\n",
              "      <td>167.1638652</td>\n",
              "      <td>!@9#%8</td>\n",
              "      <td>393.673696</td>\n",
              "      <td>Poor</td>\n",
              "      <td>25</td>\n",
              "    </tr>\n",
              "  </tbody>\n",
              "</table>\n",
              "<p>100022 rows × 26 columns</p>\n",
              "</div>\n",
              "    <div class=\"colab-df-buttons\">\n",
              "\n",
              "  <div class=\"colab-df-container\">\n",
              "    <button class=\"colab-df-convert\" onclick=\"convertToInteractive('df-153dcfba-8ed9-4f91-9b3e-20fbd43ce153')\"\n",
              "            title=\"Convert this dataframe to an interactive table.\"\n",
              "            style=\"display:none;\">\n",
              "\n",
              "  <svg xmlns=\"http://www.w3.org/2000/svg\" height=\"24px\" viewBox=\"0 -960 960 960\">\n",
              "    <path d=\"M120-120v-720h720v720H120Zm60-500h600v-160H180v160Zm220 220h160v-160H400v160Zm0 220h160v-160H400v160ZM180-400h160v-160H180v160Zm440 0h160v-160H620v160ZM180-180h160v-160H180v160Zm440 0h160v-160H620v160Z\"/>\n",
              "  </svg>\n",
              "    </button>\n",
              "\n",
              "  <style>\n",
              "    .colab-df-container {\n",
              "      display:flex;\n",
              "      gap: 12px;\n",
              "    }\n",
              "\n",
              "    .colab-df-convert {\n",
              "      background-color: #E8F0FE;\n",
              "      border: none;\n",
              "      border-radius: 50%;\n",
              "      cursor: pointer;\n",
              "      display: none;\n",
              "      fill: #1967D2;\n",
              "      height: 32px;\n",
              "      padding: 0 0 0 0;\n",
              "      width: 32px;\n",
              "    }\n",
              "\n",
              "    .colab-df-convert:hover {\n",
              "      background-color: #E2EBFA;\n",
              "      box-shadow: 0px 1px 2px rgba(60, 64, 67, 0.3), 0px 1px 3px 1px rgba(60, 64, 67, 0.15);\n",
              "      fill: #174EA6;\n",
              "    }\n",
              "\n",
              "    .colab-df-buttons div {\n",
              "      margin-bottom: 4px;\n",
              "    }\n",
              "\n",
              "    [theme=dark] .colab-df-convert {\n",
              "      background-color: #3B4455;\n",
              "      fill: #D2E3FC;\n",
              "    }\n",
              "\n",
              "    [theme=dark] .colab-df-convert:hover {\n",
              "      background-color: #434B5C;\n",
              "      box-shadow: 0px 1px 3px 1px rgba(0, 0, 0, 0.15);\n",
              "      filter: drop-shadow(0px 1px 2px rgba(0, 0, 0, 0.3));\n",
              "      fill: #FFFFFF;\n",
              "    }\n",
              "  </style>\n",
              "\n",
              "    <script>\n",
              "      const buttonEl =\n",
              "        document.querySelector('#df-153dcfba-8ed9-4f91-9b3e-20fbd43ce153 button.colab-df-convert');\n",
              "      buttonEl.style.display =\n",
              "        google.colab.kernel.accessAllowed ? 'block' : 'none';\n",
              "\n",
              "      async function convertToInteractive(key) {\n",
              "        const element = document.querySelector('#df-153dcfba-8ed9-4f91-9b3e-20fbd43ce153');\n",
              "        const dataTable =\n",
              "          await google.colab.kernel.invokeFunction('convertToInteractive',\n",
              "                                                    [key], {});\n",
              "        if (!dataTable) return;\n",
              "\n",
              "        const docLinkHtml = 'Like what you see? Visit the ' +\n",
              "          '<a target=\"_blank\" href=https://colab.research.google.com/notebooks/data_table.ipynb>data table notebook</a>'\n",
              "          + ' to learn more about interactive tables.';\n",
              "        element.innerHTML = '';\n",
              "        dataTable['output_type'] = 'display_data';\n",
              "        await google.colab.output.renderOutput(dataTable, element);\n",
              "        const docLink = document.createElement('div');\n",
              "        docLink.innerHTML = docLinkHtml;\n",
              "        element.appendChild(docLink);\n",
              "      }\n",
              "    </script>\n",
              "  </div>\n",
              "\n",
              "\n",
              "<div id=\"df-da726460-a96d-45f4-805e-a66412985534\">\n",
              "  <button class=\"colab-df-quickchart\" onclick=\"quickchart('df-da726460-a96d-45f4-805e-a66412985534')\"\n",
              "            title=\"Suggest charts\"\n",
              "            style=\"display:none;\">\n",
              "\n",
              "<svg xmlns=\"http://www.w3.org/2000/svg\" height=\"24px\"viewBox=\"0 0 24 24\"\n",
              "     width=\"24px\">\n",
              "    <g>\n",
              "        <path d=\"M19 3H5c-1.1 0-2 .9-2 2v14c0 1.1.9 2 2 2h14c1.1 0 2-.9 2-2V5c0-1.1-.9-2-2-2zM9 17H7v-7h2v7zm4 0h-2V7h2v10zm4 0h-2v-4h2v4z\"/>\n",
              "    </g>\n",
              "</svg>\n",
              "  </button>\n",
              "\n",
              "<style>\n",
              "  .colab-df-quickchart {\n",
              "      --bg-color: #E8F0FE;\n",
              "      --fill-color: #1967D2;\n",
              "      --hover-bg-color: #E2EBFA;\n",
              "      --hover-fill-color: #174EA6;\n",
              "      --disabled-fill-color: #AAA;\n",
              "      --disabled-bg-color: #DDD;\n",
              "  }\n",
              "\n",
              "  [theme=dark] .colab-df-quickchart {\n",
              "      --bg-color: #3B4455;\n",
              "      --fill-color: #D2E3FC;\n",
              "      --hover-bg-color: #434B5C;\n",
              "      --hover-fill-color: #FFFFFF;\n",
              "      --disabled-bg-color: #3B4455;\n",
              "      --disabled-fill-color: #666;\n",
              "  }\n",
              "\n",
              "  .colab-df-quickchart {\n",
              "    background-color: var(--bg-color);\n",
              "    border: none;\n",
              "    border-radius: 50%;\n",
              "    cursor: pointer;\n",
              "    display: none;\n",
              "    fill: var(--fill-color);\n",
              "    height: 32px;\n",
              "    padding: 0;\n",
              "    width: 32px;\n",
              "  }\n",
              "\n",
              "  .colab-df-quickchart:hover {\n",
              "    background-color: var(--hover-bg-color);\n",
              "    box-shadow: 0 1px 2px rgba(60, 64, 67, 0.3), 0 1px 3px 1px rgba(60, 64, 67, 0.15);\n",
              "    fill: var(--button-hover-fill-color);\n",
              "  }\n",
              "\n",
              "  .colab-df-quickchart-complete:disabled,\n",
              "  .colab-df-quickchart-complete:disabled:hover {\n",
              "    background-color: var(--disabled-bg-color);\n",
              "    fill: var(--disabled-fill-color);\n",
              "    box-shadow: none;\n",
              "  }\n",
              "\n",
              "  .colab-df-spinner {\n",
              "    border: 2px solid var(--fill-color);\n",
              "    border-color: transparent;\n",
              "    border-bottom-color: var(--fill-color);\n",
              "    animation:\n",
              "      spin 1s steps(1) infinite;\n",
              "  }\n",
              "\n",
              "  @keyframes spin {\n",
              "    0% {\n",
              "      border-color: transparent;\n",
              "      border-bottom-color: var(--fill-color);\n",
              "      border-left-color: var(--fill-color);\n",
              "    }\n",
              "    20% {\n",
              "      border-color: transparent;\n",
              "      border-left-color: var(--fill-color);\n",
              "      border-top-color: var(--fill-color);\n",
              "    }\n",
              "    30% {\n",
              "      border-color: transparent;\n",
              "      border-left-color: var(--fill-color);\n",
              "      border-top-color: var(--fill-color);\n",
              "      border-right-color: var(--fill-color);\n",
              "    }\n",
              "    40% {\n",
              "      border-color: transparent;\n",
              "      border-right-color: var(--fill-color);\n",
              "      border-top-color: var(--fill-color);\n",
              "    }\n",
              "    60% {\n",
              "      border-color: transparent;\n",
              "      border-right-color: var(--fill-color);\n",
              "    }\n",
              "    80% {\n",
              "      border-color: transparent;\n",
              "      border-right-color: var(--fill-color);\n",
              "      border-bottom-color: var(--fill-color);\n",
              "    }\n",
              "    90% {\n",
              "      border-color: transparent;\n",
              "      border-bottom-color: var(--fill-color);\n",
              "    }\n",
              "  }\n",
              "</style>\n",
              "\n",
              "  <script>\n",
              "    async function quickchart(key) {\n",
              "      const quickchartButtonEl =\n",
              "        document.querySelector('#' + key + ' button');\n",
              "      quickchartButtonEl.disabled = true;  // To prevent multiple clicks.\n",
              "      quickchartButtonEl.classList.add('colab-df-spinner');\n",
              "      try {\n",
              "        const charts = await google.colab.kernel.invokeFunction(\n",
              "            'suggestCharts', [key], {});\n",
              "      } catch (error) {\n",
              "        console.error('Error during call to suggestCharts:', error);\n",
              "      }\n",
              "      quickchartButtonEl.classList.remove('colab-df-spinner');\n",
              "      quickchartButtonEl.classList.add('colab-df-quickchart-complete');\n",
              "    }\n",
              "    (() => {\n",
              "      let quickchartButtonEl =\n",
              "        document.querySelector('#df-da726460-a96d-45f4-805e-a66412985534 button');\n",
              "      quickchartButtonEl.style.display =\n",
              "        google.colab.kernel.accessAllowed ? 'block' : 'none';\n",
              "    })();\n",
              "  </script>\n",
              "</div>\n",
              "    </div>\n",
              "  </div>\n"
            ]
          },
          "metadata": {},
          "execution_count": 88
        }
      ]
    },
    {
      "cell_type": "markdown",
      "source": [
        "Transformacija outliers- grupna moda"
      ],
      "metadata": {
        "id": "W0P_2ndsiEo4"
      }
    },
    {
      "cell_type": "code",
      "source": [
        "def transform_num_bank_accounts_grouped_mode(data):\n",
        "  condition = (data[\"Num_Bank_Accounts\"] <= 0) | (data[\"Num_Bank_Accounts\"] > 100)\n",
        "  return transform_column_outliers_group_mode(data, \"Num_Bank_Accounts\", \"Customer_ID\", condition)"
      ],
      "metadata": {
        "id": "3sXcJS4SiHeg"
      },
      "execution_count": null,
      "outputs": []
    },
    {
      "cell_type": "code",
      "source": [
        "data = transform_num_bank_accounts_grouped_mode(data)"
      ],
      "metadata": {
        "id": "CJH3iOdCsTGK"
      },
      "execution_count": null,
      "outputs": []
    },
    {
      "cell_type": "markdown",
      "source": [
        "####Num_Credit_Card"
      ],
      "metadata": {
        "id": "l9ikbc3Wkeor"
      }
    },
    {
      "cell_type": "markdown",
      "source": [
        "Još jedna numerička kolona kod koje ćemo također provjeriti da li već korištena metoda parse_decimal zadovoljava"
      ],
      "metadata": {
        "id": "OYZgnYb2kepC"
      }
    },
    {
      "cell_type": "code",
      "source": [
        "def transform_num_credit_card(data):\n",
        "  data =  transform_float_column(data, 'Num_Credit_Card')\n",
        "  data[\"Num_Credit_Card\"] = data[\"Num_Credit_Card\"].astype('Int64')\n",
        "  return data"
      ],
      "metadata": {
        "id": "MIfFn3egY-RQ"
      },
      "execution_count": null,
      "outputs": []
    },
    {
      "cell_type": "code",
      "source": [
        "data = transform_num_credit_card(data)"
      ],
      "metadata": {
        "id": "L3wKfCLvkepC"
      },
      "execution_count": null,
      "outputs": []
    },
    {
      "cell_type": "markdown",
      "source": [
        "Transformacija outliers - grupna moda"
      ],
      "metadata": {
        "id": "7yiasQrDicDJ"
      }
    },
    {
      "cell_type": "code",
      "source": [
        "def transform_num_credit_card_grouped_mode(data):\n",
        "  condition = (data[\"Num_Credit_Card\"] <= 0) | (data[\"Num_Credit_Card\"] > 100)\n",
        "  return transform_column_outliers_group_mode(data, \"Num_Credit_Card\", \"Customer_ID\", condition)"
      ],
      "metadata": {
        "id": "jZQsl6mCujTI"
      },
      "execution_count": null,
      "outputs": []
    },
    {
      "cell_type": "code",
      "source": [
        "data = transform_num_credit_card_grouped_mode(data)"
      ],
      "metadata": {
        "id": "PiZNquLpur4i"
      },
      "execution_count": null,
      "outputs": []
    },
    {
      "cell_type": "markdown",
      "source": [
        "####Interest_Rate"
      ],
      "metadata": {
        "id": "DbTJ97sANO9W"
      }
    },
    {
      "cell_type": "markdown",
      "source": [
        "Budući da je tip kolone već određen sa int64, ne bi trebalo da imamo nekih nenumeričkih vrijednosti (osim eventualno nedostajućih vrijednosti - NaN)"
      ],
      "metadata": {
        "id": "hmC-WTa8Nuvn"
      }
    },
    {
      "cell_type": "code",
      "source": [
        "data[\"Interest_Rate\"]"
      ],
      "metadata": {
        "id": "oEU2-R80NX-u",
        "colab": {
          "base_uri": "https://localhost:8080/"
        },
        "outputId": "8f186133-7fc9-4147-de40-a918dfc9e44c"
      },
      "execution_count": null,
      "outputs": [
        {
          "output_type": "execute_result",
          "data": {
            "text/plain": [
              "0            3\n",
              "1            3\n",
              "2            3\n",
              "3            3\n",
              "4            3\n",
              "          ... \n",
              "100017       7\n",
              "100018       7\n",
              "100019    5729\n",
              "100020       7\n",
              "100021       7\n",
              "Name: Interest_Rate, Length: 100022, dtype: int64"
            ]
          },
          "metadata": {},
          "execution_count": 95
        }
      ]
    },
    {
      "cell_type": "markdown",
      "source": [
        "Transformacija outliers - grupna moda"
      ],
      "metadata": {
        "id": "Ttz5UZWGio70"
      }
    },
    {
      "cell_type": "code",
      "source": [
        "def transform_interest_rate_grouped_mode(data):\n",
        "  condition = data[\"Interest_Rate\"] > 1000\n",
        "  return transform_column_outliers_group_mode(data, \"Interest_Rate\", \"Customer_ID\", condition)"
      ],
      "metadata": {
        "id": "Yhn0jledv3qi"
      },
      "execution_count": null,
      "outputs": []
    },
    {
      "cell_type": "code",
      "source": [
        "data = transform_interest_rate_grouped_mode(data)"
      ],
      "metadata": {
        "id": "hu0uzv3Sv8U1"
      },
      "execution_count": null,
      "outputs": []
    },
    {
      "cell_type": "markdown",
      "source": [
        "####Num_of_Loan"
      ],
      "metadata": {
        "id": "WNfRMr2gOKvG"
      }
    },
    {
      "cell_type": "markdown",
      "source": [
        "Num_of_Loan predstavlja integer kolonu te ćemo uz pomoć postojeće metode parse_float_column parsirati brojeve iz svake ćelije (koje mogu sadržavati i neke specijalne karaktere osim brojeva) te ih finalno konvertovati u integer"
      ],
      "metadata": {
        "id": "kUItz7B-OwrG"
      }
    },
    {
      "cell_type": "code",
      "source": [
        "def transform_num_of_loan(data):\n",
        "  data = transform_float_column(data, \"Num_of_Loan\")\n",
        "  data[\"Num_of_Loan\"] = data[\"Num_of_Loan\"].astype('Int64')\n",
        "  return data"
      ],
      "metadata": {
        "id": "JCqrfkWDPLGy"
      },
      "execution_count": null,
      "outputs": []
    },
    {
      "cell_type": "code",
      "source": [
        "data = transform_num_of_loan(data)"
      ],
      "metadata": {
        "id": "UBYC2w6WONF-"
      },
      "execution_count": null,
      "outputs": []
    },
    {
      "cell_type": "markdown",
      "source": [
        "Transformacija outliers - grupna moda"
      ],
      "metadata": {
        "id": "YrFMNuxDi0AM"
      }
    },
    {
      "cell_type": "code",
      "source": [
        "def transform_num_of_loan_grouped_mode(data):\n",
        "  condition = (data[\"Num_of_Loan\"] <= 0) | (data[\"Num_of_Loan\"] > 100)\n",
        "  return transform_column_outliers_group_mode(data, \"Num_of_Loan\", \"Customer_ID\", condition)"
      ],
      "metadata": {
        "id": "ahQ489wLwaYS"
      },
      "execution_count": null,
      "outputs": []
    },
    {
      "cell_type": "code",
      "source": [
        "data = transform_num_of_loan_grouped_mode(data)"
      ],
      "metadata": {
        "id": "rulMcI88wer_"
      },
      "execution_count": null,
      "outputs": []
    },
    {
      "cell_type": "markdown",
      "source": [
        "####Type_of_Loan - $\\color{orange}{\\textbf{Pogledati obavezno}}$"
      ],
      "metadata": {
        "id": "5vwQAopWQNlj"
      }
    },
    {
      "cell_type": "markdown",
      "source": [
        "$\\color{red}{\\textbf{Napomena}}$: *Kod u nastavku proširuje dataset zbog razdvajanja kolone koja je tipa liste na pojedinačne redove. Zbog memorijskog limita Google Colab okruženja nije moguće agregirati razdvojene vrijednosti Type_of_Loan nazad u listu. Uz dodatnu analizu biće određeno da li je ova kolona uopšte od interesa.*"
      ],
      "metadata": {
        "id": "3VGHqaQGyrE_"
      }
    },
    {
      "cell_type": "markdown",
      "source": [
        "Ova kolona veže više loan tipova za jedan dataset rekord, obzirom da su različiti tipovi odvojeni zarezom. Također, zadnji navedeni tip je osim zarezom odvojen veznikom and. Zbog toga smo serijom različitih transformacija **(zamjena \"and\" sa praznim stringom, razdvajanje spojenih loan tipova na listu sa funkcijom split te razdvajanjem liste na pojedinačne redove dataframe-a)** izvukli set različitih pojedinačnih vrijednosti kada je u pitanju ova kolona.\n",
        "\n",
        "<!-- (Ovo i dalje znači da će kolona biti kompozitnog karaktera - sastavljena od više vrijednosti za loan_type, ali ćemo izvući set iz kojih se pojedinačne virjednosti mogu uzeti). -->"
      ],
      "metadata": {
        "id": "tb7SCDXdjQzC"
      }
    },
    {
      "cell_type": "markdown",
      "source": [
        "Sljedeći isječak koda pokazuje na koji način smo odredili set mogućih vrijednosti za ovu kolonu.\n",
        "\n",
        "Dodatno, dataframe je proširen na način da su zbog prirode kolone type_of_loan koja predstavlja listu, dodani novi redovi koji predstavljaju razdvojenu listu vrijednosti ove kolone."
      ],
      "metadata": {
        "id": "Su9BrA_Sr0u0"
      }
    },
    {
      "cell_type": "code",
      "source": [
        "def split_explode_type_of_loan(data):\n",
        "  data[\"Type_of_Loan\"] = data['Type_of_Loan'].apply(lambda x: str(x).strip(\",\").replace(\"and \", \"\"))\n",
        "  data[\"Type_of_Loan\"] = data['Type_of_Loan'].str.split(',')\n",
        "  data = data.explode('Type_of_Loan').reset_index(drop=True)\n",
        "  data[\"Type_of_Loan\"] = data[\"Type_of_Loan\"].apply(lambda x: str(x).lstrip().rstrip())\n",
        "  return data"
      ],
      "metadata": {
        "id": "YsE-M-1RxJiE"
      },
      "execution_count": null,
      "outputs": []
    },
    {
      "cell_type": "code",
      "source": [
        "def type_of_loan_get_unique_values(data):\n",
        "  exploded_data = data.copy()\n",
        "  exploded_data = split_explode_type_of_loan(exploded_data)\n",
        "  # Get unique values\n",
        "  unique_values = exploded_data['Type_of_Loan'].unique()\n",
        "  return unique_values"
      ],
      "metadata": {
        "id": "wyOxmIG5uasx"
      },
      "execution_count": null,
      "outputs": []
    },
    {
      "cell_type": "code",
      "source": [
        "# data = pd.read_csv(path)\n",
        "distinct_values = type_of_loan_get_unique_values(data)\n",
        "distinct_values"
      ],
      "metadata": {
        "id": "fT6EaeHgVv1P",
        "colab": {
          "base_uri": "https://localhost:8080/"
        },
        "outputId": "025a55f3-d6ec-472f-c091-962487e6f01f"
      },
      "execution_count": null,
      "outputs": [
        {
          "output_type": "execute_result",
          "data": {
            "text/plain": [
              "array(['Auto Loan', 'Credit-Builder Loan', 'Personal Loan',\n",
              "       'Home Equity Loan', 'Not Specified', 'uknown', 'nan',\n",
              "       'Mortgage Loan', 'Student Loan', 'Debt Consolidation Loan',\n",
              "       'Payday Loan'], dtype=object)"
            ]
          },
          "metadata": {},
          "execution_count": 104
        }
      ]
    },
    {
      "cell_type": "markdown",
      "source": [
        "Kreirati ćemo enum za loan_type da bismo string vrijednosti konvertovali u brojeve"
      ],
      "metadata": {
        "id": "kc3XiyjSk72e"
      }
    },
    {
      "cell_type": "code",
      "source": [
        "from enum import Enum\n",
        "class LoanType(Enum):\n",
        "  NOT_SPECIFIED = 0,\n",
        "  AUTO_LOAN = 1,\n",
        "  CREDIT_BUILDER_LOAN = 2,\n",
        "  PERSONAL_LOAN = 3,\n",
        "  HOME_EQUITY_LOAN = 4,\n",
        "  MORTGAGE_LOAN = 5,\n",
        "  STUDENT_LOAN = 6,\n",
        "  DEBT_CONSOLIDATION_LOAN = 7\n",
        "  PAYDAY_LOAN = 8"
      ],
      "metadata": {
        "id": "m_GQm6EGk-OO"
      },
      "execution_count": null,
      "outputs": []
    },
    {
      "cell_type": "markdown",
      "source": [
        "Mapa koju ćemo koristiti prilikom konverzije"
      ],
      "metadata": {
        "id": "-me6CaRQsd4d"
      }
    },
    {
      "cell_type": "code",
      "source": [
        "def stringToLoanTypeMap():\n",
        "  return {\n",
        "      \"Auto Loan\": LoanType.AUTO_LOAN,\n",
        "      \"Credit-Builder Loan\": LoanType.CREDIT_BUILDER_LOAN,\n",
        "      \"Personal Loan\": LoanType.PERSONAL_LOAN,\n",
        "      \"Home Equity Loan\": LoanType.HOME_EQUITY_LOAN,\n",
        "      \"Mortgage Loan\": LoanType.MORTGAGE_LOAN,\n",
        "      \"Student Loan\": LoanType.STUDENT_LOAN,\n",
        "      \"Debt Consolidation Loan\": LoanType.DEBT_CONSOLIDATION_LOAN,\n",
        "      \"Payday Loan\": LoanType.PAYDAY_LOAN\n",
        "  }"
      ],
      "metadata": {
        "id": "LdK8A06sodzO"
      },
      "execution_count": null,
      "outputs": []
    },
    {
      "cell_type": "markdown",
      "source": [
        "Funkcija za konverziju"
      ],
      "metadata": {
        "id": "1pBbL9EzsmBj"
      }
    },
    {
      "cell_type": "code",
      "source": [
        "def convert_to_type_of_loan_enum(string_value):\n",
        "  try:\n",
        "    enum_value = stringToLoanTypeMap()[string_value].value[0]\n",
        "  except:\n",
        "    enum_value = LoanType.NOT_SPECIFIED.value[0]\n",
        "  return enum_value"
      ],
      "metadata": {
        "id": "NF2qKM6En-1E"
      },
      "execution_count": null,
      "outputs": []
    },
    {
      "cell_type": "code",
      "source": [
        "def transform_type_of_loan(data):\n",
        "  data = split_explode_type_of_loan(data);\n",
        "  data[\"Type_of_Loan\"] = data[\"Type_of_Loan\"].apply(convert_to_type_of_loan_enum)\n",
        "\n",
        "  return data"
      ],
      "metadata": {
        "id": "7sQ1YMMfyRvs"
      },
      "execution_count": null,
      "outputs": []
    },
    {
      "cell_type": "markdown",
      "source": [
        "Odabrati željenu opciju - obrisati kolonu ili je zadržati"
      ],
      "metadata": {
        "id": "BStErNG9yNje"
      }
    },
    {
      "cell_type": "code",
      "source": [
        "del data[\"Type_of_Loan\"]"
      ],
      "metadata": {
        "id": "TBIq64f3wacC"
      },
      "execution_count": null,
      "outputs": []
    },
    {
      "cell_type": "code",
      "source": [
        "#data = transform_type_of_loan(data)"
      ],
      "metadata": {
        "id": "RssM6V64nRo4"
      },
      "execution_count": null,
      "outputs": []
    },
    {
      "cell_type": "markdown",
      "source": [
        "####Delay_from_due_date"
      ],
      "metadata": {
        "id": "IJQ7umxNQSdR"
      }
    },
    {
      "cell_type": "markdown",
      "source": [
        "Još jedna integer kolona koju nije potrebno transformisati s aspekta njenog tipa."
      ],
      "metadata": {
        "id": "EDLR0z7PQsTn"
      }
    },
    {
      "cell_type": "code",
      "source": [
        "distinct_values = data[\"Delay_from_due_date\"].unique()\n",
        "distinct_values.dtype"
      ],
      "metadata": {
        "id": "5CdAutSeQemW",
        "colab": {
          "base_uri": "https://localhost:8080/"
        },
        "outputId": "94f603f6-6cce-4e32-ec70-60b60a62bdbb"
      },
      "execution_count": null,
      "outputs": [
        {
          "output_type": "execute_result",
          "data": {
            "text/plain": [
              "dtype('int64')"
            ]
          },
          "metadata": {},
          "execution_count": 111
        }
      ]
    },
    {
      "cell_type": "markdown",
      "source": [
        "Transformacija outliers - grupna moda"
      ],
      "metadata": {
        "id": "6fRk0iBVjEqa"
      }
    },
    {
      "cell_type": "code",
      "source": [
        "def transform_delay_from_due_date_grouped_mode(data):\n",
        "  condition = data[\"Delay_from_due_date\"] < 0\n",
        "  return transform_column_outliers_group_mode(data, \"Delay_from_due_date\", \"Customer_ID\", condition)"
      ],
      "metadata": {
        "id": "SFR0mU_9xKlo"
      },
      "execution_count": null,
      "outputs": []
    },
    {
      "cell_type": "code",
      "source": [
        "data = transform_delay_from_due_date_grouped_mode(data)"
      ],
      "metadata": {
        "id": "JoiWb5chxRNS"
      },
      "execution_count": null,
      "outputs": []
    },
    {
      "cell_type": "markdown",
      "source": [
        "####Num_of_Delayed_Payment"
      ],
      "metadata": {
        "id": "2wXG2J8ZQ81s"
      }
    },
    {
      "cell_type": "markdown",
      "source": [
        "Kolona sa identičnim šumovima kao i prethodne integer kolone. Postupamo identično."
      ],
      "metadata": {
        "id": "K6QdzeVMRIVD"
      }
    },
    {
      "cell_type": "code",
      "source": [
        "def transform_num_of_delayed_payment(data):\n",
        "  data = transform_float_column(data, \"Num_of_Delayed_Payment\")\n",
        "  data[\"Num_of_Delayed_Payment\"] = data[\"Num_of_Delayed_Payment\"].astype('Int64')\n",
        "  return data"
      ],
      "metadata": {
        "id": "pXYIgYklRPBq"
      },
      "execution_count": null,
      "outputs": []
    },
    {
      "cell_type": "code",
      "source": [
        "data = transform_num_of_delayed_payment(data)\n",
        "data[\"Num_of_Delayed_Payment\"]"
      ],
      "metadata": {
        "id": "ubw0n3-aRBeY",
        "colab": {
          "base_uri": "https://localhost:8080/"
        },
        "outputId": "44f8b2db-5267-4438-b887-41e894fa31b5"
      },
      "execution_count": null,
      "outputs": [
        {
          "output_type": "execute_result",
          "data": {
            "text/plain": [
              "0         7\n",
              "1         0\n",
              "2         7\n",
              "3         4\n",
              "4         0\n",
              "         ..\n",
              "100017    7\n",
              "100018    7\n",
              "100019    6\n",
              "100020    0\n",
              "100021    6\n",
              "Name: Num_of_Delayed_Payment, Length: 100022, dtype: Int64"
            ]
          },
          "metadata": {},
          "execution_count": 115
        }
      ]
    },
    {
      "cell_type": "markdown",
      "source": [
        "Transformacija outliers - grupni medijan"
      ],
      "metadata": {
        "id": "ZT3VNeSHjRto"
      }
    },
    {
      "cell_type": "code",
      "source": [
        "def transform_num_of_delayed_payment_grouped_median(data):\n",
        "  condition = data[\"Num_of_Delayed_Payment\"] == 0.0\n",
        "  data = transform_column_outliers_group_median(data, \"Num_of_Delayed_Payment\", \"Customer_ID\", condition)\n",
        "  # data[\"Num_of_Delayed_Payment\"] = data[\"Num_of_Delayed_Payment\"].astype('Int64')\n",
        "  return data"
      ],
      "metadata": {
        "id": "nqbjjoXLxpqX"
      },
      "execution_count": null,
      "outputs": []
    },
    {
      "cell_type": "code",
      "source": [
        "# data = transform_num_of_delayed_payment_grouped_median(data)\n",
        "# data[\"Num_of_Delayed_Payment\"][1]\n",
        "data.loc[data[\"Num_of_Delayed_Payment\"] <= 0]"
      ],
      "metadata": {
        "id": "mSJRS8LSx3OY",
        "colab": {
          "base_uri": "https://localhost:8080/",
          "height": 582
        },
        "outputId": "7d038d6d-85e7-4aa0-fde8-012af9c7feb8"
      },
      "execution_count": null,
      "outputs": [
        {
          "output_type": "execute_result",
          "data": {
            "text/plain": [
              "             ID Customer_ID  Month  Occupation  Annual_Income  \\\n",
              "1        0x1603   CUS_0xd40      2          13       19114.12   \n",
              "4        0x1606   CUS_0xd40      5          13       19114.12   \n",
              "10       0x1610  CUS_0x21b1      3          14       34847.84   \n",
              "13       0x1613  CUS_0x21b1      6          14       34847.84   \n",
              "30       0x162c  CUS_0xb891      7           0       30689.89   \n",
              "...         ...         ...    ...         ...            ...   \n",
              "99996   0x25fc8   CUS_0xf16      7          11       16680.35   \n",
              "99997   0x25fc9   CUS_0xf16      8          11       16680.35   \n",
              "100014  0x25fe6  CUS_0x942c      1          10       39628.99   \n",
              "100015  0x25fe7  CUS_0x942c      2          10       39628.99   \n",
              "100020  0x25fec  CUS_0x942c      7          10       39628.99   \n",
              "\n",
              "        Monthly_Inhand_Salary  Num_Bank_Accounts  Num_Credit_Card  \\\n",
              "1                  912.421667                  3                4   \n",
              "4                 1824.843333                  3                4   \n",
              "10                3037.986667                  2                4   \n",
              "13                3037.986667                  2                4   \n",
              "30                2612.490833                  2                5   \n",
              "...                       ...                ...              ...   \n",
              "99996             1528.029167                  1                1   \n",
              "99997             1528.029167                  1                1   \n",
              "100014            3359.415833                  4                6   \n",
              "100015            3359.415833                  4                6   \n",
              "100020            3359.415833                  4                6   \n",
              "\n",
              "        Interest_Rate  Num_of_Loan  ...  Outstanding_Debt  \\\n",
              "1                   3            4  ...            809.98   \n",
              "4                   3            4  ...            809.98   \n",
              "10                  6            1  ...            605.03   \n",
              "13                  6            1  ...            605.03   \n",
              "30                  4            1  ...            632.46   \n",
              "...               ...          ...  ...               ...   \n",
              "99996               5            4  ...            897.16   \n",
              "99997               5            4  ...            897.16   \n",
              "100014              7            2  ...            502.38   \n",
              "100015              7            2  ...            502.38   \n",
              "100020              7            2  ...            502.38   \n",
              "\n",
              "        Credit_Utilization_Ratio     Credit_History_Age  \\\n",
              "1                      31.944960                    NaN   \n",
              "4                      24.797347  22 Years and 5 Months   \n",
              "10                     33.224951  26 Years and 9 Months   \n",
              "13                     33.381010  27 Years and 0 Months   \n",
              "30                     26.056395  17 Years and 9 Months   \n",
              "...                          ...                    ...   \n",
              "99996                  36.166925  21 Years and 7 Months   \n",
              "99997                  41.212367                    NaN   \n",
              "100014                 32.991333  31 Years and 3 Months   \n",
              "100015                 29.135447  31 Years and 4 Months   \n",
              "100020                 33.638208  31 Years and 9 Months   \n",
              "\n",
              "        Payment_of_Min_Amount Total_EMI_per_month Amount_invested_monthly  \\\n",
              "1                          No           49.574949             118.2802216   \n",
              "4                          No           49.574949             41.42015309   \n",
              "10                         No           18.816215              58.5159757   \n",
              "13                         No           18.816215             43.47719014   \n",
              "30                         No           16.415452             71.28367488   \n",
              "...                       ...                 ...                     ...   \n",
              "99996                      No           41.113561                     NaN   \n",
              "99997                      No           41.113561             70.80554978   \n",
              "100014                     No           35.104023             401.1964806   \n",
              "100015                     No        58638.000000             180.7330952   \n",
              "100020                     No           35.104023             251.6725822   \n",
              "\n",
              "                       Payment_Behaviour Monthly_Balance Credit_Score  Age  \n",
              "1         Low_spent_Large_value_payments     284.6291625         Good   23  \n",
              "4       High_spent_Medium_value_payments      341.489231         Good   23  \n",
              "10       High_spent_Large_value_payments     466.4664764     Standard   28  \n",
              "13       High_spent_Large_value_payments     481.5052619         Good   28  \n",
              "30        Low_spent_Large_value_payments     443.5499568     Standard   55  \n",
              "...                                  ...             ...          ...  ...  \n",
              "99996     Low_spent_Small_value_payments      340.684834         Good   45  \n",
              "99997     Low_spent_Large_value_payments      310.883806         Good   45  \n",
              "100014    Low_spent_Small_value_payments       189.64108         Poor   24  \n",
              "100015   Low_spent_Medium_value_payments      400.104466     Standard   25  \n",
              "100020    Low_spent_Large_value_payments      319.164979     Standard   25  \n",
              "\n",
              "[9257 rows x 25 columns]"
            ],
            "text/html": [
              "\n",
              "  <div id=\"df-95882f1f-f918-400d-ab72-0756bbf8919e\" class=\"colab-df-container\">\n",
              "    <div>\n",
              "<style scoped>\n",
              "    .dataframe tbody tr th:only-of-type {\n",
              "        vertical-align: middle;\n",
              "    }\n",
              "\n",
              "    .dataframe tbody tr th {\n",
              "        vertical-align: top;\n",
              "    }\n",
              "\n",
              "    .dataframe thead th {\n",
              "        text-align: right;\n",
              "    }\n",
              "</style>\n",
              "<table border=\"1\" class=\"dataframe\">\n",
              "  <thead>\n",
              "    <tr style=\"text-align: right;\">\n",
              "      <th></th>\n",
              "      <th>ID</th>\n",
              "      <th>Customer_ID</th>\n",
              "      <th>Month</th>\n",
              "      <th>Occupation</th>\n",
              "      <th>Annual_Income</th>\n",
              "      <th>Monthly_Inhand_Salary</th>\n",
              "      <th>Num_Bank_Accounts</th>\n",
              "      <th>Num_Credit_Card</th>\n",
              "      <th>Interest_Rate</th>\n",
              "      <th>Num_of_Loan</th>\n",
              "      <th>...</th>\n",
              "      <th>Outstanding_Debt</th>\n",
              "      <th>Credit_Utilization_Ratio</th>\n",
              "      <th>Credit_History_Age</th>\n",
              "      <th>Payment_of_Min_Amount</th>\n",
              "      <th>Total_EMI_per_month</th>\n",
              "      <th>Amount_invested_monthly</th>\n",
              "      <th>Payment_Behaviour</th>\n",
              "      <th>Monthly_Balance</th>\n",
              "      <th>Credit_Score</th>\n",
              "      <th>Age</th>\n",
              "    </tr>\n",
              "  </thead>\n",
              "  <tbody>\n",
              "    <tr>\n",
              "      <th>1</th>\n",
              "      <td>0x1603</td>\n",
              "      <td>CUS_0xd40</td>\n",
              "      <td>2</td>\n",
              "      <td>13</td>\n",
              "      <td>19114.12</td>\n",
              "      <td>912.421667</td>\n",
              "      <td>3</td>\n",
              "      <td>4</td>\n",
              "      <td>3</td>\n",
              "      <td>4</td>\n",
              "      <td>...</td>\n",
              "      <td>809.98</td>\n",
              "      <td>31.944960</td>\n",
              "      <td>NaN</td>\n",
              "      <td>No</td>\n",
              "      <td>49.574949</td>\n",
              "      <td>118.2802216</td>\n",
              "      <td>Low_spent_Large_value_payments</td>\n",
              "      <td>284.6291625</td>\n",
              "      <td>Good</td>\n",
              "      <td>23</td>\n",
              "    </tr>\n",
              "    <tr>\n",
              "      <th>4</th>\n",
              "      <td>0x1606</td>\n",
              "      <td>CUS_0xd40</td>\n",
              "      <td>5</td>\n",
              "      <td>13</td>\n",
              "      <td>19114.12</td>\n",
              "      <td>1824.843333</td>\n",
              "      <td>3</td>\n",
              "      <td>4</td>\n",
              "      <td>3</td>\n",
              "      <td>4</td>\n",
              "      <td>...</td>\n",
              "      <td>809.98</td>\n",
              "      <td>24.797347</td>\n",
              "      <td>22 Years and 5 Months</td>\n",
              "      <td>No</td>\n",
              "      <td>49.574949</td>\n",
              "      <td>41.42015309</td>\n",
              "      <td>High_spent_Medium_value_payments</td>\n",
              "      <td>341.489231</td>\n",
              "      <td>Good</td>\n",
              "      <td>23</td>\n",
              "    </tr>\n",
              "    <tr>\n",
              "      <th>10</th>\n",
              "      <td>0x1610</td>\n",
              "      <td>CUS_0x21b1</td>\n",
              "      <td>3</td>\n",
              "      <td>14</td>\n",
              "      <td>34847.84</td>\n",
              "      <td>3037.986667</td>\n",
              "      <td>2</td>\n",
              "      <td>4</td>\n",
              "      <td>6</td>\n",
              "      <td>1</td>\n",
              "      <td>...</td>\n",
              "      <td>605.03</td>\n",
              "      <td>33.224951</td>\n",
              "      <td>26 Years and 9 Months</td>\n",
              "      <td>No</td>\n",
              "      <td>18.816215</td>\n",
              "      <td>58.5159757</td>\n",
              "      <td>High_spent_Large_value_payments</td>\n",
              "      <td>466.4664764</td>\n",
              "      <td>Standard</td>\n",
              "      <td>28</td>\n",
              "    </tr>\n",
              "    <tr>\n",
              "      <th>13</th>\n",
              "      <td>0x1613</td>\n",
              "      <td>CUS_0x21b1</td>\n",
              "      <td>6</td>\n",
              "      <td>14</td>\n",
              "      <td>34847.84</td>\n",
              "      <td>3037.986667</td>\n",
              "      <td>2</td>\n",
              "      <td>4</td>\n",
              "      <td>6</td>\n",
              "      <td>1</td>\n",
              "      <td>...</td>\n",
              "      <td>605.03</td>\n",
              "      <td>33.381010</td>\n",
              "      <td>27 Years and 0 Months</td>\n",
              "      <td>No</td>\n",
              "      <td>18.816215</td>\n",
              "      <td>43.47719014</td>\n",
              "      <td>High_spent_Large_value_payments</td>\n",
              "      <td>481.5052619</td>\n",
              "      <td>Good</td>\n",
              "      <td>28</td>\n",
              "    </tr>\n",
              "    <tr>\n",
              "      <th>30</th>\n",
              "      <td>0x162c</td>\n",
              "      <td>CUS_0xb891</td>\n",
              "      <td>7</td>\n",
              "      <td>0</td>\n",
              "      <td>30689.89</td>\n",
              "      <td>2612.490833</td>\n",
              "      <td>2</td>\n",
              "      <td>5</td>\n",
              "      <td>4</td>\n",
              "      <td>1</td>\n",
              "      <td>...</td>\n",
              "      <td>632.46</td>\n",
              "      <td>26.056395</td>\n",
              "      <td>17 Years and 9 Months</td>\n",
              "      <td>No</td>\n",
              "      <td>16.415452</td>\n",
              "      <td>71.28367488</td>\n",
              "      <td>Low_spent_Large_value_payments</td>\n",
              "      <td>443.5499568</td>\n",
              "      <td>Standard</td>\n",
              "      <td>55</td>\n",
              "    </tr>\n",
              "    <tr>\n",
              "      <th>...</th>\n",
              "      <td>...</td>\n",
              "      <td>...</td>\n",
              "      <td>...</td>\n",
              "      <td>...</td>\n",
              "      <td>...</td>\n",
              "      <td>...</td>\n",
              "      <td>...</td>\n",
              "      <td>...</td>\n",
              "      <td>...</td>\n",
              "      <td>...</td>\n",
              "      <td>...</td>\n",
              "      <td>...</td>\n",
              "      <td>...</td>\n",
              "      <td>...</td>\n",
              "      <td>...</td>\n",
              "      <td>...</td>\n",
              "      <td>...</td>\n",
              "      <td>...</td>\n",
              "      <td>...</td>\n",
              "      <td>...</td>\n",
              "      <td>...</td>\n",
              "    </tr>\n",
              "    <tr>\n",
              "      <th>99996</th>\n",
              "      <td>0x25fc8</td>\n",
              "      <td>CUS_0xf16</td>\n",
              "      <td>7</td>\n",
              "      <td>11</td>\n",
              "      <td>16680.35</td>\n",
              "      <td>1528.029167</td>\n",
              "      <td>1</td>\n",
              "      <td>1</td>\n",
              "      <td>5</td>\n",
              "      <td>4</td>\n",
              "      <td>...</td>\n",
              "      <td>897.16</td>\n",
              "      <td>36.166925</td>\n",
              "      <td>21 Years and 7 Months</td>\n",
              "      <td>No</td>\n",
              "      <td>41.113561</td>\n",
              "      <td>NaN</td>\n",
              "      <td>Low_spent_Small_value_payments</td>\n",
              "      <td>340.684834</td>\n",
              "      <td>Good</td>\n",
              "      <td>45</td>\n",
              "    </tr>\n",
              "    <tr>\n",
              "      <th>99997</th>\n",
              "      <td>0x25fc9</td>\n",
              "      <td>CUS_0xf16</td>\n",
              "      <td>8</td>\n",
              "      <td>11</td>\n",
              "      <td>16680.35</td>\n",
              "      <td>1528.029167</td>\n",
              "      <td>1</td>\n",
              "      <td>1</td>\n",
              "      <td>5</td>\n",
              "      <td>4</td>\n",
              "      <td>...</td>\n",
              "      <td>897.16</td>\n",
              "      <td>41.212367</td>\n",
              "      <td>NaN</td>\n",
              "      <td>No</td>\n",
              "      <td>41.113561</td>\n",
              "      <td>70.80554978</td>\n",
              "      <td>Low_spent_Large_value_payments</td>\n",
              "      <td>310.883806</td>\n",
              "      <td>Good</td>\n",
              "      <td>45</td>\n",
              "    </tr>\n",
              "    <tr>\n",
              "      <th>100014</th>\n",
              "      <td>0x25fe6</td>\n",
              "      <td>CUS_0x942c</td>\n",
              "      <td>1</td>\n",
              "      <td>10</td>\n",
              "      <td>39628.99</td>\n",
              "      <td>3359.415833</td>\n",
              "      <td>4</td>\n",
              "      <td>6</td>\n",
              "      <td>7</td>\n",
              "      <td>2</td>\n",
              "      <td>...</td>\n",
              "      <td>502.38</td>\n",
              "      <td>32.991333</td>\n",
              "      <td>31 Years and 3 Months</td>\n",
              "      <td>No</td>\n",
              "      <td>35.104023</td>\n",
              "      <td>401.1964806</td>\n",
              "      <td>Low_spent_Small_value_payments</td>\n",
              "      <td>189.64108</td>\n",
              "      <td>Poor</td>\n",
              "      <td>24</td>\n",
              "    </tr>\n",
              "    <tr>\n",
              "      <th>100015</th>\n",
              "      <td>0x25fe7</td>\n",
              "      <td>CUS_0x942c</td>\n",
              "      <td>2</td>\n",
              "      <td>10</td>\n",
              "      <td>39628.99</td>\n",
              "      <td>3359.415833</td>\n",
              "      <td>4</td>\n",
              "      <td>6</td>\n",
              "      <td>7</td>\n",
              "      <td>2</td>\n",
              "      <td>...</td>\n",
              "      <td>502.38</td>\n",
              "      <td>29.135447</td>\n",
              "      <td>31 Years and 4 Months</td>\n",
              "      <td>No</td>\n",
              "      <td>58638.000000</td>\n",
              "      <td>180.7330952</td>\n",
              "      <td>Low_spent_Medium_value_payments</td>\n",
              "      <td>400.104466</td>\n",
              "      <td>Standard</td>\n",
              "      <td>25</td>\n",
              "    </tr>\n",
              "    <tr>\n",
              "      <th>100020</th>\n",
              "      <td>0x25fec</td>\n",
              "      <td>CUS_0x942c</td>\n",
              "      <td>7</td>\n",
              "      <td>10</td>\n",
              "      <td>39628.99</td>\n",
              "      <td>3359.415833</td>\n",
              "      <td>4</td>\n",
              "      <td>6</td>\n",
              "      <td>7</td>\n",
              "      <td>2</td>\n",
              "      <td>...</td>\n",
              "      <td>502.38</td>\n",
              "      <td>33.638208</td>\n",
              "      <td>31 Years and 9 Months</td>\n",
              "      <td>No</td>\n",
              "      <td>35.104023</td>\n",
              "      <td>251.6725822</td>\n",
              "      <td>Low_spent_Large_value_payments</td>\n",
              "      <td>319.164979</td>\n",
              "      <td>Standard</td>\n",
              "      <td>25</td>\n",
              "    </tr>\n",
              "  </tbody>\n",
              "</table>\n",
              "<p>9257 rows × 25 columns</p>\n",
              "</div>\n",
              "    <div class=\"colab-df-buttons\">\n",
              "\n",
              "  <div class=\"colab-df-container\">\n",
              "    <button class=\"colab-df-convert\" onclick=\"convertToInteractive('df-95882f1f-f918-400d-ab72-0756bbf8919e')\"\n",
              "            title=\"Convert this dataframe to an interactive table.\"\n",
              "            style=\"display:none;\">\n",
              "\n",
              "  <svg xmlns=\"http://www.w3.org/2000/svg\" height=\"24px\" viewBox=\"0 -960 960 960\">\n",
              "    <path d=\"M120-120v-720h720v720H120Zm60-500h600v-160H180v160Zm220 220h160v-160H400v160Zm0 220h160v-160H400v160ZM180-400h160v-160H180v160Zm440 0h160v-160H620v160ZM180-180h160v-160H180v160Zm440 0h160v-160H620v160Z\"/>\n",
              "  </svg>\n",
              "    </button>\n",
              "\n",
              "  <style>\n",
              "    .colab-df-container {\n",
              "      display:flex;\n",
              "      gap: 12px;\n",
              "    }\n",
              "\n",
              "    .colab-df-convert {\n",
              "      background-color: #E8F0FE;\n",
              "      border: none;\n",
              "      border-radius: 50%;\n",
              "      cursor: pointer;\n",
              "      display: none;\n",
              "      fill: #1967D2;\n",
              "      height: 32px;\n",
              "      padding: 0 0 0 0;\n",
              "      width: 32px;\n",
              "    }\n",
              "\n",
              "    .colab-df-convert:hover {\n",
              "      background-color: #E2EBFA;\n",
              "      box-shadow: 0px 1px 2px rgba(60, 64, 67, 0.3), 0px 1px 3px 1px rgba(60, 64, 67, 0.15);\n",
              "      fill: #174EA6;\n",
              "    }\n",
              "\n",
              "    .colab-df-buttons div {\n",
              "      margin-bottom: 4px;\n",
              "    }\n",
              "\n",
              "    [theme=dark] .colab-df-convert {\n",
              "      background-color: #3B4455;\n",
              "      fill: #D2E3FC;\n",
              "    }\n",
              "\n",
              "    [theme=dark] .colab-df-convert:hover {\n",
              "      background-color: #434B5C;\n",
              "      box-shadow: 0px 1px 3px 1px rgba(0, 0, 0, 0.15);\n",
              "      filter: drop-shadow(0px 1px 2px rgba(0, 0, 0, 0.3));\n",
              "      fill: #FFFFFF;\n",
              "    }\n",
              "  </style>\n",
              "\n",
              "    <script>\n",
              "      const buttonEl =\n",
              "        document.querySelector('#df-95882f1f-f918-400d-ab72-0756bbf8919e button.colab-df-convert');\n",
              "      buttonEl.style.display =\n",
              "        google.colab.kernel.accessAllowed ? 'block' : 'none';\n",
              "\n",
              "      async function convertToInteractive(key) {\n",
              "        const element = document.querySelector('#df-95882f1f-f918-400d-ab72-0756bbf8919e');\n",
              "        const dataTable =\n",
              "          await google.colab.kernel.invokeFunction('convertToInteractive',\n",
              "                                                    [key], {});\n",
              "        if (!dataTable) return;\n",
              "\n",
              "        const docLinkHtml = 'Like what you see? Visit the ' +\n",
              "          '<a target=\"_blank\" href=https://colab.research.google.com/notebooks/data_table.ipynb>data table notebook</a>'\n",
              "          + ' to learn more about interactive tables.';\n",
              "        element.innerHTML = '';\n",
              "        dataTable['output_type'] = 'display_data';\n",
              "        await google.colab.output.renderOutput(dataTable, element);\n",
              "        const docLink = document.createElement('div');\n",
              "        docLink.innerHTML = docLinkHtml;\n",
              "        element.appendChild(docLink);\n",
              "      }\n",
              "    </script>\n",
              "  </div>\n",
              "\n",
              "\n",
              "<div id=\"df-8b924e03-ced0-4f7f-8336-ebd2d6e4fa2a\">\n",
              "  <button class=\"colab-df-quickchart\" onclick=\"quickchart('df-8b924e03-ced0-4f7f-8336-ebd2d6e4fa2a')\"\n",
              "            title=\"Suggest charts\"\n",
              "            style=\"display:none;\">\n",
              "\n",
              "<svg xmlns=\"http://www.w3.org/2000/svg\" height=\"24px\"viewBox=\"0 0 24 24\"\n",
              "     width=\"24px\">\n",
              "    <g>\n",
              "        <path d=\"M19 3H5c-1.1 0-2 .9-2 2v14c0 1.1.9 2 2 2h14c1.1 0 2-.9 2-2V5c0-1.1-.9-2-2-2zM9 17H7v-7h2v7zm4 0h-2V7h2v10zm4 0h-2v-4h2v4z\"/>\n",
              "    </g>\n",
              "</svg>\n",
              "  </button>\n",
              "\n",
              "<style>\n",
              "  .colab-df-quickchart {\n",
              "      --bg-color: #E8F0FE;\n",
              "      --fill-color: #1967D2;\n",
              "      --hover-bg-color: #E2EBFA;\n",
              "      --hover-fill-color: #174EA6;\n",
              "      --disabled-fill-color: #AAA;\n",
              "      --disabled-bg-color: #DDD;\n",
              "  }\n",
              "\n",
              "  [theme=dark] .colab-df-quickchart {\n",
              "      --bg-color: #3B4455;\n",
              "      --fill-color: #D2E3FC;\n",
              "      --hover-bg-color: #434B5C;\n",
              "      --hover-fill-color: #FFFFFF;\n",
              "      --disabled-bg-color: #3B4455;\n",
              "      --disabled-fill-color: #666;\n",
              "  }\n",
              "\n",
              "  .colab-df-quickchart {\n",
              "    background-color: var(--bg-color);\n",
              "    border: none;\n",
              "    border-radius: 50%;\n",
              "    cursor: pointer;\n",
              "    display: none;\n",
              "    fill: var(--fill-color);\n",
              "    height: 32px;\n",
              "    padding: 0;\n",
              "    width: 32px;\n",
              "  }\n",
              "\n",
              "  .colab-df-quickchart:hover {\n",
              "    background-color: var(--hover-bg-color);\n",
              "    box-shadow: 0 1px 2px rgba(60, 64, 67, 0.3), 0 1px 3px 1px rgba(60, 64, 67, 0.15);\n",
              "    fill: var(--button-hover-fill-color);\n",
              "  }\n",
              "\n",
              "  .colab-df-quickchart-complete:disabled,\n",
              "  .colab-df-quickchart-complete:disabled:hover {\n",
              "    background-color: var(--disabled-bg-color);\n",
              "    fill: var(--disabled-fill-color);\n",
              "    box-shadow: none;\n",
              "  }\n",
              "\n",
              "  .colab-df-spinner {\n",
              "    border: 2px solid var(--fill-color);\n",
              "    border-color: transparent;\n",
              "    border-bottom-color: var(--fill-color);\n",
              "    animation:\n",
              "      spin 1s steps(1) infinite;\n",
              "  }\n",
              "\n",
              "  @keyframes spin {\n",
              "    0% {\n",
              "      border-color: transparent;\n",
              "      border-bottom-color: var(--fill-color);\n",
              "      border-left-color: var(--fill-color);\n",
              "    }\n",
              "    20% {\n",
              "      border-color: transparent;\n",
              "      border-left-color: var(--fill-color);\n",
              "      border-top-color: var(--fill-color);\n",
              "    }\n",
              "    30% {\n",
              "      border-color: transparent;\n",
              "      border-left-color: var(--fill-color);\n",
              "      border-top-color: var(--fill-color);\n",
              "      border-right-color: var(--fill-color);\n",
              "    }\n",
              "    40% {\n",
              "      border-color: transparent;\n",
              "      border-right-color: var(--fill-color);\n",
              "      border-top-color: var(--fill-color);\n",
              "    }\n",
              "    60% {\n",
              "      border-color: transparent;\n",
              "      border-right-color: var(--fill-color);\n",
              "    }\n",
              "    80% {\n",
              "      border-color: transparent;\n",
              "      border-right-color: var(--fill-color);\n",
              "      border-bottom-color: var(--fill-color);\n",
              "    }\n",
              "    90% {\n",
              "      border-color: transparent;\n",
              "      border-bottom-color: var(--fill-color);\n",
              "    }\n",
              "  }\n",
              "</style>\n",
              "\n",
              "  <script>\n",
              "    async function quickchart(key) {\n",
              "      const quickchartButtonEl =\n",
              "        document.querySelector('#' + key + ' button');\n",
              "      quickchartButtonEl.disabled = true;  // To prevent multiple clicks.\n",
              "      quickchartButtonEl.classList.add('colab-df-spinner');\n",
              "      try {\n",
              "        const charts = await google.colab.kernel.invokeFunction(\n",
              "            'suggestCharts', [key], {});\n",
              "      } catch (error) {\n",
              "        console.error('Error during call to suggestCharts:', error);\n",
              "      }\n",
              "      quickchartButtonEl.classList.remove('colab-df-spinner');\n",
              "      quickchartButtonEl.classList.add('colab-df-quickchart-complete');\n",
              "    }\n",
              "    (() => {\n",
              "      let quickchartButtonEl =\n",
              "        document.querySelector('#df-8b924e03-ced0-4f7f-8336-ebd2d6e4fa2a button');\n",
              "      quickchartButtonEl.style.display =\n",
              "        google.colab.kernel.accessAllowed ? 'block' : 'none';\n",
              "    })();\n",
              "  </script>\n",
              "</div>\n",
              "    </div>\n",
              "  </div>\n"
            ]
          },
          "metadata": {},
          "execution_count": 117
        }
      ]
    },
    {
      "cell_type": "markdown",
      "source": [
        "####Changed_Credit_Limit"
      ],
      "metadata": {
        "id": "itE_itKbcRgV"
      }
    },
    {
      "cell_type": "markdown",
      "source": [
        "Vrijednosti u ovoj koloni su float vrijednosti ili znak '_'. Zbog pojavljivanja tog znaka, transformisat ćemo podatke, pretvarajući te vrijednosti u 0."
      ],
      "metadata": {
        "id": "6xXdcKMqgj7x"
      }
    },
    {
      "cell_type": "code",
      "source": [
        "data['Changed_Credit_Limit'].unique()"
      ],
      "metadata": {
        "id": "kQW0kS89fXv1",
        "colab": {
          "base_uri": "https://localhost:8080/"
        },
        "outputId": "f1f353e8-754c-4bd7-9375-c36952138dad"
      },
      "execution_count": null,
      "outputs": [
        {
          "output_type": "execute_result",
          "data": {
            "text/plain": [
              "array(['11.27', '_', '6.27', ..., '27.38', '25.16', '21.17'], dtype=object)"
            ]
          },
          "metadata": {},
          "execution_count": 118
        }
      ]
    },
    {
      "cell_type": "code",
      "source": [
        "def transform_changed_credit_limit(data):\n",
        "  data['Changed_Credit_Limit'] = data['Changed_Credit_Limit'].apply(lambda x: '0' if x == '_' else x).astype('float64')\n",
        "  return data"
      ],
      "metadata": {
        "id": "FmYwfTZceGDV"
      },
      "execution_count": null,
      "outputs": []
    },
    {
      "cell_type": "code",
      "source": [
        "data = transform_changed_credit_limit(data)\n",
        "data[\"Changed_Credit_Limit\"]"
      ],
      "metadata": {
        "id": "ugyoWcBqeWbW",
        "colab": {
          "base_uri": "https://localhost:8080/"
        },
        "outputId": "2affa375-d568-4524-dc37-63144f7b0a19"
      },
      "execution_count": null,
      "outputs": [
        {
          "output_type": "execute_result",
          "data": {
            "text/plain": [
              "0         11.27\n",
              "1         11.27\n",
              "2          0.00\n",
              "3          6.27\n",
              "4         11.27\n",
              "          ...  \n",
              "100017    11.50\n",
              "100018    11.50\n",
              "100019    11.50\n",
              "100020    11.50\n",
              "100021    11.50\n",
              "Name: Changed_Credit_Limit, Length: 100022, dtype: float64"
            ]
          },
          "metadata": {},
          "execution_count": 120
        }
      ]
    },
    {
      "cell_type": "markdown",
      "source": [
        "Transformacija outliers - grupni medijan"
      ],
      "metadata": {
        "id": "cZkL9GD8CbW-"
      }
    },
    {
      "cell_type": "code",
      "source": [
        "def transform_changed_credit_limit_grouped_median(data):\n",
        "  condition = data[\"Changed_Credit_Limit\"] > 35\n",
        "  data = transform_column_outliers_group_median(data, \"Changed_Credit_Limit\", \"Customer_ID\", condition)\n",
        "  data[\"Changed_Credit_Limit\"] = data[\"Changed_Credit_Limit\"]\n",
        "  return data"
      ],
      "metadata": {
        "id": "aJ1-PEGGCgx8"
      },
      "execution_count": null,
      "outputs": []
    },
    {
      "cell_type": "code",
      "source": [
        "data = transform_changed_credit_limit_grouped_median(data)\n",
        "data[\"Changed_Credit_Limit\"]"
      ],
      "metadata": {
        "colab": {
          "base_uri": "https://localhost:8080/"
        },
        "id": "0k6-TAGQDXwN",
        "outputId": "a6c29353-e84e-4d34-9857-a555888f956b"
      },
      "execution_count": null,
      "outputs": [
        {
          "output_type": "execute_result",
          "data": {
            "text/plain": [
              "0         11.27\n",
              "1         11.27\n",
              "2          0.00\n",
              "3          6.27\n",
              "4         11.27\n",
              "          ...  \n",
              "100017    11.50\n",
              "100018    11.50\n",
              "100019    11.50\n",
              "100020    11.50\n",
              "100021    11.50\n",
              "Name: Changed_Credit_Limit, Length: 100022, dtype: float64"
            ]
          },
          "metadata": {},
          "execution_count": 122
        }
      ]
    },
    {
      "cell_type": "markdown",
      "source": [
        "####Num_Credit_Inquiries"
      ],
      "metadata": {
        "id": "yK-We88fcdqB"
      }
    },
    {
      "cell_type": "markdown",
      "source": [
        "Vrijednosti u ovoj koloni su tipa int, ali neke vrijednosti su NaN, pa smo ih transformisali u 0, te označili da su elementi ove kolone tipa int64."
      ],
      "metadata": {
        "id": "ItmbLKw-xMwv"
      }
    },
    {
      "cell_type": "code",
      "source": [
        "data['Num_Credit_Inquiries'].unique()"
      ],
      "metadata": {
        "id": "CeVm12Izm7Ep",
        "colab": {
          "base_uri": "https://localhost:8080/"
        },
        "outputId": "7913fdcc-38b0-4a59-bef7-c83cfd75efca"
      },
      "execution_count": null,
      "outputs": [
        {
          "output_type": "execute_result",
          "data": {
            "text/plain": [
              "array([   4.,    2.,    3., ..., 1361.,  310.,   74.])"
            ]
          },
          "metadata": {},
          "execution_count": 123
        }
      ]
    },
    {
      "cell_type": "code",
      "source": [
        "def transform_num_credit_inquiries(data):\n",
        "  data['Num_Credit_Inquiries'] = data['Num_Credit_Inquiries'].apply(lambda x: '0' if pd.isna(x) else x).astype('int64')\n",
        "  return data"
      ],
      "metadata": {
        "id": "-PsjwEEDnDS0"
      },
      "execution_count": null,
      "outputs": []
    },
    {
      "cell_type": "code",
      "source": [
        "data = transform_num_credit_inquiries(data)\n",
        "data[\"Num_Credit_Inquiries\"]"
      ],
      "metadata": {
        "id": "4FP1WBornPM2",
        "colab": {
          "base_uri": "https://localhost:8080/"
        },
        "outputId": "36afa495-6da0-465d-901a-33551e08552e"
      },
      "execution_count": null,
      "outputs": [
        {
          "output_type": "execute_result",
          "data": {
            "text/plain": [
              "0         4\n",
              "1         4\n",
              "2         4\n",
              "3         4\n",
              "4         4\n",
              "         ..\n",
              "100017    3\n",
              "100018    3\n",
              "100019    3\n",
              "100020    3\n",
              "100021    3\n",
              "Name: Num_Credit_Inquiries, Length: 100022, dtype: int64"
            ]
          },
          "metadata": {},
          "execution_count": 125
        }
      ]
    },
    {
      "cell_type": "markdown",
      "source": [
        "Transformacija outliers - grupni medijan"
      ],
      "metadata": {
        "id": "pVjAMzuhFOjE"
      }
    },
    {
      "cell_type": "code",
      "source": [
        "def transform_num_credit_inquiries_group_median(data):\n",
        "  condition = data[\"Num_Credit_Inquiries\"] > 500\n",
        "  return transform_column_outliers_group_median(data, \"Num_Credit_Inquiries\", \"Customer_ID\", condition)"
      ],
      "metadata": {
        "id": "ls5_usBHesGf"
      },
      "execution_count": null,
      "outputs": []
    },
    {
      "cell_type": "code",
      "source": [
        "data = transform_num_credit_inquiries_group_median(data)\n",
        "data[\"Num_Credit_Inquiries\"]"
      ],
      "metadata": {
        "colab": {
          "base_uri": "https://localhost:8080/"
        },
        "id": "ZN8bU9LCewMA",
        "outputId": "48ffc7ae-51e4-48a2-a2f3-6c5ef470af9e"
      },
      "execution_count": null,
      "outputs": [
        {
          "output_type": "execute_result",
          "data": {
            "text/plain": [
              "0         4.0\n",
              "1         4.0\n",
              "2         4.0\n",
              "3         4.0\n",
              "4         4.0\n",
              "         ... \n",
              "100017    3.0\n",
              "100018    3.0\n",
              "100019    3.0\n",
              "100020    3.0\n",
              "100021    3.0\n",
              "Name: Num_Credit_Inquiries, Length: 100022, dtype: float64"
            ]
          },
          "metadata": {},
          "execution_count": 127
        }
      ]
    },
    {
      "cell_type": "markdown",
      "source": [
        "####Credit_Mix"
      ],
      "metadata": {
        "id": "DoirkQ1rciTE"
      }
    },
    {
      "cell_type": "markdown",
      "source": [
        "U ovoj koloni se pojavljuju četiri različite vrijednosti, tako da ćemo napraviti enum i mapirati te vrijednosti. Nakon ovih transformacija kolona ima elemente tipa int64."
      ],
      "metadata": {
        "id": "WkZJyOkf2x2v"
      }
    },
    {
      "cell_type": "code",
      "source": [
        "data['Credit_Mix'].unique()"
      ],
      "metadata": {
        "colab": {
          "base_uri": "https://localhost:8080/"
        },
        "id": "tsOwAnZtygLc",
        "outputId": "3c2ad711-551e-4132-b447-2d0c49bb1111"
      },
      "execution_count": null,
      "outputs": [
        {
          "output_type": "execute_result",
          "data": {
            "text/plain": [
              "array(['_', 'Good', 'Standard', 'Bad'], dtype=object)"
            ]
          },
          "metadata": {},
          "execution_count": 128
        }
      ]
    },
    {
      "cell_type": "code",
      "source": [
        "from enum import Enum\n",
        "\n",
        "class CreditMix(Enum):\n",
        "  NONE = 0,\n",
        "  GOOD = 1,\n",
        "  STANDARD = 2,\n",
        "  BAD = 3"
      ],
      "metadata": {
        "id": "giAFsoz1z6Xr"
      },
      "execution_count": null,
      "outputs": []
    },
    {
      "cell_type": "code",
      "source": [
        "def map_credit_mix_enum(credit_mix):\n",
        "  try:\n",
        "    return CreditMix[credit_mix.upper()].value[0]\n",
        "  except:\n",
        "    return CreditMix.NONE.value[0]"
      ],
      "metadata": {
        "id": "-vkdCQDv0Een"
      },
      "execution_count": null,
      "outputs": []
    },
    {
      "cell_type": "code",
      "source": [
        "def transform_credit_mix(data):\n",
        "  data['Credit_Mix'] = data['Credit_Mix'].astype(str)\n",
        "  data['Credit_Mix'] = data['Credit_Mix'].apply(map_credit_mix_enum)\n",
        "  return data"
      ],
      "metadata": {
        "id": "9tMjXtjX0Tmd"
      },
      "execution_count": null,
      "outputs": []
    },
    {
      "cell_type": "code",
      "source": [
        "data = transform_credit_mix(data)\n",
        "data[\"Credit_Mix\"]"
      ],
      "metadata": {
        "colab": {
          "base_uri": "https://localhost:8080/"
        },
        "id": "FCVg-lQBzM2P",
        "outputId": "99927de1-5754-49be-832e-8d627e9199a5"
      },
      "execution_count": null,
      "outputs": [
        {
          "output_type": "execute_result",
          "data": {
            "text/plain": [
              "0         0\n",
              "1         1\n",
              "2         1\n",
              "3         1\n",
              "4         1\n",
              "         ..\n",
              "100017    0\n",
              "100018    0\n",
              "100019    1\n",
              "100020    1\n",
              "100021    1\n",
              "Name: Credit_Mix, Length: 100022, dtype: int64"
            ]
          },
          "metadata": {},
          "execution_count": 132
        }
      ]
    },
    {
      "cell_type": "code",
      "source": [
        "data['Credit_Mix'].unique()"
      ],
      "metadata": {
        "colab": {
          "base_uri": "https://localhost:8080/"
        },
        "id": "Mo9n3ysoEz9D",
        "outputId": "1ce775db-76e8-45cf-de1c-970fea8fb10d"
      },
      "execution_count": null,
      "outputs": [
        {
          "output_type": "execute_result",
          "data": {
            "text/plain": [
              "array([0, 1, 2])"
            ]
          },
          "metadata": {},
          "execution_count": 133
        }
      ]
    },
    {
      "cell_type": "markdown",
      "source": [
        "####Outstanding_Debt"
      ],
      "metadata": {
        "id": "1m3gVB-OcqIF"
      }
    },
    {
      "cell_type": "markdown",
      "source": [
        "Ovu kolonu transformišemo kao prethodne kolone s elementima tipa float. Za ovu kolonu ne moramo raditi transformaciju outliers, jer ih nema."
      ],
      "metadata": {
        "id": "vsBfwMdz4TG2"
      }
    },
    {
      "cell_type": "code",
      "source": [
        "data['Outstanding_Debt'].unique()"
      ],
      "metadata": {
        "colab": {
          "base_uri": "https://localhost:8080/"
        },
        "id": "gw3LoH0dymYU",
        "outputId": "1757e885-9d14-456d-c044-44dff0e33ef6"
      },
      "execution_count": null,
      "outputs": [
        {
          "output_type": "execute_result",
          "data": {
            "text/plain": [
              "array(['809.98', '605.03', '1303.01', ..., '3571.7_', '3571.7', '502.38'],\n",
              "      dtype=object)"
            ]
          },
          "metadata": {},
          "execution_count": 134
        }
      ]
    },
    {
      "cell_type": "code",
      "source": [
        "def transform_outstanding_debt(data):\n",
        "  data = transform_float_column(data, \"Outstanding_Debt\")\n",
        "  return data"
      ],
      "metadata": {
        "id": "T98gEp8szFRa"
      },
      "execution_count": null,
      "outputs": []
    },
    {
      "cell_type": "code",
      "source": [
        "data = transform_outstanding_debt(data)\n",
        "data[\"Outstanding_Debt\"]"
      ],
      "metadata": {
        "colab": {
          "base_uri": "https://localhost:8080/"
        },
        "id": "RWQfFbztzOOb",
        "outputId": "c80c478b-e229-4d02-ae14-542f97aa7957"
      },
      "execution_count": null,
      "outputs": [
        {
          "output_type": "execute_result",
          "data": {
            "text/plain": [
              "0         809.98\n",
              "1         809.98\n",
              "2         809.98\n",
              "3         809.98\n",
              "4         809.98\n",
              "           ...  \n",
              "100017    502.38\n",
              "100018    502.38\n",
              "100019    502.38\n",
              "100020    502.38\n",
              "100021    502.38\n",
              "Name: Outstanding_Debt, Length: 100022, dtype: float64"
            ]
          },
          "metadata": {},
          "execution_count": 136
        }
      ]
    },
    {
      "cell_type": "markdown",
      "source": [
        "####Credit_Utilization_Ratio"
      ],
      "metadata": {
        "id": "BO402nHQcvbn"
      }
    },
    {
      "cell_type": "markdown",
      "source": [
        "Za ovu kolonu ćemo samo uraditi transformaciju outliers."
      ],
      "metadata": {
        "id": "XgDUd8TH8iT8"
      }
    },
    {
      "cell_type": "code",
      "source": [
        "data['Credit_Utilization_Ratio'].unique()"
      ],
      "metadata": {
        "colab": {
          "base_uri": "https://localhost:8080/"
        },
        "id": "7S48UD5HynHx",
        "outputId": "cb4fc602-94b9-4ad2-fda8-19f81af78ac5"
      },
      "execution_count": null,
      "outputs": [
        {
          "output_type": "execute_result",
          "data": {
            "text/plain": [
              "array([26.82261962, 31.94496006, 28.60935202, ..., 41.25552226,\n",
              "       33.63820798, 34.19246265])"
            ]
          },
          "metadata": {},
          "execution_count": 137
        }
      ]
    },
    {
      "cell_type": "markdown",
      "source": [
        "Transformacija outliers - grupni medijan"
      ],
      "metadata": {
        "id": "p9M010OyjMxB"
      }
    },
    {
      "cell_type": "code",
      "source": [
        "def transform_credit_utilization_ratio_grouped_median(data):\n",
        "  condition = (data[\"Credit_Utilization_Ratio\"] < 22) | (data[\"Credit_Utilization_Ratio\"] > 42)\n",
        "  data = transform_column_outliers_group_median(data, \"Credit_Utilization_Ratio\", \"Customer_ID\", condition)\n",
        "  data[\"Credit_Utilization_Ratio\"] = data[\"Credit_Utilization_Ratio\"]\n",
        "  return data"
      ],
      "metadata": {
        "id": "hUqdGly7jCb_"
      },
      "execution_count": null,
      "outputs": []
    },
    {
      "cell_type": "code",
      "source": [
        "data = transform_credit_utilization_ratio_grouped_median(data)\n",
        "data[\"Credit_Utilization_Ratio\"]"
      ],
      "metadata": {
        "colab": {
          "base_uri": "https://localhost:8080/"
        },
        "id": "7D9k6ectjPig",
        "outputId": "94eddfda-bb92-4997-fffe-c8f7942c3c38"
      },
      "execution_count": null,
      "outputs": [
        {
          "output_type": "execute_result",
          "data": {
            "text/plain": [
              "0         26.822620\n",
              "1         31.944960\n",
              "2         28.609352\n",
              "3         31.377862\n",
              "4         24.797347\n",
              "            ...    \n",
              "100017    34.663572\n",
              "100018    40.565631\n",
              "100019    41.255522\n",
              "100020    33.638208\n",
              "100021    34.192463\n",
              "Name: Credit_Utilization_Ratio, Length: 100022, dtype: float64"
            ]
          },
          "metadata": {},
          "execution_count": 139
        }
      ]
    },
    {
      "cell_type": "markdown",
      "source": [
        "####Credit_History_Age"
      ],
      "metadata": {
        "id": "ereufV3Kcw7x"
      }
    },
    {
      "cell_type": "markdown",
      "source": [
        "Ovu kolonu ćemo razdvojiti na dvije kolone: za godine i za mjesece."
      ],
      "metadata": {
        "id": "b0wyOXnYmASo"
      }
    },
    {
      "cell_type": "code",
      "source": [
        "data['Credit_History_Age'].unique()"
      ],
      "metadata": {
        "id": "Psfls5yRyntB",
        "colab": {
          "base_uri": "https://localhost:8080/"
        },
        "outputId": "88a5ef5d-1d6e-4a48-913e-78989d801123"
      },
      "execution_count": null,
      "outputs": [
        {
          "output_type": "execute_result",
          "data": {
            "text/plain": [
              "array(['22 Years and 1 Months', nan, '22 Years and 3 Months',\n",
              "       '22 Years and 4 Months', '22 Years and 5 Months',\n",
              "       '22 Years and 6 Months', '22 Years and 7 Months',\n",
              "       '26 Years and 7 Months', '26 Years and 8 Months',\n",
              "       '26 Years and 9 Months', '26 Years and 10 Months',\n",
              "       '26 Years and 11 Months', '27 Years and 0 Months',\n",
              "       '27 Years and 1 Months', '27 Years and 2 Months',\n",
              "       '17 Years and 9 Months', '17 Years and 10 Months',\n",
              "       '17 Years and 11 Months', '18 Years and 1 Months',\n",
              "       '18 Years and 2 Months', '18 Years and 3 Months',\n",
              "       '18 Years and 4 Months', '17 Years and 3 Months',\n",
              "       '17 Years and 4 Months', '17 Years and 5 Months',\n",
              "       '17 Years and 6 Months', '17 Years and 7 Months',\n",
              "       '17 Years and 8 Months', '30 Years and 8 Months',\n",
              "       '30 Years and 9 Months', '30 Years and 10 Months',\n",
              "       '30 Years and 11 Months', '31 Years and 0 Months',\n",
              "       '31 Years and 1 Months', '31 Years and 2 Months',\n",
              "       '31 Years and 3 Months', '32 Years and 0 Months',\n",
              "       '32 Years and 2 Months', '32 Years and 3 Months',\n",
              "       '32 Years and 5 Months', '32 Years and 6 Months',\n",
              "       '30 Years and 7 Months', '14 Years and 8 Months',\n",
              "       '14 Years and 9 Months', '14 Years and 10 Months',\n",
              "       '14 Years and 11 Months', '15 Years and 0 Months',\n",
              "       '15 Years and 1 Months', '15 Years and 2 Months',\n",
              "       '21 Years and 4 Months', '21 Years and 5 Months',\n",
              "       '21 Years and 6 Months', '21 Years and 7 Months',\n",
              "       '21 Years and 8 Months', '21 Years and 9 Months',\n",
              "       '21 Years and 10 Months', '21 Years and 11 Months',\n",
              "       '26 Years and 6 Months', '19 Years and 2 Months',\n",
              "       '19 Years and 3 Months', '19 Years and 4 Months',\n",
              "       '19 Years and 5 Months', '19 Years and 6 Months',\n",
              "       '19 Years and 7 Months', '19 Years and 8 Months',\n",
              "       '25 Years and 5 Months', '25 Years and 6 Months',\n",
              "       '25 Years and 7 Months', '25 Years and 8 Months',\n",
              "       '25 Years and 9 Months', '25 Years and 10 Months',\n",
              "       '25 Years and 11 Months', '26 Years and 0 Months',\n",
              "       '27 Years and 3 Months', '27 Years and 4 Months',\n",
              "       '27 Years and 5 Months', '8 Years and 11 Months',\n",
              "       '9 Years and 0 Months', '9 Years and 1 Months',\n",
              "       '9 Years and 2 Months', '9 Years and 3 Months',\n",
              "       '9 Years and 4 Months', '9 Years and 6 Months',\n",
              "       '18 Years and 5 Months', '18 Years and 6 Months',\n",
              "       '18 Years and 8 Months', '18 Years and 9 Months',\n",
              "       '16 Years and 10 Months', '16 Years and 11 Months',\n",
              "       '17 Years and 0 Months', '17 Years and 1 Months',\n",
              "       '17 Years and 2 Months', '29 Years and 2 Months',\n",
              "       '29 Years and 3 Months', '29 Years and 4 Months',\n",
              "       '29 Years and 6 Months', '29 Years and 8 Months',\n",
              "       '29 Years and 9 Months', '6 Years and 5 Months',\n",
              "       '6 Years and 6 Months', '6 Years and 7 Months',\n",
              "       '6 Years and 8 Months', '6 Years and 9 Months',\n",
              "       '6 Years and 10 Months', '6 Years and 11 Months',\n",
              "       '7 Years and 0 Months', '27 Years and 6 Months',\n",
              "       '27 Years and 7 Months', '27 Years and 8 Months',\n",
              "       '27 Years and 9 Months', '18 Years and 7 Months',\n",
              "       '19 Years and 9 Months', '19 Years and 10 Months',\n",
              "       '10 Years and 1 Months', '10 Years and 2 Months',\n",
              "       '10 Years and 3 Months', '10 Years and 4 Months',\n",
              "       '10 Years and 5 Months', '10 Years and 6 Months',\n",
              "       '10 Years and 7 Months', '10 Years and 8 Months',\n",
              "       '32 Years and 9 Months', '32 Years and 10 Months',\n",
              "       '32 Years and 11 Months', '33 Years and 0 Months',\n",
              "       '33 Years and 1 Months', '33 Years and 4 Months',\n",
              "       '12 Years and 3 Months', '12 Years and 4 Months',\n",
              "       '12 Years and 5 Months', '12 Years and 6 Months',\n",
              "       '12 Years and 7 Months', '12 Years and 8 Months',\n",
              "       '12 Years and 10 Months', '12 Years and 9 Months',\n",
              "       '13 Years and 8 Months', '13 Years and 11 Months',\n",
              "       '14 Years and 0 Months', '14 Years and 1 Months',\n",
              "       '14 Years and 2 Months', '14 Years and 3 Months',\n",
              "       '30 Years and 3 Months', '30 Years and 4 Months',\n",
              "       '30 Years and 5 Months', '30 Years and 6 Months',\n",
              "       '8 Years and 9 Months', '8 Years and 10 Months',\n",
              "       '18 Years and 10 Months', '18 Years and 11 Months',\n",
              "       '19 Years and 0 Months', '19 Years and 1 Months',\n",
              "       '8 Years and 8 Months', '13 Years and 1 Months',\n",
              "       '13 Years and 2 Months', '13 Years and 3 Months',\n",
              "       '13 Years and 5 Months', '13 Years and 6 Months',\n",
              "       '13 Years and 7 Months', '22 Years and 0 Months',\n",
              "       '26 Years and 1 Months', '26 Years and 2 Months',\n",
              "       '13 Years and 4 Months', '13 Years and 9 Months',\n",
              "       '27 Years and 11 Months', '28 Years and 0 Months',\n",
              "       '28 Years and 1 Months', '28 Years and 2 Months',\n",
              "       '28 Years and 3 Months', '28 Years and 4 Months',\n",
              "       '28 Years and 5 Months', '28 Years and 6 Months',\n",
              "       '7 Years and 10 Months', '7 Years and 11 Months',\n",
              "       '8 Years and 0 Months', '8 Years and 1 Months',\n",
              "       '8 Years and 2 Months', '8 Years and 3 Months',\n",
              "       '8 Years and 4 Months', '8 Years and 5 Months',\n",
              "       '24 Years and 3 Months', '24 Years and 4 Months',\n",
              "       '24 Years and 5 Months', '24 Years and 6 Months',\n",
              "       '24 Years and 7 Months', '24 Years and 8 Months',\n",
              "       '24 Years and 9 Months', '1 Years and 2 Months',\n",
              "       '1 Years and 3 Months', '1 Years and 4 Months',\n",
              "       '1 Years and 5 Months', '1 Years and 6 Months',\n",
              "       '1 Years and 7 Months', '1 Years and 8 Months',\n",
              "       '10 Years and 11 Months', '11 Years and 0 Months',\n",
              "       '11 Years and 1 Months', '11 Years and 2 Months',\n",
              "       '11 Years and 3 Months', '11 Years and 4 Months',\n",
              "       '11 Years and 5 Months', '11 Years and 6 Months',\n",
              "       '19 Years and 11 Months', '20 Years and 0 Months',\n",
              "       '20 Years and 1 Months', '10 Years and 9 Months',\n",
              "       '10 Years and 10 Months', '14 Years and 4 Months',\n",
              "       '14 Years and 5 Months', '14 Years and 6 Months',\n",
              "       '20 Years and 8 Months', '20 Years and 9 Months',\n",
              "       '20 Years and 10 Months', '20 Years and 11 Months',\n",
              "       '21 Years and 0 Months', '21 Years and 1 Months',\n",
              "       '21 Years and 2 Months', '21 Years and 3 Months',\n",
              "       '0 Years and 4 Months', '0 Years and 5 Months',\n",
              "       '0 Years and 6 Months', '0 Years and 8 Months',\n",
              "       '0 Years and 9 Months', '0 Years and 10 Months',\n",
              "       '31 Years and 7 Months', '31 Years and 8 Months',\n",
              "       '31 Years and 9 Months', '31 Years and 10 Months',\n",
              "       '31 Years and 11 Months', '32 Years and 1 Months',\n",
              "       '12 Years and 11 Months', '13 Years and 0 Months',\n",
              "       '27 Years and 10 Months', '11 Years and 7 Months',\n",
              "       '11 Years and 8 Months', '11 Years and 9 Months',\n",
              "       '11 Years and 10 Months', '24 Years and 10 Months',\n",
              "       '24 Years and 11 Months', '25 Years and 0 Months',\n",
              "       '25 Years and 1 Months', '25 Years and 2 Months',\n",
              "       '25 Years and 3 Months', '18 Years and 0 Months',\n",
              "       '31 Years and 4 Months', '31 Years and 5 Months',\n",
              "       '31 Years and 6 Months', '5 Years and 2 Months',\n",
              "       '5 Years and 3 Months', '5 Years and 4 Months',\n",
              "       '5 Years and 5 Months', '5 Years and 6 Months',\n",
              "       '5 Years and 7 Months', '5 Years and 8 Months',\n",
              "       '5 Years and 9 Months', '2 Years and 11 Months',\n",
              "       '3 Years and 0 Months', '3 Years and 1 Months',\n",
              "       '3 Years and 2 Months', '3 Years and 3 Months',\n",
              "       '3 Years and 4 Months', '3 Years and 5 Months',\n",
              "       '3 Years and 6 Months', '16 Years and 4 Months',\n",
              "       '16 Years and 5 Months', '16 Years and 6 Months',\n",
              "       '16 Years and 7 Months', '16 Years and 8 Months',\n",
              "       '16 Years and 9 Months', '22 Years and 11 Months',\n",
              "       '23 Years and 0 Months', '23 Years and 2 Months',\n",
              "       '23 Years and 3 Months', '23 Years and 4 Months',\n",
              "       '23 Years and 5 Months', '23 Years and 6 Months',\n",
              "       '8 Years and 6 Months', '8 Years and 7 Months',\n",
              "       '4 Years and 5 Months', '4 Years and 6 Months',\n",
              "       '4 Years and 7 Months', '4 Years and 8 Months',\n",
              "       '4 Years and 9 Months', '4 Years and 10 Months',\n",
              "       '4 Years and 11 Months', '5 Years and 0 Months',\n",
              "       '32 Years and 8 Months', '33 Years and 2 Months',\n",
              "       '33 Years and 3 Months', '12 Years and 2 Months',\n",
              "       '32 Years and 4 Months', '29 Years and 11 Months',\n",
              "       '30 Years and 0 Months', '30 Years and 2 Months',\n",
              "       '26 Years and 3 Months', '26 Years and 4 Months',\n",
              "       '26 Years and 5 Months', '7 Years and 6 Months',\n",
              "       '7 Years and 7 Months', '7 Years and 8 Months',\n",
              "       '7 Years and 9 Months', '28 Years and 7 Months',\n",
              "       '28 Years and 8 Months', '28 Years and 9 Months',\n",
              "       '28 Years and 10 Months', '29 Years and 5 Months',\n",
              "       '29 Years and 7 Months', '20 Years and 2 Months',\n",
              "       '20 Years and 3 Months', '20 Years and 4 Months',\n",
              "       '20 Years and 5 Months', '20 Years and 6 Months',\n",
              "       '20 Years and 7 Months', '28 Years and 11 Months',\n",
              "       '29 Years and 0 Months', '13 Years and 10 Months',\n",
              "       '1 Years and 9 Months', '1 Years and 10 Months',\n",
              "       '1 Years and 11 Months', '33 Years and 5 Months',\n",
              "       '33 Years and 6 Months', '33 Years and 7 Months',\n",
              "       '33 Years and 8 Months', '29 Years and 1 Months',\n",
              "       '5 Years and 1 Months', '5 Years and 10 Months',\n",
              "       '5 Years and 11 Months', '6 Years and 0 Months',\n",
              "       '6 Years and 1 Months', '6 Years and 2 Months',\n",
              "       '6 Years and 3 Months', '22 Years and 9 Months',\n",
              "       '22 Years and 10 Months', '23 Years and 1 Months',\n",
              "       '22 Years and 2 Months', '15 Years and 4 Months',\n",
              "       '15 Years and 5 Months', '15 Years and 6 Months',\n",
              "       '15 Years and 7 Months', '15 Years and 8 Months',\n",
              "       '15 Years and 9 Months', '15 Years and 10 Months',\n",
              "       '15 Years and 11 Months', '2 Years and 3 Months',\n",
              "       '2 Years and 4 Months', '2 Years and 5 Months',\n",
              "       '2 Years and 6 Months', '2 Years and 7 Months',\n",
              "       '2 Years and 8 Months', '2 Years and 9 Months',\n",
              "       '2 Years and 10 Months', '2 Years and 0 Months',\n",
              "       '16 Years and 2 Months', '16 Years and 3 Months',\n",
              "       '22 Years and 8 Months', '9 Years and 5 Months',\n",
              "       '9 Years and 7 Months', '9 Years and 8 Months',\n",
              "       '9 Years and 9 Months', '11 Years and 11 Months',\n",
              "       '12 Years and 0 Months', '12 Years and 1 Months',\n",
              "       '24 Years and 2 Months', '16 Years and 0 Months',\n",
              "       '16 Years and 1 Months', '14 Years and 7 Months',\n",
              "       '25 Years and 4 Months', '15 Years and 3 Months',\n",
              "       '7 Years and 1 Months', '7 Years and 2 Months',\n",
              "       '7 Years and 3 Months', '7 Years and 4 Months',\n",
              "       '7 Years and 5 Months', '23 Years and 7 Months',\n",
              "       '23 Years and 8 Months', '23 Years and 9 Months',\n",
              "       '30 Years and 1 Months', '29 Years and 10 Months',\n",
              "       '9 Years and 10 Months', '9 Years and 11 Months',\n",
              "       '10 Years and 0 Months', '2 Years and 2 Months',\n",
              "       '23 Years and 10 Months', '23 Years and 11 Months',\n",
              "       '24 Years and 0 Months', '24 Years and 1 Months',\n",
              "       '6 Years and 4 Months', '0 Years and 1 Months',\n",
              "       '0 Years and 2 Months', '0 Years and 3 Months',\n",
              "       '0 Years and 7 Months', '3 Years and 8 Months',\n",
              "       '32 Years and 7 Months', '3 Years and 7 Months',\n",
              "       '3 Years and 9 Months', '3 Years and 10 Months',\n",
              "       '0 Years and 11 Months', '1 Years and 0 Months',\n",
              "       '1 Years and 1 Months', '4 Years and 4 Months',\n",
              "       '3 Years and 11 Months', '4 Years and 0 Months',\n",
              "       '4 Years and 1 Months', '4 Years and 2 Months',\n",
              "       '4 Years and 3 Months', '2 Years and 1 Months'], dtype=object)"
            ]
          },
          "metadata": {},
          "execution_count": 140
        }
      ]
    },
    {
      "cell_type": "code",
      "source": [
        "def drop_credit_history_age(data):\n",
        "  del data['Credit_History_Age']\n",
        "  return data"
      ],
      "metadata": {
        "id": "l58sp9GQ2M-A"
      },
      "execution_count": null,
      "outputs": []
    },
    {
      "cell_type": "code",
      "source": [
        "def split_years_and_months(data):\n",
        "  age_parts = data['Credit_History_Age'].str.extract(r'(\\d+) Years and (\\d+) Months')\n",
        "\n",
        "  data['Credit_History_Age_Years'] = pd.to_numeric(age_parts[0], errors='coerce').fillna(0)\n",
        "  data['Credit_History_Age_Months'] = pd.to_numeric(age_parts[1], errors='coerce').fillna(0)\n",
        "\n",
        "  data['Credit_History_Age_Years'] = data['Credit_History_Age_Years'].astype('Int64')\n",
        "  data['Credit_History_Age_Months'] = data['Credit_History_Age_Months'].astype('Int64')\n",
        "\n",
        "  data = drop_credit_history_age(data)\n",
        "\n",
        "  return data"
      ],
      "metadata": {
        "id": "lvJOwdaLefX6"
      },
      "execution_count": null,
      "outputs": []
    },
    {
      "cell_type": "code",
      "source": [
        "data = split_years_and_months(data)\n",
        "data[\"Credit_History_Age_Years\"]"
      ],
      "metadata": {
        "id": "edmifxmjzQ0I",
        "colab": {
          "base_uri": "https://localhost:8080/"
        },
        "outputId": "3081b7fc-789f-40ee-8add-bef1e60ddf55"
      },
      "execution_count": null,
      "outputs": [
        {
          "output_type": "execute_result",
          "data": {
            "text/plain": [
              "0         22\n",
              "1          0\n",
              "2         22\n",
              "3         22\n",
              "4         22\n",
              "          ..\n",
              "100017    31\n",
              "100018    31\n",
              "100019    31\n",
              "100020    31\n",
              "100021    31\n",
              "Name: Credit_History_Age_Years, Length: 100022, dtype: Int64"
            ]
          },
          "metadata": {},
          "execution_count": 143
        }
      ]
    },
    {
      "cell_type": "markdown",
      "source": [
        "Transformacija outlier i nevalidnih vrijednosti - grupna moda"
      ],
      "metadata": {
        "id": "mQG3AMkjS0R5"
      }
    },
    {
      "cell_type": "code",
      "source": [
        "def transform_credit_history_age_years_group_mode(data):\n",
        "  condition = data[\"Credit_History_Age_Years\"] <= 0\n",
        "  return transform_column_outliers_group_mode(data, \"Credit_History_Age_Years\", \"Customer_ID\", condition)"
      ],
      "metadata": {
        "id": "jp-YJKxTE7yi"
      },
      "execution_count": null,
      "outputs": []
    },
    {
      "cell_type": "code",
      "source": [
        "data = transform_credit_history_age_years_group_mode(data)"
      ],
      "metadata": {
        "id": "0jvgYG4pFMfp"
      },
      "execution_count": null,
      "outputs": []
    },
    {
      "cell_type": "code",
      "source": [
        "data['Credit_History_Age_Months']"
      ],
      "metadata": {
        "colab": {
          "base_uri": "https://localhost:8080/"
        },
        "id": "HPI8FPNTG6L-",
        "outputId": "f53496bc-afc3-40b0-a4b6-9620d46c672b"
      },
      "execution_count": null,
      "outputs": [
        {
          "output_type": "execute_result",
          "data": {
            "text/plain": [
              "0          1\n",
              "1          0\n",
              "2          3\n",
              "3          4\n",
              "4          5\n",
              "          ..\n",
              "100017     6\n",
              "100018     7\n",
              "100019     8\n",
              "100020     9\n",
              "100021    10\n",
              "Name: Credit_History_Age_Months, Length: 100022, dtype: Int64"
            ]
          },
          "metadata": {},
          "execution_count": 146
        }
      ]
    },
    {
      "cell_type": "code",
      "source": [
        "def transform_credit_history_age_months_group_mode(data):\n",
        "  condition = data[\"Credit_History_Age_Months\"] <= 0\n",
        "  return transform_column_outliers_group_mode(data, \"Credit_History_Age_Months\", \"Customer_ID\", condition)"
      ],
      "metadata": {
        "id": "0HCcZCE2Fc5A"
      },
      "execution_count": null,
      "outputs": []
    },
    {
      "cell_type": "code",
      "source": [
        "data = transform_credit_history_age_months_group_mode(data)"
      ],
      "metadata": {
        "id": "fGJpn14ZFm1S"
      },
      "execution_count": null,
      "outputs": []
    },
    {
      "cell_type": "markdown",
      "source": [
        "####Payment_of_Min_Amount"
      ],
      "metadata": {
        "id": "eZTyaofqczQJ"
      }
    },
    {
      "cell_type": "markdown",
      "source": [
        "Kolona Payment_of_Min_Amount ima vrijednosti 'No', 'NM', 'True' i 'Yes'. S obzirom na te vrijednosti, elemente ćemo joj transformisati u boolean vrijednosti.\n",
        "\n",
        "Dodatno, boolean vrijednosti ćemo predstaviti kao bite, gdje vrijedi False=0 i True=1."
      ],
      "metadata": {
        "id": "YQHTa6iqnE43"
      }
    },
    {
      "cell_type": "code",
      "source": [
        "data['Payment_of_Min_Amount'].unique()"
      ],
      "metadata": {
        "colab": {
          "base_uri": "https://localhost:8080/"
        },
        "id": "egsdlH7EyoNs",
        "outputId": "14976ffb-716c-41dc-97ee-308bca82c365"
      },
      "execution_count": null,
      "outputs": [
        {
          "output_type": "execute_result",
          "data": {
            "text/plain": [
              "array(['No', 'NM', 'True', 'Yes'], dtype=object)"
            ]
          },
          "metadata": {},
          "execution_count": 149
        }
      ]
    },
    {
      "cell_type": "code",
      "source": [
        "def transform_payment_of_min_amount(data):\n",
        "    mapping = {'No': False, 'NM': False, 'True': True, 'Yes': True}\n",
        "    data['Payment_of_Min_Amount'] = data['Payment_of_Min_Amount'].map(mapping).astype(int)\n",
        "    return data"
      ],
      "metadata": {
        "id": "BmAjn4hDQTSS"
      },
      "execution_count": null,
      "outputs": []
    },
    {
      "cell_type": "code",
      "source": [
        "data = transform_payment_of_min_amount(data)\n",
        "data[\"Payment_of_Min_Amount\"]"
      ],
      "metadata": {
        "id": "MyUlHk_pzRa6",
        "colab": {
          "base_uri": "https://localhost:8080/"
        },
        "outputId": "2fab89ef-0615-4511-e5a2-81f28cbc2611"
      },
      "execution_count": null,
      "outputs": [
        {
          "output_type": "execute_result",
          "data": {
            "text/plain": [
              "0         0\n",
              "1         0\n",
              "2         0\n",
              "3         0\n",
              "4         0\n",
              "         ..\n",
              "100017    0\n",
              "100018    0\n",
              "100019    0\n",
              "100020    0\n",
              "100021    0\n",
              "Name: Payment_of_Min_Amount, Length: 100022, dtype: int64"
            ]
          },
          "metadata": {},
          "execution_count": 151
        }
      ]
    },
    {
      "cell_type": "markdown",
      "source": [
        "####Total_EMI_per_month"
      ],
      "metadata": {
        "id": "4HQVBATac1H5"
      }
    },
    {
      "cell_type": "markdown",
      "source": [
        "Ova kolona se transformiše kao i neke prethodne kolone koristeći transform_float_column. Također, da ne bi ostalo object, elementi se označavaju kao elementi tipa float64."
      ],
      "metadata": {
        "id": "5t0JAvWV9E1h"
      }
    },
    {
      "cell_type": "code",
      "source": [
        "data['Total_EMI_per_month'].unique()"
      ],
      "metadata": {
        "colab": {
          "base_uri": "https://localhost:8080/"
        },
        "id": "sL7Rglpbyovj",
        "outputId": "95a53815-9f92-4b57-d2f3-85fd219148f9"
      },
      "execution_count": null,
      "outputs": [
        {
          "output_type": "execute_result",
          "data": {
            "text/plain": [
              "array([4.95749492e+01, 1.88162146e+01, 2.46992320e+02, ...,\n",
              "       1.21120000e+04, 3.51040226e+01, 5.86380000e+04])"
            ]
          },
          "metadata": {},
          "execution_count": 152
        }
      ]
    },
    {
      "cell_type": "code",
      "source": [
        "def transform_total_emi_per_month(data):\n",
        "  data = transform_float_column(data, \"Total_EMI_per_month\")\n",
        "  data[\"Total_EMI_per_month\"] = data[\"Total_EMI_per_month\"].astype(np.float64)\n",
        "  return data"
      ],
      "metadata": {
        "id": "OIgCRb9LzIGj"
      },
      "execution_count": null,
      "outputs": []
    },
    {
      "cell_type": "code",
      "source": [
        "data = transform_total_emi_per_month(data)\n",
        "data[\"Total_EMI_per_month\"]"
      ],
      "metadata": {
        "colab": {
          "base_uri": "https://localhost:8080/"
        },
        "id": "9D1YH0tyzSFv",
        "outputId": "af2e4048-d6ff-4327-ab12-f5cd8bfc35bf"
      },
      "execution_count": null,
      "outputs": [
        {
          "output_type": "execute_result",
          "data": {
            "text/plain": [
              "0         49.574949\n",
              "1         49.574949\n",
              "2         49.574949\n",
              "3         49.574949\n",
              "4         49.574949\n",
              "            ...    \n",
              "100017    35.104023\n",
              "100018    35.104023\n",
              "100019    35.104023\n",
              "100020    35.104023\n",
              "100021    35.104023\n",
              "Name: Total_EMI_per_month, Length: 100022, dtype: float64"
            ]
          },
          "metadata": {},
          "execution_count": 154
        }
      ]
    },
    {
      "cell_type": "markdown",
      "source": [
        "Transformacija outliers - grupni medijan"
      ],
      "metadata": {
        "id": "L8GwjbUAoyLx"
      }
    },
    {
      "cell_type": "code",
      "source": [
        "def transform_total_emi_per_month_grouped_median(data):\n",
        "  condition = data[\"Total_EMI_per_month\"] > 300\n",
        "  data = transform_column_outliers_group_median(data, \"Total_EMI_per_month\", \"Customer_ID\", condition)\n",
        "  data[\"Total_EMI_per_month\"] = data[\"Total_EMI_per_month\"]\n",
        "  return data"
      ],
      "metadata": {
        "id": "u8Js8-UMoydW"
      },
      "execution_count": null,
      "outputs": []
    },
    {
      "cell_type": "code",
      "source": [
        "data = transform_total_emi_per_month_grouped_median(data)\n",
        "data[\"Total_EMI_per_month\"]"
      ],
      "metadata": {
        "colab": {
          "base_uri": "https://localhost:8080/"
        },
        "id": "ipsurdZ0oyw3",
        "outputId": "0295ba2a-0899-4f40-85aa-2389362d12da"
      },
      "execution_count": null,
      "outputs": [
        {
          "output_type": "execute_result",
          "data": {
            "text/plain": [
              "0         49.574949\n",
              "1         49.574949\n",
              "2         49.574949\n",
              "3         49.574949\n",
              "4         49.574949\n",
              "            ...    \n",
              "100017    35.104023\n",
              "100018    35.104023\n",
              "100019    35.104023\n",
              "100020    35.104023\n",
              "100021    35.104023\n",
              "Name: Total_EMI_per_month, Length: 100022, dtype: float64"
            ]
          },
          "metadata": {},
          "execution_count": 156
        }
      ]
    },
    {
      "cell_type": "markdown",
      "source": [
        "####Amount_invested_monthly"
      ],
      "metadata": {
        "id": "U5ysgOd8c3UL"
      }
    },
    {
      "cell_type": "markdown",
      "source": [
        "Ova kolona se transformiše kao i prethodna kolona."
      ],
      "metadata": {
        "id": "cZ5Q9jhP755O"
      }
    },
    {
      "cell_type": "code",
      "source": [
        "data['Amount_invested_monthly'].unique()"
      ],
      "metadata": {
        "colab": {
          "base_uri": "https://localhost:8080/"
        },
        "id": "BXFMvIaLypR-",
        "outputId": "34518b86-3df2-4a63-fc1e-b0c4f5f5c214"
      },
      "execution_count": null,
      "outputs": [
        {
          "output_type": "execute_result",
          "data": {
            "text/plain": [
              "array(['80.41529544', '118.2802216', '81.69952126', ..., '24.02847745',\n",
              "       '251.6725822', '167.1638652'], dtype=object)"
            ]
          },
          "metadata": {},
          "execution_count": 157
        }
      ]
    },
    {
      "cell_type": "code",
      "source": [
        "def transform_amount_invested_monthly(data):\n",
        "  data = transform_float_column(data, \"Amount_invested_monthly\")\n",
        "  data[\"Amount_invested_monthly\"] = data[\"Amount_invested_monthly\"].astype(np.float64)\n",
        "  return data"
      ],
      "metadata": {
        "id": "y8CytXiGzIxS"
      },
      "execution_count": null,
      "outputs": []
    },
    {
      "cell_type": "code",
      "source": [
        "data = transform_amount_invested_monthly(data)\n",
        "data[\"Amount_invested_monthly\"]"
      ],
      "metadata": {
        "colab": {
          "base_uri": "https://localhost:8080/"
        },
        "id": "Hyodk2pVzSrR",
        "outputId": "0820e48d-72a0-4912-9834-b8b340e746ff"
      },
      "execution_count": null,
      "outputs": [
        {
          "output_type": "execute_result",
          "data": {
            "text/plain": [
              "0          80.415295\n",
              "1         118.280222\n",
              "2          81.699521\n",
              "3         199.458074\n",
              "4          41.420153\n",
              "             ...    \n",
              "100017     60.971333\n",
              "100018     54.185950\n",
              "100019     24.028477\n",
              "100020    251.672582\n",
              "100021    167.163865\n",
              "Name: Amount_invested_monthly, Length: 100022, dtype: float64"
            ]
          },
          "metadata": {},
          "execution_count": 159
        }
      ]
    },
    {
      "cell_type": "markdown",
      "source": [
        "Transformacija outliers - grupni medijan"
      ],
      "metadata": {
        "id": "nmYA90tgphfX"
      }
    },
    {
      "cell_type": "code",
      "source": [
        "def transform_amount_invested_monthly_grouped_median(data):\n",
        "  condition = data[\"Amount_invested_monthly\"] > 500\n",
        "  data = transform_column_outliers_group_median(data, \"Amount_invested_monthly\", \"Customer_ID\", condition)\n",
        "  data[\"Amount_invested_monthly\"] = data[\"Amount_invested_monthly\"]\n",
        "  return data"
      ],
      "metadata": {
        "id": "gMQw8Bd4phfX"
      },
      "execution_count": null,
      "outputs": []
    },
    {
      "cell_type": "code",
      "source": [
        "data = transform_amount_invested_monthly_grouped_median(data)\n",
        "data[\"Amount_invested_monthly\"]"
      ],
      "metadata": {
        "colab": {
          "base_uri": "https://localhost:8080/"
        },
        "outputId": "b04b42d3-f2b4-4adb-bc84-3ed4ea4e981c",
        "id": "lWeklAQCphfY"
      },
      "execution_count": null,
      "outputs": [
        {
          "output_type": "execute_result",
          "data": {
            "text/plain": [
              "0          80.415295\n",
              "1         118.280222\n",
              "2          81.699521\n",
              "3         199.458074\n",
              "4          41.420153\n",
              "             ...    \n",
              "100017     60.971333\n",
              "100018     54.185950\n",
              "100019     24.028477\n",
              "100020    251.672582\n",
              "100021    167.163865\n",
              "Name: Amount_invested_monthly, Length: 100022, dtype: float64"
            ]
          },
          "metadata": {},
          "execution_count": 161
        }
      ]
    },
    {
      "cell_type": "markdown",
      "source": [
        "####Payment_Behaviour"
      ],
      "metadata": {
        "id": "_2A4ZPT6c6ep"
      }
    },
    {
      "cell_type": "markdown",
      "source": [
        "Ova kolona ima 7 različitih vrijednosti, koje transformišemo u enum vrijednosti, tako da će elementi ove kolone biti tipa int."
      ],
      "metadata": {
        "id": "YbtqY_PMq9FO"
      }
    },
    {
      "cell_type": "code",
      "source": [
        "data['Payment_Behaviour'].unique()"
      ],
      "metadata": {
        "colab": {
          "base_uri": "https://localhost:8080/"
        },
        "id": "p4oiwhiWypvW",
        "outputId": "3e3bb6a4-df02-4a14-8fd3-827faed354f9"
      },
      "execution_count": null,
      "outputs": [
        {
          "output_type": "execute_result",
          "data": {
            "text/plain": [
              "array(['High_spent_Small_value_payments',\n",
              "       'Low_spent_Large_value_payments',\n",
              "       'Low_spent_Medium_value_payments',\n",
              "       'Low_spent_Small_value_payments',\n",
              "       'High_spent_Medium_value_payments', '!@9#%8',\n",
              "       'High_spent_Large_value_payments'], dtype=object)"
            ]
          },
          "metadata": {},
          "execution_count": 162
        }
      ]
    },
    {
      "cell_type": "code",
      "source": [
        "from enum import Enum\n",
        "\n",
        "class PaymentBehaviour(Enum):\n",
        "  NONE = 0\n",
        "  LOW_SPENT_SMALL_VALUE_PAYMENTS = 1\n",
        "  LOW_SPENT_MEDIUM_VALUE_PAYMENTS = 2\n",
        "  LOW_SPENT_LARGE_VALUE_PAYMENTS = 3\n",
        "  HIGH_SPENT_SMALL_VALUE_PAYMENTS = 4\n",
        "  HIGH_SPENT_MEDIUM_VALUE_PAYMENTS = 5\n",
        "  HIGH_SPENT_LARGE_VALUE_PAYMENTS = 6"
      ],
      "metadata": {
        "id": "TrGbSUf5SKf9"
      },
      "execution_count": null,
      "outputs": []
    },
    {
      "cell_type": "code",
      "source": [
        "def map_payment_behaviour_enum(payment_behaviour):\n",
        "  try:\n",
        "    return PaymentBehaviour[payment_behaviour.upper()].value\n",
        "  except:\n",
        "    return PaymentBehaviour.NONE.value"
      ],
      "metadata": {
        "id": "JlvwxvdgTDmT"
      },
      "execution_count": null,
      "outputs": []
    },
    {
      "cell_type": "code",
      "source": [
        "def transform_payment_behaviour(data):\n",
        "  data['Payment_Behaviour'] = data['Payment_Behaviour'].astype(str)\n",
        "  data['Payment_Behaviour'] = data['Payment_Behaviour'].apply(map_payment_behaviour_enum)\n",
        "  data['Payment_Behaviour']\n",
        "  return data"
      ],
      "metadata": {
        "id": "iH6t_lhOTPFE"
      },
      "execution_count": null,
      "outputs": []
    },
    {
      "cell_type": "code",
      "source": [
        "data = transform_payment_behaviour(data)\n",
        "data[\"Payment_Behaviour\"]"
      ],
      "metadata": {
        "id": "6TFJ5G-mzTOf",
        "colab": {
          "base_uri": "https://localhost:8080/"
        },
        "outputId": "83c857bd-1c7f-4413-de3a-778fcb5fc87d"
      },
      "execution_count": null,
      "outputs": [
        {
          "output_type": "execute_result",
          "data": {
            "text/plain": [
              "0         4\n",
              "1         3\n",
              "2         2\n",
              "3         1\n",
              "4         5\n",
              "         ..\n",
              "100017    6\n",
              "100018    5\n",
              "100019    6\n",
              "100020    3\n",
              "100021    0\n",
              "Name: Payment_Behaviour, Length: 100022, dtype: int64"
            ]
          },
          "metadata": {},
          "execution_count": 166
        }
      ]
    },
    {
      "cell_type": "markdown",
      "source": [
        "####Monthly_Balance"
      ],
      "metadata": {
        "id": "1-u47RCQc9yZ"
      }
    },
    {
      "cell_type": "markdown",
      "source": [
        "Ova kolona se transformiše kao i neke prethodne kolone koristeći transform_float_column. Također, da ne bi ostalo object, elementi se označavaju kao elementi tipa float64."
      ],
      "metadata": {
        "id": "PdzpB9OV7KQn"
      }
    },
    {
      "cell_type": "code",
      "source": [
        "data['Monthly_Balance'].unique()"
      ],
      "metadata": {
        "colab": {
          "base_uri": "https://localhost:8080/"
        },
        "id": "50ZIL15RyqNA",
        "outputId": "04764c0e-7e1a-4704-e63e-9fb22187cd0b"
      },
      "execution_count": null,
      "outputs": [
        {
          "output_type": "execute_result",
          "data": {
            "text/plain": [
              "array(['312.4940887', '284.6291625', '331.2098629', ..., 516.8090833,\n",
              "       319.1649785, 393.6736956], dtype=object)"
            ]
          },
          "metadata": {},
          "execution_count": 167
        }
      ]
    },
    {
      "cell_type": "code",
      "source": [
        "def transform_monthly_balance(data):\n",
        "  data = transform_float_column(data, \"Monthly_Balance\")\n",
        "  data[\"Monthly_Balance\"] = data[\"Monthly_Balance\"].astype(np.float64)\n",
        "  return data"
      ],
      "metadata": {
        "id": "cukB5pT9zJ2Z"
      },
      "execution_count": null,
      "outputs": []
    },
    {
      "cell_type": "code",
      "source": [
        "data = transform_monthly_balance(data)\n",
        "data[\"Monthly_Balance\"]"
      ],
      "metadata": {
        "colab": {
          "base_uri": "https://localhost:8080/"
        },
        "id": "8-LZN3przTvd",
        "outputId": "9a938acb-ec9b-4304-80dd-fc5f2cdf9249"
      },
      "execution_count": null,
      "outputs": [
        {
          "output_type": "execute_result",
          "data": {
            "text/plain": [
              "0         312.494089\n",
              "1         284.629163\n",
              "2         331.209863\n",
              "3         223.451310\n",
              "4         341.489231\n",
              "             ...    \n",
              "100017    479.866228\n",
              "100018    496.651610\n",
              "100019    516.809083\n",
              "100020    319.164979\n",
              "100021    393.673696\n",
              "Name: Monthly_Balance, Length: 100022, dtype: float64"
            ]
          },
          "metadata": {},
          "execution_count": 169
        }
      ]
    },
    {
      "cell_type": "markdown",
      "source": [
        "Transformacija outliers - grupni medijan"
      ],
      "metadata": {
        "id": "AcC4aui_r76R"
      }
    },
    {
      "cell_type": "code",
      "source": [
        "def transform_monthly_balance_grouped_median(data):\n",
        "  condition = (data[\"Monthly_Balance\"] < 200) | (data[\"Monthly_Balance\"] > 500)\n",
        "  data = transform_column_outliers_group_median(data, \"Monthly_Balance\", \"Customer_ID\", condition)\n",
        "  data[\"Monthly_Balance\"] = data[\"Monthly_Balance\"]\n",
        "  return data"
      ],
      "metadata": {
        "id": "-Fkck1Ukr76R"
      },
      "execution_count": null,
      "outputs": []
    },
    {
      "cell_type": "code",
      "source": [
        "data = transform_monthly_balance_grouped_median(data)\n",
        "data[\"Monthly_Balance\"]"
      ],
      "metadata": {
        "colab": {
          "base_uri": "https://localhost:8080/"
        },
        "outputId": "9d74ed9e-1aff-4865-e3ab-dd8f2a38e87c",
        "id": "mKmhfdPUr76S"
      },
      "execution_count": null,
      "outputs": [
        {
          "output_type": "execute_result",
          "data": {
            "text/plain": [
              "0         312.494089\n",
              "1         284.629163\n",
              "2         331.209863\n",
              "3         223.451310\n",
              "4         341.489231\n",
              "             ...    \n",
              "100017    479.866228\n",
              "100018    496.651610\n",
              "100019    405.180312\n",
              "100020    319.164979\n",
              "100021    393.673696\n",
              "Name: Monthly_Balance, Length: 100022, dtype: float64"
            ]
          },
          "metadata": {},
          "execution_count": 171
        }
      ]
    },
    {
      "cell_type": "markdown",
      "source": [
        "####Credit_Score"
      ],
      "metadata": {
        "id": "zZ3LtA-OGcer"
      }
    },
    {
      "cell_type": "markdown",
      "source": [
        "Transformisati ćemo našu klasu predikcije u integer vrijednosti"
      ],
      "metadata": {
        "id": "titSfgLBGfr6"
      }
    },
    {
      "cell_type": "code",
      "source": [
        "data[\"Credit_Score\"].unique()"
      ],
      "metadata": {
        "colab": {
          "base_uri": "https://localhost:8080/"
        },
        "id": "I8q4JNhPGpjx",
        "outputId": "d593c585-7b05-4f9c-b93b-456fd3e3bf4f"
      },
      "execution_count": null,
      "outputs": [
        {
          "output_type": "execute_result",
          "data": {
            "text/plain": [
              "array(['Good', 'Standard', 'Poor'], dtype=object)"
            ]
          },
          "metadata": {},
          "execution_count": 172
        }
      ]
    },
    {
      "cell_type": "markdown",
      "source": [
        "Kreiramo adekvatnu enumeraciju"
      ],
      "metadata": {
        "id": "sN1VsR56GzvK"
      }
    },
    {
      "cell_type": "code",
      "source": [
        "from enum import Enum\n",
        "\n",
        "class CreditScore(Enum):\n",
        "  Good = 0,\n",
        "  Standard = 1,\n",
        "  Poor = 2,"
      ],
      "metadata": {
        "id": "40H-DpQPG3i9"
      },
      "execution_count": null,
      "outputs": []
    },
    {
      "cell_type": "code",
      "source": [
        "def map_to_credit_score_enum(string_value):\n",
        "  return CreditScore[string_value].value[0]"
      ],
      "metadata": {
        "id": "GOgCcVBbHNVz"
      },
      "execution_count": null,
      "outputs": []
    },
    {
      "cell_type": "code",
      "source": [
        "def transform_credit_score_as_enum(data):\n",
        "  data[\"Credit_Score\"] = data[\"Credit_Score\"].apply(map_to_credit_score_enum)\n",
        "  return data"
      ],
      "metadata": {
        "id": "GJRGWaa0HGoD"
      },
      "execution_count": null,
      "outputs": []
    },
    {
      "cell_type": "code",
      "source": [
        "data = transform_credit_score_as_enum(data)\n",
        "data[\"Credit_Score\"]"
      ],
      "metadata": {
        "colab": {
          "base_uri": "https://localhost:8080/"
        },
        "id": "az80IihKHnkD",
        "outputId": "8f97a67d-5a9f-46b9-f45d-f29c3e183a8f"
      },
      "execution_count": null,
      "outputs": [
        {
          "output_type": "execute_result",
          "data": {
            "text/plain": [
              "0         0\n",
              "1         0\n",
              "2         0\n",
              "3         0\n",
              "4         0\n",
              "         ..\n",
              "100017    2\n",
              "100018    2\n",
              "100019    2\n",
              "100020    1\n",
              "100021    2\n",
              "Name: Credit_Score, Length: 100022, dtype: int64"
            ]
          },
          "metadata": {},
          "execution_count": 176
        }
      ]
    },
    {
      "cell_type": "markdown",
      "source": [
        "####Customer_ID"
      ],
      "metadata": {
        "id": "SEASrd6yy9Zz"
      }
    },
    {
      "cell_type": "code",
      "source": [
        "def transform_customer_id_as_int(data):\n",
        "  data['Customer_ID'] = data['Customer_ID'].astype('category').cat.codes\n",
        "  return data"
      ],
      "metadata": {
        "id": "QpeBqHPCzNpm"
      },
      "execution_count": null,
      "outputs": []
    },
    {
      "cell_type": "code",
      "source": [
        "data = transform_customer_id_as_int(data)"
      ],
      "metadata": {
        "id": "v-uyXe6mzSer"
      },
      "execution_count": null,
      "outputs": []
    },
    {
      "cell_type": "markdown",
      "source": [
        "####ID"
      ],
      "metadata": {
        "id": "TeLWRBq850EH"
      }
    },
    {
      "cell_type": "code",
      "source": [
        "def drop_id(data):\n",
        "  del data[\"ID\"]\n",
        "  return data"
      ],
      "metadata": {
        "id": "DzIodmlP53Fm"
      },
      "execution_count": null,
      "outputs": []
    },
    {
      "cell_type": "code",
      "source": [
        "data = drop_id(data)"
      ],
      "metadata": {
        "id": "gDZEC2UF581d"
      },
      "execution_count": null,
      "outputs": []
    },
    {
      "cell_type": "markdown",
      "source": [
        "##Upisati Cleaned Dataset u fajl"
      ],
      "metadata": {
        "id": "eLii_Cn7TzGk"
      }
    },
    {
      "cell_type": "code",
      "source": [
        "data.to_csv('/content/drive/MyDrive/MU Projekat/dataset/cleaned1.csv', index=False)"
      ],
      "metadata": {
        "id": "BqZtr7vaT5f9"
      },
      "execution_count": null,
      "outputs": []
    }
  ]
}